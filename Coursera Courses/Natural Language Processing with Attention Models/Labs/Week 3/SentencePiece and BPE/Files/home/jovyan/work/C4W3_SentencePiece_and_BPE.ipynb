{
 "cells": [
  {
   "cell_type": "markdown",
   "metadata": {},
   "source": [
    "# SentencePiece and BPE "
   ]
  },
  {
   "cell_type": "markdown",
   "metadata": {},
   "source": [
    "## Introduction to Tokenization"
   ]
  },
  {
   "cell_type": "markdown",
   "metadata": {},
   "source": [
    "In order to process text in neural network models it is first required to **encode** text as numbers with ids, since the tensor operations act on numbers. Finally, if the output of the network is to be words, it is required to **decode** the predicted tokens ids back to text.\n",
    "\n",
    "To encode text, the first decision that has to be made is to what level of granularity are we going to consider the text? Because ultimately, from these **tokens**, features are going to be created about them. Many different experiments have been carried out using *words*, *morphological units*, *phonemic units* or *characters* as tokens. For example, \n",
    "\n",
    "- Tokens are tricky. (raw text)\n",
    "- Tokens are tricky . ([words](https://arxiv.org/pdf/1301.3781))\n",
    "- Token s _ are _ trick _ y . ([morphemes](https://arxiv.org/pdf/1907.02423.pdf))\n",
    "- t oʊ k ə n z _ ɑː _ ˈt r ɪ k i. ([phonemes](https://www.aclweb.org/anthology/W18-5812.pdf), for STT)\n",
    "- T o k e n s _ a r e _ t r i c k y . ([character](https://www.aclweb.org/anthology/C18-1139/))"
   ]
  },
  {
   "cell_type": "markdown",
   "metadata": {},
   "source": [
    "But how to identify these units, such as words, is largely determined by the language they come from. For example, in many European languages a space is used to separate words, while in some Asian languages there are no spaces between words. Compare English and Mandarin.\n",
    "\n",
    "- Tokens are tricky. (original sentence)\n",
    "- 标记很棘手 (Mandarin)\n",
    "- Biāojì hěn jíshǒu (pinyin)\n",
    "- 标记 很 棘手 (Mandarin with spaces)\n",
    "\n",
    "\n",
    "So, the ability to **tokenize**, i.e. split text into meaningful fundamental units, is not always straight-forward.\n",
    "\n",
    "Also, there are practical issues of how large our *vocabulary* of words, `vocab_size`, should be, considering memory limitations vs. coverage. A compromise may be need to be made between: \n",
    "* the finest-grained models employing characters which can be memory intensive and \n",
    "* more computationally efficient *subword* units such as [n-grams](https://arxiv.org/pdf/1712.09405) or larger units.\n",
    "\n",
    "In [SentencePiece](https://www.aclweb.org/anthology/D18-2012.pdf) unicode characters are grouped together using either a [unigram language model](https://www.aclweb.org/anthology/P18-1007.pdf) (used in this week's assignment) or [BPE](https://arxiv.org/pdf/1508.07909.pdf), **byte-pair encoding**. We will discuss BPE, since BERT and many of its variants use a modified version of BPE and its pseudocode is easy to implement and understand... hopefully!"
   ]
  },
  {
   "cell_type": "markdown",
   "metadata": {},
   "source": [
    "## SentencePiece Preprocessing\n",
    "### NFKC Normalization"
   ]
  },
  {
   "cell_type": "markdown",
   "metadata": {},
   "source": [
    "Unsurprisingly, even using unicode to initially tokenize text can be ambiguous, e.g., "
   ]
  },
  {
   "cell_type": "code",
   "execution_count": 42,
   "metadata": {},
   "outputs": [
    {
     "name": "stdout",
     "output_type": "stream",
     "text": [
      "é = é : False\n"
     ]
    }
   ],
   "source": [
    "eaccent = '\\u00E9'\n",
    "e_accent = '\\u0065\\u0301'\n",
    "print(f'{eaccent} = {e_accent} : {eaccent == e_accent}')"
   ]
  },
  {
   "cell_type": "markdown",
   "metadata": {},
   "source": [
    "SentencePiece uses the Unicode standard normalization form, [NFKC](https://en.wikipedia.org/wiki/Unicode_equivalence), so this isn't an issue. Looking at the example from above but with normalization:"
   ]
  },
  {
   "cell_type": "code",
   "execution_count": 43,
   "metadata": {},
   "outputs": [
    {
     "name": "stdout",
     "output_type": "stream",
     "text": [
      "é = é : True\n"
     ]
    }
   ],
   "source": [
    "from unicodedata import normalize\n",
    "\n",
    "norm_eaccent = normalize('NFKC', '\\u00E9')\n",
    "norm_e_accent = normalize('NFKC', '\\u0065\\u0301')\n",
    "print(f'{norm_eaccent} = {norm_e_accent} : {norm_eaccent == norm_e_accent}')"
   ]
  },
  {
   "cell_type": "markdown",
   "metadata": {},
   "source": [
    "Normalization has actually changed the unicode code point (unicode unique id) for one of these two characters."
   ]
  },
  {
   "cell_type": "code",
   "execution_count": 46,
   "metadata": {},
   "outputs": [],
   "source": [
    "def get_hex_encoding(s):\n",
    "    return ' '.join(hex(ord(c)) for c in s)\n",
    "\n",
    "def print_string_and_encoding(s):\n",
    "    print(f'{s} : {get_hex_encoding(s)}') "
   ]
  },
  {
   "cell_type": "code",
   "execution_count": 47,
   "metadata": {},
   "outputs": [
    {
     "name": "stdout",
     "output_type": "stream",
     "text": [
      "é : 0xe9\n",
      "é : 0x65 0x301\n",
      "é : 0xe9\n",
      "é : 0xe9\n"
     ]
    }
   ],
   "source": [
    "for s in [eaccent, e_accent, norm_eaccent, norm_e_accent]:\n",
    "    print_string_and_encoding(s)"
   ]
  },
  {
   "cell_type": "markdown",
   "metadata": {},
   "source": [
    "This normalization has other side effects which may be considered useful such as converting curly quotes &ldquo; to \" their ASCII equivalent. (<sup>*</sup>Although we *now* lose directionality of the quote...)"
   ]
  },
  {
   "cell_type": "markdown",
   "metadata": {},
   "source": [
    "### Lossless Tokenization\n",
    "\n",
    "SentencePiece also ensures that when you tokenize your data and detokenize your data the original position of white space is preserved. However, tabs and newlines are converted to spaces.\n",
    "\n",
    "To ensure this **lossless tokenization**, SentencePiece replaces white space with _ (U+2581). So that a simple join of the tokens by replacing underscores with spaces can restore the white space, even if there are consecutive symbols. But remember first to normalize and then replace spaces with _ (U+2581)."
   ]
  },
  {
   "cell_type": "code",
   "execution_count": 48,
   "metadata": {},
   "outputs": [],
   "source": [
    "s = 'Tokenization is hard.'\n",
    "sn = normalize('NFKC', s)\n",
    "sn_ = sn.replace(' ', '\\u2581')"
   ]
  },
  {
   "cell_type": "code",
   "execution_count": 50,
   "metadata": {},
   "outputs": [
    {
     "name": "stdout",
     "output_type": "stream",
     "text": [
      "Tokenization is hard.\n",
      "Tokenization is hard.\n",
      "Tokenization▁is▁hard.\n",
      "0x54 0x6f 0x6b 0x65 0x6e 0x69 0x7a 0x61 0x74 0x69 0x6f 0x6e 0x20 0x69 0x73 0x20 0x68 0x61 0x72 0x64 0x2e\n",
      "0x54 0x6f 0x6b 0x65 0x6e 0x69 0x7a 0x61 0x74 0x69 0x6f 0x6e 0x20 0x69 0x73 0x20 0x68 0x61 0x72 0x64 0x2e\n",
      "0x54 0x6f 0x6b 0x65 0x6e 0x69 0x7a 0x61 0x74 0x69 0x6f 0x6e 0x2581 0x69 0x73 0x2581 0x68 0x61 0x72 0x64 0x2e\n"
     ]
    }
   ],
   "source": [
    "print(s)\n",
    "print(sn)\n",
    "print(sn_)\n",
    "\n",
    "print(get_hex_encoding(s))\n",
    "print(get_hex_encoding(sn))\n",
    "print(get_hex_encoding(sn_))"
   ]
  },
  {
   "cell_type": "markdown",
   "metadata": {},
   "source": [
    "## BPE Algorithm\n",
    "\n",
    "After discussing the preprocessing that SentencePiece performs, you will get the data, preprocess it, and apply the BPE algorithm. You will see how this reproduces the tokenization produced by training SentencePiece on the example dataset (from this week's assignment).\n",
    "\n",
    "### Preparing our Data\n",
    "First, you get the Squad data and process it as above."
   ]
  },
  {
   "cell_type": "code",
   "execution_count": 51,
   "metadata": {},
   "outputs": [],
   "source": [
    "import ast\n",
    "\n",
    "def convert_json_examples_to_text(filepath):\n",
    "    example_jsons = list(map(ast.literal_eval, open(filepath))) # Read in the json from the example file\n",
    "    texts = [example_json['text'].decode('utf-8') for example_json in example_jsons] # Decode the byte sequences\n",
    "    text = '\\n\\n'.join(texts)       # Separate different articles by two newlines\n",
    "    text = normalize('NFKC', text)  # Normalize the text\n",
    "\n",
    "    with open('example.txt', 'w') as fw:\n",
    "        fw.write(text)\n",
    "    \n",
    "    return text"
   ]
  },
  {
   "cell_type": "code",
   "execution_count": 52,
   "metadata": {},
   "outputs": [
    {
     "name": "stdout",
     "output_type": "stream",
     "text": [
      "Beginners BBQ Class Taking Place in Missoula!\n",
      "Do you want to get better at making delicious BBQ? You will have the opportunity, put this on your calendar now. Thursday, September 22nd join World Class BBQ Champion, Tony Balay from Lonestar Smoke Rangers. He will be teaching a beginner level class for everyone who wants to get better with their culinary skills.\n",
      "He will teach you everything you need to know to compete in a KCBS BBQ competition, including techniques, recipes, timelines, meat selection and trimming, plus smoker and fire information.\n",
      "The cost to be in the class is $35 per person, and for spectators it is free. Included in the cost will be either a t-shirt or apron and you will be tasting samples of each meat that is prepared.\n",
      "\n",
      "Discussion in 'Mac OS X Lion (10.7)' started by axboi87, Jan 20, 2012.\n",
      "I've got a 500gb internal drive and a 240gb SSD.\n",
      "When trying to restore using di\n"
     ]
    }
   ],
   "source": [
    "text = convert_json_examples_to_text('./data/data.txt')\n",
    "print(text[:900])"
   ]
  },
  {
   "cell_type": "markdown",
   "metadata": {},
   "source": [
    "In the algorithm the `vocab` variable is actually a frequency dictionary of the words. Those words have been prepended with an *underscore* to indicate that they are the beginning of a word. Finally, the characters have been delimited by spaces so that the BPE algorithm can group the most common characters together in the dictionary in a greedy fashion. You will see how that is done shortly."
   ]
  },
  {
   "cell_type": "code",
   "execution_count": 58,
   "metadata": {},
   "outputs": [
    {
     "name": "stdout",
     "output_type": "stream",
     "text": [
      "Counter({'▁to': 33, '▁the': 31, '▁and': 21, '▁a': 19, '▁in': 15, '▁you': 13, '▁of': 13, '▁for': 12, '▁drive': 10, '▁I': 9, '▁on': 8, '▁be': 8, '▁is': 8, '▁will': 6, '▁from': 6, '▁Denver': 6, '▁with': 5, '▁it': 5, '▁or': 5, '▁do': 5, '▁larger': 5, '▁can': 5, '▁more': 5, '▁backlinks': 5, '▁bond': 5, '▁have': 4, '▁this': 4, '▁that': 4, '▁smaller': 4, '▁did': 4, '▁was': 4, '▁new': 4, '▁students': 4, '▁mill': 4, '▁funding': 4, '▁BBQ': 3, '▁per': 3, \"▁I've\": 3, '▁disk': 3, '▁before': 3, '▁copy': 3, '▁SSD': 3, '▁bootable': 3, '▁not': 3, '▁as': 3, '▁CCC': 3, '▁day': 3, '▁my': 3, '▁about': 3, '▁every': 3, '▁million': 3, '▁voters': 3, '▁Class': 2, '▁get': 2, '▁better': 2, '▁making': 2, '▁your': 2, '▁He': 2, '▁class': 2, '▁meat': 2, '▁The': 2, '▁cost': 2, '▁Discussion': 2, '▁Lion': 2, '▁started': 2, '▁by': 2, '▁trying': 2, '▁restore': 2, '▁using': 2, '▁utility': 2, '▁one': 2, '▁done': 2, '▁several': 2, '▁times': 2, '▁drive.': 2, '▁Disk': 2, '▁Utility': 2, '▁partition': 2, '▁clone.': 2, '▁If': 2, '▁Apple': 2, '▁even': 2, '▁let': 2, '▁work': 2, '▁than': 2, '▁are': 2, '▁cloning': 2, '▁so': 2, '▁had': 2, '▁make': 2, '▁stick': 2, '▁4': 2, '▁GB': 2, '▁but': 2, '▁metallic': 2, '▁How': 2, '▁site?': 2, '▁site': 2, '▁forum': 2, '▁24': 2, '▁hours': 2, '▁brand': 2, '▁build': 2, '▁manual': 2, '▁projects': 2, '▁$572': 2, '▁approved': 2, '▁measures': 2, '▁support': 2, '▁levy': 2, '▁DPS': 2, '▁schools.': 2, '▁measure.': 2, '▁Beginners': 1, '▁Taking': 1, '▁Place': 1, '▁Missoula!': 1, '▁Do': 1, '▁want': 1, '▁at': 1, '▁delicious': 1, '▁BBQ?': 1, '▁You': 1, '▁opportunity,': 1, '▁put': 1, '▁calendar': 1, '▁now.': 1, '▁Thursday,': 1, '▁September': 1, '▁22nd': 1, '▁join': 1, '▁World': 1, '▁Champion,': 1, '▁Tony': 1, '▁Balay': 1, '▁Lonestar': 1, '▁Smoke': 1, '▁Rangers.': 1, '▁teaching': 1, '▁beginner': 1, '▁level': 1, '▁everyone': 1, '▁who': 1, '▁wants': 1, '▁their': 1, '▁culinary': 1, '▁skills.': 1, '▁teach': 1, '▁everything': 1, '▁need': 1, '▁know': 1, '▁compete': 1, '▁KCBS': 1, '▁competition,': 1, '▁including': 1, '▁techniques,': 1, '▁recipes,': 1, '▁timelines,': 1, '▁selection': 1, '▁trimming,': 1, '▁plus': 1, '▁smoker': 1, '▁fire': 1, '▁information.': 1, '▁$35': 1, '▁person,': 1, '▁spectators': 1, '▁free.': 1, '▁Included': 1, '▁either': 1, '▁t-shirt': 1, '▁apron': 1, '▁tasting': 1, '▁samples': 1, '▁each': 1, '▁prepared.': 1, \"▁'Mac\": 1, '▁OS': 1, '▁X': 1, \"▁(10.7)'\": 1, '▁axboi87,': 1, '▁Jan': 1, '▁20,': 1, '▁2012.': 1, '▁got': 1, '▁500gb': 1, '▁internal': 1, '▁240gb': 1, '▁SSD.': 1, '▁When': 1, \"▁i'm\": 1, '▁given': 1, '▁error': 1, '▁\"Not': 1, '▁enough': 1, '▁space': 1, '▁____': 1, '▁restore\"': 1, '▁But': 1, \"▁shouldn't\": 1, '▁that!!!': 1, '▁Any': 1, '▁ideas': 1, '▁workarounds': 1, '▁resorting': 1, '▁above?': 1, '▁Use': 1, '▁Carbon': 1, '▁Copy': 1, '▁Cloner': 1, '▁other.': 1, '▁going': 1, '▁HDD': 1, '▁wound': 1, '▁up': 1, '▁One': 1, '▁step': 1, '▁remember': 1, '▁skip': 1, '▁use': 1, '▁GUID': 1, '▁scheme': 1, '▁HFS+': 1, '▁doing': 1, '▁came': 1, '▁Partition': 1, '▁Scheme,': 1, '▁if': 1, '▁clone,': 1, '▁resulting': 1, \"▁won't\": 1, '▁bootable.': 1, '▁usually': 1, '▁works': 1, '▁\"file': 1, '▁mode\"': 1, '▁easily': 1, \"▁(that's\": 1, '▁mostly': 1, '▁empty)': 1, '▁onto': 1, '▁tell': 1, '▁clone': 1, '▁NOT': 1, '▁boot': 1, '▁from,': 1, '▁block': 1, '▁mode': 1, '▁where': 1, '▁destination': 1, '▁must': 1, '▁same': 1, '▁size': 1, '▁(if': 1, '▁recall).': 1, '▁actually': 1, '▁somehow': 1, '▁(booting': 1, '▁different': 1, '▁(or': 1, '▁dvd)': 1, '▁running': 1, '▁cloning)': 1, '▁just': 1, '▁fine': 1, '▁Definitely': 1, '▁format': 1, '▁first,': 1, '▁etc..': 1, '▁Thanks': 1, '▁pointing': 1, '▁out.': 1, '▁My': 1, '▁only': 1, '▁experience': 1, '▁DU': 1, '▁go': 1, '▁when': 1, '▁install': 1, '▁unable': 1, '▁InstallESD.dmg': 1, '▁USB': 1, '▁course': 1, '▁reason': 1, \"▁wouldn't\": 1, '▁fit': 1, '▁there': 1, '▁slightly': 1, '▁data.': 1, '▁Foil': 1, '▁plaid': 1, '▁lycra': 1, '▁spandex': 1, '▁shortall': 1, '▁slinky': 1, '▁insets.': 1, '▁Attached': 1, '▁elastic': 1, '▁belt': 1, '▁O-ring.': 1, '▁Headband': 1, '▁included.': 1, '▁Great': 1, '▁hip': 1, '▁hop': 1, '▁jazz': 1, '▁dance': 1, '▁costume.': 1, '▁Made': 1, '▁USA.': 1, '▁many': 1, \"▁'Black\": 1, '▁Hat': 1, \"▁SEO'\": 1, '▁Omoplata,': 1, '▁Dec': 1, '▁3,': 1, '▁2010.': 1, '▁1)': 1, '▁newly': 1, '▁created': 1, '▁site,': 1, \"▁what's\": 1, '▁max': 1, '▁#': 1, '▁should': 1, '▁safe?': 1, '▁2)': 1, '▁how': 1, '▁long': 1, '▁age': 1, '▁start': 1, '▁blinks?': 1, '▁6000': 1, '▁profiles': 1, '▁10': 1, '▁days': 1, '▁sites': 1, '▁which': 1, '▁domain.': 1, '▁There': 1, '▁three': 1, '▁these': 1, '▁profile': 1, '▁thats': 1, '▁18': 1, '▁000': 1, '▁nothing': 1, '▁happened': 1, '▁terms': 1, '▁being': 1, '▁penalized': 1, '▁sandboxed.': 1, '▁This': 1, '▁now': 1, '▁maybe': 1, '▁3': 1, '▁months': 1, '▁ago': 1, '▁ranking': 1, '▁first': 1, '▁page': 1, '▁lot': 1, '▁targeted': 1, '▁keywords.': 1, '▁starting': 1, '▁submission': 1, '▁spammy': 1, '▁type': 1, '▁means': 1, '▁+': 1, '▁relevant': 1, '▁post..': 1, '▁then': 1, '▁after': 1, '▁1': 1, '▁month': 1, '▁big': 1, '▁blast..': 1, '▁Wow,': 1, '▁dude,': 1, '▁built': 1, '▁18k': 1, '▁quickly': 1, '▁rank': 1, '▁up?': 1, '▁What': 1, '▁kind': 1, '▁competition/searches': 1, '▁those': 1, '▁keywords': 1, '▁have?': 1, '▁Board': 1, '▁Education': 1, '▁opened': 1, '▁2017-18': 1, '▁school': 1, '▁year': 1, '▁an': 1, '▁update': 1, '▁include': 1, '▁construction,': 1, '▁upgrades,': 1, '▁heat': 1, '▁mitigation': 1, '▁quality': 1, '▁learning': 1, '▁environments.': 1, '▁We': 1, '▁excited': 1, '▁beneficiaries': 1, '▁four': 1, '▁year,': 1, '▁General': 1, '▁Obligation': 1, '▁Bond.': 1, '▁Since': 1, '▁passage': 1, '▁bond,': 1, '▁our': 1, '▁construction': 1, '▁team': 1, '▁has': 1, '▁worked': 1, '▁schedule': 1, '▁over': 1, '▁four-year': 1, '▁term': 1, '▁bond.': 1, '▁Tuesday': 1, '▁Public': 1, '▁Schools,': 1, '▁agreeing': 1, '▁invest': 1, '▁improve': 1, '▁schools': 1, '▁$56.6': 1, '▁operating': 1, '▁dollars': 1, '▁proven': 1, '▁initiatives,': 1, '▁such': 1, '▁early': 1, '▁literacy.': 1, '▁say': 1, '▁yes': 1, '▁Click': 1, '▁learn': 1, '▁details': 1, '▁voter-approved': 1, '▁Nov.': 1, '▁8': 1, '▁Learn': 1, '▁what’s': 1, '▁included': 1})\n",
      "{'▁ B e g i n n e r s': 1, '▁ B B Q': 3, '▁ C l a s s': 2, '▁ T a k i n g': 1, '▁ P l a c e': 1, '▁ i n': 15, '▁ M i s s o u l a !': 1, '▁ D o': 1, '▁ y o u': 13, '▁ w a n t': 1, '▁ t o': 33, '▁ g e t': 2, '▁ b e t t e r': 2, '▁ a t': 1, '▁ m a k i n g': 2, '▁ d e l i c i o u s': 1, '▁ B B Q ?': 1, '▁ Y o u': 1, '▁ w i l l': 6, '▁ h a v e': 4, '▁ t h e': 31, '▁ o p p o r t u n i t y ,': 1, '▁ p u t': 1, '▁ t h i s': 4, '▁ o n': 8, '▁ y o u r': 2, '▁ c a l e n d a r': 1, '▁ n o w .': 1, '▁ T h u r s d a y ,': 1, '▁ S e p t e m b e r': 1, '▁ 2 2 n d': 1, '▁ j o i n': 1, '▁ W o r l d': 1, '▁ C h a m p i o n ,': 1, '▁ T o n y': 1, '▁ B a l a y': 1, '▁ f r o m': 6, '▁ L o n e s t a r': 1, '▁ S m o k e': 1, '▁ R a n g e r s .': 1, '▁ H e': 2, '▁ b e': 8, '▁ t e a c h i n g': 1, '▁ a': 19, '▁ b e g i n n e r': 1, '▁ l e v e l': 1, '▁ c l a s s': 2, '▁ f o r': 12, '▁ e v e r y o n e': 1, '▁ w h o': 1, '▁ w a n t s': 1, '▁ w i t h': 5, '▁ t h e i r': 1, '▁ c u l i n a r y': 1, '▁ s k i l l s .': 1, '▁ t e a c h': 1, '▁ e v e r y t h i n g': 1, '▁ n e e d': 1, '▁ k n o w': 1, '▁ c o m p e t e': 1, '▁ K C B S': 1, '▁ c o m p e t i t i o n ,': 1, '▁ i n c l u d i n g': 1, '▁ t e c h n i q u e s ,': 1, '▁ r e c i p e s ,': 1, '▁ t i m e l i n e s ,': 1, '▁ m e a t': 2, '▁ s e l e c t i o n': 1, '▁ a n d': 21, '▁ t r i m m i n g ,': 1, '▁ p l u s': 1, '▁ s m o k e r': 1, '▁ f i r e': 1, '▁ i n f o r m a t i o n .': 1, '▁ T h e': 2, '▁ c o s t': 2, '▁ i s': 8, '▁ $ 3 5': 1, '▁ p e r': 3, '▁ p e r s o n ,': 1, '▁ s p e c t a t o r s': 1, '▁ i t': 5, '▁ f r e e .': 1, '▁ I n c l u d e d': 1, '▁ e i t h e r': 1, '▁ t - s h i r t': 1, '▁ o r': 5, '▁ a p r o n': 1, '▁ t a s t i n g': 1, '▁ s a m p l e s': 1, '▁ o f': 13, '▁ e a c h': 1, '▁ t h a t': 4, '▁ p r e p a r e d .': 1, '▁ D i s c u s s i o n': 2, \"▁ ' M a c\": 1, '▁ O S': 1, '▁ X': 1, '▁ L i o n': 2, \"▁ ( 1 0 . 7 ) '\": 1, '▁ s t a r t e d': 2, '▁ b y': 2, '▁ a x b o i 8 7 ,': 1, '▁ J a n': 1, '▁ 2 0 ,': 1, '▁ 2 0 1 2 .': 1, \"▁ I ' v e\": 3, '▁ g o t': 1, '▁ 5 0 0 g b': 1, '▁ i n t e r n a l': 1, '▁ d r i v e': 10, '▁ 2 4 0 g b': 1, '▁ S S D .': 1, '▁ W h e n': 1, '▁ t r y i n g': 2, '▁ r e s t o r e': 2, '▁ u s i n g': 2, '▁ d i s k': 3, '▁ u t i l i t y': 2, \"▁ i ' m\": 1, '▁ g i v e n': 1, '▁ e r r o r': 1, '▁ \" N o t': 1, '▁ e n o u g h': 1, '▁ s p a c e': 1, '▁ _ _ _ _': 1, '▁ r e s t o r e \"': 1, '▁ B u t': 1, '▁ I': 9, \"▁ s h o u l d n ' t\": 1, '▁ d o': 5, '▁ t h a t ! ! !': 1, '▁ A n y': 1, '▁ i d e a s': 1, '▁ w o r k a r o u n d s': 1, '▁ b e f o r e': 3, '▁ r e s o r t i n g': 1, '▁ a b o v e ?': 1, '▁ U s e': 1, '▁ C a r b o n': 1, '▁ C o p y': 1, '▁ C l o n e r': 1, '▁ c o p y': 3, '▁ o n e': 2, '▁ o t h e r .': 1, '▁ d o n e': 2, '▁ s e v e r a l': 2, '▁ t i m e s': 2, '▁ g o i n g': 1, '▁ l a r g e r': 5, '▁ H D D': 1, '▁ s m a l l e r': 4, '▁ S S D': 3, '▁ w o u n d': 1, '▁ u p': 1, '▁ b o o t a b l e': 3, '▁ d r i v e .': 2, '▁ O n e': 1, '▁ s t e p': 1, '▁ r e m e m b e r': 1, '▁ n o t': 3, '▁ s k i p': 1, '▁ u s e': 1, '▁ D i s k': 2, '▁ U t i l i t y': 2, '▁ p a r t i t i o n': 2, '▁ a s': 3, '▁ G U I D': 1, '▁ s c h e m e': 1, '▁ H F S +': 1, '▁ d o i n g': 1, '▁ c l o n e .': 2, '▁ I f': 2, '▁ c a m e': 1, '▁ A p p l e': 2, '▁ P a r t i t i o n': 1, '▁ S c h e m e ,': 1, '▁ e v e n': 2, '▁ i f': 1, '▁ l e t': 2, '▁ C C C': 3, '▁ c l o n e ,': 1, '▁ r e s u l t i n g': 1, \"▁ w o n ' t\": 1, '▁ b o o t a b l e .': 1, '▁ u s u a l l y': 1, '▁ w o r k s': 1, '▁ \" f i l e': 1, '▁ m o d e \"': 1, '▁ c a n': 5, '▁ e a s i l y': 1, \"▁ ( t h a t ' s\": 1, '▁ m o s t l y': 1, '▁ e m p t y )': 1, '▁ o n t o': 1, '▁ t e l l': 1, '▁ c l o n e': 1, '▁ d i d': 4, '▁ N O T': 1, '▁ b o o t': 1, '▁ f r o m ,': 1, '▁ w o r k': 2, '▁ b l o c k': 1, '▁ m o d e': 1, '▁ w h e r e': 1, '▁ d e s t i n a t i o n': 1, '▁ m u s t': 1, '▁ s a m e': 1, '▁ s i z e': 1, '▁ t h a n': 2, '▁ a r e': 2, '▁ c l o n i n g': 2, '▁ ( i f': 1, '▁ r e c a l l ) .': 1, '▁ a c t u a l l y': 1, '▁ s o m e h o w': 1, '▁ ( b o o t i n g': 1, '▁ d i f f e r e n t': 1, '▁ ( o r': 1, '▁ d v d )': 1, '▁ s o': 2, '▁ r u n n i n g': 1, '▁ c l o n i n g )': 1, '▁ h a d': 2, '▁ j u s t': 1, '▁ f i n e': 1, '▁ D e f i n i t e l y': 1, '▁ f o r m a t': 1, '▁ f i r s t ,': 1, '▁ e t c . .': 1, '▁ T h a n k s': 1, '▁ p o i n t i n g': 1, '▁ o u t .': 1, '▁ M y': 1, '▁ o n l y': 1, '▁ e x p e r i e n c e': 1, '▁ D U': 1, '▁ g o': 1, '▁ w a s': 4, '▁ w h e n': 1, '▁ m a k e': 2, '▁ i n s t a l l': 1, '▁ s t i c k': 2, '▁ u n a b l e': 1, '▁ I n s t a l l E S D . d m g': 1, '▁ 4': 2, '▁ G B': 2, '▁ U S B': 1, '▁ b u t': 2, '▁ c o u r s e': 1, '▁ r e a s o n': 1, \"▁ w o u l d n ' t\": 1, '▁ f i t': 1, '▁ t h e r e': 1, '▁ s l i g h t l y': 1, '▁ m o r e': 5, '▁ d a t a .': 1, '▁ F o i l': 1, '▁ p l a i d': 1, '▁ l y c r a': 1, '▁ s p a n d e x': 1, '▁ s h o r t a l l': 1, '▁ m e t a l l i c': 2, '▁ s l i n k y': 1, '▁ i n s e t s .': 1, '▁ A t t a c h e d': 1, '▁ e l a s t i c': 1, '▁ b e l t': 1, '▁ O - r i n g .': 1, '▁ H e a d b a n d': 1, '▁ i n c l u d e d .': 1, '▁ G r e a t': 1, '▁ h i p': 1, '▁ h o p': 1, '▁ j a z z': 1, '▁ d a n c e': 1, '▁ c o s t u m e .': 1, '▁ M a d e': 1, '▁ U S A .': 1, '▁ H o w': 2, '▁ m a n y': 1, '▁ b a c k l i n k s': 5, '▁ d a y': 3, '▁ n e w': 4, '▁ s i t e ?': 2, \"▁ ' B l a c k\": 1, '▁ H a t': 1, \"▁ S E O '\": 1, '▁ O m o p l a t a ,': 1, '▁ D e c': 1, '▁ 3 ,': 1, '▁ 2 0 1 0 .': 1, '▁ 1 )': 1, '▁ n e w l y': 1, '▁ c r e a t e d': 1, '▁ s i t e ,': 1, \"▁ w h a t ' s\": 1, '▁ m a x': 1, '▁ #': 1, '▁ s h o u l d': 1, '▁ s a f e ?': 1, '▁ 2 )': 1, '▁ h o w': 1, '▁ l o n g': 1, '▁ m y': 3, '▁ s i t e': 2, '▁ a g e': 1, '▁ s t a r t': 1, '▁ b l i n k s ?': 1, '▁ a b o u t': 3, '▁ 6 0 0 0': 1, '▁ f o r u m': 2, '▁ p r o f i l e s': 1, '▁ e v e r y': 3, '▁ 2 4': 2, '▁ h o u r s': 2, '▁ 1 0': 1, '▁ d a y s': 1, '▁ s i t e s': 1, '▁ w h i c h': 1, '▁ b r a n d': 2, '▁ d o m a i n .': 1, '▁ T h e r e': 1, '▁ t h r e e': 1, '▁ t h e s e': 1, '▁ p r o f i l e': 1, '▁ t h a t s': 1, '▁ 1 8': 1, '▁ 0 0 0': 1, '▁ n o t h i n g': 1, '▁ h a p p e n e d': 1, '▁ t e r m s': 1, '▁ b e i n g': 1, '▁ p e n a l i z e d': 1, '▁ s a n d b o x e d .': 1, '▁ T h i s': 1, '▁ n o w': 1, '▁ m a y b e': 1, '▁ 3': 1, '▁ m o n t h s': 1, '▁ a g o': 1, '▁ r a n k i n g': 1, '▁ f i r s t': 1, '▁ p a g e': 1, '▁ l o t': 1, '▁ t a r g e t e d': 1, '▁ k e y w o r d s .': 1, '▁ b u i l d': 2, '▁ s t a r t i n g': 1, '▁ m a n u a l': 2, '▁ s u b m i s s i o n': 1, '▁ s p a m m y': 1, '▁ t y p e': 1, '▁ m e a n s': 1, '▁ +': 1, '▁ r e l e v a n t': 1, '▁ p o s t . .': 1, '▁ t h e n': 1, '▁ a f t e r': 1, '▁ 1': 1, '▁ m o n t h': 1, '▁ b i g': 1, '▁ b l a s t . .': 1, '▁ W o w ,': 1, '▁ d u d e ,': 1, '▁ b u i l t': 1, '▁ 1 8 k': 1, '▁ q u i c k l y': 1, '▁ r a n k': 1, '▁ u p ?': 1, '▁ W h a t': 1, '▁ k i n d': 1, '▁ c o m p e t i t i o n / s e a r c h e s': 1, '▁ t h o s e': 1, '▁ k e y w o r d s': 1, '▁ h a v e ?': 1, '▁ D e n v e r': 6, '▁ B o a r d': 1, '▁ E d u c a t i o n': 1, '▁ o p e n e d': 1, '▁ 2 0 1 7 - 1 8': 1, '▁ s c h o o l': 1, '▁ y e a r': 1, '▁ a n': 1, '▁ u p d a t e': 1, '▁ p r o j e c t s': 2, '▁ i n c l u d e': 1, '▁ c o n s t r u c t i o n ,': 1, '▁ u p g r a d e s ,': 1, '▁ h e a t': 1, '▁ m i t i g a t i o n': 1, '▁ q u a l i t y': 1, '▁ l e a r n i n g': 1, '▁ e n v i r o n m e n t s .': 1, '▁ W e': 1, '▁ e x c i t e d': 1, '▁ s t u d e n t s': 4, '▁ b e n e f i c i a r i e s': 1, '▁ f o u r': 1, '▁ y e a r ,': 1, '▁ $ 5 7 2': 2, '▁ m i l l i o n': 3, '▁ G e n e r a l': 1, '▁ O b l i g a t i o n': 1, '▁ B o n d .': 1, '▁ S i n c e': 1, '▁ p a s s a g e': 1, '▁ b o n d ,': 1, '▁ o u r': 1, '▁ c o n s t r u c t i o n': 1, '▁ t e a m': 1, '▁ h a s': 1, '▁ w o r k e d': 1, '▁ s c h e d u l e': 1, '▁ o v e r': 1, '▁ f o u r - y e a r': 1, '▁ t e r m': 1, '▁ b o n d .': 1, '▁ v o t e r s': 3, '▁ T u e s d a y': 1, '▁ a p p r o v e d': 2, '▁ b o n d': 5, '▁ m i l l': 4, '▁ f u n d i n g': 4, '▁ m e a s u r e s': 2, '▁ P u b l i c': 1, '▁ S c h o o l s ,': 1, '▁ a g r e e i n g': 1, '▁ i n v e s t': 1, '▁ i m p r o v e': 1, '▁ s c h o o l s': 1, '▁ $ 5 6 . 6': 1, '▁ o p e r a t i n g': 1, '▁ d o l l a r s': 1, '▁ s u p p o r t': 2, '▁ p r o v e n': 1, '▁ i n i t i a t i v e s ,': 1, '▁ s u c h': 1, '▁ e a r l y': 1, '▁ l i t e r a c y .': 1, '▁ s a y': 1, '▁ y e s': 1, '▁ l e v y': 2, '▁ D P S': 2, '▁ s c h o o l s .': 2, '▁ C l i c k': 1, '▁ l e a r n': 1, '▁ d e t a i l s': 1, '▁ v o t e r - a p p r o v e d': 1, '▁ m e a s u r e .': 2, '▁ N o v .': 1, '▁ 8': 1, '▁ L e a r n': 1, '▁ w h a t ’ s': 1, '▁ i n c l u d e d': 1}\n"
     ]
    }
   ],
   "source": [
    "from collections import Counter\n",
    "\n",
    "vocab = Counter(['\\u2581' + word for word in text.split()])\n",
    "print(vocab)\n",
    "vocab = {' '.join([l for l in word]): freq for word, freq in vocab.items()}\n",
    "print(vocab)"
   ]
  },
  {
   "cell_type": "code",
   "execution_count": 59,
   "metadata": {},
   "outputs": [],
   "source": [
    "def show_vocab(vocab, end='\\n', limit=20):\n",
    "    \"\"\"Show word frequencys in vocab up to the limit number of words\"\"\"\n",
    "    shown = 0\n",
    "    for word, freq in vocab.items():\n",
    "        print(f'{word}: {freq}', end=end)\n",
    "        shown +=1\n",
    "        if shown > limit:\n",
    "            break"
   ]
  },
  {
   "cell_type": "code",
   "execution_count": 60,
   "metadata": {},
   "outputs": [
    {
     "name": "stdout",
     "output_type": "stream",
     "text": [
      "▁ B e g i n n e r s: 1\n",
      "▁ B B Q: 3\n",
      "▁ C l a s s: 2\n",
      "▁ T a k i n g: 1\n",
      "▁ P l a c e: 1\n",
      "▁ i n: 15\n",
      "▁ M i s s o u l a !: 1\n",
      "▁ D o: 1\n",
      "▁ y o u: 13\n",
      "▁ w a n t: 1\n",
      "▁ t o: 33\n",
      "▁ g e t: 2\n",
      "▁ b e t t e r: 2\n",
      "▁ a t: 1\n",
      "▁ m a k i n g: 2\n",
      "▁ d e l i c i o u s: 1\n",
      "▁ B B Q ?: 1\n",
      "▁ Y o u: 1\n",
      "▁ w i l l: 6\n",
      "▁ h a v e: 4\n",
      "▁ t h e: 31\n"
     ]
    }
   ],
   "source": [
    "show_vocab(vocab)"
   ]
  },
  {
   "cell_type": "markdown",
   "metadata": {},
   "source": [
    "You check the size of the vocabulary (frequency dictionary) because this is the one hyperparameter that BPE depends on crucially on how far it breaks up a word into SentencePieces. It turns out that for your trained model on the small dataset that 60% of 455 merges of the most frequent characters need to be done to reproduce the upperlimit of a 32K `vocab_size` over the entire corpus of examples."
   ]
  },
  {
   "cell_type": "code",
   "execution_count": 61,
   "metadata": {},
   "outputs": [
    {
     "name": "stdout",
     "output_type": "stream",
     "text": [
      "Total number of unique words: 455\n",
      "Number of merges required to reproduce SentencePiece training on the whole corpus: 273\n"
     ]
    }
   ],
   "source": [
    "print(f'Total number of unique words: {len(vocab)}')\n",
    "print(f'Number of merges required to reproduce SentencePiece training on the whole corpus: {int(0.60*len(vocab))}')"
   ]
  },
  {
   "cell_type": "markdown",
   "metadata": {},
   "source": [
    "### BPE Algorithm\n",
    "Directly from the BPE paper you have the following algorithm. "
   ]
  },
  {
   "cell_type": "code",
   "execution_count": 62,
   "metadata": {},
   "outputs": [],
   "source": [
    "import re, collections\n",
    "\n",
    "def get_stats(vocab):\n",
    "    pairs = collections.defaultdict(int)\n",
    "    for word, freq in vocab.items():\n",
    "        symbols = word.split()\n",
    "        for i in range(len(symbols) - 1):\n",
    "            pairs[symbols[i], symbols[i+1]] += freq\n",
    "    return pairs\n",
    "\n",
    "def merge_vocab(pair, v_in):\n",
    "    v_out = {}\n",
    "    bigram = re.escape(' '.join(pair))\n",
    "    p = re.compile(r'(?<!\\S)' + bigram + r'(?!\\S)')\n",
    "    for word in v_in:\n",
    "        w_out = p.sub(''.join(pair), word)\n",
    "        v_out[w_out] = v_in[word]\n",
    "    return v_out\n",
    "\n",
    "def get_sentence_piece_vocab(vocab, frac_merges=0.60):\n",
    "    sp_vocab = vocab.copy()\n",
    "    num_merges = int(len(sp_vocab)*frac_merges)\n",
    "    \n",
    "    for i in range(num_merges):\n",
    "        pairs = get_stats(sp_vocab)\n",
    "        best = max(pairs, key=pairs.get)\n",
    "        sp_vocab = merge_vocab(best, sp_vocab)\n",
    "\n",
    "    return sp_vocab"
   ]
  },
  {
   "cell_type": "markdown",
   "metadata": {},
   "source": [
    "To understand what's going on first take a look at the third function `get_sentence_piece_vocab`. It takes in the current `vocab` word-frequency dictionary and the fraction, `frac_merges`, of the total `vocab_size` to merge characters in the words of the dictionary, `num_merges` times. Then for each *merge* operation it `get_stats` on how many of each pair of character sequences there are. It gets the most frequent *pair* of symbols as the `best` pair. Then it merges that pair of symbols (removes the space between them) in each word in the `vocab` that contains this `best` (= `pair`). Consequently, `merge_vocab` creates a new `vocab`, `v_out`. This process is repeated `num_merges` times and the result is the set of SentencePieces (keys of the final `sp_vocab`)."
   ]
  },
  {
   "cell_type": "markdown",
   "metadata": {},
   "source": [
    "### Additional Discussion of BPE Algorithm"
   ]
  },
  {
   "cell_type": "markdown",
   "metadata": {},
   "source": [
    "Please feel free to skip the below if the above description was enough.\n",
    "\n",
    "In a little more detail you can see in `get_stats` you initially create a list of bigram (two character sequence) frequencies from the vocabulary. Later, this may include trigrams, quadgrams, etc. Note that the key of the `pairs` frequency dictionary is actually a 2-tuple, which is just shorthand notation for a pair.\n",
    "\n",
    "In `merge_vocab` you take in an individual `pair` (of character sequences, note this is the most frequency `best` pair) and the current `vocab` as `v_in`. You create a new `vocab`, `v_out`, from the old by joining together the characters in the pair (removing the space), if they are present in a word of the dictionary.\n",
    "\n",
    "[Warning](https://regex101.com/): the expression `(?<!\\S)` means that either a whitespace character follows before the `bigram` or there is nothing before the bigram (it is the beginning of the word), similarly for `(?!\\S)` for preceding whitespace or the end of the word. "
   ]
  },
  {
   "cell_type": "code",
   "execution_count": 77,
   "metadata": {},
   "outputs": [
    {
     "name": "stdout",
     "output_type": "stream",
     "text": [
      "▁B e g in n ers: 1\n",
      "▁BBQ: 3\n",
      "▁Cl ass: 2\n",
      "▁T ak ing: 1\n",
      "▁P la ce: 1\n",
      "▁in: 15\n",
      "▁M is s ou la !: 1\n",
      "▁D o: 1\n",
      "▁you: 13\n",
      "▁w an t: 1\n",
      "▁to: 33\n",
      "▁g et: 2\n",
      "▁be t ter: 2\n",
      "▁a t: 1\n",
      "▁mak ing: 2\n",
      "▁d e l ic i ou s: 1\n",
      "▁BBQ ?: 1\n",
      "▁ Y ou: 1\n",
      "▁will: 6\n",
      "▁have: 4\n",
      "▁the: 31\n"
     ]
    }
   ],
   "source": [
    "sp_vocab = get_sentence_piece_vocab(vocab)\n",
    "show_vocab(sp_vocab) "
   ]
  },
  {
   "cell_type": "markdown",
   "metadata": {},
   "source": [
    "## Train SentencePiece BPE Tokenizer on Example Data\n",
    "### Explore SentencePiece Model\n",
    "First, explore the SentencePiece model provided with this week's assignment. Remember you can always use Python's built in `help` command to see the documentation for any object or method."
   ]
  },
  {
   "cell_type": "code",
   "execution_count": 78,
   "metadata": {},
   "outputs": [],
   "source": [
    "import sentencepiece as spm\n",
    "sp = spm.SentencePieceProcessor(model_file='./data/sentencepiece.model')"
   ]
  },
  {
   "cell_type": "code",
   "execution_count": 79,
   "metadata": {},
   "outputs": [
    {
     "name": "stdout",
     "output_type": "stream",
     "text": [
      "Help on SentencePieceProcessor in module sentencepiece object:\n",
      "\n",
      "class SentencePieceProcessor(builtins.object)\n",
      " |  SentencePieceProcessor(model_file=None, model_proto=None, out_type=<class 'int'>, add_bos=False, add_eos=False, reverse=False, emit_unk_piece=False, enable_sampling=False, nbest_size=-1, alpha=0.1, num_threads=-1)\n",
      " |  \n",
      " |  Methods defined here:\n",
      " |  \n",
      " |  CalculateEntropy(self, input, alpha, num_threads=None)\n",
      " |      Calculate sentence entropy\n",
      " |  \n",
      " |  Decode(self, input, out_type=<class 'str'>, num_threads=None)\n",
      " |      Decode processed id or token sequences.\n",
      " |      \n",
      " |      Args:\n",
      " |        out_type: output type. str, bytes or 'serialized_proto' or 'immutable_proto' (Default = str)\n",
      " |        num_threads: the number of threads used in the batch processing (Default = -1).\n",
      " |  \n",
      " |  DecodeIds(self, input, out_type=<class 'str'>, **kwargs)\n",
      " |  \n",
      " |  DecodeIdsAsImmutableProto(self, input, out_type='immutable_proto', **kwargs)\n",
      " |  \n",
      " |  DecodeIdsAsSerializedProto(self, input, out_type='serialized_proto', **kwargs)\n",
      " |  \n",
      " |  DecodePieces(self, input, out_type=<class 'str'>, **kwargs)\n",
      " |  \n",
      " |  DecodePiecesAsImmutableProto(self, input, out_type='immutable_proto', **kwargs)\n",
      " |  \n",
      " |  DecodePiecesAsSerializedProto(self, input, out_type='serialized_proto', **kwargs)\n",
      " |  \n",
      " |  Detokenize = Decode(self, input, out_type=<class 'str'>, num_threads=None)\n",
      " |  \n",
      " |  Encode(self, input, out_type=None, add_bos=None, add_eos=None, reverse=None, emit_unk_piece=None, enable_sampling=None, nbest_size=None, alpha=None, num_threads=None)\n",
      " |      Encode text input to segmented ids or tokens.\n",
      " |      \n",
      " |      Args:\n",
      " |      input: input string. accepsts list of string.\n",
      " |      out_type: output type. int or str.\n",
      " |      add_bos: Add <s> to the result (Default = false)\n",
      " |      add_eos: Add </s> to the result (Default = false) <s>/</s> is added after\n",
      " |               reversing (if enabled).\n",
      " |      reverse: Reverses the tokenized sequence (Default = false)\n",
      " |      emit_unk_piece: Emits the unk literal string (Default = false)\n",
      " |      nbest_size: sampling parameters for unigram. Invalid in BPE-Dropout.\n",
      " |                  nbest_size = {0,1}: No sampling is performed.\n",
      " |                  nbest_size > 1: samples from the nbest_size results.\n",
      " |                  nbest_size < 0: assuming that nbest_size is infinite and samples\n",
      " |                  from the all hypothesis (lattice) using\n",
      " |                  forward-filtering-and-backward-sampling algorithm.\n",
      " |      alpha: Soothing parameter for unigram sampling, and merge probability for\n",
      " |             BPE-dropout (probablity 'p' in BPE-dropout paper).\n",
      " |      num_threads: the number of threads used in the batch processing (Default = -1).\n",
      " |  \n",
      " |  EncodeAsIds(self, input, **kwargs)\n",
      " |  \n",
      " |  EncodeAsImmutableProto(self, input, **kwargs)\n",
      " |  \n",
      " |  EncodeAsPieces(self, input, **kwargs)\n",
      " |  \n",
      " |  EncodeAsSerializedProto(self, input, **kwargs)\n",
      " |  \n",
      " |  GetPieceSize(self)\n",
      " |  \n",
      " |  GetScore = _batched_func(self, arg)\n",
      " |  \n",
      " |  IdToPiece = _batched_func(self, arg)\n",
      " |  \n",
      " |  Init(self, model_file=None, model_proto=None, out_type=<class 'int'>, add_bos=False, add_eos=False, reverse=False, emit_unk_piece=False, enable_sampling=False, nbest_size=-1, alpha=0.1, num_threads=-1)\n",
      " |      Initialzie sentencepieceProcessor.\n",
      " |      \n",
      " |      Args:\n",
      " |        model_file: The sentencepiece model file path.\n",
      " |        model_proto: The sentencepiece model serialized proto.\n",
      " |        out_type: output type. int or str.\n",
      " |        add_bos: Add <s> to the result (Default = false)\n",
      " |        add_eos: Add </s> to the result (Default = false) <s>/</s> is added after\n",
      " |          reversing (if enabled).\n",
      " |        reverse: Reverses the tokenized sequence (Default = false)\n",
      " |        emit_unk_piece: Emits the unk literal string (Default = false)\n",
      " |        nbest_size: sampling parameters for unigram. Invalid in BPE-Dropout.\n",
      " |                    nbest_size = {0,1}: No sampling is performed.\n",
      " |                    nbest_size > 1: samples from the nbest_size results.\n",
      " |                    nbest_size < 0: assuming that nbest_size is infinite and samples\n",
      " |                      from the all hypothesis (lattice) using\n",
      " |                      forward-filtering-and-backward-sampling algorithm.\n",
      " |        alpha: Soothing parameter for unigram sampling, and dropout probability of\n",
      " |               merge operations for BPE-dropout.\n",
      " |        num_threads: number of threads in batch processing (Default = -1, auto-detected)\n",
      " |  \n",
      " |  IsByte = _batched_func(self, arg)\n",
      " |  \n",
      " |  IsControl = _batched_func(self, arg)\n",
      " |  \n",
      " |  IsUnknown = _batched_func(self, arg)\n",
      " |  \n",
      " |  IsUnused = _batched_func(self, arg)\n",
      " |  \n",
      " |  Load(self, model_file=None, model_proto=None)\n",
      " |      Overwride SentencePieceProcessor.Load to support both model_file and model_proto.\n",
      " |      \n",
      " |      Args:\n",
      " |        model_file: The sentencepiece model file path.\n",
      " |        model_proto: The sentencepiece model serialized proto. Either `model_file`\n",
      " |          or `model_proto` must be set.\n",
      " |  \n",
      " |  LoadFromFile(self, arg)\n",
      " |  \n",
      " |  LoadFromSerializedProto(self, serialized)\n",
      " |  \n",
      " |  LoadVocabulary(self, filename, threshold)\n",
      " |  \n",
      " |  NBestEncode(self, input, out_type=None, add_bos=None, add_eos=None, reverse=None, emit_unk_piece=None, nbest_size=None)\n",
      " |      NBestEncode text input to segmented ids or tokens.\n",
      " |      \n",
      " |      Args:\n",
      " |      input: input string. accepsts list of string.\n",
      " |      out_type: output type. int or str.\n",
      " |      add_bos: Add <s> to the result (Default = false)\n",
      " |      add_eos: Add </s> to the result (Default = false) <s>/</s> is added after reversing (if enabled).\n",
      " |      reverse: Reverses the tokenized sequence (Default = false)\n",
      " |      emit_unk_piece: Emits the unk literal string (Default = false)\n",
      " |      nbest_size: nbest size\n",
      " |  \n",
      " |  NBestEncodeAsIds(self, input, nbest_size=None, **kwargs)\n",
      " |  \n",
      " |  NBestEncodeAsImmutableProto(self, input, nbest_size=None, **kwargs)\n",
      " |  \n",
      " |  NBestEncodeAsPieces(self, input, nbest_size=None, **kwargs)\n",
      " |  \n",
      " |  NBestEncodeAsSerializedProto(self, input, nbest_size=None, **kwargs)\n",
      " |  \n",
      " |  Normalize(self, input, with_offsets=None)\n",
      " |  \n",
      " |  OverrideNormalizerSpec(self, **kwargs)\n",
      " |  \n",
      " |  PieceToId = _batched_func(self, arg)\n",
      " |  \n",
      " |  ResetVocabulary(self)\n",
      " |  \n",
      " |  SampleEncodeAndScore(self, input, out_type=None, add_bos=None, add_eos=None, reverse=None, emit_unk_piece=None, num_samples=None, alpha=None, wor=None, include_best=None)\n",
      " |      SampleEncodeAndScore text input to segmented ids or tokens.\n",
      " |      \n",
      " |      Args:\n",
      " |      input: input string. accepsts list of string.\n",
      " |      out_type: output type. int or str or 'serialized_proto' or 'immutable_proto'\n",
      " |      add_bos: Add <s> to the result (Default = false)\n",
      " |      add_eos: Add </s> to the result (Default = false) <s>/</s> is added after reversing (if enabled).\n",
      " |      reverse: Reverses the tokenized sequence (Default = false)\n",
      " |      emit_unk_piece: Emits the unk literal string (Default = false)\n",
      " |      num_samples: How many samples to return (Default = 1)\n",
      " |      alpha: inverse temperature for sampling\n",
      " |      wor: whether to sample without replacement (Default = false)\n",
      " |      include_best: whether to include the best tokenization, requires wor=True (Default = false)\n",
      " |  \n",
      " |  SampleEncodeAndScoreAsIds(self, input, num_samples=None, alpha=None, **kwargs)\n",
      " |  \n",
      " |  SampleEncodeAndScoreAsImmutableProto(self, input, num_samples=None, alpha=None, **kwargs)\n",
      " |  \n",
      " |  SampleEncodeAndScoreAsPieces(self, input, num_samples=None, alpha=None, **kwargs)\n",
      " |  \n",
      " |  SampleEncodeAndScoreAsSerializedProto(self, input, num_samples=None, alpha=None, **kwargs)\n",
      " |  \n",
      " |  SampleEncodeAsIds(self, input, nbest_size=None, alpha=None, **kwargs)\n",
      " |  \n",
      " |  SampleEncodeAsImmutableProto(self, input, nbest_size=None, alpha=None, **kwargs)\n",
      " |  \n",
      " |  SampleEncodeAsPieces(self, input, nbest_size=None, alpha=None, **kwargs)\n",
      " |  \n",
      " |  SampleEncodeAsSerializedProto(self, input, nbest_size=None, alpha=None, **kwargs)\n",
      " |  \n",
      " |  SetDecodeExtraOptions(self, extra_option)\n",
      " |  \n",
      " |  SetEncodeExtraOptions(self, extra_option)\n",
      " |  \n",
      " |  SetVocabulary(self, valid_vocab)\n",
      " |  \n",
      " |  Tokenize = Encode(self, input, out_type=None, add_bos=None, add_eos=None, reverse=None, emit_unk_piece=None, enable_sampling=None, nbest_size=None, alpha=None, num_threads=None)\n",
      " |  \n",
      " |  __getitem__(self, piece)\n",
      " |  \n",
      " |  __getstate__(self)\n",
      " |  \n",
      " |  __init__ = Init(self, model_file=None, model_proto=None, out_type=<class 'int'>, add_bos=False, add_eos=False, reverse=False, emit_unk_piece=False, enable_sampling=False, nbest_size=-1, alpha=0.1, num_threads=-1)\n",
      " |  \n",
      " |  __len__(self)\n",
      " |  \n",
      " |  __repr__ = _swig_repr(self)\n",
      " |  \n",
      " |  __setstate__(self, serialized_model_proto)\n",
      " |  \n",
      " |  bos_id(self)\n",
      " |  \n",
      " |  calculate_entropy = CalculateEntropy(self, input, alpha, num_threads=None)\n",
      " |  \n",
      " |  decode = Decode(self, input, out_type=<class 'str'>, num_threads=None)\n",
      " |  \n",
      " |  decode_ids = DecodeIds(self, input, out_type=<class 'str'>, **kwargs)\n",
      " |  \n",
      " |  decode_ids_as_immutable_proto = DecodeIdsAsImmutableProto(self, input, out_type='immutable_proto', **kwargs)\n",
      " |  \n",
      " |  decode_ids_as_serialized_proto = DecodeIdsAsSerializedProto(self, input, out_type='serialized_proto', **kwargs)\n",
      " |  \n",
      " |  decode_pieces = DecodePieces(self, input, out_type=<class 'str'>, **kwargs)\n",
      " |  \n",
      " |  decode_pieces_as_immutable_proto = DecodePiecesAsImmutableProto(self, input, out_type='immutable_proto', **kwargs)\n",
      " |  \n",
      " |  decode_pieces_as_serialized_proto = DecodePiecesAsSerializedProto(self, input, out_type='serialized_proto', **kwargs)\n",
      " |  \n",
      " |  detokenize = Decode(self, input, out_type=<class 'str'>, num_threads=None)\n",
      " |  \n",
      " |  encode = Encode(self, input, out_type=None, add_bos=None, add_eos=None, reverse=None, emit_unk_piece=None, enable_sampling=None, nbest_size=None, alpha=None, num_threads=None)\n",
      " |  \n",
      " |  encode_as_ids = EncodeAsIds(self, input, **kwargs)\n",
      " |  \n",
      " |  encode_as_immutable_proto = EncodeAsImmutableProto(self, input, **kwargs)\n",
      " |  \n",
      " |  encode_as_pieces = EncodeAsPieces(self, input, **kwargs)\n",
      " |  \n",
      " |  encode_as_serialized_proto = EncodeAsSerializedProto(self, input, **kwargs)\n",
      " |  \n",
      " |  eos_id(self)\n",
      " |  \n",
      " |  get_piece_size = GetPieceSize(self)\n",
      " |  \n",
      " |  get_score = _batched_func(self, arg)\n",
      " |  \n",
      " |  id_to_piece = _batched_func(self, arg)\n",
      " |  \n",
      " |  init = Init(self, model_file=None, model_proto=None, out_type=<class 'int'>, add_bos=False, add_eos=False, reverse=False, emit_unk_piece=False, enable_sampling=False, nbest_size=-1, alpha=0.1, num_threads=-1)\n",
      " |  \n",
      " |  is_byte = _batched_func(self, arg)\n",
      " |  \n",
      " |  is_control = _batched_func(self, arg)\n",
      " |  \n",
      " |  is_unknown = _batched_func(self, arg)\n",
      " |  \n",
      " |  is_unused = _batched_func(self, arg)\n",
      " |  \n",
      " |  load = Load(self, model_file=None, model_proto=None)\n",
      " |  \n",
      " |  load_from_file = LoadFromFile(self, arg)\n",
      " |  \n",
      " |  load_from_serialized_proto = LoadFromSerializedProto(self, serialized)\n",
      " |  \n",
      " |  load_vocabulary = LoadVocabulary(self, filename, threshold)\n",
      " |  \n",
      " |  nbest_encode = NBestEncode(self, input, out_type=None, add_bos=None, add_eos=None, reverse=None, emit_unk_piece=None, nbest_size=None)\n",
      " |  \n",
      " |  nbest_encode_as_ids = NBestEncodeAsIds(self, input, nbest_size=None, **kwargs)\n",
      " |  \n",
      " |  nbest_encode_as_immutable_proto = NBestEncodeAsImmutableProto(self, input, nbest_size=None, **kwargs)\n",
      " |  \n",
      " |  nbest_encode_as_pieces = NBestEncodeAsPieces(self, input, nbest_size=None, **kwargs)\n",
      " |  \n",
      " |  nbest_encode_as_serialized_proto = NBestEncodeAsSerializedProto(self, input, nbest_size=None, **kwargs)\n",
      " |  \n",
      " |  normalize = Normalize(self, input, with_offsets=None)\n",
      " |  \n",
      " |  override_normalizer_spec = OverrideNormalizerSpec(self, **kwargs)\n",
      " |  \n",
      " |  pad_id(self)\n",
      " |  \n",
      " |  piece_size(self)\n",
      " |  \n",
      " |  piece_to_id = _batched_func(self, arg)\n",
      " |  \n",
      " |  reset_vocabulary = ResetVocabulary(self)\n",
      " |  \n",
      " |  sample_encode_and_score = SampleEncodeAndScore(self, input, out_type=None, add_bos=None, add_eos=None, reverse=None, emit_unk_piece=None, num_samples=None, alpha=None, wor=None, include_best=None)\n",
      " |  \n",
      " |  sample_encode_and_score_as_ids = SampleEncodeAndScoreAsIds(self, input, num_samples=None, alpha=None, **kwargs)\n",
      " |  \n",
      " |  sample_encode_and_score_as_immutable_proto = SampleEncodeAndScoreAsImmutableProto(self, input, num_samples=None, alpha=None, **kwargs)\n",
      " |  \n",
      " |  sample_encode_and_score_as_pieces = SampleEncodeAndScoreAsPieces(self, input, num_samples=None, alpha=None, **kwargs)\n",
      " |  \n",
      " |  sample_encode_and_score_as_serialized_proto = SampleEncodeAndScoreAsSerializedProto(self, input, num_samples=None, alpha=None, **kwargs)\n",
      " |  \n",
      " |  sample_encode_as_ids = SampleEncodeAsIds(self, input, nbest_size=None, alpha=None, **kwargs)\n",
      " |  \n",
      " |  sample_encode_as_immutable_proto = SampleEncodeAsImmutableProto(self, input, nbest_size=None, alpha=None, **kwargs)\n",
      " |  \n",
      " |  sample_encode_as_pieces = SampleEncodeAsPieces(self, input, nbest_size=None, alpha=None, **kwargs)\n",
      " |  \n",
      " |  sample_encode_as_serialized_proto = SampleEncodeAsSerializedProto(self, input, nbest_size=None, alpha=None, **kwargs)\n",
      " |  \n",
      " |  serialized_model_proto(self)\n",
      " |  \n",
      " |  set_decode_extra_options = SetDecodeExtraOptions(self, extra_option)\n",
      " |  \n",
      " |  set_encode_extra_options = SetEncodeExtraOptions(self, extra_option)\n",
      " |  \n",
      " |  set_vocabulary = SetVocabulary(self, valid_vocab)\n",
      " |  \n",
      " |  tokenize = Encode(self, input, out_type=None, add_bos=None, add_eos=None, reverse=None, emit_unk_piece=None, enable_sampling=None, nbest_size=None, alpha=None, num_threads=None)\n",
      " |  \n",
      " |  unk_id(self)\n",
      " |  \n",
      " |  vocab_size(self)\n",
      " |  \n",
      " |  ----------------------------------------------------------------------\n",
      " |  Static methods defined here:\n",
      " |  \n",
      " |  __swig_destroy__ = delete_SentencePieceProcessor(...)\n",
      " |  \n",
      " |  ----------------------------------------------------------------------\n",
      " |  Data descriptors defined here:\n",
      " |  \n",
      " |  __dict__\n",
      " |      dictionary for instance variables (if defined)\n",
      " |  \n",
      " |  __weakref__\n",
      " |      list of weak references to the object (if defined)\n",
      " |  \n",
      " |  thisown\n",
      " |      The membership flag\n",
      "\n"
     ]
    }
   ],
   "source": [
    "help(sp)"
   ]
  },
  {
   "cell_type": "markdown",
   "metadata": {},
   "source": [
    "Try it out on the first sentence of the example text."
   ]
  },
  {
   "cell_type": "code",
   "execution_count": 80,
   "metadata": {},
   "outputs": [],
   "source": [
    "s0 = 'Beginners BBQ Class Taking Place in Missoula!'"
   ]
  },
  {
   "cell_type": "code",
   "execution_count": 81,
   "metadata": {},
   "outputs": [
    {
     "name": "stdout",
     "output_type": "stream",
     "text": [
      "['▁Beginn', 'ers', '▁BBQ', '▁Class', '▁', 'Taking', '▁Place', '▁in', '▁Miss', 'oul', 'a', '!']\n",
      "[12847, 277, 15068, 4501, 3, 12297, 3399, 16, 5964, 7115, 9, 55]\n",
      "Beginners BBQ Class Taking Place in Missoula!\n",
      "Beginners\n"
     ]
    }
   ],
   "source": [
    "# encode: text => id\n",
    "print(sp.encode_as_pieces(s0))\n",
    "print(sp.encode_as_ids(s0))\n",
    "\n",
    "# decode: id => text\n",
    "print(sp.decode_pieces(sp.encode_as_pieces(s0)))\n",
    "print(sp.decode_ids([12847, 277]))"
   ]
  },
  {
   "cell_type": "markdown",
   "metadata": {},
   "source": [
    "Notice how SentencePiece breaks the words into seemingly odd parts, but you have seen something similar with BPE. But how close was the model trained on the whole corpus of examples with a `vocab_size` of 32,000 instead of 455? Here you can also test what happens to white space, like '\\n'. \n",
    "\n",
    "But first note that SentencePiece encodes the SentencePieces, the tokens, and has reserved some of the ids as can be seen in this week's assignment."
   ]
  },
  {
   "cell_type": "code",
   "execution_count": 82,
   "metadata": {},
   "outputs": [
    {
     "name": "stdout",
     "output_type": "stream",
     "text": [
      "SentencePiece for ID 15068: ▁BBQ\n",
      "ID for Sentence Piece ▁BBQ: 15068\n",
      "ID for unknown text __MUST_BE_UNKNOWN__: 2\n"
     ]
    }
   ],
   "source": [
    "uid = 15068\n",
    "spiece = \"\\u2581BBQ\"\n",
    "unknown = \"__MUST_BE_UNKNOWN__\"\n",
    "\n",
    "# id <=> piece conversion\n",
    "print(f'SentencePiece for ID {uid}: {sp.id_to_piece(uid)}')\n",
    "print(f'ID for Sentence Piece {spiece}: {sp.piece_to_id(spiece)}')\n",
    "\n",
    "# returns 0 for unknown tokens (we can change the id for UNK)\n",
    "print(f'ID for unknown text {unknown}: {sp.piece_to_id(unknown)}')"
   ]
  },
  {
   "cell_type": "code",
   "execution_count": 83,
   "metadata": {},
   "outputs": [
    {
     "name": "stdout",
     "output_type": "stream",
     "text": [
      "Beginning of sentence id: -1\n",
      "Pad id: 0\n",
      "End of sentence id: 1\n",
      "Unknown id: 2\n",
      "Vocab size: 32000\n"
     ]
    }
   ],
   "source": [
    "print(f'Beginning of sentence id: {sp.bos_id()}')\n",
    "print(f'Pad id: {sp.pad_id()}')\n",
    "print(f'End of sentence id: {sp.eos_id()}')\n",
    "print(f'Unknown id: {sp.unk_id()}')\n",
    "print(f'Vocab size: {sp.vocab_size()}')"
   ]
  },
  {
   "cell_type": "markdown",
   "metadata": {},
   "source": [
    "You can also check what are the ids for the first part and last part of the vocabulary."
   ]
  },
  {
   "cell_type": "code",
   "execution_count": 84,
   "metadata": {},
   "outputs": [
    {
     "name": "stdout",
     "output_type": "stream",
     "text": [
      "\n",
      "Id\tSentP\tControl?\n",
      "------------------------\n",
      "0\t<pad>\tTrue\n",
      "1\t</s>\tTrue\n",
      "2\t<unk>\tFalse\n",
      "3\t▁\tFalse\n",
      "4\tX\tFalse\n",
      "5\t.\tFalse\n",
      "6\t,\tFalse\n",
      "7\ts\tFalse\n",
      "8\t▁the\tFalse\n",
      "9\ta\tFalse\n",
      "\n",
      "\n",
      "31990\t▁predominant\tFalse\n",
      "31991\tnourishe\tFalse\n",
      "31992\texerce\tFalse\n",
      "31993\t▁disguise\tFalse\n",
      "31994\t▁traditi\tFalse\n",
      "31995\t▁Intellectual\tFalse\n",
      "31996\t▁imunitar\tFalse\n",
      "31997\t▁Cushion\tFalse\n",
      "31998\t▁erwachsene\tFalse\n",
      "31999\t▁Internațional\tFalse\n"
     ]
    }
   ],
   "source": [
    "print('\\nId\\tSentP\\tControl?')\n",
    "print('------------------------')\n",
    "# <unk>, <s>, </s> are defined by default. Their ids are (0, 1, 2)\n",
    "# <s> and </s> are defined as 'control' symbol.\n",
    "for uid in range(10):\n",
    "    print(uid, sp.id_to_piece(uid), sp.is_control(uid), sep='\\t')\n",
    "\n",
    "print('\\n')\n",
    "\n",
    "for uid in range(sp.vocab_size()-10,sp.vocab_size()):\n",
    "    print(uid, sp.id_to_piece(uid), sp.is_control(uid), sep='\\t')"
   ]
  },
  {
   "cell_type": "markdown",
   "metadata": {},
   "source": [
    "### Train SentencePiece BPE model with our example.txt"
   ]
  },
  {
   "cell_type": "markdown",
   "metadata": {},
   "source": [
    "Finally, train your own BPE model directly from the SentencePiece library and compare it to the results of the implemention of the algorithm from the BPE paper itself."
   ]
  },
  {
   "cell_type": "code",
   "execution_count": 85,
   "metadata": {},
   "outputs": [
    {
     "name": "stdout",
     "output_type": "stream",
     "text": [
      "*** BPE ***\n",
      "['▁B', 'e', 'ginn', 'ers', '▁BBQ', '▁Cl', 'ass', '▁T', 'ak', 'ing', '▁P', 'la', 'ce', '▁in', '▁M', 'is', 's', 'ou', 'la', '!']\n"
     ]
    }
   ],
   "source": [
    "spm.SentencePieceTrainer.train('--input=example.txt --model_prefix=example_bpe --vocab_size=450 --model_type=bpe')\n",
    "sp_bpe = spm.SentencePieceProcessor()\n",
    "sp_bpe.load('example_bpe.model')\n",
    "\n",
    "print('*** BPE ***')\n",
    "print(sp_bpe.encode_as_pieces(s0))"
   ]
  },
  {
   "cell_type": "code",
   "execution_count": 86,
   "metadata": {},
   "outputs": [
    {
     "name": "stdout",
     "output_type": "stream",
     "text": [
      "▁B e g in n ers: 1, ▁BBQ: 3, ▁Cl ass: 2, ▁T ak ing: 1, ▁P la ce: 1, ▁in: 15, ▁M is s ou la !: 1, ▁D o: 1, ▁you: 13, ▁w an t: 1, ▁to: 33, ▁g et: 2, ▁be t ter: 2, ▁a t: 1, ▁mak ing: 2, ▁d e l ic i ou s: 1, ▁BBQ ?: 1, ▁ Y ou: 1, ▁will: 6, ▁have: 4, ▁the: 31, "
     ]
    }
   ],
   "source": [
    "show_vocab(sp_vocab, end = ', ')"
   ]
  },
  {
   "cell_type": "markdown",
   "metadata": {},
   "source": [
    "The implementation of BPE's code from the paper matches up pretty well with the library itself! The differences are probably accounted for by the `vocab_size`. There is also another technical difference in that in the SentencePiece implementation of BPE a priority queue is used to more efficiently keep track of the *best pairs*. Actually, there is a priority queue in the Python standard library called `heapq` if you would like to give that a try below! "
   ]
  },
  {
   "cell_type": "markdown",
   "metadata": {},
   "source": [
    "## Optionally try to implement BPE using a priority queue below"
   ]
  },
  {
   "cell_type": "code",
   "execution_count": 87,
   "metadata": {},
   "outputs": [],
   "source": [
    "from heapq import heappush, heappop"
   ]
  },
  {
   "cell_type": "code",
   "execution_count": 88,
   "metadata": {},
   "outputs": [],
   "source": [
    "def heapsort(iterable):\n",
    "    h = []\n",
    "    for value in iterable:\n",
    "        heappush(h, value)\n",
    "    return [heappop(h) for i in range(len(h))]"
   ]
  },
  {
   "cell_type": "code",
   "execution_count": 89,
   "metadata": {},
   "outputs": [
    {
     "data": {
      "text/plain": [
       "[1, 1, 1, 2, 2, 3, 3, 4, 4]"
      ]
     },
     "execution_count": 89,
     "metadata": {},
     "output_type": "execute_result"
    }
   ],
   "source": [
    "a = [1,4,3,1,3,2,1,4,2]\n",
    "heapsort(a)"
   ]
  },
  {
   "cell_type": "markdown",
   "metadata": {},
   "source": [
    "For a more extensive example consider looking at the [SentencePiece repo](https://github.com/google/sentencepiece/blob/master/python/sentencepiece_python_module_example.ipynb). The last few sections of this code were repurposed from that tutorial. Thanks for your participation! Next stop BERT and T5!"
   ]
  }
 ],
 "metadata": {
  "kernelspec": {
   "display_name": "tfnew",
   "language": "python",
   "name": "python3"
  },
  "language_info": {
   "codemirror_mode": {
    "name": "ipython",
    "version": 3
   },
   "file_extension": ".py",
   "mimetype": "text/x-python",
   "name": "python",
   "nbconvert_exporter": "python",
   "pygments_lexer": "ipython3",
   "version": "3.9.20"
  }
 },
 "nbformat": 4,
 "nbformat_minor": 4
}
