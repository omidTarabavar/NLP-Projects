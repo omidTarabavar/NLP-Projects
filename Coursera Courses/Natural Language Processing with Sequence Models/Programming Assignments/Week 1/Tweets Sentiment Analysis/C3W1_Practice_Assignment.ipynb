{
 "cells": [
  {
   "cell_type": "markdown",
   "id": "3531c13c",
   "metadata": {},
   "source": [
    "# Assignment 1:  Sentiment with Deep Neural Networks\n",
    "\n",
    "Welcome to the first assignment of course 3. **This is a practice assignment**, which means that the grade you receive won't count towards your final grade of the course. **However you can still submit your solutions and receive a grade along with feedback from the grader.** Before getting started take some time to read the following tips: \n",
    "\n",
    "#### TIPS FOR SUCCESSFUL GRADING OF YOUR ASSIGNMENT:\n",
    "\n",
    "- All cells are frozen except for the ones where you need to submit your solutions.\n",
    "\n",
    "- You can add new cells to experiment but these will be omitted by the grader, so don't rely on newly created cells to host your solution code, use the provided places for this.\n",
    "\n",
    "- You can add the comment # grade-up-to-here in any graded cell to signal the grader that it must only evaluate up to that point. This is helpful if you want to check if you are on the right track even if you are not done with the whole assignment. Be sure to remember to delete the comment afterwards!\n",
    "\n",
    "- To submit your notebook, save it and then click on the blue submit button at the beginning of the page.\n",
    "\n",
    "\n",
    "In this assignment, you will explore sentiment analysis using deep neural networks. "
   ]
  },
  {
   "cell_type": "markdown",
   "id": "5f6473fc",
   "metadata": {},
   "source": [
    "## Table of Contents\n",
    "- [1 - Import the Libraries](#1)\n",
    "- [2 - Importing the Data](#2)\n",
    "    - [2.1 - Load and split the Data](#2-1)\n",
    "    - [2.2 - Build the Vocabulary](#2-2)\n",
    "        - [Exercise 1 - build_vocabulary](#ex-1)\n",
    "    - [2.3 - Convert a Tweet to a Tensor](#2-3)\n",
    "        - [Exercise 2 - max_len](#ex-2)\n",
    "        - [Exercise 3 - padded_sequences](#ex-3)\n",
    "- [3 - Define the structure of the neural network layers](#3)\n",
    "    - [3.1 - ReLU](#3-1)\n",
    "        - [Exercise 4 - relu](#ex-4)\n",
    "    - [3.2 - Sigmoid](#3.2)\n",
    "        - [Exercise 5 - sigmoid](#ex-5)\n",
    "    - [3.3 - Dense class](#3-3)\n",
    "        - [Exercise 6 - Dense](#ex-6)\n",
    "    - [3.3 - Model](#3-4)\n",
    "        - [Exercise 7 - create_model](#ex-7)\n",
    "- [4 - Evaluate the model](#4)\n",
    "    - [4.1 Predict on Data](#4-1)\n",
    "- [5 - Test With Your Own Input](#5)\n",
    "    - [5.1 Create the Prediction Function](#5-1)\n",
    "        - [Exercise 8 - graded_very_positive_tweet](#ex-8)\n",
    "- [6 - Word Embeddings](#6)"
   ]
  },
  {
   "cell_type": "markdown",
   "id": "bd2428bf",
   "metadata": {},
   "source": [
    "In course 1, you implemented Logistic regression and Naive Bayes for sentiment analysis. Even though the two models performed very well on the dataset of tweets, they fail to catch any meaning beyond the meaning of words. For this you can use neural networks. In this assignment, you will write a program that uses a simple deep neural network to identify sentiment in text. By completing this assignment, you will: \n",
    "\n",
    "- Understand how you can design a neural network using tensorflow\n",
    "- Build and train a model\n",
    "- Use a binary cross-entropy loss function\n",
    "- Compute the accuracy of your model\n",
    "- Predict using your own input\n",
    "\n",
    "As you can tell, this model follows a similar structure to the one you previously implemented in the second course of this specialization. \n",
    "- Indeed most of the deep nets you will be implementing will have a similar structure. The only thing that changes is the model architecture, the inputs, and the outputs. In this assignment, you will first create the neural network layers from scratch using `numpy` to better understand what is going on. After this you will use the library `tensorflow` for building and training the model."
   ]
  },
  {
   "cell_type": "markdown",
   "id": "9ee4dd3f",
   "metadata": {},
   "source": [
    "<a name=\"1\"></a>\n",
    "## 1 - Import the Libraries\n",
    "\n",
    "Run the next cell to import the Python packages you'll need for this assignment.\n",
    "\n",
    "Note the `from utils import ...` line. This line imports the functions that were specifically written for this assignment. If you want to look at what these functions are, go to `File -> Open...` and open the `utils.py` file to have a look."
   ]
  },
  {
   "cell_type": "code",
   "execution_count": 1,
   "id": "06d551ca",
   "metadata": {
    "deletable": false,
    "editable": false,
    "tags": [
     "graded"
    ]
   },
   "outputs": [
    {
     "ename": "AttributeError",
     "evalue": "module 'numpy' has no attribute 'typeDict'",
     "output_type": "error",
     "traceback": [
      "\u001b[1;31m---------------------------------------------------------------------------\u001b[0m",
      "\u001b[1;31mAttributeError\u001b[0m                            Traceback (most recent call last)",
      "\u001b[1;32m~\\AppData\\Local\\Temp/ipykernel_61628/2908875204.py\u001b[0m in \u001b[0;36m<module>\u001b[1;34m\u001b[0m\n\u001b[0;32m      3\u001b[0m \u001b[1;33m\u001b[0m\u001b[0m\n\u001b[0;32m      4\u001b[0m \u001b[1;32mimport\u001b[0m \u001b[0mnumpy\u001b[0m \u001b[1;32mas\u001b[0m \u001b[0mnp\u001b[0m\u001b[1;33m\u001b[0m\u001b[1;33m\u001b[0m\u001b[0m\n\u001b[1;32m----> 5\u001b[1;33m \u001b[1;32mimport\u001b[0m \u001b[0mtensorflow\u001b[0m \u001b[1;32mas\u001b[0m \u001b[0mtf\u001b[0m\u001b[1;33m\u001b[0m\u001b[1;33m\u001b[0m\u001b[0m\n\u001b[0m\u001b[0;32m      6\u001b[0m \u001b[1;32mimport\u001b[0m \u001b[0mmatplotlib\u001b[0m\u001b[1;33m.\u001b[0m\u001b[0mpyplot\u001b[0m \u001b[1;32mas\u001b[0m \u001b[0mplt\u001b[0m\u001b[1;33m\u001b[0m\u001b[1;33m\u001b[0m\u001b[0m\n\u001b[0;32m      7\u001b[0m \u001b[1;32mfrom\u001b[0m \u001b[0msklearn\u001b[0m\u001b[1;33m.\u001b[0m\u001b[0mdecomposition\u001b[0m \u001b[1;32mimport\u001b[0m \u001b[0mPCA\u001b[0m\u001b[1;33m\u001b[0m\u001b[1;33m\u001b[0m\u001b[0m\n",
      "\u001b[1;32mc:\\Users\\omidt\\.conda\\envs\\test_env1\\lib\\site-packages\\tensorflow\\__init__.py\u001b[0m in \u001b[0;36m<module>\u001b[1;34m\u001b[0m\n\u001b[0;32m     36\u001b[0m \u001b[1;32mimport\u001b[0m \u001b[0mtyping\u001b[0m \u001b[1;32mas\u001b[0m \u001b[0m_typing\u001b[0m\u001b[1;33m\u001b[0m\u001b[1;33m\u001b[0m\u001b[0m\n\u001b[0;32m     37\u001b[0m \u001b[1;33m\u001b[0m\u001b[0m\n\u001b[1;32m---> 38\u001b[1;33m \u001b[1;32mfrom\u001b[0m \u001b[0mtensorflow\u001b[0m\u001b[1;33m.\u001b[0m\u001b[0mpython\u001b[0m\u001b[1;33m.\u001b[0m\u001b[0mtools\u001b[0m \u001b[1;32mimport\u001b[0m \u001b[0mmodule_util\u001b[0m \u001b[1;32mas\u001b[0m \u001b[0m_module_util\u001b[0m\u001b[1;33m\u001b[0m\u001b[1;33m\u001b[0m\u001b[0m\n\u001b[0m\u001b[0;32m     39\u001b[0m \u001b[1;32mfrom\u001b[0m \u001b[0mtensorflow\u001b[0m\u001b[1;33m.\u001b[0m\u001b[0mpython\u001b[0m\u001b[1;33m.\u001b[0m\u001b[0mutil\u001b[0m\u001b[1;33m.\u001b[0m\u001b[0mlazy_loader\u001b[0m \u001b[1;32mimport\u001b[0m \u001b[0mLazyLoader\u001b[0m \u001b[1;32mas\u001b[0m \u001b[0m_LazyLoader\u001b[0m\u001b[1;33m\u001b[0m\u001b[1;33m\u001b[0m\u001b[0m\n\u001b[0;32m     40\u001b[0m \u001b[1;33m\u001b[0m\u001b[0m\n",
      "\u001b[1;32mc:\\Users\\omidt\\.conda\\envs\\test_env1\\lib\\site-packages\\tensorflow\\python\\__init__.py\u001b[0m in \u001b[0;36m<module>\u001b[1;34m\u001b[0m\n\u001b[0;32m     43\u001b[0m \u001b[1;32mfrom\u001b[0m \u001b[0mtensorflow\u001b[0m\u001b[1;33m.\u001b[0m\u001b[0mpython\u001b[0m \u001b[1;32mimport\u001b[0m \u001b[0mdistribute\u001b[0m\u001b[1;33m\u001b[0m\u001b[1;33m\u001b[0m\u001b[0m\n\u001b[0;32m     44\u001b[0m \u001b[1;31m# from tensorflow.python import keras\u001b[0m\u001b[1;33m\u001b[0m\u001b[1;33m\u001b[0m\u001b[1;33m\u001b[0m\u001b[0m\n\u001b[1;32m---> 45\u001b[1;33m \u001b[1;32mfrom\u001b[0m \u001b[0mtensorflow\u001b[0m\u001b[1;33m.\u001b[0m\u001b[0mpython\u001b[0m\u001b[1;33m.\u001b[0m\u001b[0mfeature_column\u001b[0m \u001b[1;32mimport\u001b[0m \u001b[0mfeature_column_lib\u001b[0m \u001b[1;32mas\u001b[0m \u001b[0mfeature_column\u001b[0m\u001b[1;33m\u001b[0m\u001b[1;33m\u001b[0m\u001b[0m\n\u001b[0m\u001b[0;32m     46\u001b[0m \u001b[1;31m# from tensorflow.python.layers import layers\u001b[0m\u001b[1;33m\u001b[0m\u001b[1;33m\u001b[0m\u001b[1;33m\u001b[0m\u001b[0m\n\u001b[0;32m     47\u001b[0m \u001b[1;32mfrom\u001b[0m \u001b[0mtensorflow\u001b[0m\u001b[1;33m.\u001b[0m\u001b[0mpython\u001b[0m\u001b[1;33m.\u001b[0m\u001b[0mmodule\u001b[0m \u001b[1;32mimport\u001b[0m \u001b[0mmodule\u001b[0m\u001b[1;33m\u001b[0m\u001b[1;33m\u001b[0m\u001b[0m\n",
      "\u001b[1;32mc:\\Users\\omidt\\.conda\\envs\\test_env1\\lib\\site-packages\\tensorflow\\python\\feature_column\\feature_column_lib.py\u001b[0m in \u001b[0;36m<module>\u001b[1;34m\u001b[0m\n\u001b[0;32m     16\u001b[0m \u001b[1;33m\u001b[0m\u001b[0m\n\u001b[0;32m     17\u001b[0m \u001b[1;31m# pylint: disable=unused-import,line-too-long,wildcard-import,g-bad-import-order\u001b[0m\u001b[1;33m\u001b[0m\u001b[1;33m\u001b[0m\u001b[1;33m\u001b[0m\u001b[0m\n\u001b[1;32m---> 18\u001b[1;33m \u001b[1;32mfrom\u001b[0m \u001b[0mtensorflow\u001b[0m\u001b[1;33m.\u001b[0m\u001b[0mpython\u001b[0m\u001b[1;33m.\u001b[0m\u001b[0mfeature_column\u001b[0m\u001b[1;33m.\u001b[0m\u001b[0mfeature_column\u001b[0m \u001b[1;32mimport\u001b[0m \u001b[1;33m*\u001b[0m\u001b[1;33m\u001b[0m\u001b[1;33m\u001b[0m\u001b[0m\n\u001b[0m\u001b[0;32m     19\u001b[0m \u001b[1;32mfrom\u001b[0m \u001b[0mtensorflow\u001b[0m\u001b[1;33m.\u001b[0m\u001b[0mpython\u001b[0m\u001b[1;33m.\u001b[0m\u001b[0mfeature_column\u001b[0m\u001b[1;33m.\u001b[0m\u001b[0mfeature_column_v2\u001b[0m \u001b[1;32mimport\u001b[0m \u001b[1;33m*\u001b[0m\u001b[1;33m\u001b[0m\u001b[1;33m\u001b[0m\u001b[0m\n\u001b[0;32m     20\u001b[0m \u001b[1;32mfrom\u001b[0m \u001b[0mtensorflow\u001b[0m\u001b[1;33m.\u001b[0m\u001b[0mpython\u001b[0m\u001b[1;33m.\u001b[0m\u001b[0mfeature_column\u001b[0m\u001b[1;33m.\u001b[0m\u001b[0msequence_feature_column\u001b[0m \u001b[1;32mimport\u001b[0m \u001b[1;33m*\u001b[0m\u001b[1;33m\u001b[0m\u001b[1;33m\u001b[0m\u001b[0m\n",
      "\u001b[1;32mc:\\Users\\omidt\\.conda\\envs\\test_env1\\lib\\site-packages\\tensorflow\\python\\feature_column\\feature_column.py\u001b[0m in \u001b[0;36m<module>\u001b[1;34m\u001b[0m\n\u001b[0;32m    141\u001b[0m \u001b[1;32mfrom\u001b[0m \u001b[0mtensorflow\u001b[0m\u001b[1;33m.\u001b[0m\u001b[0mpython\u001b[0m\u001b[1;33m.\u001b[0m\u001b[0mframework\u001b[0m \u001b[1;32mimport\u001b[0m \u001b[0msparse_tensor\u001b[0m \u001b[1;32mas\u001b[0m \u001b[0msparse_tensor_lib\u001b[0m\u001b[1;33m\u001b[0m\u001b[1;33m\u001b[0m\u001b[0m\n\u001b[0;32m    142\u001b[0m \u001b[1;32mfrom\u001b[0m \u001b[0mtensorflow\u001b[0m\u001b[1;33m.\u001b[0m\u001b[0mpython\u001b[0m\u001b[1;33m.\u001b[0m\u001b[0mframework\u001b[0m \u001b[1;32mimport\u001b[0m \u001b[0mtensor_shape\u001b[0m\u001b[1;33m\u001b[0m\u001b[1;33m\u001b[0m\u001b[0m\n\u001b[1;32m--> 143\u001b[1;33m \u001b[1;32mfrom\u001b[0m \u001b[0mtensorflow\u001b[0m\u001b[1;33m.\u001b[0m\u001b[0mpython\u001b[0m\u001b[1;33m.\u001b[0m\u001b[0mlayers\u001b[0m \u001b[1;32mimport\u001b[0m \u001b[0mbase\u001b[0m\u001b[1;33m\u001b[0m\u001b[1;33m\u001b[0m\u001b[0m\n\u001b[0m\u001b[0;32m    144\u001b[0m \u001b[1;32mfrom\u001b[0m \u001b[0mtensorflow\u001b[0m\u001b[1;33m.\u001b[0m\u001b[0mpython\u001b[0m\u001b[1;33m.\u001b[0m\u001b[0mops\u001b[0m \u001b[1;32mimport\u001b[0m \u001b[0marray_ops\u001b[0m\u001b[1;33m\u001b[0m\u001b[1;33m\u001b[0m\u001b[0m\n\u001b[0;32m    145\u001b[0m \u001b[1;32mfrom\u001b[0m \u001b[0mtensorflow\u001b[0m\u001b[1;33m.\u001b[0m\u001b[0mpython\u001b[0m\u001b[1;33m.\u001b[0m\u001b[0mops\u001b[0m \u001b[1;32mimport\u001b[0m \u001b[0marray_ops_stack\u001b[0m\u001b[1;33m\u001b[0m\u001b[1;33m\u001b[0m\u001b[0m\n",
      "\u001b[1;32mc:\\Users\\omidt\\.conda\\envs\\test_env1\\lib\\site-packages\\tensorflow\\python\\layers\\base.py\u001b[0m in \u001b[0;36m<module>\u001b[1;34m\u001b[0m\n\u001b[0;32m     14\u001b[0m \u001b[1;31m# =============================================================================\u001b[0m\u001b[1;33m\u001b[0m\u001b[1;33m\u001b[0m\u001b[1;33m\u001b[0m\u001b[0m\n\u001b[0;32m     15\u001b[0m \u001b[1;34m\"\"\"Contains the base Layer class, from which all layers inherit.\"\"\"\u001b[0m\u001b[1;33m\u001b[0m\u001b[1;33m\u001b[0m\u001b[0m\n\u001b[1;32m---> 16\u001b[1;33m \u001b[1;32mfrom\u001b[0m \u001b[0mtensorflow\u001b[0m\u001b[1;33m.\u001b[0m\u001b[0mpython\u001b[0m\u001b[1;33m.\u001b[0m\u001b[0mkeras\u001b[0m\u001b[1;33m.\u001b[0m\u001b[0mlegacy_tf_layers\u001b[0m \u001b[1;32mimport\u001b[0m \u001b[0mbase\u001b[0m\u001b[1;33m\u001b[0m\u001b[1;33m\u001b[0m\u001b[0m\n\u001b[0m\u001b[0;32m     17\u001b[0m \u001b[1;33m\u001b[0m\u001b[0m\n\u001b[0;32m     18\u001b[0m \u001b[0mInputSpec\u001b[0m \u001b[1;33m=\u001b[0m \u001b[0mbase\u001b[0m\u001b[1;33m.\u001b[0m\u001b[0mInputSpec\u001b[0m\u001b[1;33m\u001b[0m\u001b[1;33m\u001b[0m\u001b[0m\n",
      "\u001b[1;32mc:\\Users\\omidt\\.conda\\envs\\test_env1\\lib\\site-packages\\tensorflow\\python\\keras\\__init__.py\u001b[0m in \u001b[0;36m<module>\u001b[1;34m\u001b[0m\n\u001b[0;32m     23\u001b[0m \u001b[1;33m\u001b[0m\u001b[0m\n\u001b[0;32m     24\u001b[0m \u001b[1;31m# See b/110718070#comment18 for more details about this import.\u001b[0m\u001b[1;33m\u001b[0m\u001b[1;33m\u001b[0m\u001b[1;33m\u001b[0m\u001b[0m\n\u001b[1;32m---> 25\u001b[1;33m \u001b[1;32mfrom\u001b[0m \u001b[0mtensorflow\u001b[0m\u001b[1;33m.\u001b[0m\u001b[0mpython\u001b[0m\u001b[1;33m.\u001b[0m\u001b[0mkeras\u001b[0m \u001b[1;32mimport\u001b[0m \u001b[0mmodels\u001b[0m\u001b[1;33m\u001b[0m\u001b[1;33m\u001b[0m\u001b[0m\n\u001b[0m\u001b[0;32m     26\u001b[0m \u001b[1;33m\u001b[0m\u001b[0m\n\u001b[0;32m     27\u001b[0m \u001b[1;32mfrom\u001b[0m \u001b[0mtensorflow\u001b[0m\u001b[1;33m.\u001b[0m\u001b[0mpython\u001b[0m\u001b[1;33m.\u001b[0m\u001b[0mkeras\u001b[0m\u001b[1;33m.\u001b[0m\u001b[0mengine\u001b[0m\u001b[1;33m.\u001b[0m\u001b[0minput_layer\u001b[0m \u001b[1;32mimport\u001b[0m \u001b[0mInput\u001b[0m\u001b[1;33m\u001b[0m\u001b[1;33m\u001b[0m\u001b[0m\n",
      "\u001b[1;32mc:\\Users\\omidt\\.conda\\envs\\test_env1\\lib\\site-packages\\tensorflow\\python\\keras\\models.py\u001b[0m in \u001b[0;36m<module>\u001b[1;34m\u001b[0m\n\u001b[0;32m     20\u001b[0m \u001b[1;32mfrom\u001b[0m \u001b[0mtensorflow\u001b[0m\u001b[1;33m.\u001b[0m\u001b[0mpython\u001b[0m\u001b[1;33m.\u001b[0m\u001b[0mkeras\u001b[0m \u001b[1;32mimport\u001b[0m \u001b[0mmetrics\u001b[0m \u001b[1;32mas\u001b[0m \u001b[0mmetrics_module\u001b[0m\u001b[1;33m\u001b[0m\u001b[1;33m\u001b[0m\u001b[0m\n\u001b[0;32m     21\u001b[0m \u001b[1;32mfrom\u001b[0m \u001b[0mtensorflow\u001b[0m\u001b[1;33m.\u001b[0m\u001b[0mpython\u001b[0m\u001b[1;33m.\u001b[0m\u001b[0mkeras\u001b[0m \u001b[1;32mimport\u001b[0m \u001b[0moptimizer_v1\u001b[0m\u001b[1;33m\u001b[0m\u001b[1;33m\u001b[0m\u001b[0m\n\u001b[1;32m---> 22\u001b[1;33m \u001b[1;32mfrom\u001b[0m \u001b[0mtensorflow\u001b[0m\u001b[1;33m.\u001b[0m\u001b[0mpython\u001b[0m\u001b[1;33m.\u001b[0m\u001b[0mkeras\u001b[0m\u001b[1;33m.\u001b[0m\u001b[0mengine\u001b[0m \u001b[1;32mimport\u001b[0m \u001b[0mfunctional\u001b[0m\u001b[1;33m\u001b[0m\u001b[1;33m\u001b[0m\u001b[0m\n\u001b[0m\u001b[0;32m     23\u001b[0m \u001b[1;32mfrom\u001b[0m \u001b[0mtensorflow\u001b[0m\u001b[1;33m.\u001b[0m\u001b[0mpython\u001b[0m\u001b[1;33m.\u001b[0m\u001b[0mkeras\u001b[0m\u001b[1;33m.\u001b[0m\u001b[0mengine\u001b[0m \u001b[1;32mimport\u001b[0m \u001b[0msequential\u001b[0m\u001b[1;33m\u001b[0m\u001b[1;33m\u001b[0m\u001b[0m\n\u001b[0;32m     24\u001b[0m \u001b[1;32mfrom\u001b[0m \u001b[0mtensorflow\u001b[0m\u001b[1;33m.\u001b[0m\u001b[0mpython\u001b[0m\u001b[1;33m.\u001b[0m\u001b[0mkeras\u001b[0m\u001b[1;33m.\u001b[0m\u001b[0mengine\u001b[0m \u001b[1;32mimport\u001b[0m \u001b[0mtraining\u001b[0m\u001b[1;33m\u001b[0m\u001b[1;33m\u001b[0m\u001b[0m\n",
      "\u001b[1;32mc:\\Users\\omidt\\.conda\\envs\\test_env1\\lib\\site-packages\\tensorflow\\python\\keras\\engine\\functional.py\u001b[0m in \u001b[0;36m<module>\u001b[1;34m\u001b[0m\n\u001b[0;32m     30\u001b[0m \u001b[1;32mfrom\u001b[0m \u001b[0mtensorflow\u001b[0m\u001b[1;33m.\u001b[0m\u001b[0mpython\u001b[0m\u001b[1;33m.\u001b[0m\u001b[0mkeras\u001b[0m\u001b[1;33m.\u001b[0m\u001b[0mengine\u001b[0m \u001b[1;32mimport\u001b[0m \u001b[0minput_spec\u001b[0m\u001b[1;33m\u001b[0m\u001b[1;33m\u001b[0m\u001b[0m\n\u001b[0;32m     31\u001b[0m \u001b[1;32mfrom\u001b[0m \u001b[0mtensorflow\u001b[0m\u001b[1;33m.\u001b[0m\u001b[0mpython\u001b[0m\u001b[1;33m.\u001b[0m\u001b[0mkeras\u001b[0m\u001b[1;33m.\u001b[0m\u001b[0mengine\u001b[0m \u001b[1;32mimport\u001b[0m \u001b[0mnode\u001b[0m \u001b[1;32mas\u001b[0m \u001b[0mnode_module\u001b[0m\u001b[1;33m\u001b[0m\u001b[1;33m\u001b[0m\u001b[0m\n\u001b[1;32m---> 32\u001b[1;33m \u001b[1;32mfrom\u001b[0m \u001b[0mtensorflow\u001b[0m\u001b[1;33m.\u001b[0m\u001b[0mpython\u001b[0m\u001b[1;33m.\u001b[0m\u001b[0mkeras\u001b[0m\u001b[1;33m.\u001b[0m\u001b[0mengine\u001b[0m \u001b[1;32mimport\u001b[0m \u001b[0mtraining\u001b[0m \u001b[1;32mas\u001b[0m \u001b[0mtraining_lib\u001b[0m\u001b[1;33m\u001b[0m\u001b[1;33m\u001b[0m\u001b[0m\n\u001b[0m\u001b[0;32m     33\u001b[0m \u001b[1;32mfrom\u001b[0m \u001b[0mtensorflow\u001b[0m\u001b[1;33m.\u001b[0m\u001b[0mpython\u001b[0m\u001b[1;33m.\u001b[0m\u001b[0mkeras\u001b[0m\u001b[1;33m.\u001b[0m\u001b[0mengine\u001b[0m \u001b[1;32mimport\u001b[0m \u001b[0mtraining_utils\u001b[0m\u001b[1;33m\u001b[0m\u001b[1;33m\u001b[0m\u001b[0m\n\u001b[0;32m     34\u001b[0m \u001b[1;32mfrom\u001b[0m \u001b[0mtensorflow\u001b[0m\u001b[1;33m.\u001b[0m\u001b[0mpython\u001b[0m\u001b[1;33m.\u001b[0m\u001b[0mkeras\u001b[0m\u001b[1;33m.\u001b[0m\u001b[0msaving\u001b[0m\u001b[1;33m.\u001b[0m\u001b[0msaved_model\u001b[0m \u001b[1;32mimport\u001b[0m \u001b[0mnetwork_serialization\u001b[0m\u001b[1;33m\u001b[0m\u001b[1;33m\u001b[0m\u001b[0m\n",
      "\u001b[1;32mc:\\Users\\omidt\\.conda\\envs\\test_env1\\lib\\site-packages\\tensorflow\\python\\keras\\engine\\training.py\u001b[0m in \u001b[0;36m<module>\u001b[1;34m\u001b[0m\n\u001b[0;32m     51\u001b[0m \u001b[1;32mfrom\u001b[0m \u001b[0mtensorflow\u001b[0m\u001b[1;33m.\u001b[0m\u001b[0mpython\u001b[0m\u001b[1;33m.\u001b[0m\u001b[0mkeras\u001b[0m\u001b[1;33m.\u001b[0m\u001b[0mmixed_precision\u001b[0m \u001b[1;32mimport\u001b[0m \u001b[0mloss_scale_optimizer\u001b[0m \u001b[1;32mas\u001b[0m \u001b[0mlso\u001b[0m\u001b[1;33m\u001b[0m\u001b[1;33m\u001b[0m\u001b[0m\n\u001b[0;32m     52\u001b[0m \u001b[1;32mfrom\u001b[0m \u001b[0mtensorflow\u001b[0m\u001b[1;33m.\u001b[0m\u001b[0mpython\u001b[0m\u001b[1;33m.\u001b[0m\u001b[0mkeras\u001b[0m\u001b[1;33m.\u001b[0m\u001b[0mmixed_precision\u001b[0m \u001b[1;32mimport\u001b[0m \u001b[0mpolicy\u001b[0m\u001b[1;33m\u001b[0m\u001b[1;33m\u001b[0m\u001b[0m\n\u001b[1;32m---> 53\u001b[1;33m \u001b[1;32mfrom\u001b[0m \u001b[0mtensorflow\u001b[0m\u001b[1;33m.\u001b[0m\u001b[0mpython\u001b[0m\u001b[1;33m.\u001b[0m\u001b[0mkeras\u001b[0m\u001b[1;33m.\u001b[0m\u001b[0msaving\u001b[0m \u001b[1;32mimport\u001b[0m \u001b[0mhdf5_format\u001b[0m\u001b[1;33m\u001b[0m\u001b[1;33m\u001b[0m\u001b[0m\n\u001b[0m\u001b[0;32m     54\u001b[0m \u001b[1;32mfrom\u001b[0m \u001b[0mtensorflow\u001b[0m\u001b[1;33m.\u001b[0m\u001b[0mpython\u001b[0m\u001b[1;33m.\u001b[0m\u001b[0mkeras\u001b[0m\u001b[1;33m.\u001b[0m\u001b[0msaving\u001b[0m \u001b[1;32mimport\u001b[0m \u001b[0msave\u001b[0m\u001b[1;33m\u001b[0m\u001b[1;33m\u001b[0m\u001b[0m\n\u001b[0;32m     55\u001b[0m \u001b[1;32mfrom\u001b[0m \u001b[0mtensorflow\u001b[0m\u001b[1;33m.\u001b[0m\u001b[0mpython\u001b[0m\u001b[1;33m.\u001b[0m\u001b[0mkeras\u001b[0m\u001b[1;33m.\u001b[0m\u001b[0msaving\u001b[0m \u001b[1;32mimport\u001b[0m \u001b[0msaving_utils\u001b[0m\u001b[1;33m\u001b[0m\u001b[1;33m\u001b[0m\u001b[0m\n",
      "\u001b[1;32mc:\\Users\\omidt\\.conda\\envs\\test_env1\\lib\\site-packages\\tensorflow\\python\\keras\\saving\\hdf5_format.py\u001b[0m in \u001b[0;36m<module>\u001b[1;34m\u001b[0m\n\u001b[0;32m     35\u001b[0m \u001b[1;31m# pylint: disable=g-import-not-at-top\u001b[0m\u001b[1;33m\u001b[0m\u001b[1;33m\u001b[0m\u001b[1;33m\u001b[0m\u001b[0m\n\u001b[0;32m     36\u001b[0m \u001b[1;32mtry\u001b[0m\u001b[1;33m:\u001b[0m\u001b[1;33m\u001b[0m\u001b[1;33m\u001b[0m\u001b[0m\n\u001b[1;32m---> 37\u001b[1;33m   \u001b[1;32mimport\u001b[0m \u001b[0mh5py\u001b[0m\u001b[1;33m\u001b[0m\u001b[1;33m\u001b[0m\u001b[0m\n\u001b[0m\u001b[0;32m     38\u001b[0m   \u001b[0mHDF5_OBJECT_HEADER_LIMIT\u001b[0m \u001b[1;33m=\u001b[0m \u001b[1;36m64512\u001b[0m\u001b[1;33m\u001b[0m\u001b[1;33m\u001b[0m\u001b[0m\n\u001b[0;32m     39\u001b[0m \u001b[1;32mexcept\u001b[0m \u001b[0mImportError\u001b[0m\u001b[1;33m:\u001b[0m\u001b[1;33m\u001b[0m\u001b[1;33m\u001b[0m\u001b[0m\n",
      "\u001b[1;32mc:\\Users\\omidt\\.conda\\envs\\test_env1\\lib\\site-packages\\h5py\\__init__.py\u001b[0m in \u001b[0;36m<module>\u001b[1;34m\u001b[0m\n\u001b[0;32m     44\u001b[0m \u001b[0m_errors\u001b[0m\u001b[1;33m.\u001b[0m\u001b[0msilence_errors\u001b[0m\u001b[1;33m(\u001b[0m\u001b[1;33m)\u001b[0m\u001b[1;33m\u001b[0m\u001b[1;33m\u001b[0m\u001b[0m\n\u001b[0;32m     45\u001b[0m \u001b[1;33m\u001b[0m\u001b[0m\n\u001b[1;32m---> 46\u001b[1;33m \u001b[1;32mfrom\u001b[0m \u001b[1;33m.\u001b[0m\u001b[0m_conv\u001b[0m \u001b[1;32mimport\u001b[0m \u001b[0mregister_converters\u001b[0m \u001b[1;32mas\u001b[0m \u001b[0m_register_converters\u001b[0m\u001b[1;33m\u001b[0m\u001b[1;33m\u001b[0m\u001b[0m\n\u001b[0m\u001b[0;32m     47\u001b[0m \u001b[0m_register_converters\u001b[0m\u001b[1;33m(\u001b[0m\u001b[1;33m)\u001b[0m\u001b[1;33m\u001b[0m\u001b[1;33m\u001b[0m\u001b[0m\n\u001b[0;32m     48\u001b[0m \u001b[1;33m\u001b[0m\u001b[0m\n",
      "\u001b[1;32mh5py\\h5t.pxd\u001b[0m in \u001b[0;36minit h5py._conv\u001b[1;34m()\u001b[0m\n",
      "\u001b[1;32mh5py\\h5t.pyx\u001b[0m in \u001b[0;36minit h5py.h5t\u001b[1;34m()\u001b[0m\n",
      "\u001b[1;32mc:\\Users\\omidt\\.conda\\envs\\test_env1\\lib\\site-packages\\numpy\\__init__.py\u001b[0m in \u001b[0;36m__getattr__\u001b[1;34m(attr)\u001b[0m\n\u001b[0;32m    318\u001b[0m             \u001b[1;32mreturn\u001b[0m \u001b[0mTester\u001b[0m\u001b[1;33m\u001b[0m\u001b[1;33m\u001b[0m\u001b[0m\n\u001b[0;32m    319\u001b[0m \u001b[1;33m\u001b[0m\u001b[0m\n\u001b[1;32m--> 320\u001b[1;33m         raise AttributeError(\"module {!r} has no attribute \"\n\u001b[0m\u001b[0;32m    321\u001b[0m                              \"{!r}\".format(__name__, attr))\n\u001b[0;32m    322\u001b[0m \u001b[1;33m\u001b[0m\u001b[0m\n",
      "\u001b[1;31mAttributeError\u001b[0m: module 'numpy' has no attribute 'typeDict'"
     ]
    }
   ],
   "source": [
    "import os\n",
    "os.environ['TF_CPP_MIN_LOG_LEVEL'] = '3'\n",
    "\n",
    "import numpy as np\n",
    "import tensorflow as tf\n",
    "import matplotlib.pyplot as plt\n",
    "from sklearn.decomposition import PCA\n",
    "\n",
    "from utils import load_tweets, process_tweet\n",
    "\n",
    "%matplotlib inline"
   ]
  },
  {
   "cell_type": "code",
   "execution_count": 60,
   "id": "de4ac254",
   "metadata": {
    "deletable": false,
    "editable": false
   },
   "outputs": [],
   "source": [
    "import w1_unittest"
   ]
  },
  {
   "cell_type": "markdown",
   "id": "8dbe1be4",
   "metadata": {},
   "source": [
    "<a name=\"2\"></a>\n",
    "## 2 - Import the Data\n",
    "\n",
    "<a name=\"2-1\"></a>\n",
    "### 2.1 - Load and split the Data\n",
    "\n",
    "- Import the positive and negative tweets\n",
    "- Have a look at some examples of the tweets\n",
    "- Split the data into the training and validation sets\n",
    "- Create labels for the data"
   ]
  },
  {
   "cell_type": "code",
   "execution_count": 61,
   "id": "57670f95",
   "metadata": {
    "deletable": false,
    "editable": false,
    "tags": [
     "graded"
    ]
   },
   "outputs": [
    {
     "name": "stdout",
     "output_type": "stream",
     "text": [
      "The number of positive tweets: 5000\n",
      "The number of negative tweets: 5000\n"
     ]
    }
   ],
   "source": [
    "# Load positive and negative tweets\n",
    "all_positive_tweets, all_negative_tweets = load_tweets()\n",
    "\n",
    "# View the total number of positive and negative tweets.\n",
    "print(f\"The number of positive tweets: {len(all_positive_tweets)}\")\n",
    "print(f\"The number of negative tweets: {len(all_negative_tweets)}\")"
   ]
  },
  {
   "cell_type": "code",
   "execution_count": 62,
   "id": "e8f6d1eb",
   "metadata": {},
   "outputs": [
    {
     "data": {
      "text/plain": [
       "(['#FollowFriday @France_Inte @PKuchly57 @Milipol_Paris for being top engaged members in my community this week :)',\n",
       "  '@Lamb2ja Hey James! How odd :/ Please call our Contact Centre on 02392441234 and we will be able to assist you :) Many thanks!'],\n",
       " ['hopeless for tmr :(',\n",
       "  \"Everything in the kids section of IKEA is so cute. Shame I'm nearly 19 in 2 months :(\"])"
      ]
     },
     "execution_count": 62,
     "metadata": {},
     "output_type": "execute_result"
    }
   ],
   "source": [
    "all_positive_tweets[:2], all_negative_tweets[:2]"
   ]
  },
  {
   "cell_type": "markdown",
   "id": "e7b47d9d",
   "metadata": {},
   "source": [
    "Now you can have a look at some examples of tweets. "
   ]
  },
  {
   "cell_type": "code",
   "execution_count": 63,
   "id": "676f8aca",
   "metadata": {
    "deletable": false,
    "editable": false,
    "tags": [
     "graded"
    ]
   },
   "outputs": [
    {
     "name": "stdout",
     "output_type": "stream",
     "text": [
      "Positive tweet example:\n",
      "yeaaaah yippppy!!!  my accnt verified rqst has succeed got a blue tick mark on my fb profile :) in 15 days\n",
      "\n",
      "Negative tweet example:\n",
      "Dang starting next week I have \"work\" :(\n"
     ]
    }
   ],
   "source": [
    "# Change the tweet number to any number between 0 and 4999 to see a different pair of tweets.\n",
    "tweet_number = 4\n",
    "print('Positive tweet example:')\n",
    "print(all_positive_tweets[tweet_number])\n",
    "print('\\nNegative tweet example:')\n",
    "print(all_negative_tweets[tweet_number])"
   ]
  },
  {
   "cell_type": "markdown",
   "id": "2d07832d",
   "metadata": {},
   "source": [
    "Here you will process the tweets. This part of the code has been implemented for you.  The processing includes:\n",
    "\n",
    "- tokenizing the sentence (splitting to words)\n",
    "- removing stock market tickers like $GE\n",
    "- removing old style retweet text \"RT\"\n",
    "- removing hyperlinks\n",
    "- removing hashtags\n",
    "- lowercasing\n",
    "- removing stopwords and punctuation\n",
    "- stemming\n",
    "\n",
    "Some of these things are general steps you would do when processing any text, some others are very \"tweet-specific\". The details of the process_tweet function are available in utils.py file"
   ]
  },
  {
   "cell_type": "code",
   "execution_count": 64,
   "id": "a64dc904",
   "metadata": {
    "deletable": false,
    "editable": false,
    "tags": [
     "graded"
    ]
   },
   "outputs": [],
   "source": [
    "# Process all the tweets: tokenize the string, remove tickers, handles, punctuation and stopwords, stem the words\n",
    "all_positive_tweets_processed = [process_tweet(tweet) for tweet in all_positive_tweets]\n",
    "all_negative_tweets_processed = [process_tweet(tweet) for tweet in all_negative_tweets]"
   ]
  },
  {
   "cell_type": "markdown",
   "id": "a7f60d28",
   "metadata": {},
   "source": [
    "Now you can have a look at some examples of how the tweets look like after being processed."
   ]
  },
  {
   "cell_type": "code",
   "execution_count": 65,
   "id": "eab3b775",
   "metadata": {
    "deletable": false,
    "editable": false,
    "tags": [
     "graded"
    ]
   },
   "outputs": [
    {
     "name": "stdout",
     "output_type": "stream",
     "text": [
      "Positive processed tweet example:\n",
      "['yeaaah', 'yipppy', 'accnt', 'verify', 'rqst', 'succeed', 'get', 'blue', 'tick', 'mark', 'fb', 'profile', ':)', '15', 'day']\n",
      "\n",
      "Negative processed tweet example:\n",
      "['dang', 'start', 'next', 'week', 'work', ':(']\n"
     ]
    }
   ],
   "source": [
    "# Change the tweet number to any number between 0 and 4999 to see a different pair of tweets.\n",
    "tweet_number = 4\n",
    "print('Positive processed tweet example:')\n",
    "print(all_positive_tweets_processed[tweet_number])\n",
    "print('\\nNegative processed tweet example:')\n",
    "print(all_negative_tweets_processed[tweet_number])"
   ]
  },
  {
   "cell_type": "markdown",
   "id": "4766db90",
   "metadata": {},
   "source": [
    "Next, you split the tweets into the training and validation datasets. For this example you can use 80 % of the data for training and 20 % of the data for validation."
   ]
  },
  {
   "cell_type": "code",
   "execution_count": 66,
   "id": "ed51b361",
   "metadata": {
    "deletable": false,
    "editable": false,
    "tags": [
     "graded"
    ]
   },
   "outputs": [
    {
     "name": "stdout",
     "output_type": "stream",
     "text": [
      "There are 8000 sentences for training.\n",
      "There are 8000 labels for training.\n",
      "\n",
      "There are 2000 sentences for validation.\n",
      "There are 2000 labels for validation.\n"
     ]
    }
   ],
   "source": [
    "# Split positive set into validation and training\n",
    "val_pos = all_positive_tweets_processed[4000:]\n",
    "train_pos = all_positive_tweets_processed[:4000]\n",
    "# Split negative set into validation and training\n",
    "val_neg = all_negative_tweets_processed[4000:]\n",
    "train_neg = all_negative_tweets_processed[:4000]\n",
    "\n",
    "train_x = train_pos + train_neg \n",
    "val_x  = val_pos + val_neg\n",
    "\n",
    "# Set the labels for the training and validation set (1 for positive, 0 for negative)\n",
    "train_y = [[1] for _ in train_pos] + [[0] for _ in train_neg]\n",
    "val_y  = [[1] for _ in val_pos] + [[0] for _ in val_neg]\n",
    "\n",
    "print(f\"There are {len(train_x)} sentences for training.\")\n",
    "print(f\"There are {len(train_y)} labels for training.\\n\")\n",
    "print(f\"There are {len(val_x)} sentences for validation.\")\n",
    "print(f\"There are {len(val_y)} labels for validation.\")"
   ]
  },
  {
   "cell_type": "markdown",
   "id": "5eff3b5f",
   "metadata": {},
   "source": [
    "<a name=\"2-2\"></a>\n",
    "### 2.2 - Build the Vocabulary\n",
    "\n",
    "Now build the vocabulary.\n",
    "- Map each word in each tweet to an integer (an \"index\"). \n",
    "- Note that you will build the vocabulary based on the training data. \n",
    "- To do so, you will assign an index to every word by iterating over your training set.\n",
    "\n",
    "The vocabulary will also include some special tokens\n",
    "- `''`: padding\n",
    "- `'[UNK]'`: a token representing any word that is not in the vocabulary."
   ]
  },
  {
   "cell_type": "markdown",
   "id": "db38f3bf",
   "metadata": {},
   "source": [
    "<a name=\"ex-1\"></a>\n",
    "### Exercise 1 - build_vocabulary\n",
    "Build the vocabulary from all of the tweets in the training set."
   ]
  },
  {
   "cell_type": "code",
   "execution_count": 67,
   "id": "6b92a065",
   "metadata": {
    "deletable": false,
    "tags": [
     "graded"
    ]
   },
   "outputs": [
    {
     "name": "stdout",
     "output_type": "stream",
     "text": [
      "Vocabulary contains 9544 words\n",
      "\n",
      "{'': 0, '[UNK]': 1, '(-:': 2, '(:': 3, '):': 4, '--->': 5, '-->': 6, '->': 7, '.\\n.': 8, '.\\n.\\n.': 9, '. .': 10, '. . .': 11, '. ..': 12, '. ...': 13, '..': 14, '...': 15, '0': 16, '0-100': 17, '0-2': 18, '0.001': 19, '0.7': 20, '00': 21, '000': 22, '00128835': 23, '009': 24, '00962778381': 25, '01282': 26, '01482': 27, '01:15': 28, '01:16': 29, '02079': 30, '02392441234': 31, '0272 3306': 32, '0330 333 7234': 33, '0345': 34, '05.15': 35, '07:02': 36, '07:17': 37, '07:24': 38, '07:25': 39, '07:32': 40, '07:34': 41, '08': 42, '0878 0388': 43, '08962464174': 44, '0ne': 45, '1': 46, '1,300': 47, '1,500': 48, '1-0': 49, '1.300': 50, '1.8': 51, '1/2': 52, '1/5': 53, '10': 54, '10,000': 55, '10-20': 56, '10.3': 57, '10.30': 58, '10/10': 59, '100': 60, '1000': 61, '100reasonstovisitmombasa': 62, '101': 63, '1033': 64, '10:16': 65, '10:17': 66, '10:30': 67, '10:59': 68, '10am': 69, '10th': 70, '11': 71, '11.00': 72, '1100d': 73, '111': 74, '1190': 75, '11:00': 76, '11:11': 77, '11:15': 78, '11:25': 79, '11am': 80, '11pm': 81, '12': 82, '12.00': 83, '120': 84, '12000': 85, '121st': 86, '123': 87, '12pm': 88, '12th': 89, '13': 90, '13.99': 91, '132': 92, '13glodyysbro': 93, '13m': 94, '13th': 95, '14': 96, '1400': 97, '144p': 98, '14518344': 99, '15': 100, '15-24': 101, '15.90': 102, '150': 103, '150-160': 104, '15000': 105, '156': 106, '15ml': 107, '15th': 108, '16': 109, '16.20': 110, '16/17': 111, '1645': 112, '17': 113, '17th': 114, '18': 115, '18.99': 116, '18c': 117, '18th': 118, '19': 119, '1900': 120, '190cr': 121, '1948': 122, '1982': 123, '19:30': 124, '19th': 125, '1:30': 126, '1d': 127, '1dfor': 128, '1hr': 129, '1k': 130, '1ly': 131, '1month': 132, '1nonly': 133, '1pm': 134, '1st': 135, '1tb': 136, '2': 137, '2-0': 138, '2-3': 139, '2-4': 140, '2.0': 141, '2.25': 142, '2/2': 143, '2/3': 144, '2/4': 145, '20': 146, '200': 147, '200.000': 148, '2009': 149, '2013': 150, '2015': 151, '2015kenya': 152, '2016': 153, '2017': 154, '20mins': 155, '20th': 156, '21': 157, '21pics': 158, '21st': 159, '22': 160, '22.05': 161, '221b': 162, '22pics': 163, '22stans': 164, '23': 165, '23rd': 166, '24': 167, '24/25': 168, '24/7': 169, '24th': 170, '25': 171, '2500k': 172, '25x30': 173, '26': 174, '26th': 175, '26weeks': 176, '27': 177, '27july': 178, '28': 179, '28th': 180, '29th': 181, '2:30': 182, '2am': 183, '2ban': 184, '2cope': 185, '2emt': 186, '2fm': 187, '2hours': 188, '2hrs': 189, '2ish': 190, '2k': 191, '2k15': 192, '2nd': 193, '2ne1': 194, '2nite': 195, '2supply': 196, '2weeks': 197, '2weeksdontmissittoomuch': 198, '3': 199, '3-0': 200, '3.4': 201, '3.5': 202, '3/10': 203, '30': 204, '30.000': 205, '300': 206, '3000': 207, '30july': 208, '30th': 209, '31': 210, '316': 211, '317': 212, '318': 213, '319': 214, '31st': 215, '320': 216, '321': 217, '322': 218, '323': 219, '324': 220, '32429': 221, '325': 222, '325.000': 223, '326': 224, '327': 225, '328': 226, '329': 227, '33': 228, '330': 229, '331': 230, '332': 231, '333': 232, '333505': 233, '334': 234, '335': 235, '336': 236, '337': 237, '338': 238, '339': 239, '34': 240, '340': 241, '341': 242, '342': 243, '343': 244, '344': 245, '345': 246, '346': 247, '347': 248, '348': 249, '349': 250, '35': 251, '350': 252, '39': 253, '3:02': 254, '3:03': 255, '3:30': 256, '3:33': 257, '3a2ad': 258, '3am': 259, '3d': 260, '3g': 261, '3k': 262, '3points': 263, '3rd': 264, '3weeks': 265, '3wks': 266, '4': 267, '4-5': 268, '4-6': 269, '4.4+': 270, '4/5': 271, '40': 272, '4000': 273, '404': 274, '40mm': 275, '42': 276, '423': 277, '43': 278, '430': 279, '444': 280, '45': 281, '452096': 282, '452b': 283, '454': 284, '45gameplay': 285, '468': 286, '47': 287, '477': 288, '479': 289, '48': 290, '482': 291, '48id': 292, '490': 293, '4:13': 294, '4:15': 295, '4:18': 296, '4:20': 297, '4am': 298, '4aspot': 299, '4like': 300, '4me': 301, '4my': 302, '4th': 303, '4thwin': 304, '4yrs': 305, '5': 306, '50': 307, '50.000': 308, '500': 309, '506': 310, '50cents': 311, '50europe': 312, '50notifications': 313, '50p': 314, '51': 315, '510': 316, '547': 317, '565': 318, '58543': 319, '5878e503': 320, '59': 321, '590': 322, '5:08': 323, '5:30': 324, '5am': 325, '5ever': 326, '5h': 327, '5min': 328, '5minute': 329, '5pm': 330, '5sos': 331, '5words': 332, '6': 333, '6-5': 334, '60': 335, '600': 336, '609': 337, '61': 338, '62': 339, '626-430-8715': 340, '63': 341, '64': 342, '640': 343, '642': 344, '645k': 345, '65': 346, '677': 347, '68': 348, '697': 349, '6:01': 350, '6:15': 351, '6:30': 352, '6g': 353, '6gb': 354, '6pm': 355, '6th': 356, '6yrs': 357, '7': 358, '7-3': 359, '7.30-': 360, '7/29': 361, '70': 362, '700': 363, '70685': 364, '72': 365, '73': 366, '737bigatingconcert': 367, '737gold': 368, '74': 369, '748292': 370, '75x': 371, '76': 372, '765': 373, '76x': 374, '777x': 375, '78x': 376, '797': 377, '79x': 378, '7:40': 379, '7am': 380, '7df89150': 381, '7df9e60a': 382, '7elw': 383, '7th': 384, '8': 385, '8)': 386, '8.40': 387, '80': 388, '805': 389, '80x': 390, '823': 391, '838': 392, '85552': 393, '87': 394, '87.7': 395, '873': 396, '874': 397, '877': 398, '886': 399, '89.9': 400, '891': 401, '8p': 402, '8th': 403, '9': 404, '9-11': 405, '9/11': 406, '90210': 407, '91': 408, '911': 409, '95': 410, '975-580-': 411, '98': 412, '98fm': 413, '9:00': 414, '9:15': 415, '9:25': 416, '9:30': 417, '9:48': 418, '9am': 419, '9bis': 420, '9dg': 421, '9muses': 422, '9pm': 423, \":'(\": 424, \":')\": 425, \":'D\": 426, ':(': 427, ':)': 428, ':-(': 429, ':-)': 430, ':-D': 431, ':/': 432, '::': 433, ':D': 434, ':P': 435, ':\\\\': 436, ':p': 437, ':|': 438, ';(': 439, ';)': 440, ';-)': 441, ';p': 442, ';}': 443, '<---': 444, '</3': 445, '<3': 446, '=:': 447, '=D': 448, '>:(': 449, '>:)': 450, '>:-(': 451, '>:D': 452, '@artofsleepingin': 453, '@commonculture': 454, '@connorfranta': 455, '@juliettemaughan': 456, '@the': 457, '@vauk': 458, 'D:': 459, 'D;': 460, '_15': 461, '_5_final_final_final': 462, '__': 463, '___': 464, 'a4': 465, 'a5': 466, 'a6': 467, 'a7la': 468, 'a9': 469, 'aa': 470, 'aaa': 471, 'aaaaaaaaah': 472, 'aaaahhh': 473, 'aaaand': 474, 'aaages': 475, 'aaahh': 476, 'aaahhh': 477, 'aah': 478, 'aahhh': 479, 'aaj': 480, 'aameen': 481, 'aapke': 482, 'aaron': 483, 'aarww': 484, 'aayegi': 485, 'ab': 486, 'abandon': 487, 'abby': 488, 'abby.can': 489, 'abbymill': 490, 'abes': 491, 'abhi': 492, 'abi': 493, 'abit': 494, 'able': 495, 'abligaverins': 496, 'aboard': 497, 'abouty': 498, 'abroad': 499, 'abrupt': 500, 'abs': 501, 'abscess': 502, 'absent': 503, 'absolute': 504, 'absolutely': 505, 'abstinence': 506, 'abt': 507, 'abu': 508, 'abusive': 509, 'abuti': 510, 'ac': 511, 'academic': 512, 'acads': 513, 'acc': 514, 'accent': 515, 'accept': 516, 'accepted': 517, 'access': 518, 'accessory': 519, 'accident': 520, 'accidentally': 521, 'accnt': 522, 'accommodate': 523, 'accord': 524, 'account': 525, 'accs': 526, 'accumulate': 527, 'accurate': 528, 'ace': 529, 'acha': 530, 'ache': 531, 'achebe': 532, 'achi': 533, 'achieve': 534, 'acid': 535, 'ack': 536, 'acne': 537, 'acorn': 538, 'acoustic': 539, 'across': 540, 'act': 541, 'action': 542, 'activation': 543, 'active': 544, 'activity': 545, 'actor': 546, 'actress': 547, 'actual': 548, 'actually': 549, 'actuallythough': 550, 'ad': 551, 'ada': 552, 'adam': 553, 'add': 554, 'addict': 555, 'addicted-to-analsex': 556, 'addiction': 557, 'addictive': 558, 'addition': 559, 'addme': 560, 'addmeonbbm': 561, 'addmeonsnapchat': 562, 'address': 563, 'addressing': 564, 'adf': 565, 'adidas': 566, 'adios': 567, 'adis': 568, 'aditya': 569, 'admin': 570, 'admin_myung': 571, 'adolf': 572, 'adorable': 573, 'adore': 574, 'adrian': 575, 'adu': 576, 'adult': 577, 'advaddict': 578, 'advance': 579, 'advanced': 580, 'adventure': 581, 'advert': 582, 'advice': 583, 'advisory': 584, 'ae': 585, 'aerial': 586, 'af': 587, 'afang': 588, 'aff': 589, 'affaraid': 590, 'affect': 591, 'affiliate': 592, 'afford': 593, 'afghanistn': 594, 'aflblueshawks': 595, 'afraid': 596, 'africa': 597, 'afridi': 598, 'afropunk': 599, 'aftenoon': 600, 'after-work': 601, 'afterall': 602, 'afternon': 603, 'afternoon': 604, 'afterschool': 605, 'afterwards': 606, 'aftie': 607, 'agaaain': 608, 'again.ensoi': 609, 'agains': 610, 'agayhippiehippy': 611, 'age': 612, 'agency': 613, 'agent': 614, 'agesss': 615, 'agh': 616, 'agile': 617, 'agnes': 618, 'agnezmo': 619, 'ago': 620, 'agonising': 621, 'agover': 622, 'agree': 623, 'agrees': 624, 'ah': 625, 'aha': 626, 'ahah': 627, 'ahaha': 628, 'ahahah': 629, 'ahead': 630, 'ahh': 631, 'ahhh': 632, 'ahouré': 633, 'ahs': 634, 'ai': 635, 'aich': 636, 'aidzin': 637, 'aigooo': 638, 'aim': 639, \"ain't\": 640, 'aing': 641, 'aint': 642, 'air': 643, 'airdroid': 644, 'airecs': 645, 'airfields': 646, 'airforce': 647, 'airline': 648, 'airport': 649, 'aishhh': 650, 'aisyah': 651, 'aisyhhh': 652, 'aj': 653, 'aja': 654, 'akana': 655, 'aki': 656, 'ako': 657, 'akon': 658, 'akong': 659, 'akooo': 660, 'akshaymostlovedsuperstarever': 661, 'aku': 662, 'akua': 663, 'al': 664, 'al_master_band': 665, 'alansmithpart': 666, 'alarm': 667, 'albeit': 668, 'alberta': 669, 'album': 670, 'alchemist': 671, 'alcohol': 672, 'aldub': 673, 'aleks': 674, 'alert': 675, 'alex': 676, \"alex's\": 677, 'alhamdulillah': 678, 'alhamdullilah': 679, 'alice': 680, 'alien': 681, 'alienthought': 682, 'aling': 683, 'alison': 684, 'alive': 685, 'alix': 686, 'all-clear': 687, 'all-time': 688, 'allah': 689, 'allergic': 690, 'allgoodthingske': 691, 'alliteration': 692, 'alll': 693, 'allow': 694, 'allowance': 695, 'alls': 696, 'alma': 697, 'almost': 698, 'alone': 699, 'along': 700, 'alot': 701, 'alreaddyyy': 702, 'already': 703, 'alright': 704, 'also': 705, 'alter': 706, 'alternative': 707, 'alternatively': 708, 'although': 709, 'aluminiumfree': 710, 'alumnus': 711, 'alunageorge': 712, 'alvadhaau': 713, 'always': 714, 'amargolonnard': 715, 'amassiveoverdoseofships': 716, 'amat': 717, 'amateur': 718, 'amaze': 719, 'amazed': 720, 'amazing': 721, 'amazingly': 722, 'amazon': 723, 'amber': 724, 'ambrose': 725, 'ambs': 726, 'ameen': 727, 'amelia': 728, 'amen': 729, 'america': 730, 'american': 731, 'americano': 732, 'ami': 733, 'amie': 734, 'amiibo': 735, 'amin': 736, 'aminn': 737, 'aminormalyet': 738, 'amm': 739, 'amnotness': 740, 'among': 741, 'amount': 742, 'ampsha': 743, 'amsterdam': 744, 'amtired': 745, 'amusement': 746, 'amy': 747, 'amyjackson': 748, 'an': 749, 'anal': 750, 'analyze': 751, 'anarchy': 752, 'anatomy': 753, 'andals': 754, 'andaming': 755, 'andar': 756, 'andre': 757, 'andrew': 758, 'android': 759, 'andy': 760, 'anesthesia': 761, 'ang': 762, 'angeke': 763, 'angel': 764, 'angelica': 765, 'angelo': 766, \"angelo's\": 767, 'anger': 768, 'anghel': 769, 'angie': 770, 'angle.nelson': 771, 'angry': 772, 'animal': 773, 'animated': 774, 'animation': 775, 'animator': 776, 'anime': 777, 'ankle': 778, 'ann': 779, 'anna': 780, 'anne': 781, 'anniversary': 782, 'annnd': 783, 'announce': 784, 'announcement': 785, 'annoy': 786, 'annoyed': 787, 'annoying': 788, 'annoyingbaby': 789, 'annual': 790, 'annyeong': 791, 'ano': 792, 'anon': 793, 'anonymous': 794, 'anot': 795, 'another': 796, 'anshe': 797, 'answer': 798, 'ant': 799, 'anta': 800, 'antagonistic': 801, 'anthem': 802, 'anti-christ': 803, 'anticipation': 804, 'antonio': 805, 'anushka': 806, 'anxiety': 807, 'anxious': 808, 'anyare': 809, 'anybody': 810, 'anymore': 811, 'anymoreee': 812, 'anyone': 813, 'anyones': 814, 'anyonneee': 815, 'anythin': 816, 'anything': 817, 'anything.surely': 818, 'anytime': 819, 'anyway': 820, 'anywayhedidanicejob': 821, 'anyways': 822, 'anywhere': 823, 'anz': 824, 'aos': 825, 'ap': 826, 'apart': 827, 'apartement': 828, 'apartment': 829, 'apb': 830, 'ape': 831, 'apexis': 832, 'apink': 833, 'aplomb': 834, \"apma's\": 835, 'apologist': 836, 'apologize': 837, 'apology': 838, 'app': 839, 'appa': 840, 'apparently': 841, 'appeal': 842, 'appear': 843, 'appearance': 844, 'appeasement': 845, 'appendicitis': 846, 'appendix': 847, 'apple': 848, 'application': 849, 'apply': 850, 'appointment': 851, 'appreciate': 852, 'appreciated': 853, 'approach': 854, 'appropriate': 855, 'approval': 856, 'approve': 857, 'approximately': 858, 'apps': 859, 'april': 860, 'apt': 861, 'aragalang': 862, 'araw': 863, 'arbeloa': 864, 'arc': 865, 'arch': 866, 'archdbanterbury': 867, 'architecture': 868, 'arctic': 869, 'area': 870, 'aready': 871, 'arent': 872, 'argh': 873, 'argos': 874, 'argue': 875, 'ariana': 876, 'arianator': 877, 'ariel': 878, 'arini': 879, 'ark': 880, 'arm': 881, 'arma': 882, 'armor': 883, 'arnd': 884, 'arond': 885, 'around': 886, 'arrange': 887, 'arre': 888, 'arrest': 889, 'arrival': 890, 'arrive': 891, 'arsenal': 892, 'art': 893, 'article': 894, 'artist': 895, 'artistic': 896, 'artworkbylie': 897, 'arummzz': 898, 'as': 899, 'asap': 900, 'asf': 901, 'ash': 902, 'ashamed': 903, 'ashraf': 904, 'ashton': 905, 'ashwathy': 906, 'asia': 907, 'asian': 908, 'aside': 909, 'ask': 910, 'askaman': 911, 'askfinnick': 912, 'askies': 913, 'askip': 914, 'askurban': 915, 'asleep': 916, 'aspect': 917, 'aspetti': 918, 'assassin': 919, 'assessment': 920, 'asshole': 921, 'assia': 922, 'assignment': 923, 'assingnment': 924, 'assist': 925, 'associate': 926, 'association': 927, 'assume': 928, 'assure': 929, 'asthma': 930, 'astonvilla': 931, 'aswell': 932, 'atchya': 933, 'ate': 934, 'athabasca': 935, \"athena's\": 936, 'athlete': 937, 'atk': 938, 'atl': 939, 'atlantis': 940, 'atlas': 941, 'atleast': 942, 'atm': 943, 'atp': 944, 'atrocity': 945, 'attach': 946, 'attack': 947, 'attempt': 948, 'attend': 949, 'attender': 950, 'attention': 951, 'attentive': 952, 'attitude': 953, \"attitude's\": 954, 'attraction': 955, 'atty': 956, 'au': 957, 'audience': 958, 'audition': 959, 'audraesar': 960, 'aug': 961, 'auguri': 962, 'august': 963, 'aunt': 964, 'aunty': 965, 'aur': 966, 'aurini': 967, 'aus': 968, 'ausfailia': 969, 'auspost': 970, 'austerlitz': 971, 'austin': 972, 'australia': 973, \"australia's\": 974, 'author': 975, 'auto-focus': 976, 'auto-followback': 977, 'autofollow': 978, 'auvssscr': 979, 'av': 980, 'avail': 981, 'available': 982, 'avalible': 983, 'average': 984, 'avert': 985, 'avi': 986, 'avoid': 987, 'avoplex': 988, 'avril': 989, 'aw': 990, 'await': 991, 'awak': 992, 'awake': 993, 'awami': 994, 'award': 995, 'awareness': 996, 'away': 997, 'awe': 998, 'awell': 999, 'awesome': 1000, 'awesomeee': 1001, 'awful': 1002, 'awh': 1003, 'awhile': 1004, 'awkward': 1005, 'awsme': 1006, 'awuna': 1007, 'awusasho': 1008, 'awuuu': 1009, 'aww': 1010, 'awwhh': 1011, 'awww': 1012, 'axio': 1013, 'ay': 1014, 'ayala': 1015, 'ayemso': 1016, 'ayex': 1017, 'az': 1018, 'aztec': 1019, 'azz-sets': 1020, 'b': 1021, \"b'coz\": 1022, 'b-but': 1023, 'b2aa': 1024, 'b2b': 1025, 'b2c': 1026, 'b4': 1027, 'ba': 1028, 'baao': 1029, 'baareeq': 1030, 'baat': 1031, 'babe': 1032, 'babes': 1033, 'baby': 1034, 'babygirl': 1035, 'babysit': 1036, 'babyyy': 1037, 'bachpan': 1038, 'back': 1039, 'backflip': 1040, 'background': 1041, 'backkk': 1042, 'backstory': 1043, 'backup': 1044, 'bacon': 1045, 'bad': 1046, 'badass': 1047, 'badge': 1048, 'badlife': 1049, 'badly': 1050, 'bae': 1051, 'baechu': 1052, 'baechyyy': 1053, 'baek': 1054, 'baekhyun': 1055, 'bag': 1056, 'baggage': 1057, 'bagi': 1058, 'bahari': 1059, 'bahay': 1060, 'bahayan': 1061, 'bailey': 1062, 'bajrangibhaijaanhighestweek': 1063, 'bakal': 1064, 'bakar': 1065, 'bakewell': 1066, 'bakit': 1067, 'bakwas': 1068, 'balance': 1069, 'bald': 1070, 'bale': 1071, 'bali': 1072, 'balik': 1073, 'balkan': 1074, 'ball': 1075, 'ballad': 1076, 'baller': 1077, 'balloon': 1078, 'balm': 1079, 'baloch': 1080, 'baloney': 1081, 'bam': 1082, 'ban': 1083, 'banana': 1084, 'banate': 1085, 'band': 1086, 'banda': 1087, 'bandana': 1088, 'bandi': 1089, 'bandung': 1090, 'bandz': 1091, 'bang': 1092, 'bangalore': 1093, 'bank': 1094, 'banter': 1095, 'bantime': 1096, 'baon': 1097, 'bap': 1098, 'bapak': 1099, 'bapu': 1100, 'bar': 1101, 'barbell': 1102, 'barcelona': 1103, 'barcode': 1104, 'bare': 1105, 'barefooted': 1106, 'barely': 1107, 'bark': 1108, 'barkada': 1109, 'barkin': 1110, 'barkkkiiideee': 1111, 'barney': 1112, 'barnstaple': 1113, \"barrista's\": 1114, 'barsostay': 1115, 'bartender': 1116, 'basara': 1117, 'base': 1118, 'basemaps': 1119, 'basename': 1120, 'basic': 1121, 'basically': 1122, 'basil': 1123, 'basis': 1124, 'basket': 1125, 'basketball': 1126, 'bass': 1127, 'bastard': 1128, 'bat': 1129, 'batalladelosgallos': 1130, 'batb': 1131, 'batch': 1132, 'bath': 1133, 'bathtub': 1134, 'batman': 1135, 'battery': 1136, 'bawi': 1137, 'bay': 1138, 'bayan': 1139, 'baymax': 1140, 'bayonetta': 1141, 'baz': 1142, 'bb': 1143, 'bb17': 1144, 'bbb': 1145, 'bblf': 1146, 'bbm': 1147, 'bbmadeinmanila': 1148, 'bbmme': 1149, 'bbmpin': 1150, 'bby': 1151, 'bbygurl': 1152, 'bbz': 1153, 'bc': 1154, 'bcause': 1155, 'bcoz': 1156, 'bcs': 1157, 'bcus': 1158, 'bcuz': 1159, 'bcz': 1160, 'bday': 1161, 'bdays': 1162, 'bdayt': 1163, \"be's\": 1164, 'bea': 1165, 'beach': 1166, \"beach's\": 1167, 'beanatividad': 1168, 'bear': 1169, 'beard': 1170, 'beardy': 1171, 'beast': 1172, 'beastmode': 1173, 'beat': 1174, 'beato': 1175, 'beatport': 1176, 'beautiful': 1177, 'beautifull': 1178, 'beautifully-crafted': 1179, 'beauts': 1180, 'beauty': 1181, 'beb': 1182, 'bebe': 1183, 'bebeee': 1184, 'bebii': 1185, 'bechos': 1186, 'become': 1187, 'bed': 1188, 'bee': 1189, 'beeepin': 1190, 'beer': 1191, 'beety': 1192, 'beforehand': 1193, 'beg': 1194, 'begin': 1195, 'beginner': 1196, 'beginning': 1197, 'beh': 1198, 'behave': 1199, 'beheaviour': 1200, 'behind': 1201, 'beijing': 1202, 'bein': 1203, 'being': 1204, 'beiruting': 1205, 'beks': 1206, 'belated': 1207, 'belfast': 1208, 'belgium': 1209, 'belieber': 1210, 'beliebers': 1211, 'believe': 1212, 'beli̇eve': 1213, 'bell': 1214, 'bellamy': 1215, 'belle': 1216, 'belly': 1217, 'bellybutton': 1218, 'belt': 1219, 'beme': 1220, 'bemeapp': 1221, 'bemecode': 1222, 'ben': 1223, 'benadryl': 1224, 'benchers': 1225, 'benchmark': 1226, 'bend': 1227, 'benedictervention': 1228, 'benefit': 1229, 'bengali': 1230, 'benny': 1231, 'benson': 1232, 'benteke': 1233, 'benzema': 1234, 'beograd': 1235, 'beonknockknock': 1236, 'berangkaat': 1237, 'bergerac': 1238, 'berigaud': 1239, 'besi': 1240, 'beside': 1241, 'besides': 1242, 'besok': 1243, 'besst': 1244, 'best': 1245, 'besteverdoctorwhoepisode': 1246, 'bestfriend': 1247, 'bestfriends': 1248, 'bestoftheday': 1249, 'bestweekend': 1250, 'bet': 1251, 'beta': 1252, 'beth': 1253, 'bethesda': 1254, 'better': 1255, 'bettor': 1256, 'beware': 1257, 'beyond': 1258, 'beyt': 1259, 'bf': 1260, 'bff': 1261, \"bff's\": 1262, 'bffs': 1263, 'bfr': 1264, 'bg': 1265, 'bgtau': 1266, 'bh3s': 1267, 'bhai': 1268, 'bhaiya': 1269, 'bheyps': 1270, 'bhi': 1271, 'bhk': 1272, 'bhook': 1273, 'bi': 1274, 'bi-polar': 1275, 'bi0': 1276, 'bianca': 1277, 'bias': 1278, 'bible': 1279, 'biblethump': 1280, 'bideford': 1281, 'bien': 1282, 'bierce': 1283, 'big': 1284, 'bigbang': 1285, 'bigot': 1286, 'bigtime': 1287, 'bike': 1288, 'biker': 1289, 'bikini': 1290, 'bilal': 1291, 'bilbao': 1292, 'bill': 1293, 'billie': 1294, 'billion': 1295, 'billionaire': 1296, 'billy': 1297, 'bindingofissac': 1298, 'bing': 1299, 'binge': 1300, 'bio': 1301, 'biodiversity': 1302, 'biomass': 1303, 'biome': 1304, 'biooo': 1305, 'biphobic': 1306, 'bips': 1307, 'bir': 1308, 'bird': 1309, 'birmingham': 1310, 'birth': 1311, 'birthdaaayyy': 1312, 'birthday': 1313, 'birthdaygirl': 1314, 'birthdaymonth': 1315, 'birthdaypresent': 1316, 'bis': 1317, 'bisexuality': 1318, 'bish': 1319, 'bishes': 1320, 'bison': 1321, 'bissmillah': 1322, 'bit': 1323, 'bitch': 1324, 'bitchface': 1325, 'bite': 1326, 'bitin': 1327, 'bitsy@bitdefender.com': 1328, 'bitter': 1329, 'bitterness': 1330, 'bittersweetness': 1331, 'bitty': 1332, 'biz': 1333, 'bjp': 1334, 'black': 1335, 'blackberry': 1336, 'blackcountryfair': 1337, 'blackfly': 1338, 'blacklivesmatter': 1339, 'blaine': 1340, \"blaine's\": 1341, 'blame': 1342, 'blamehoney': 1343, 'blameshoghicp': 1344, 'blaming': 1345, 'bland': 1346, 'blarney': 1347, 'blast': 1348, 'bldg': 1349, 'bleak': 1350, 'bleed': 1351, 'blend': 1352, 'bless': 1353, 'blessing': 1354, 'blew': 1355, 'blight': 1356, 'blinkin': 1357, 'block': 1358, 'blockchain': 1359, 'blockjam': 1360, 'blog': 1361, 'blogged': 1362, 'blogiversary': 1363, 'blois': 1364, 'blonde': 1365, 'blood': 1366, 'bloodline': 1367, 'bloody': 1368, 'blooper': 1369, 'blow': 1370, 'blowjob': 1371, 'blue': 1372, 'bluejays': 1373, 'blurry': 1374, 'blush': 1375, 'bna': 1376, 'bnf': 1377, 'bnte': 1378, 'bo3': 1379, 'boah': 1380, 'board': 1381, 'boat': 1382, 'boaz': 1383, 'bob': 1384, 'bobble': 1385, 'bodo': 1386, 'body': 1387, 'boggling': 1388, 'bogus': 1389, 'bohat': 1390, 'bohol': 1391, 'boi': 1392, 'boii': 1393, 'bollinger': 1394, 'bollywood': 1395, 'bom': 1396, 'bomb': 1397, 'bonasio': 1398, 'bond': 1399, 'bone': 1400, 'boner': 1401, 'bonilla': 1402, 'bonus': 1403, 'boo': 1404, 'boob': 1405, 'boobs': 1406, 'boohoo': 1407, 'book': 1408, 'bookmark': 1409, 'bookstore': 1410, 'boom': 1411, 'boong': 1412, 'booo': 1413, 'booore': 1414, 'booset': 1415, 'boot': 1416, 'booty': 1417, 'border': 1418, 'bore': 1419, 'bored': 1420, 'boreddd': 1421, 'boredom': 1422, 'boring': 1423, 'born': 1424, 'borrow': 1425, 'bos': 1426, 'bosen': 1427, 'boss': 1428, 'bot': 1429, 'botanical': 1430, 'botany': 1431, 'bother': 1432, 'bottle': 1433, 'bottom': 1434, 'boughy': 1435, 'bout': 1436, 'bow': 1437, 'bowel': 1438, 'bowl': 1439, 'bowwowchicawowwow': 1440, 'box': 1441, 'boy': 1442, 'boyfriend': 1443, 'boyirl': 1444, 'bp': 1445, 'bps': 1446, 'bra': 1447, 'brace': 1448, 'bracelet': 1449, 'brad': 1450, 'brag': 1451, 'braid': 1452, 'brain': 1453, 'braindots': 1454, 'brake': 1455, 'brambhatt': 1456, 'branch': 1457, 'brand': 1458, 'brandi': 1459, 'branding': 1460, 'brasileirao': 1461, 'brave': 1462, 'bravo': 1463, 'brawl': 1464, 'brb': 1465, 'breach': 1466, 'bread': 1467, 'break': 1468, 'breakdown': 1469, 'breakfast': 1470, 'breaking': 1471, 'breaktym': 1472, 'breakup': 1473, 'breath': 1474, 'breathe': 1475, 'breathing': 1476, 'breconbeacons': 1477, 'brendon': 1478, 'brewproject': 1479, 'bri': 1480, 'brian': 1481, 'brianaaa': 1482, 'brianazabrocki': 1483, 'bride': 1484, 'bridesmaid': 1485, 'brief': 1486, 'briefly': 1487, 'brienne': 1488, 'bright': 1489, 'brighten': 1490, 'brighton': 1491, 'brijresidency': 1492, 'briliant': 1493, 'brill': 1494, 'brilliant': 1495, 'brilliantly': 1496, 'bring': 1497, 'bringmethehorizon': 1498, 'brisbane': 1499, 'bristol': 1500, 'bristolart': 1501, 'britain': 1502, 'brk': 1503, 'bro': 1504, 'broadcast': 1505, 'broke': 1506, 'broken': 1507, 'broker': 1508, 'brolly': 1509, 'brooke': 1510, 'brooklyn': 1511, 'bros': 1512, 'brotheeerrr': 1513, 'brother': 1514, 'brotherhood': 1515, 'brow': 1516, 'brown': 1517, 'browse': 1518, 'browser': 1519, 'bruce': 1520, 'bruh': 1521, 'bruhhh': 1522, 'bruise': 1523, 'brum': 1524, 'bruno': 1525, 'brush': 1526, 'bruuh': 1527, 'bt': 1528, 'btob': 1529, 'bts': 1530, 'btu': 1531, 'btw': 1532, 'btwn': 1533, 'bubba': 1534, 'bubble': 1535, 'buckinghampalace': 1536, 'buckling': 1537, 'bud': 1538, 'budapestgp': 1539, 'buddy': 1540, 'buddyyy': 1541, 'budge': 1542, 'budget': 1543, 'bueno': 1544, 'buff': 1545, 'buffer': 1546, 'buffering': 1547, 'bug': 1548, 'bugatti': 1549, 'bugbounty': 1550, 'bugger': 1551, 'build': 1552, 'building': 1553, 'bulat': 1554, 'bulet': 1555, 'bulldog': 1556, 'bulletin': 1557, 'bully': 1558, 'bullying': 1559, 'bum': 1560, 'bummer': 1561, 'bump': 1562, 'bun': 1563, 'bunch': 1564, 'bundle': 1565, 'bungie': 1566, 'bunnys': 1567, 'bunso': 1568, 'bunta': 1569, 'burberry': 1570, 'burdensome': 1571, 'burek': 1572, 'burfday': 1573, 'burger': 1574, 'burketeer': 1575, 'burn': 1576, 'burnout': 1577, 'burnt': 1578, 'burst': 1579, 'bury': 1580, 'bus': 1581, 'buset': 1582, 'bush': 1583, 'business': 1584, 'busy': 1585, 'buti': 1586, 'butter': 1587, 'butterfly': 1588, 'button': 1589, 'buttonhole': 1590, 'buttsex': 1591, 'buttt': 1592, 'buuut': 1593, 'buy': 1594, 'buyer': 1595, 'buynotanapologyonitunes': 1596, 'buzz': 1597, 'bv': 1598, 'bye': 1599, 'c': 1600, 'c64': 1601, 'caaannnttt': 1602, 'cabincrew': 1603, 'cable': 1604, 'cactus': 1605, 'caesarspalace': 1606, 'cafe': 1607, 'cag': 1608, 'cage': 1609, 'cajun': 1610, 'cajunchicken': 1611, 'cake': 1612, 'cakehamper': 1613, 'cala': 1614, 'cali': 1615, 'calibraksaep': 1616, 'calibraska': 1617, 'calibraskaep': 1618, 'califor': 1619, 'california': 1620, \"california's\": 1621, 'call': 1622, \"callie's\": 1623, 'callinganimalabusehotlineasap': 1624, 'calm': 1625, 'calum': 1626, 'cam': 1627, 'camara': 1628, 'cambridge': 1629, 'camera': 1630, 'camillus': 1631, 'camp': 1632, 'campaign': 1633, 'campsite': 1634, 'campus': 1635, 'camsex': 1636, 'can': 1637, \"can't\": 1638, 'canadian': 1639, 'canal': 1640, 'canaria': 1641, 'canarios': 1642, 'cancel': 1643, 'candle': 1644, 'candy': 1645, 'cannot': 1646, 'canon': 1647, 'canopy': 1648, 'cant': 1649, 'cantik': 1650, 'canvas': 1651, 'capcom': 1652, 'capeee': 1653, 'capture': 1654, 'car': 1655, 'cara': 1656, 'caradelevingne': 1657, 'caramello': 1658, 'card': 1659, 'cardi': 1660, 'cardio': 1661, 'care': 1662, 'career': 1663, 'careful': 1664, 'carefully': 1665, 'caribbean': 1666, 'caring': 1667, 'carlton': 1668, 'carly': 1669, 'carmel': 1670, 'carmen': 1671, 'carnival': 1672, 'caro': 1673, 'carol': 1674, 'caroline': 1675, 'carpet': 1676, 'carriage': 1677, 'carriageway': 1678, 'carrie': 1679, 'carrot': 1680, 'carry': 1681, 'cart': 1682, 'cartoon': 1683, 'carva': 1684, 'case': 1685, 'cash': 1686, 'casillas': 1687, 'cass': 1688, 'cast': 1689, 'castle': 1690, 'cat': 1691, 'catamis': 1692, 'catch': 1693, 'catchy': 1694, 'cathos': 1695, \"cathy's\": 1696, 'catspjs': 1697, 'caught': 1698, 'cauliflower': 1699, 'cause': 1700, 'cayton': 1701, 'cb': 1702, 'cc': 1703, 'cd': 1704, 'ce': 1705, 'celebrate': 1706, 'celebratio': 1707, 'celebration': 1708, 'celebrity': 1709, 'cell': 1710, 'cement': 1711, 'center': 1712, 'central': 1713, 'centralise': 1714, 'centre': 1715, 'centrifugal': 1716, 'century': 1717, 'ceo': 1718, 'cerbchan': 1719, 'cereal': 1720, 'certain': 1721, 'certainly': 1722, 'certainty': 1723, 'certification': 1724, 'cess': 1725, 'chaddi': 1726, 'chaerin': 1727, 'chain': 1728, 'chainsaw': 1729, 'chair': 1730, 'chal': 1731, 'chalet': 1732, 'challo': 1733, 'chalna': 1734, 'chaloniklo': 1735, 'chalut': 1736, 'champagne': 1737, 'champion': 1738, 'chan': 1739, 'chance': 1740, 'chandauli': 1741, 'chanel': 1742, 'chang': 1743, 'change': 1744, 'chanhun': 1745, 'channel': 1746, 'chant': 1747, 'chaos': 1748, 'chaotic': 1749, 'chap': 1750, 'chapter': 1751, 'character': 1752, 'charade': 1753, 'charcoal': 1754, 'charge': 1755, 'charger': 1756, 'charismatic': 1757, 'charity': 1758, 'charles': 1759, 'charli': 1760, 'charlotte': 1761, 'charm': 1762, 'chart': 1763, 'chase': 1764, 'chat': 1765, 'chateau': 1766, 'chati': 1767, 'chau': 1768, 'cheap': 1769, 'cheat': 1770, 'cheatday': 1771, 'check': 1772, 'check-up': 1773, 'checkout': 1774, 'cheek': 1775, 'cheeky': 1776, 'cheer': 1777, 'cheerio': 1778, 'cheese': 1779, 'cheesydelights': 1780, 'cheetah': 1781, 'chef': 1782, 'chek': 1783, 'chel': 1784, 'chelny': 1785, 'chelsea': 1786, 'cheltenham': 1787, 'chem': 1788, 'chemical': 1789, 'chenab': 1790, 'cherish': 1791, 'cherry': 1792, 'cheshire': 1793, 'chesties': 1794, 'cheung': 1795, 'chew': 1796, 'chibi': 1797, 'chick': 1798, 'chick-fil-a': 1799, 'chicken': 1800, 'chickmt': 1801, 'chicsirific': 1802, 'chikka': 1803, 'child': 1804, 'childhood': 1805, 'chill': 1806, 'chillin': 1807, \"chillin'with\": 1808, 'chilton': 1809, 'chin': 1810, 'china': 1811, 'chinua': 1812, 'chip': 1813, 'chipotle': 1814, 'chiquitos': 1815, 'chloe': 1816, 'chocolate': 1817, 'chocolatey': 1818, 'choice': 1819, 'choiceinternationalartist': 1820, 'choir': 1821, 'choke': 1822, 'choker': 1823, 'chokkie': 1824, 'choma': 1825, 'choo': 1826, 'choose': 1827, 'chopped': 1828, 'choppy': 1829, 'choregrapher': 1830, 'choreo': 1831, 'choreographing': 1832, 'chorong': 1833, 'choroo': 1834, 'chris': 1835, 'christ': 1836, 'christen': 1837, 'christian': 1838, 'christina': 1839, 'christmas': 1840, 'christophe': 1841, 'christopher': 1842, 'christy': 1843, 'chrome': 1844, 'chrompet': 1845, 'chronic': 1846, 'chronicle': 1847, 'chswiyfxcskcalum': 1848, 'chu': 1849, 'chuckin': 1850, 'chuckle': 1851, 'chum': 1852, 'church': 1853, 'churro': 1854, 'chute': 1855, 'chwang': 1856, 'chweet': 1857, 'chweina': 1858, 'ciao': 1859, \"ciara's\": 1860, 'cider': 1861, 'cigar': 1862, 'cikaaa': 1863, 'cilic': 1864, 'cimbom': 1865, 'cinema': 1866, \"cinema's\": 1867, 'cinepambata': 1868, 'cintiq': 1869, 'circle': 1870, 'circuit': 1871, 'circuscircus': 1872, 'citizen': 1873, 'city': 1874, 'civ': 1875, 'civil': 1876, 'cjradacomateada': 1877, 'cl': 1878, 'claim': 1879, 'clan': 1880, 'clandestins': 1881, 'clap': 1882, 'clapham': 1883, 'clark': 1884, 'clarke': 1885, 'clash': 1886, 'class': 1887, 'classic': 1888, 'classicassures': 1889, 'classmate': 1890, 'classy': 1891, 'claw': 1892, 'clean': 1893, 'cleanse': 1894, 'clear': 1895, 'clearly': 1896, 'cliche': 1897, 'click': 1898, 'clicksco': 1899, 'client': 1900, 'client_amends_edit': 1901, 'clientvisit': 1902, 'climate': 1903, 'climatechange': 1904, 'climb': 1905, 'clinton': 1906, 'clip': 1907, 'clock': 1908, 'clonmel': 1909, 'close': 1910, 'closed': 1911, 'closely': 1912, 'closer': 1913, 'closer-chasing': 1914, 'closet': 1915, 'clothes': 1916, 'clown': 1917, 'club': 1918, 'clutch': 1919, 'cnblue': 1920, 'cnn': 1921, 'cnt': 1922, 'co': 1923, 'co-worker': 1924, 'coach': 1925, 'coaster': 1926, 'coat': 1927, 'coca': 1928, 'cock': 1929, 'cocktail': 1930, 'cocktaily': 1931, 'cocky': 1932, 'coco': 1933, 'cocoared': 1934, 'coconut': 1935, 'cod': 1936, 'code': 1937, 'cody': 1938, 'coffe': 1939, 'coffee': 1940, 'coffee-weekdays': 1941, 'cohesive': 1942, 'coin': 1943, 'coincidence': 1944, 'cola': 1945, 'cold': 1946, 'colder': 1947, 'coldplay': 1948, 'colin': 1949, 'collab': 1950, 'collaboration': 1951, 'collage': 1952, 'collapse': 1953, 'collar': 1954, 'colleague': 1955, 'collect': 1956, 'collection': 1957, 'college': 1958, 'collins': 1959, 'cologne': 1960, 'colombia': 1961, 'color': 1962, 'colour': 1963, 'com': 1964, 'combat': 1965, 'come': 1966, 'comeback': 1967, 'comedy': 1968, 'comet': 1969, 'comfortable': 1970, 'comfy': 1971, 'comic': 1972, 'comma': 1973, 'comment': 1974, 'commercial': 1975, 'commission': 1976, 'commit': 1977, 'common': 1978, 'communal': 1979, 'community': 1980, 'comp': 1981, 'companion': 1982, 'company': 1983, 'comparative': 1984, 'compare': 1985, 'comparison': 1986, 'compensation': 1987, 'compete': 1988, 'competition': 1989, 'complain': 1990, 'complains': 1991, 'complaint': 1992, 'complete': 1993, 'completely': 1994, 'completion': 1995, 'complicated': 1996, 'compliment': 1997, 'composer': 1998, 'computer': 1999, 'con': 2000, 'con-graduation': 2001, 'concept': 2002, 'concern': 2003, 'concerned': 2004, 'concert': 2005, 'concordia': 2006, 'condemn': 2007, 'condition': 2008, 'conference': 2009, 'confession': 2010, 'confetti': 2011, 'confidence': 2012, 'confirm': 2013, 'confirmation': 2014, 'confiscate': 2015, 'conflict': 2016, 'confuse': 2017, 'confusing': 2018, 'congraaats': 2019, 'congrats': 2020, 'congratulation': 2021, 'congratz': 2022, 'congrtaualtions': 2023, 'connect': 2024, 'connection': 2025, 'connie': 2026, 'connor': 2027, 'consent': 2028, 'conserve': 2029, 'consider': 2030, 'considerably': 2031, 'considers': 2032, 'consistency': 2033, 'console': 2034, 'constant': 2035, 'constantly': 2036, 'construction': 2037, 'consultant': 2038, 'consume': 2039, 'consumerism': 2040, 'cont': 2041, 'contact': 2042, 'contain': 2043, 'container': 2044, 'contectually': 2045, 'contemplate': 2046, 'contemporary': 2047, 'contender': 2048, 'content': 2049, 'contest': 2050, 'contestkiduniya': 2051, 'context': 2052, 'continous': 2053, 'continue': 2054, 'continuously': 2055, 'contract': 2056, 'contractually': 2057, 'contradict': 2058, 'contrast': 2059, 'contribution': 2060, 'control': 2061, 'controlls': 2062, 'controversy': 2063, 'convener': 2064, 'convention': 2065, 'conversation': 2066, 'conversational': 2067, 'conversion': 2068, 'conviction': 2069, 'convince': 2070, 'convo': 2071, 'convos': 2072, 'cook': 2073, 'cookie': 2074, 'cooking': 2075, 'cool': 2076, 'cooperate': 2077, 'cop': 2078, 'cope': 2079, 'copy': 2080, 'copying': 2081, 'corbyn': 2082, 'corey': 2083, 'corinehurleigh': 2084, 'corner': 2085, 'cornetto': 2086, 'cornettos': 2087, 'cornish': 2088, 'cornwall': 2089, 'correct': 2090, 'corridor': 2091, 'corrupted': 2092, 'cortez': 2093, 'cory': 2094, 'cosas': 2095, 'cosmovision': 2096, 'cosplay': 2097, 'cosplayers': 2098, 'cosplayprogress': 2099, 'cost': 2100, 'costacc': 2101, 'cosy': 2102, 'cotton': 2103, 'couch': 2104, 'cough': 2105, 'could': 2106, \"could've\": 2107, 'couldnt': 2108, 'couldve': 2109, 'councillor': 2110, 'count': 2111, 'countdown': 2112, 'countless': 2113, 'country': 2114, 'countrymusic': 2115, 'countthecost': 2116, 'county': 2117, 'couple': 2118, 'courage': 2119, 'courgette': 2120, 'courier': 2121, 'course': 2122, 'coursee': 2123, 'coursework': 2124, 'court': 2125, 'couscous': 2126, 'cousin': 2127, 'covent': 2128, 'cover': 2129, 'coverall': 2130, 'cow': 2131, 'coworker': 2132, 'coyote': 2133, 'coz': 2134, 'cozy': 2135, 'cpm': 2136, 'cpu': 2137, 'cr': 2138, 'craaazzyy': 2139, 'crack': 2140, 'cracked': 2141, 'crackle': 2142, 'crackling': 2143, 'craft': 2144, 'cram': 2145, 'cramp': 2146, 'cranium': 2147, 'crap': 2148, 'crapple': 2149, 'crash': 2150, 'crave': 2151, 'crazy': 2152, 'crazyyy': 2153, 'creaking': 2154, 'cream': 2155, 'crease': 2156, 'create': 2157, 'creation': 2158, 'creative': 2159, 'cred': 2160, 'credit': 2161, 'creed': 2162, 'creepy': 2163, 'crei': 2164, 'creta': 2165, 'cretaperfect': 2166, 'cretaperfectsuv': 2167, 'crew': 2168, 'cri': 2169, 'cricket': 2170, 'crikey': 2171, 'crime': 2172, 'criminal': 2173, 'crisis': 2174, 'crisp': 2175, 'critical': 2176, 'criticise': 2177, 'critique': 2178, 'croke': 2179, 'crop': 2180, 'cross': 2181, 'crosssed': 2182, 'crowd': 2183, 'crowdfunding': 2184, 'crown': 2185, 'cruel': 2186, 'cruise': 2187, 'crumble': 2188, 'crush': 2189, 'cry': 2190, 'crypt': 2191, 'crystal': 2192, 'cs': 2193, 'csrracing': 2194, 'ctto': 2195, 'cu': 2196, 'cuddle': 2197, 'cue': 2198, 'culture': 2199, 'cumbia': 2200, 'cumbria': 2201, 'cumshot': 2202, 'cunt': 2203, 'cup': 2204, 'cupboard': 2205, 'cupcake': 2206, \"cupid's\": 2207, 'curious': 2208, 'current': 2209, 'currently': 2210, 'curry': 2211, 'curve': 2212, 'cushion': 2213, 'cusp': 2214, 'cuss': 2215, 'custard': 2216, 'custom': 2217, 'customer': 2218, 'cut': 2219, 'cute': 2220, 'cutest': 2221, 'cuticle': 2222, 'cutie': 2223, 'cuties': 2224, 'cuuute': 2225, 'cuz': 2226, 'cwnt': 2227, 'cyber': 2228, 'cycle': 2229, 'cyclerevolution': 2230, 'cynical': 2231, 'cypher': 2232, 'cyprus': 2233, \"d'd\": 2234, 'd1': 2235, 'da': 2236, 'daaay': 2237, 'daal': 2238, 'daaru': 2239, 'dad': 2240, \"dad's\": 2241, 'daddy': 2242, 'dae': 2243, 'daft': 2244, 'dagga': 2245, 'dah': 2246, 'daianerufato': 2247, 'daily': 2248, 'daisy': 2249, 'dale': 2250, 'dallas': 2251, 'dam': 2252, 'damage': 2253, 'dammit': 2254, 'damn': 2255, 'dampen': 2256, 'dan': 2257, 'dance': 2258, 'danceee': 2259, 'dancer': 2260, 'dancetastic': 2261, 'dandia': 2262, 'dang': 2263, 'dangerous': 2264, 'dangit': 2265, 'dangle': 2266, 'daniel': 2267, 'danielle': 2268, 'danni': 2269, 'danny': 2270, 'darcey': 2271, 'dard': 2272, 'dare': 2273, 'daredevil': 2274, 'daring': 2275, 'dark': 2276, 'darlene': 2277, 'darlin': 2278, 'darn': 2279, 'darren': 2280, 'dartmoor': 2281, 'das': 2282, 'dash': 2283, 'dassy': 2284, 'dasvidaniya': 2285, 'dat': 2286, 'data': 2287, 'date': 2288, 'dats': 2289, 'datz': 2290, 'daughter': 2291, 'davao': 2292, 'dave': 2293, 'david': 2294, \"david's\": 2295, 'daw': 2296, 'day': 2297, 'dayofarch': 2298, 'dayz': 2299, 'daze': 2300, 'dazzle': 2301, 'dbn': 2302, 'dd': 2303, 'ddy': 2304, 'de': 2305, 'deactivate': 2306, 'dead': 2307, 'deadline': 2308, 'deaf': 2309, 'deal': 2310, 'dealsuthaonotebachao': 2311, 'deantd': 2312, 'dear': 2313, 'dearly': 2314, 'dearslim': 2315, 'death': 2316, 'deathbybaconsmell': 2317, 'deathcure': 2318, 'deathly': 2319, 'deathofgrass': 2320, 'debacle': 2321, 'debatable': 2322, 'debate': 2323, 'debbie': 2324, 'debt': 2325, 'debut': 2326, 'december': 2327, 'decent': 2328, 'decide': 2329, 'decides': 2330, 'decision': 2331, 'deck': 2332, 'decorate': 2333, 'dedicatedfan': 2334, 'dedication': 2335, 'deennya': 2336, 'deep': 2337, 'deepxcape': 2338, 'def': 2339, 'defence': 2340, 'defend': 2341, 'defender': 2342, 'defensive': 2343, 'definately': 2344, 'define': 2345, 'definite': 2346, 'definitely': 2347, 'definition': 2348, 'degeneres': 2349, 'degrassi': 2350, 'degree': 2351, 'dekhi': 2352, 'del': 2353, 'delay': 2354, 'delegate': 2355, 'deleicious': 2356, 'delete': 2357, \"delevingne's\": 2358, 'delhi': 2359, 'delicious': 2360, 'delight': 2361, 'delighted': 2362, 'delirious': 2363, 'delish': 2364, 'deliver': 2365, 'delivery': 2366, 'delph': 2367, 'delphy': 2368, 'delve': 2369, 'demand': 2370, \"demi's\": 2371, 'demo': 2372, 'den': 2373, 'denerivery': 2374, 'denim': 2375, 'denise': 2376, 'denmark': 2377, 'dental': 2378, 'dentist': 2379, 'deny': 2380, 'deo': 2381, \"deosn't\": 2382, 'department': 2383, 'depend': 2384, 'dependency': 2385, 'depends': 2386, 'deplete': 2387, 'deposit': 2388, 'depress': 2389, 'depressing': 2390, 'dept': 2391, 'derby': 2392, 'derek': 2393, 'derp': 2394, 'desc': 2395, 'describe': 2396, 'description': 2397, 'deserve': 2398, 'deserved': 2399, 'design': 2400, 'designer': 2401, 'desire': 2402, 'desk': 2403, 'desktop': 2404, 'despair': 2405, 'desperate': 2406, 'despite': 2407, 'despondently': 2408, 'dessert': 2409, 'destination': 2410, 'destroy': 2411, 'detail': 2412, 'detailed': 2413, 'determination': 2414, 'determine': 2415, 'dety': 2416, 'dev': 2417, 'devastate': 2418, 'develop': 2419, 'developed': 2420, 'development': 2421, 'device': 2422, 'devolution': 2423, 'dew': 2424, 'dewsbury': 2425, 'dey': 2426, 'deya': 2427, 'dh': 2428, 'dhabi': 2429, 'dhaka': 2430, 'dheena': 2431, 'di': 2432, 'dia': 2433, 'diagnose': 2434, 'dialogue': 2435, \"diane's\": 2436, 'dianna': 2437, 'diaries': 2438, 'diarrhea': 2439, 'diary': 2440, 'dick': 2441, 'didnt': 2442, 'die': 2443, 'die-of': 2444, 'diego': 2445, 'dieididieieiei': 2446, 'diesel': 2447, 'diet': 2448, 'diff': 2449, 'differ': 2450, 'difference': 2451, 'different': 2452, 'difficiency': 2453, 'difficult': 2454, 'digital': 2455, 'digitalexeter': 2456, 'digitalmarketing': 2457, 'dii': 2458, 'dikha': 2459, 'dime': 2460, 'dimple': 2461, 'din': 2462, 'dine': 2463, 'diner': 2464, 'ding': 2465, 'dinghy': 2466, 'dinner': 2467, 'dinooo': 2468, 'dipikirin': 2469, 'diploma': 2470, 'diplomacy': 2471, 'dipoppo': 2472, 'dipsatch': 2473, 'dire': 2474, 'direction': 2475, 'directx': 2476, 'dirty': 2477, 'dirtykik': 2478, 'dis': 2479, 'disability': 2480, 'disabled': 2481, 'disagree': 2482, 'disappear': 2483, 'disappoint': 2484, 'disappointed': 2485, 'disappointing': 2486, 'disappointment': 2487, 'disc': 2488, 'discharge': 2489, 'discipline': 2490, 'discontinue': 2491, 'discount': 2492, 'discover': 2493, 'discovery': 2494, 'discrimination': 2495, 'discuss': 2496, 'discussion': 2497, 'disease': 2498, 'disgust': 2499, 'dish': 2500, 'dishoom': 2501, 'disk': 2502, 'dislike': 2503, 'disney': 2504, 'disney.arts': 2505, 'disneyinfinity': 2506, 'dispatch': 2507, 'display': 2508, 'dissappeared': 2509, 'dissipate': 2510, 'distance': 2511, 'distant': 2512, 'distract': 2513, 'distracted': 2514, 'distressing': 2515, 'distribution': 2516, 'distrubed': 2517, 'disturb': 2518, 'disvirgined': 2519, 'dit': 2520, 'ditch': 2521, 'diva': 2522, 'divinediscontent': 2523, 'diyflowers': 2524, 'diz': 2525, 'dj': 2526, 'djderek': 2527, 'djset': 2528, 'djstruthmate': 2529, 'dkt': 2530, 'dm': 2531, 'dmed': 2532, 'dmme': 2533, 'dms': 2534, \"dn't\": 2535, 'dnt': 2536, 'do': 2537, 'doable': 2538, 'dobar': 2539, 'doc': 2540, 'docopenhagen': 2541, 'doctor': 2542, 'documentary': 2543, 'dodge': 2544, \"doedn't\": 2545, 'doesnt': 2546, 'dog': 2547, 'doh': 2548, \"doido's\": 2549, 'doin': 2550, 'doli': 2551, 'dollar': 2552, 'dolphin': 2553, 'dom': 2554, 'domestic': 2555, 'domesticviolence': 2556, 'dominion': 2557, 'domino': 2558, 'donate': 2559, 'donating': 2560, 'donation': 2561, 'donetsk': 2562, 'dong': 2563, 'donghyuk': 2564, 'dongsaeng': 2565, 'dongwoo': 2566, \"dongwoo's\": 2567, 'donington': 2568, 'donna': 2569, 'donno': 2570, 'dont': 2571, 'donut': 2572, 'donutsss': 2573, 'doodle': 2574, 'doom': 2575, 'doomsday': 2576, 'door': 2577, 'dope': 2578, 'dorm': 2579, 'dormmates': 2580, 'dorset': 2581, 'dos': 2582, 'dosa': 2583, 'dosent': 2584, 'dosto': 2585, \"dostoevsky's\": 2586, 'dot': 2587, 'dota': 2588, 'double': 2589, 'doubt': 2590, 'doug': 2591, 'dough': 2592, 'doushite': 2593, 'dovey': 2594, 'download': 2595, 'downstairs': 2596, 'dozen': 2597, 'dp': 2598, 'dr': 2599, 'drag': 2600, 'dragon': 2601, 'drain': 2602, 'drainage': 2603, 'draking': 2604, 'drama': 2605, 'draw': 2606, 'drawing': 2607, 'dread': 2608, 'dream': 2609, 'dreamer': 2610, 'dreamily': 2611, 'dreamteam': 2612, 'dreary': 2613, 'dress': 2614, 'dresscode': 2615, 'drew': 2616, 'dri': 2617, 'dried': 2618, 'drift': 2619, 'drink': 2620, 'drinking': 2621, 'drinkt': 2622, 'drive': 2623, 'driver': 2624, 'drone': 2625, 'drop': 2626, 'drought-linked': 2627, 'drove': 2628, 'drown': 2629, 'drug': 2630, 'drunk': 2631, 'dry': 2632, 'dua': 2633, 'dual': 2634, 'dub': 2635, 'dubai': 2636, 'dublin': 2637, 'duck': 2638, 'ducktails': 2639, 'dudaftie': 2640, 'dude': 2641, 'dudeee': 2642, 'dudettes': 2643, 'due': 2644, 'duh': 2645, 'duke': 2646, 'dull': 2647, 'dum': 2648, 'dumb': 2649, 'dumont': 2650, 'dump': 2651, 'dun': 2652, 'dunedin': 2653, 'dunkin': 2654, 'dunno': 2655, 'dunt': 2656, 'dunwan': 2657, 'duo': 2658, 'dupa': 2659, 'duper': 2660, 'durood': 2661, 'dus': 2662, 'dutch': 2663, 'duty': 2664, 'dv': 2665, 'dw': 2666, 'dye': 2667, 'dying': 2668, 'dylan': 2669, 'dz9055': 2670, 'e': 2671, 'eagerly': 2672, 'ear': 2673, 'earl': 2674, 'earlier': 2675, 'earlobes': 2676, 'early': 2677, 'earn': 2678, 'earring': 2679, 'earth': 2680, 'earthling': 2681, 'ease': 2682, 'easily': 2683, 'easy': 2684, 'eat': 2685, 'eating': 2686, 'eatmeat': 2687, 'ebay': 2688, 'ebony': 2689, 'ebook': 2690, 'economy': 2691, 'eczema': 2692, 'ed': 2693, 'edel': 2694, 'edgar': 2695, 'edit': 2696, 'editied': 2697, 'editing': 2698, 'edition': 2699, 'editor': 2700, 'edm': 2701, 'edomnt': 2702, 'edsa': 2703, 'educampakl': 2704, 'education': 2705, 'edward': 2706, 'edwin': 2707, 'ee': 2708, 'eeep': 2709, 'eek': 2710, 'eff': 2711, 'effect': 2712, 'effective': 2713, 'effin': 2714, 'effort': 2715, 'egg': 2716, 'ego': 2717, 'egypt': 2718, 'eh': 2719, 'ehdar': 2720, 'ehh': 2721, 'ehm': 2722, 'ehn': 2723, 'eid': 2724, 'eidwithgrofers': 2725, 'eighteen': 2726, 'eintlik': 2727, 'eish': 2728, 'either': 2729, 'ejayster': 2730, 'ek': 2731, 'ekk': 2732, 'eksperimencinta': 2733, 'ekta': 2734, 'el': 2735, 'elaborate': 2736, 'elah': 2737, 'elbow': 2738, 'eldest': 2739, 'elect': 2740, 'election': 2741, 'elephant': 2742, 'elf': 2743, 'elfindelmundo': 2744, 'elgato': 2745, 'elgin': 2746, 'elhaida': 2747, 'eliminate': 2748, 'elisse': 2749, 'elite': 2750, 'elizabetholsen': 2751, 'ell': 2752, 'ella': 2753, 'ellen': 2754, 'ellie': 2755, 'elmhurst': 2756, 'elmoprinssi': 2757, 'elsa': 2758, 'else': 2759, \"else's\": 2760, 'elsewhere': 2761, 'elvena': 2762, 'em': 2763, 'em-con': 2764, 'email': 2765, 'embarrassing': 2766, 'embrace': 2767, 'emc': 2768, 'emeged': 2769, 'emesh': 2770, 'emily': 2771, \"emily's\": 2772, 'emirate': 2773, 'emirates': 2774, 'emm': 2775, 'emma': 2776, 'emo': 2777, 'emoji': 2778, 'emon': 2779, 'emotion': 2780, 'emotional': 2781, 'emotionally': 2782, 'emotive': 2783, 'emphasis': 2784, 'employer': 2785, 'empower': 2786, 'empty': 2787, 'emta': 2788, 'emu': 2789, 'emulation': 2790, 'emyu': 2791, 'en': 2792, 'enable': 2793, 'encanta': 2794, 'encompass': 2795, 'encore': 2796, 'encourage': 2797, 'end': 2798, 'endeavour': 2799, 'endlessly': 2800, 'endowment': 2801, 'ene': 2802, 'enemy': 2803, 'energy': 2804, 'eng': 2805, 'engage': 2806, 'engine': 2807, 'england': 2808, 'english': 2809, 'engross': 2810, 'enix': 2811, 'enji': 2812, 'enjoy': 2813, 'enjoyed': 2814, 'enn': 2815, 'enough': 2816, 'enroll': 2817, 'ensure': 2818, 'enter': 2819, 'enterprison': 2820, 'entertain': 2821, 'entire': 2822, 'entlead': 2823, 'entlerbountly': 2824, 'entp': 2825, 'entrepreneurship': 2826, 'entry': 2827, 'envious': 2828, 'environment': 2829, 'eon': 2830, 'eonni': 2831, 'eonnie': 2832, 'ep': 2833, 'epic': 2834, 'epiphany': 2835, 'episode': 2836, 'eps': 2837, 'equal': 2838, 'equally': 2839, 'era': 2840, 'eric': 2841, 'erica': 2842, 'ericavan': 2843, 'eris': 2844, 'eritation': 2845, 'erm': 2846, 'error': 2847, 'ervin': 2848, 'escape': 2849, 'esnho': 2850, 'esp': 2851, 'especially': 2852, 'essentially': 2853, 'est': 2854, 'estate': 2855, 'esteem': 2856, 'estimate': 2857, 'et': 2858, 'etc': 2859, 'etdi': 2860, 'eternity': 2861, 'etid': 2862, 'etienne': 2863, 'etl': 2864, 'etsy': 2865, 'eu': 2866, 'eugh': 2867, 'eunhae': 2868, 'eunji': 2869, 'europe': 2870, 'european': 2871, 'euuuwww': 2872, 'evan': 2873, 'eve': 2874, 'evelineconrade': 2875, 'even': 2876, 'evening': 2877, 'event': 2878, 'events@breastcancernow.org': 2879, 'eventually': 2880, 'ever': 2881, 'everday': 2882, 'everette': 2883, 'everlasting': 2884, 'everone': 2885, 'every': 2886, 'everybody': 2887, 'everyday': 2888, 'everyone': 2889, \"everyone's\": 2890, 'everyones': 2891, 'everything': 2892, \"everything's\": 2893, 'everytime': 2894, 'everywhere': 2895, 'evet': 2896, 'evil': 2897, 'ew': 2898, 'ewok': 2899, 'ex': 2900, 'ex-twelebs': 2901, 'exactly': 2902, 'exam': 2903, 'example': 2904, 'exams': 2905, 'excellence': 2906, 'excellent': 2907, 'except': 2908, 'exception': 2909, 'excite': 2910, 'excited': 2911, 'excitement': 2912, 'exciting': 2913, 'excl': 2914, 'exclude': 2915, 'exclusive': 2916, 'excuse': 2917, 'exe': 2918, 'exec': 2919, 'execution': 2920, 'exercise': 2921, 'exercising': 2922, 'exhaust': 2923, 'exhausted': 2924, 'exhausting': 2925, 'exist': 2926, 'exit': 2927, 'exo': 2928, 'exp': 2929, 'expand': 2930, 'expect': 2931, 'expectation': 2932, 'expel': 2933, 'expensive': 2934, 'experience': 2935, 'experiment': 2936, 'expert': 2937, 'experttradesmen': 2938, 'expire': 2939, 'explain': 2940, 'explanation': 2941, 'exploit': 2942, 'explore': 2943, 'explorealberta': 2944, 'explorer': 2945, 'explosion': 2946, 'expo': 2947, 'exposure': 2948, 'expression': 2949, 'extension': 2950, 'external': 2951, 'extra': 2952, 'extraordinary': 2953, 'extravagant': 2954, 'extreme': 2955, 'extremely': 2956, 'ey': 2957, 'eye': 2958, \"eye's\": 2959, 'eyelid': 2960, 'eyeliner': 2961, 'eyesight': 2962, 'eyesmiles': 2963, 'eyyah': 2964, 'f': 2965, \"f'ing\": 2966, 'f1': 2967, 'fa': 2968, 'faaabulous': 2969, 'fab': 2970, 'fabfriday': 2971, 'fabian': 2972, 'fabina': 2973, 'fabulous': 2974, 'face': 2975, 'facebook': 2976, 'faceit': 2977, 'facetime': 2978, 'facil': 2979, 'fack': 2980, 'fact': 2981, 'factory': 2982, 'fade': 2983, 'faggot': 2984, 'fah': 2985, 'fahad': 2986, 'fahrenheit': 2987, 'fahrinahmad': 2988, 'fail': 2989, 'faint': 2990, 'fair': 2991, 'faith': 2992, 'faithful': 2993, 'fake': 2994, 'falcos': 2995, 'falklands': 2996, 'fall': 2997, 'fallout': 2998, 'false': 2999, 'falsetto': 3000, 'fam': 3001, 'familiar': 3002, 'family': 3003, 'familyhome': 3004, 'famish': 3005, 'famous': 3006, 'fams': 3007, 'fan': 3008, 'fanart': 3009, 'fanboy': 3010, 'fancafe': 3011, 'fancy': 3012, 'fandango': 3013, 'fandom': 3014, 'fangirl': 3015, 'fangirled': 3016, 'fank': 3017, 'fansign': 3018, 'fanta': 3019, 'fantastic': 3020, 'fantasy': 3021, 'fany': 3022, 'far': 3023, 'farbridges': 3024, 'farm': 3025, 'farmiga': 3026, 'fasgadah': 3027, 'fashion': 3028, 'fashionfriday': 3029, 'fast': 3030, 'faster': 3031, 'fat': 3032, 'fatal': 3033, 'father': 3034, 'fatigue': 3035, \"fatma'm\": 3036, 'fault': 3037, 'fav': 3038, 'fave': 3039, 'faves': 3040, 'favor': 3041, 'favorable': 3042, 'favorite': 3043, 'favour': 3044, 'favourite': 3045, 'favourites': 3046, 'fb': 3047, 'fback': 3048, 'fbc': 3049, 'fc': 3050, 'fck': 3051, 'fckin': 3052, 'fcking': 3053, 'fe14': 3054, 'fear': 3055, 'feature': 3056, 'feb': 3057, 'federer': 3058, 'fee': 3059, 'feed': 3060, 'feedback': 3061, 'feel': 3062, 'feelgoodfriday': 3063, 'feeling': 3064, 'feelinggood': 3065, 'feelslikeanidiot': 3066, 'feetblog': 3067, 'feets': 3068, 'fela': 3069, 'felicity': 3070, 'fell': 3071, 'fellow': 3072, 'felt': 3073, 'felton': 3074, 'female': 3075, 'feminism': 3076, 'feminist': 3077, 'fenestoscope': 3078, 'fenja': 3079, 'fennell': 3080, 'ferdous': 3081, 'fern': 3082, 'ferry': 3083, 'fersuree': 3084, 'fest': 3085, 'festival': 3086, 'fever': 3087, 'feverfew': 3088, 'feytyaz': 3089, 'ff': 3090, 'ff__special': 3091, 'ffback': 3092, 'ffs': 3093, 'ffvi': 3094, 'fics': 3095, 'fiction': 3096, 'field': 3097, 'fieldtrips': 3098, 'fiend': 3099, 'fiesta': 3100, 'fifa': 3101, 'fifth': 3102, 'fight': 3103, 'fighting': 3104, 'fightingmcirene': 3105, 'fightstickfriday': 3106, 'figure': 3107, 'filbarbarian': 3108, 'file': 3109, 'fill': 3110, 'film': 3111, 'filming': 3112, 'final': 3113, 'finale': 3114, 'finalist': 3115, 'finally': 3116, 'financially': 3117, 'find': 3118, 'findavip': 3119, 'finddjderek': 3120, 'findyourfit': 3121, 'fine': 3122, 'fineandyu': 3123, 'finger': 3124, 'fingers-crossed': 3125, 'finish': 3126, 'finishing': 3127, 'finland': 3128, 'finnair': 3129, \"finnick's\": 3130, 'finnigan': 3131, 'fire': 3132, 'fireball': 3133, 'firm': 3134, 'firmansyahbl': 3135, 'first': 3136, 'fish': 3137, 'fishy': 3138, 'fit': 3139, 'fitnes': 3140, 'five': 3141, 'fiver': 3142, 'fix': 3143, 'fixedgearfrenzy': 3144, 'fk': 3145, 'fl': 3146, 'flame': 3147, 'flapjack': 3148, 'flare': 3149, 'flash': 3150, 'flat': 3151, 'flattery': 3152, 'flaviana': 3153, 'flavour': 3154, 'flaw': 3155, 'flawless': 3156, 'fleekile': 3157, 'flesh': 3158, 'fleur': 3159, 'flew': 3160, 'flickr': 3161, 'flight': 3162, 'flint': 3163, 'flip': 3164, 'flipkartfashionfriday': 3165, 'flippin': 3166, 'flipping': 3167, 'float': 3168, 'flockstars': 3169, 'floofs': 3170, 'floor': 3171, 'flop': 3172, 'flow': 3173, 'flower': 3174, 'fluent': 3175, 'fluffy': 3176, 'flume': 3177, 'fly': 3178, 'flyhigh': 3179, 'fm': 3180, 'fml': 3181, 'fmt': 3182, 'fna': 3183, 'fnaf': 3184, 'foam': 3185, 'foampit': 3186, 'focus': 3187, 'foh': 3188, 'foiegras': 3189, 'folder': 3190, 'folk': 3191, 'follbaaack': 3192, 'follback': 3193, 'follow': 3194, 'followback': 3195, 'follower': 3196, 'followfriday': 3197, 'following': 3198, 'followingg': 3199, 'folow': 3200, 'fond': 3201, 'font': 3202, 'food': 3203, 'foodie': 3204, 'foodiefridays': 3205, 'foof': 3206, 'fool': 3207, 'foood': 3208, 'foot': 3209, 'football': 3210, 'footy': 3211, 'force': 3212, 'foreals': 3213, 'forecast': 3214, 'forehead': 3215, 'forest': 3216, 'forever': 3217, 'foreveralone': 3218, 'forget': 3219, 'forgive': 3220, 'forgiven': 3221, 'forgot': 3222, 'forklift': 3223, 'form': 3224, 'format': 3225, 'former': 3226, 'forneret': 3227, 'forrit': 3228, 'fortune': 3229, 'forward': 3230, 'foto': 3231, 'fotoset': 3232, 'found': 3233, 'foundation': 3234, 'founder': 3235, 'foundry': 3236, 'four': 3237, 'fourfiveseconds': 3238, 'fowles': 3239, 'fr': 3240, 'fra': 3241, 'fraand': 3242, 'fragile': 3243, 'fragment': 3244, 'frail': 3245, 'france': 3246, 'frank': 3247, 'fraud': 3248, 'freak': 3249, 'freaking': 3250, \"freddy's\": 3251, 'free': 3252, 'freebiefriday': 3253, 'freedom': 3254, 'freeze': 3255, 'french': 3256, 'frequentflyer': 3257, 'frequently': 3258, 'fresh': 3259, 'fresherstofinals': 3260, 'freshly': 3261, 'freshness': 3262, 'freya': 3263, 'fri': 3264, 'fricken': 3265, 'friday': 3266, \"friday's\": 3267, 'friday.and': 3268, 'fridaydownpour': 3269, 'fridayfeeling': 3270, 'fridayfreebie': 3271, 'fridayfun': 3272, 'fridays': 3273, 'fridge': 3274, 'friend': 3275, \"friend's\": 3276, 'friendly': 3277, 'friends': 3278, 'friendship': 3279, 'friendzone': 3280, 'friex': 3281, 'frighten': 3282, 'frightlings': 3283, 'friooo': 3284, 'friskyfriday': 3285, 'friyay': 3286, 'frnds': 3287, 'frog': 3288, 'fron': 3289, 'front': 3290, 'frou': 3291, 'froze': 3292, 'frudging': 3293, 'fruit': 3294, 'fruity': 3295, 'frustrate': 3296, 'frustrated': 3297, 'frustration': 3298, 'fry': 3299, 'fss': 3300, 'ft': 3301, 'ftw': 3302, 'fu': 3303, 'fucjikg': 3304, 'fuck': 3305, 'fuckboys': 3306, 'fucked': 3307, 'fucker': 3308, 'fuckin': 3309, 'fucking': 3310, 'fuckkk': 3311, 'fudge': 3312, 'fugiwara': 3313, 'fugly': 3314, 'fuk': 3315, 'fulfil': 3316, 'fulfill': 3317, 'full': 3318, 'fuller': 3319, 'fully': 3320, 'fulton': 3321, 'fun': 3322, 'funcionar': 3323, 'function': 3324, 'fundamentalist': 3325, 'funeral': 3326, 'funk': 3327, 'funny': 3328, 'fuq': 3329, 'fur-trimmed': 3330, 'furbaby': 3331, 'furry': 3332, 'fuse': 3333, 'future': 3334, 'futurereleases': 3335, 'fuuuck': 3336, 'fuzzy': 3337, 'fwm': 3338, 'fyi': 3339, 'fyn': 3340, 'g': 3341, 'ga': 3342, 'gaaawd': 3343, 'gaga': 3344, 'gagal': 3345, 'gahd': 3346, 'gahhh': 3347, 'gail': 3348, 'gain': 3349, 'gal': 3350, 'galat': 3351, 'galing': 3352, 'gallon': 3353, 'game': 3354, 'gamedev': 3355, 'gamejam': 3356, 'gameplays': 3357, 'gamer': 3358, 'gamestomp': 3359, 'ganas': 3360, 'ganbarimasu': 3361, 'ganda': 3362, 'gandhi': 3363, 'gang': 3364, 'gangster': 3365, 'ganna': 3366, 'gans': 3367, 'ganteng': 3368, 'gap': 3369, 'garage': 3370, 'garbi': 3371, 'garden': 3372, 'gardening': 3373, 'garlic': 3374, 'garret': 3375, 'gary': 3376, 'gas': 3377, 'gastronomy': 3378, 'gathering': 3379, 'gatorade': 3380, 'gawd': 3381, 'gay': 3382, 'gaya': 3383, 'gayi': 3384, 'gayle': 3385, 'gaza': 3386, 'gc': 3387, 'gd': 3388, 'ge': 3389, 'gear': 3390, 'gee': 3391, 'geek': 3392, 'geekiest': 3393, 'geer': 3394, 'geez': 3395, 'gegu': 3396, 'gel': 3397, 'gelen': 3398, 'gem': 3399, 'gemma': 3400, 'gen': 3401, 'gen.ad': 3402, 'gendut': 3403, 'gene': 3404, 'general': 3405, 'generally': 3406, 'genesis': 3407, 'geneva': 3408, 'genial': 3409, 'genre': 3410, 'gensan': 3411, 'gent': 3412, 'gentlemen': 3413, 'genuine': 3414, 'genuinely': 3415, 'geoff': 3416, 'george': 3417, 'georgesampson': 3418, 'georgia': 3419, 'georgie': 3420, 'german': 3421, 'germany': 3422, 'gern': 3423, 'geskenya': 3424, 'gesture': 3425, 'get': 3426, 'getaway': 3427, 'getthescoop': 3428, 'gettin': 3429, 'getwellsoonamber': 3430, 'gf': 3431, 'gfriend': 3432, 'gg': 3433, 'gh': 3434, 'ghantay': 3435, 'ghost': 3436, 'gi': 3437, 'gi-guilty': 3438, 'giachietittiwedding': 3439, 'giant': 3440, 'gibanica': 3441, 'gibran': 3442, 'giddy': 3443, 'gidi': 3444, 'gifs': 3445, 'gift': 3446, 'gig': 3447, 'giggle': 3448, 'gigi': 3449, 'gilet': 3450, 'gimme': 3451, 'gin': 3452, 'ginge': 3453, 'ginger': 3454, 'gintama': 3455, 'gion': 3456, 'giriboy': 3457, 'girl': 3458, 'girlfriend': 3459, 'girlfriendsmya': 3460, 'girls': 3461, 'girly': 3462, 'gishwhes': 3463, 'give': 3464, 'giveaway': 3465, 'giveitup': 3466, 'gl': 3467, 'gla': 3468, 'glacier': 3469, 'glad': 3470, 'gladly': 3471, 'glare': 3472, 'glasgow': 3473, 'glass': 3474, 'glaze': 3475, 'gleam': 3476, 'glenn': 3477, 'glitch': 3478, 'glo': 3479, 'globe': 3480, 'glorify': 3481, 'gloucestershire': 3482, 'glow': 3483, 'glue': 3484, 'gn': 3485, 'go': 3486, 'goa': 3487, 'goal': 3488, 'goalscorer': 3489, 'goat': 3490, 'gobigorgohome': 3491, 'god': 3492, \"god's\": 3493, 'godbless': 3494, 'goddamn': 3495, 'goddess': 3496, 'godonna': 3497, 'gohf': 3498, 'goictived': 3499, 'goin': 3500, 'gol': 3501, 'gold': 3502, 'goldbugs': 3503, 'golden': 3504, 'golf': 3505, 'gomen': 3506, 'gomez': 3507, 'gon': 3508, 'gondooo': 3509, 'gonna': 3510, 'good': 3511, 'goodafternoon': 3512, 'gooday': 3513, 'goodbye': 3514, 'goodluck': 3515, 'goodmorning': 3516, 'goodmusic': 3517, 'goodness': 3518, 'goodnight': 3519, 'goodtime': 3520, 'goodwill': 3521, 'goodwynsgoodies': 3522, 'goody': 3523, 'goofingaround': 3524, 'google': 3525, 'gooo': 3526, 'goood': 3527, 'goosnight': 3528, 'gorefiend': 3529, 'gorgeous': 3530, 'gosh': 3531, 'gossip': 3532, 'got': 3533, 'gotcha': 3534, 'gotham': 3535, 'gotta': 3536, 'gottolovebanks': 3537, 'government': 3538, 'goy': 3539, 'gr8': 3540, 'grab': 3541, 'grabe': 3542, 'grace': 3543, 'gracious': 3544, 'grade': 3545, 'graduate': 3546, 'gram': 3547, 'gran': 3548, 'grand': 3549, 'grande': 3550, 'grandma': 3551, 'grandpa': 3552, \"grandpa's\": 3553, 'granny': 3554, 'graphic': 3555, 'graphicdesign': 3556, 'grasp': 3557, 'grassy': 3558, 'grate': 3559, 'grateful': 3560, 'gratefulness': 3561, 'grattis': 3562, 'gray': 3563, 'graze': 3564, 'great': 3565, 'greatful': 3566, 'greatkenya': 3567, 'greatly': 3568, 'greece': 3569, 'greek': 3570, 'greekcrisis': 3571, 'green': 3572, 'greet': 3573, 'greeting': 3574, 'greg': 3575, 'grepe': 3576, 'grepein': 3577, 'greska': 3578, 'grey': 3579, 'greymind': 3580, 'greysonchance': 3581, \"grigson's\": 3582, 'grill': 3583, 'grim': 3584, 'grind': 3585, 'grindea': 3586, 'groaning': 3587, 'grocery': 3588, 'grogol': 3589, 'gross': 3590, 'grotty': 3591, 'ground': 3592, 'group': 3593, 'groupie': 3594, 'grow': 3595, 'growl': 3596, 'grown': 3597, 'grs': 3598, 'grt': 3599, 'grumble': 3600, 'grumpy': 3601, 'grunt': 3602, 'gryph': 3603, 'gta': 3604, 'gtg': 3605, 'gto': 3606, 'gua': 3607, 'gud': 3608, 'gudday': 3609, 'gue': 3610, 'guess': 3611, 'guest': 3612, 'guide': 3613, 'guilty': 3614, 'guinea': 3615, 'guinness': 3616, 'guise': 3617, 'guitar': 3618, 'gujarat': 3619, 'gulo': 3620, 'gum': 3621, 'gun': 3622, 'gunashekar': 3623, 'guncontrol': 3624, 'gundam': 3625, 'gunna': 3626, 'gurgaon': 3627, 'gurl': 3628, 'gurly': 3629, 'gutted': 3630, 'guy': 3631, 'guys': 3632, 'guysss': 3633, 'guzel': 3634, 'gv': 3635, 'gwd': 3636, 'gwinett': 3637, 'gws': 3638, 'gwss': 3639, 'gyllenhaal': 3640, 'gym': 3641, 'gymnastics': 3642, 'gypsy': 3643, 'gyu': 3644, 'h': 3645, 'h8': 3646, 'h_my_king': 3647, 'ha': 3648, 'ha-ha': 3649, 'haaa': 3650, 'haaretz': 3651, 'habe': 3652, 'habhab': 3653, 'habit': 3654, 'hacharatt': 3655, 'hack': 3656, 'hagergang': 3657, 'hah': 3658, 'haha': 3659, 'hahaah': 3660, 'hahah': 3661, 'hahaha': 3662, 'hahahaa': 3663, 'hahahaaah': 3664, 'hahahah': 3665, 'hahahaha': 3666, 'hahahahaha': 3667, 'hahahahahaah': 3668, 'hahahahahhaha': 3669, 'hahahaokay': 3670, 'hahahays': 3671, 'hahays': 3672, 'hai': 3673, 'haileyhelps': 3674, 'hain': 3675, 'hair': 3676, 'haired': 3677, 'hairpin': 3678, 'hairy': 3679, 'haiss': 3680, 'haix': 3681, 'haiz': 3682, 'haizzz': 3683, 'hajur': 3684, 'hakhakhak': 3685, 'halaaang': 3686, 'hale': 3687, 'halesowen': 3688, 'half': 3689, 'half-remembered': 3690, 'halfway': 3691, 'hall': 3692, 'halla': 3693, 'hallo': 3694, 'hallows': 3695, 'hallyu': 3696, 'halsey': 3697, 'hammies': 3698, 'hamster': 3699, 'hamstring': 3700, 'han': 3701, 'hanabutle': 3702, 'hanbin': 3703, 'hand': 3704, 'hand-lettering': 3705, 'handle': 3706, 'handover': 3707, 'handshome': 3708, 'handsome': 3709, 'hang': 3710, 'hang-copying': 3711, 'hangin': 3712, 'hangout': 3713, 'hannibal': 3714, 'happen': 3715, 'happend': 3716, 'happenend': 3717, 'happens': 3718, 'happiest': 3719, 'happily': 3720, 'happiness': 3721, 'happpy': 3722, 'happy': 3723, 'happyalien': 3724, 'happybirthday': 3725, 'happybirthdayemilybett': 3726, 'happycustomers': 3727, 'happyfriday': 3728, 'happys': 3729, 'happyweekend': 3730, 'happyyy': 3731, 'har': 3732, 'harana': 3733, 'harap': 3734, 'hard': 3735, 'hard-wired': 3736, 'hardcore': 3737, 'hardheaded': 3738, 'hardly': 3739, 'harlo': 3740, 'harmony': 3741, 'harmos': 3742, 'harriet': 3743, 'harry': 3744, \"harry's\": 3745, 'harryxhood': 3746, 'harsh': 3747, 'harumph': 3748, 'harvest': 3749, 'hasb': 3750, 'hash': 3751, 'hashbrowns': 3752, 'hashtag': 3753, 'hashtags': 3754, 'hastily': 3755, 'hasya': 3756, 'hat': 3757, 'hate': 3758, 'hateee': 3759, 'hater': 3760, 'hatessuce': 3761, 'hatigii': 3762, 'hatred': 3763, 'hauc': 3764, 'hav': 3765, 'haveagoodday': 3766, 'havent': 3767, 'havuuuloveyou': 3768, 'haw': 3769, 'hawako': 3770, 'hawk': 3771, 'hay': 3772, 'hayley': 3773, 'hayli': 3774, 'hayst': 3775, 'hazel': 3776, 'hbd': 3777, 'hbdme': 3778, 'hd': 3779, 'he': 3780, \"he'll\": 3781, \"he's\": 3782, 'head': 3783, 'headache': 3784, 'headack': 3785, 'header': 3786, 'headline': 3787, 'headphone': 3788, 'heal': 3789, 'health': 3790, 'healthy': 3791, 'healthylifestyle': 3792, 'heap': 3793, 'hear': 3794, 'heard': 3795, 'hearess': 3796, 'heart': 3797, 'heart-breaking': 3798, 'heartache': 3799, 'heartbeat': 3800, 'heartbreaking': 3801, 'heat': 3802, 'heath': 3803, 'heathrow': 3804, 'heatwave': 3805, 'heaven': 3806, 'heavy': 3807, 'heck': 3808, 'hediye': 3809, 'hee': 3810, 'heechul': 3811, 'heed': 3812, 'heeeyyy': 3813, 'heel': 3814, 'hehe': 3815, 'hehehe': 3816, 'hehehehe': 3817, 'height': 3818, 'heiya': 3819, 'heiyo': 3820, 'helen': 3821, 'helium': 3822, 'hell': 3823, 'hella': 3824, 'hellish': 3825, 'hello': 3826, 'hellooo': 3827, 'helmy': 3828, 'help': 3829, 'help@veryhq.co.uk': 3830, 'helpful': 3831, 'helpinggroupdms': 3832, 'helppp': 3833, 'helsinki': 3834, 'hen': 3835, 'hence': 3836, 'henessydiaries': 3837, 'herb': 3838, \"here's\": 3839, 'hernia': 3840, 'hero': 3841, 'heswifi': 3842, 'hey': 3843, 'heyy': 3844, 'heyyy': 3845, 'hhahahahaha': 3846, 'hi': 3847, 'hibbs': 3848, 'hickey': 3849, 'hide': 3850, 'hierro': 3851, 'high': 3852, 'highlight': 3853, 'highschooldays': 3854, 'highvalue': 3855, 'hih': 3856, 'hihihi': 3857, 'hii': 3858, 'hiii': 3859, 'hike': 3860, 'hilarious': 3861, 'hill': 3862, 'hillary': 3863, 'hilly': 3864, 'himachal': 3865, 'himmat': 3866, 'himseek': 3867, 'hinala': 3868, 'hinanap': 3869, 'hinde': 3870, 'hindi': 3871, 'hiondsheings': 3872, 'hippo': 3873, 'hipster': 3874, 'hire': 3875, 'hisaab': 3876, 'hiss': 3877, 'history': 3878, 'hit': 3879, 'hitler': 3880, 'hitmarker': 3881, 'hive': 3882, 'hiya': 3883, 'hk': 3884, 'hmm': 3885, 'hmmm': 3886, 'hmph': 3887, 'hmu': 3888, 'hnnn': 3889, 'ho': 3890, 'hobby': 3891, 'hock': 3892, 'hoe': 3893, 'hogan': 3894, 'hogo': 3895, 'hokies': 3896, 'hola': 3897, 'holborn': 3898, 'hold': 3899, 'holder': 3900, 'holiday': 3901, 'holistic': 3902, 'hollywood': 3903, 'hologram': 3904, 'hols': 3905, 'holy': 3906, 'home': 3907, 'home-based': 3908, 'homebound': 3909, 'homegirl': 3910, 'homework': 3911, 'homey': 3912, 'homie': 3913, 'homies': 3914, 'homo': 3915, 'homosexual': 3916, 'hon': 3917, 'honest': 3918, 'honestly': 3919, 'honesty': 3920, 'honey': 3921, 'hong': 3922, 'honma': 3923, 'honor': 3924, 'honour': 3925, 'hood': 3926, 'hoodie': 3927, 'hooh': 3928, 'hop': 3929, 'hope': 3930, 'hopeful': 3931, 'hopefully': 3932, 'hopehousekids': 3933, 'hopeless': 3934, 'hopeyou': 3935, 'hopia': 3936, 'hopkins': 3937, 'hopper': 3938, 'horny': 3939, 'hornykik': 3940, 'horrendously': 3941, 'horrible': 3942, 'horribly': 3943, 'horrific': 3944, 'horse': 3945, 'horseracing': 3946, 'horseracingtips': 3947, \"horton's\": 3948, 'hospital': 3949, 'host': 3950, 'hosted': 3951, 'hot': 3952, 'hotbed': 3953, 'hotee-my': 3954, 'hotel': 3955, 'hotfmnoaidilforariana': 3956, 'hotgirls': 3957, 'hotmusicdelocos': 3958, 'hotnsexy': 3959, 'hotscratch': 3960, 'hotspotwithdanris': 3961, 'hottie': 3962, 'hotwheels': 3963, 'hound': 3964, 'hour': 3965, 'house': 3966, 'housemate': 3967, 'housemusic': 3968, 'housing': 3969, 'houston': 3970, \"how're\": 3971, \"how's\": 3972, 'howdo': 3973, 'however': 3974, 'hoxton': 3975, 'hoya': 3976, 'hozier': 3977, 'hp': 3978, 'hpc': 3979, 'hq': 3980, 'hr': 3981, 'hrdstellobama': 3982, 'hrryok': 3983, 'hschool': 3984, 'hse': 3985, 'hsm': 3986, 'hsould': 3987, 'hsr': 3988, 'ht': 3989, 'htaccess': 3990, 'html': 3991, 'hua': 3992, 'hub': 3993, 'hubba': 3994, 'hubby': 3995, 'hueee': 3996, 'huehue': 3997, 'hug': 3998, 'huge': 3999, 'hugh': 4000, 'hugs': 4001, 'huh': 4002, 'huhu': 4003, 'huhuhu': 4004, 'huhuhuhu': 4005, 'huhuhuhuhu': 4006, 'huhuu': 4007, 'hulk': 4008, 'hulkamania': 4009, 'human': 4010, 'humanist': 4011, 'humidity': 4012, 'humphrey': 4013, 'hun': 4014, 'hunde': 4015, 'hundred': 4016, 'hunger': 4017, 'hungrrryyy': 4018, 'hungry': 4019, 'huni': 4020, 'hunny': 4021, 'hunt': 4022, 'hurray': 4023, 'hurry': 4024, 'hurt': 4025, 'hush': 4026, 'hushedcallwithfraydoe': 4027, 'hushedpinwithsammy': 4028, 'husky': 4029, 'huvvft': 4030, 'huxley': 4031, 'hwaiting': 4032, 'hws': 4033, 'hwy': 4034, 'hxh': 4035, 'hygiene': 4036, 'hype': 4037, 'hyper': 4038, 'hyperbullies': 4039, 'hypercholesteloremia': 4040, 'hypocritical': 4041, 'hyung': 4042, 'hyungbot': 4043, 'hyungwon': 4044, 'hz': 4045, \"i'd\": 4046, \"i'll\": 4047, \"i'm\": 4048, \"i'mo\": 4049, \"i'ts\": 4050, \"i've\": 4051, 'ia': 4052, 'iam': 4053, 'iamamonster': 4054, 'iamca': 4055, 'ian': 4056, 'ic': 4057, 'ice': 4058, 'icecream': 4059, 'icecreammaster': 4060, 'iceland': 4061, 'icepack': 4062, 'icloud': 4063, 'icon': 4064, 'icu': 4065, 'id': 4066, 'idaho': 4067, 'idea': 4068, 'ideal': 4069, 'idek': 4070, 'identity': 4071, 'idiot': 4072, 'idk': 4073, 'idol': 4074, 'idr': 4075, 'iero': 4076, 'ifc': 4077, 'ifeelyou': 4078, 'ifimeetanalien': 4079, 'iflix': 4080, 'ifsc': 4081, 'ig': 4082, 'igbo': 4083, 'igers': 4084, 'igersoftheday': 4085, 'ign': 4086, 'ignore': 4087, 'ihatesomepeople': 4088, 'ihhh': 4089, 'ihop': 4090, 'ii': 4091, 'iirc': 4092, 'ij': 4093, 'ik': 4094, 'ikea': 4095, 'ikr': 4096, 'ilhoon': 4097, 'ill': 4098, 'illa': 4099, 'illadvised': 4100, 'illness': 4101, 'illustration': 4102, 'iloveyou': 4103, 'iloveyouu': 4104, 'ily': 4105, 'ily.melanie': 4106, 'ilysm': 4107, 'im': 4108, 'ima': 4109, 'imac': 4110, 'image': 4111, 'imaginative': 4112, 'imagine': 4113, 'img': 4114, 'imintoher': 4115, 'imiss': 4116, 'imitatia': 4117, 'imitation': 4118, 'imma': 4119, 'immature': 4120, 'immigrant': 4121, 'immovable': 4122, 'immune': 4123, 'imo': 4124, 'impact': 4125, 'impair': 4126, 'impeccable': 4127, 'imperative': 4128, 'imperial': 4129, 'imply': 4130, 'import': 4131, 'important': 4132, 'impossible': 4133, 'impression': 4134, 'impressive': 4135, 'improve': 4136, 'improvement': 4137, 'imran': 4138, 'imsorry': 4139, 'imveryverysorry': 4140, 'imy': 4141, 'imysm': 4142, 'in-app': 4143, 'in-house': 4144, 'in-sensitiveness': 4145, 'in-shaa-allah': 4146, 'inaccessible': 4147, 'inaccuracy': 4148, 'inaccurate': 4149, 'inactive': 4150, 'inapropriate': 4151, 'inatall': 4152, 'inbox': 4153, 'inc': 4154, 'inca': 4155, 'incall': 4156, 'inch': 4157, 'incident': 4158, 'incl': 4159, 'include': 4160, 'incoming': 4161, 'incompleta': 4162, 'incomplete': 4163, 'inconsiderate': 4164, 'incorrect': 4165, 'incredible': 4166, 'incredibleindia': 4167, 'indeed': 4168, 'independent': 4169, 'india': 4170, 'indian': 4171, 'indiana': 4172, 'indiankulture': 4173, 'indict': 4174, 'indie': 4175, 'indiemusic': 4176, 'indifference': 4177, 'indirecting': 4178, 'individual': 4179, 'indo': 4180, 'indonesia': 4181, 'indonesian': 4182, 'industry': 4183, 'ineedfeminismbecause': 4184, 'infection': 4185, 'infinite': 4186, \"infinite's\": 4187, 'infirmity': 4188, 'inflation': 4189, 'influence': 4190, 'influencer': 4191, 'influencers': 4192, 'influential': 4193, 'info': 4194, 'infographic': 4195, 'inform': 4196, 'information': 4197, 'informed': 4198, 'infra': 4199, 'infrastructure': 4200, 'infront': 4201, 'ingat': 4202, 'inglewood': 4203, 'inhaler': 4204, 'ini': 4205, 'init': 4206, 'inital': 4207, 'initial': 4208, 'initially': 4209, 'initiative': 4210, 'injure': 4211, 'injured': 4212, 'injury': 4213, 'injustice': 4214, 'ink': 4215, 'inner': 4216, 'innie': 4217, 'innocent': 4218, 'innovate': 4219, 'innumerable': 4220, 'input': 4221, 'inquisitor': 4222, 'insane': 4223, 'insecure': 4224, 'insecurity': 4225, \"insha'allah\": 4226, 'inshallah': 4227, 'inside': 4228, 'insidious': 4229, 'insomnia': 4230, 'insonia': 4231, 'inspiration': 4232, 'inspire': 4233, 'inspirit': 4234, 'inspite': 4235, 'insta': 4236, 'instagood': 4237, 'instagram': 4238, 'instal': 4239, 'install': 4240, 'instamood': 4241, 'instant': 4242, 'instead': 4243, 'institution': 4244, 'instruction': 4245, 'insurance': 4246, 'inte': 4247, 'intellect': 4248, 'intellectual': 4249, 'intelligent': 4250, 'intend': 4251, 'intention': 4252, 'inter': 4253, 'interaction': 4254, 'interactive': 4255, 'interest': 4256, 'interested': 4257, 'interesting': 4258, 'intern': 4259, 'international': 4260, 'internet': 4261, 'internship': 4262, 'interracial': 4263, 'interview': 4264, 'intolerant': 4265, 'intro': 4266, 'introduce': 4267, 'introduction': 4268, 'inuyasha': 4269, 'invalid': 4270, 'invest': 4271, 'investigate': 4272, 'investment': 4273, 'invite': 4274, 'invited': 4275, 'invoice': 4276, 'ion': 4277, 'iove': 4278, 'ip': 4279, 'iph': 4280, 'iphone': 4281, 'iplayer': 4282, 'ipod': 4283, 'iqbal': 4284, 'iqrar': 4285, 'iran': 4286, 'irandeal': 4287, 'iraq': 4288, 'ireland': 4289, 'irene': 4290, 'irish': 4291, 'irl': 4292, 'irony': 4293, 'irresistible': 4294, 'irresponsibly': 4295, 'is.he': 4296, 'isaac': 4297, 'isco': 4298, 'ised': 4299, 'ishal': 4300, 'isi': 4301, 'isibaya': 4302, 'islamist': 4303, 'island': 4304, 'isnt': 4305, 'iso': 4306, 'isolate': 4307, 'isp': 4308, 'israel': 4309, 'israeli': 4310, 'issue': 4311, 'istanya': 4312, 'istg': 4313, \"it'd\": 4314, \"it'll\": 4315, \"it'okay\": 4316, 'italian': 4317, 'italy': 4318, 'item': 4319, 'itna': 4320, 'ito': 4321, 'itong': 4322, 'itsamarvelthing': 4323, 'itter': 4324, 'itty': 4325, 'itunes': 4326, 'itv': 4327, 'ivan': 4328, 'ive': 4329, 'ivy': 4330, 'ivypowel': 4331, 'iwantin': 4332, 'iyalaya': 4333, 'iz': 4334, 'izumi': 4335, 'izzat': 4336, \"izzy's\": 4337, 'j': 4338, \"j's\": 4339, 'j11': 4340, 'j8': 4341, 'ja': 4342, 'jaann': 4343, 'jabongatpumaurbanstampede': 4344, 'jace': 4345, 'jack': 4346, \"jack's\": 4347, 'jacket': 4348, 'jackie': 4349, 'jackson': 4350, 'jaclintiler': 4351, 'jacob': 4352, 'jadines': 4353, 'jah': 4354, 'jahat': 4355, 'jai': 4356, 'jail': 4357, 'jailbroken': 4358, 'jake': 4359, 'jalulu': 4360, 'jam': 4361, 'james': 4362, 'james_yammouni': 4363, 'jamie': 4364, 'jamie-lee': 4365, 'jane': 4366, 'jannatul': 4367, 'january': 4368, 'japan': 4369, \"japan's\": 4370, 'japanese': 4371, 'jarraaa': 4372, 'jasmingarrick': 4373, 'jason': 4374, 'jasper': 4375, 'jaspernationalpark': 4376, 'java': 4377, 'jax': 4378, 'jay': 4379, 'jaya': 4380, 'jaysus': 4381, 'jazmin': 4382, 'jazz': 4383, 'jb': 4384, 'jcreport': 4385, 'jdjdjdjd': 4386, 'jds': 4387, 'je': 4388, 'jealous': 4389, 'jean': 4390, 'jeb': 4391, 'jebbush': 4392, 'jedzjabłka': 4393, 'jeebus': 4394, 'jeep': 4395, 'jehwan': 4396, 'jelly': 4397, 'jelouse': 4398, 'jemma': 4399, 'jen': 4400, 'jenna': 4401, 'jenni': 4402, 'jennifer': 4403, 'jennyjean': 4404, 'jeremy': 4405, 'jerk': 4406, 'jersey': 4407, 'jeslyn': 4408, 'jess': 4409, 'jesse': 4410, 'jest': 4411, 'jesus': 4412, 'jet': 4413, 'jfc': 4414, 'jgh': 4415, 'jhalak': 4416, 'jhezz': 4417, 'ji': 4418, 'jiba': 4419, 'jilla': 4420, 'jillcruz': 4421, 'jillmill': 4422, 'jim': 4423, 'jimin': 4424, \"jimin's\": 4425, 'jinki': 4426, 'jisoo': 4427, 'jisung': 4428, \"jiyeon's\": 4429, 'jk': 4430, 'jlo': 4431, 'jlovers': 4432, 'jmu': 4433, 'jo': 4434, 'job': 4435, 'joc': 4436, 'joe': 4437, \"joe's\": 4438, 'jog': 4439, 'john': 4440, 'johnforceo': 4441, 'johnyherbert': 4442, 'joim': 4443, 'join': 4444, 'joint': 4445, 'jojo': 4446, 'joke': 4447, 'jokid': 4448, 'jokingly': 4449, 'jolly': 4450, 'jones': 4451, 'jong': 4452, 'jongdae': 4453, 'jonghyun': 4454, 'jonginuh': 4455, 'jordan': 4456, 'jordanian': 4457, 'joselito': 4458, \"josephine's\": 4459, 'josh': 4460, 'jotzh': 4461, 'jouch': 4462, 'journalism': 4463, 'journey': 4464, 'journeyps': 4465, 'journo': 4466, 'journorequest': 4467, 'joy': 4468, 'joyce': 4469, 'jozi': 4470, 'jps': 4471, 'jr': 4472, 'jsl': 4473, 'jst': 4474, 'ju': 4475, 'juan': 4476, 'judge': 4477, 'judging': 4478, 'judgmental': 4479, 'judo': 4480, 'judy': 4481, 'juga': 4482, 'juggle': 4483, 'juice': 4484, 'juicebro': 4485, 'juicy': 4486, 'juja': 4487, 'julia': 4488, 'juliana': 4489, 'julie': 4490, 'july': 4491, 'jumma': 4492, 'jumma_mubarik': 4493, 'jummah': 4494, 'jummamubarak': 4495, 'jummaprayer': 4496, 'jump': 4497, 'jumpgiants': 4498, 'jumpsuit': 4499, 'june': 4500, 'jungle': 4501, 'junhee': 4502, 'junior': 4503, 'junjou': 4504, 'junmyeon': 4505, 'jurassic': 4506, 'jury': 4507, 'justget': 4508, 'justgotkanekified': 4509, 'justice': 4510, 'justiceforsandrabland': 4511, 'justin': 4512, 'justinbieber': 4513, 'justi̇n': 4514, 'jute': 4515, 'juudiciary': 4516, 'k': 4517, 'k3g': 4518, 'ka': 4519, 'kafi': 4520, 'kaha': 4521, 'kahaaa': 4522, 'kahfi': 4523, 'kahlil': 4524, 'kak': 4525, 'kale': 4526, 'kalin': 4527, 'kalle': 4528, \"kam's\": 4529, 'kamaal': 4530, 'kami': 4531, 'kamiss': 4532, 'kandekjs': 4533, 'kang': 4534, 'kangin': 4535, 'kanina': 4536, 'kansai': 4537, 'kanye': 4538, 'kapatidkongpogi': 4539, 'kapima': 4540, 'kar': 4541, 'karachi': 4542, 'karain': 4543, 'karani': 4544, 'karaoke': 4545, \"kareena's\": 4546, 'karen': 4547, 'karibumombasa': 4548, 'karin': 4549, 'karlia': 4550, 'karte': 4551, 'kashi': 4552, 'kasi': 4553, 'kaslkdja': 4554, 'kat': 4555, 'katamari': 4556, 'kate': 4557, 'kateee': 4558, 'katekyn': 4559, 'katerina': 4560, 'kath': 4561, \"kath'd\": 4562, 'kathryn': 4563, 'katie': 4564, 'katmtan': 4565, 'kaussies': 4566, 'kawaii': 4567, 'kaya': 4568, 'kaylas': 4569, 'kayo': 4570, 'kaytranada': 4571, 'kb': 4572, 'kbs': 4573, 'kbye': 4574, 'kca': 4575, 'ke': 4576, 'kebab': 4577, 'kebaya': 4578, 'kebun': 4579, 'keedz': 4580, 'keeno': 4581, 'keep': 4582, 'keepin': 4583, 'keepitlocal': 4584, 'keesh': 4585, 'kei': 4586, 'kelly': 4587, 'ken': 4588, 'kendall': 4589, 'kennat': 4590, 'kennel': 4591, 'kenya': 4592, 'kepler': 4593, 'kepo': 4594, 'kernel': 4595, 'kesa': 4596, 'ketchup': 4597, 'kev': 4598, 'key': 4599, 'keybind': 4600, 'kfc': 4601, 'kfckitchentours': 4602, 'kgola': 4603, 'kha': 4604, 'khamis': 4605, 'khan': 4606, 'khany': 4607, 'kharap': 4608, 'khatam': 4609, 'khawateen': 4610, \"khloe's\": 4611, 'ki': 4612, 'kia': 4613, 'kian': 4614, 'kianweareproud': 4615, 'kick': 4616, 'kickstarter': 4617, 'kid': 4618, 'kidding': 4619, 'kiddo': 4620, 'kidney': 4621, 'kidschoiceawards': 4622, 'kik': 4623, 'kikchat': 4624, 'kikgirl': 4625, 'kikhorny': 4626, 'kikkomansabor': 4627, 'kikme': 4628, 'kikmeboys': 4629, 'kikmeguys': 4630, 'kikmenow': 4631, 'kikmsn': 4632, 'kiksex': 4633, 'kiksexting': 4634, 'kiligs': 4635, 'kill': 4636, 'killer': 4637, 'killin': 4638, 'killua': 4639, 'kim': 4640, 'kimaaani': 4641, 'kin': 4642, 'kina': 4643, \"kinara's\": 4644, 'kind': 4645, 'kinda': 4646, 'kindergarten': 4647, 'kindle': 4648, 'kindly': 4649, 'king': 4650, 'kingdom': 4651, 'kingfisher': 4652, 'kinickers': 4653, 'kink': 4654, 'kinky': 4655, 'kisi': 4656, 'kiss': 4657, 'kissme': 4658, 'kit': 4659, 'kita': 4660, 'kitchen': 4661, 'kitkat': 4662, 'kittehs': 4663, 'kitten': 4664, 'kitty': 4665, 'kiya': 4666, 'kizomba': 4667, 'kk': 4668, 'kkk': 4669, 'klappertart': 4670, 'kleper': 4671, 'km': 4672, 'kme': 4673, 'kms': 4674, 'knee': 4675, 'knife': 4676, 'knitting': 4677, 'kno': 4678, 'knock': 4679, 'knockin': 4680, 'know': 4681, 'know.for': 4682, 'knowing': 4683, 'knowledge': 4684, 'knowww': 4685, 'knw': 4686, 'ko': 4687, 'koala': 4688, 'koe': 4689, 'koel': 4690, 'koffie': 4691, 'koi': 4692, 'kong': 4693, 'konga': 4694, 'korea': 4695, 'korean': 4696, 'koyal': 4697, 'kpop': 4698, 'kresna': 4699, 'krispy': 4700, 'kristin': 4701, 'krta': 4702, 'krystal': 4703, 'krystoria': 4704, 'ksoo': 4705, 'ktksbye': 4706, 'ku': 4707, 'kuch': 4708, 'kuchar': 4709, 'kuching': 4710, 'kuffar': 4711, 'kumble': 4712, 'kumpul': 4713, 'kunoriforceo': 4714, 'kurt': 4715, 'kurta': 4716, 'kw': 4717, 'kyle': 4718, 'kylie': 4719, \"kylie's\": 4720, \"kyungsoo's\": 4721, 'l': 4722, 'l4l': 4723, 'la': 4724, 'lab': 4725, 'label': 4726, 'labour': 4727, \"labour's\": 4728, 'labs': 4729, 'labyo': 4730, 'lace': 4731, 'lack': 4732, 'lad': 4733, 'ladder': 4734, 'ladolcevitainluxembourg@hotmail.com': 4735, 'lady': 4736, \"lady's\": 4737, 'ladygaga': 4738, 'ladyposse': 4739, 'lafayette': 4740, 'lage': 4741, 'lagi': 4742, 'lagiii': 4743, 'lagos': 4744, 'laguna': 4745, 'lah': 4746, 'lahat': 4747, 'lahhh': 4748, 'laid': 4749, 'laine': 4750, 'laiten': 4751, 'lake': 4752, 'lami': 4753, 'lamo': 4754, 'lamon': 4755, 'lan': 4756, 'land': 4757, 'landscape': 4758, 'lang': 4759, 'langkawi': 4760, 'langs': 4761, 'language': 4762, 'lani': 4763, 'lansi': 4764, 'laomma': 4765, 'laomma_couture': 4766, 'lap': 4767, 'lapar': 4768, 'laper': 4769, 'laptop': 4770, 'large': 4771, 'laribuggy': 4772, 'laro': 4773, 'larry': 4774, 'lart': 4775, 'laser-like': 4776, 'lass': 4777, \"lassi's\": 4778, 'last': 4779, 'late': 4780, 'lately': 4781, 'latepost': 4782, 'later': 4783, 'latin': 4784, 'latinhouse': 4785, 'latmon': 4786, 'latte': 4787, 'laugh': 4788, 'laughing': 4789, 'laughter': 4790, 'launch': 4791, 'laura': 4792, 'law': 4793, 'lawn': 4794, 'lawnmower': 4795, 'lay': 4796, 'layer': 4797, 'layout': 4798, 'lazy': 4799, 'lazyweekend': 4800, 'lb': 4801, 'lcs': 4802, 'le': 4803, 'lead': 4804, 'leader': 4805, 'leadership': 4806, 'leaf': 4807, 'league': 4808, 'leak': 4809, 'leanneriner': 4810, 'learn': 4811, 'lease': 4812, 'least': 4813, 'leave': 4814, 'ledger': 4815, \"ledger's\": 4816, 'lee': 4817, 'leeds': 4818, 'leeteuk': 4819, 'left': 4820, 'leftover': 4821, 'leg': 4822, 'lega': 4823, 'legal': 4824, 'legend': 4825, 'legendary': 4826, 'leggete': 4827, 'legible': 4828, 'legit': 4829, 'lego': 4830, 'legs': 4831, 'legsupthewall': 4832, 'leia': 4833, 'leica': 4834, 'leicaq': 4835, 'lemess': 4836, 'lemme': 4837, 'lemon': 4838, 'lendal': 4839, 'leno': 4840, 'leo': 4841, 'leon': 4842, 'lepas': 4843, 'lesbian': 4844, 'lesley': 4845, 'less': 4846, 'lessions': 4847, 'lesson': 4848, 'let': 4849, \"let's\": 4850, 'letsfootball': 4851, 'letsgetmessy': 4852, 'letshavecocktailsafternuclai': 4853, 'letter': 4854, 'level': 4855, 'leviboard': 4856, 'lew': 4857, 'lewis': 4858, 'lfccw': 4859, 'lgbt': 4860, 'li': 4861, 'liam': 4862, 'liat': 4863, 'lib': 4864, 'libmysqlclient-dev': 4865, 'library': 4866, 'licence': 4867, 'liceooo': 4868, 'lick': 4869, 'lie': 4870, 'life': 4871, 'life-so': 4872, 'lifestyle': 4873, 'lifetime': 4874, 'light': 4875, 'lightbox': 4876, 'lighting': 4877, 'ligo': 4878, 'like': 4879, 'likee': 4880, 'likeforfollow': 4881, 'likeforlike': 4882, 'likely': 4883, 'likewise': 4884, 'liking': 4885, 'lil': 4886, 'lils': 4887, 'lilsisbro': 4888, 'lilydale': 4889, 'limbo': 4890, 'limit': 4891, 'limited': 4892, 'limpopo': 4893, 'linda': 4894, 'line': 4895, 'line-up': 4896, 'lineup': 4897, 'linguist': 4898, 'linis': 4899, 'link': 4900, 'linux': 4901, 'lion': 4902, 'lip': 4903, 'lipstick': 4904, 'liquid': 4905, 'liquorice': 4906, 'lisa': 4907, 'lisaherring': 4908, 'list': 4909, 'listen': 4910, 'listenable': 4911, 'lit': 4912, 'literally': 4913, 'literature': 4914, 'litey': 4915, 'litro': 4916, 'little': 4917, 'liv': 4918, 'live': 4919, 'liveonstreamate': 4920, 'liverpool': 4921, 'livesex': 4922, 'livestream': 4923, 'livi': 4924, 'livid': 4925, 'living': 4926, 'liza': 4927, 'lizaminnelli': 4928, 'ljp': 4929, 'llama': 4930, 'llaollao': 4931, 'lloyd': 4932, 'lmao': 4933, 'lmaoo': 4934, 'lmaooo': 4935, 'lmbo': 4936, 'lmfao': 4937, 'lmfaoo': 4938, 'lmfaooo': 4939, 'lng': 4940, 'load': 4941, 'loading': 4942, 'loan': 4943, 'local': 4944, 'localgaragederby': 4945, 'location': 4946, 'lock': 4947, 'lockscreen': 4948, 'loftey': 4949, 'log': 4950, 'logic': 4951, 'login': 4952, 'logo': 4953, 'loiyals': 4954, 'lol': 4955, 'lol.hook': 4956, 'lolipop': 4957, 'lollipop': 4958, 'lolll': 4959, 'lols': 4960, 'lolz': 4961, 'lolzz': 4962, 'london': 4963, 'londondairy': 4964, 'lonely': 4965, 'loner': 4966, 'long': 4967, 'long-distance': 4968, 'longe': 4969, 'longer': 4970, 'longgg': 4971, 'look': 4972, \"look's\": 4973, 'lookfortheo': 4974, 'looks': 4975, 'loool': 4976, 'looong': 4977, 'looove': 4978, 'loop': 4979, 'loose': 4980, 'lootcrate': 4981, 'looww': 4982, 'lord': 4983, 'lorenangel': 4984, 'lori': 4985, 'lorm': 4986, 'lorna': 4987, 'loryn.good@lincs-chamber.co.uk': 4988, 'lose': 4989, 'loser': 4990, 'losing': 4991, 'loss': 4992, 'lot': 4993, 'lotion': 4994, 'lotsa': 4995, 'lottery': 4996, 'loud': 4997, 'louis': 4998, 'louisiana': 4999, 'louisianashooting': 5000, 'lounge': 5001, 'lourdes': 5002, 'louse': 5003, 'lovable': 5004, 'love': 5005, 'lovebird': 5006, 'lovely': 5007, 'lovenafianna': 5008, 'loveofmylife': 5009, 'lover': 5010, 'lovesss': 5011, 'lovesummertime': 5012, 'lovey': 5013, 'loveyaaah': 5014, 'low': 5015, 'lowbat': 5016, 'lower': 5017, 'loyal': 5018, 'lq': 5019, 'lrka': 5020, 'lsa': 5021, 'lsceens': 5022, 'lsh': 5023, 'lt': 5024, 'lu': 5025, 'luas': 5026, 'luceleva': 5027, 'luck': 5028, 'luckely': 5029, 'luckily': 5030, 'lucky': 5031, 'luckyyy': 5032, 'lucozade': 5033, 'lucy': 5034, 'ludlow': 5035, 'luff': 5036, 'luis': 5037, 'luke': 5038, 'lukkkee': 5039, 'lukris': 5040, 'lumia': 5041, 'luminous': 5042, 'luna': 5043, 'lunch': 5044, 'lunes': 5045, 'lungomare': 5046, 'lupet': 5047, 'lure': 5048, 'lurgy': 5049, 'lush': 5050, 'lusi': 5051, 'luv': 5052, 'lux': 5053, 'luxembourg': 5054, 'luxuous': 5055, 'luxurytravel': 5056, 'lvg': 5057, 'lwwf': 5058, 'lycra': 5059, 'lyf': 5060, 'lyin': 5061, 'lyk': 5062, 'lyka': 5063, 'lymond': 5064, 'lynettelowe': 5065, 'lynne': 5066, 'lyric': 5067, 'm': 5068, \"m'lady\": 5069, \"m's\": 5070, 'm20': 5071, 'm4': 5072, 'm5m6junction': 5073, 'm8': 5074, 'maa': 5075, 'maaay': 5076, 'maaf': 5077, 'maas': 5078, 'mac': 5079, 'macauley': 5080, 'macbook': 5081, 'maccies': 5082, 'macedonian': 5083, 'machaya': 5084, 'machinery': 5085, 'mad': 5086, 'madam': 5087, 'madatte': 5088, 'made': 5089, 'madeline': 5090, 'madi': 5091, 'madison': 5092, 'madness': 5093, 'madrid': 5094, 'mady': 5095, 'mag': 5096, 'maganda': 5097, 'magazine': 5098, 'magcon': 5099, 'mager': 5100, 'maggie': 5101, 'magic': 5102, 'magical': 5103, 'magicalkenya': 5104, 'magicalmysterytour': 5105, 'magisa': 5106, 'magnificent': 5107, 'magpaalam': 5108, 'magpie': 5109, 'magstart': 5110, 'mah': 5111, 'mahilig': 5112, 'mahirap': 5113, 'mahnor': 5114, 'mahone': 5115, 'mail': 5116, 'main': 5117, 'maine': 5118, 'mainly': 5119, 'mairi': 5120, 'majhwar': 5121, 'major': 5122, 'mak': 5123, 'makati': 5124, 'make': 5125, 'make-up': 5126, 'makeover': 5127, 'maker': 5128, 'makesme': 5129, 'makeup': 5130, 'making': 5131, 'maknae': 5132, 'maldives': 5133, 'male': 5134, 'malese': 5135, 'malik': 5136, 'mallick': 5137, 'malta': 5138, 'mam': 5139, 'mam-bully': 5140, 'mama': 5141, 'mamabear': 5142, 'mamaya': 5143, 'mamayang': 5144, 'mamma': 5145, 'mammoth': 5146, 'man': 5147, 'man.he': 5148, 'mana': 5149, 'manage': 5150, 'management': 5151, 'manager': 5152, 'manbearpig': 5153, 'manchester': 5154, 'mandela': 5155, 'manga': 5156, 'mango': 5157, 'maniataki': 5158, 'manifestation': 5159, 'manila': 5160, 'manila_bro': 5161, 'manly': 5162, 'mannerfuls': 5163, 'manny': 5164, 'manos': 5165, 'manteca': 5166, 'manthan': 5167, 'manual': 5168, 'manually': 5169, 'manuel': 5170, 'manuella': 5171, 'manush': 5172, 'many': 5173, 'manzano': 5174, 'map': 5175, 'mapbox': 5176, 'maple': 5177, 'mar': 5178, 'mara': 5179, 'marais': 5180, 'marathon': 5181, 'march': 5182, 'marco': 5183, 'mare': 5184, 'margo': 5185, 'maricarljanah': 5186, 'marino': 5187, 'mark': 5188, 'market': 5189, 'marketing': 5190, 'marmite': 5191, 'maroon': 5192, 'marriage': 5193, 'marrickville': 5194, 'married': 5195, 'marrish': 5196, 'marry': 5197, 'marseille': 5198, 'marshmallow': 5199, 'mart': 5200, 'martes': 5201, 'marty': 5202, 'marula': 5203, 'marvel': 5204, 'marvellous': 5205, 'mary': 5206, 'maryhicks': 5207, 'masa': 5208, 'masaan': 5209, 'masaantoday': 5210, 'mash': 5211, \"masha'allah\": 5212, 'mashaket': 5213, 'mashup': 5214, 'mask': 5215, 'mass': 5216, 'massage': 5217, 'massis': 5218, 'massive': 5219, 'master': 5220, 'masterchef': 5221, 'mastership': 5222, 'masud': 5223, 'match': 5224, 'matching': 5225, 'matchy': 5226, 'mate': 5227, 'mateo': 5228, 'mater': 5229, 'material': 5230, 'materialistic': 5231, 'maternity': 5232, 'math': 5233, 'matsu_bouzu': 5234, 'matt': 5235, 'matter': 5236, 'matteroftheheart': 5237, 'matthew': 5238, 'mature': 5239, 'mauliate': 5240, 'mauryas': 5241, 'maverickgamer': 5242, 'max': 5243, 'maxfreshmove': 5244, 'maxi': 5245, 'may': 5246, 'maybe': 5247, 'mayday': 5248, 'mayhem': 5249, 'maymay': 5250, 'mayor': 5251, 'mañana': 5252, 'mb': 5253, 'mba': 5254, 'mbalula': 5255, 'mbasa': 5256, 'mbc': 5257, 'mbf': 5258, 'mbulelo': 5259, 'mca': 5260, 'mcdo': 5261, 'mcfc': 5262, 'mcfloat': 5263, 'mcflurry': 5264, 'mcg': 5265, 'mclaren': 5266, 'mcnuggets': 5267, 'mcountdown': 5268, 'mcpe': 5269, 'me.so': 5270, 'meal': 5271, 'mean': 5272, 'meaningful': 5273, 'meaningless': 5274, 'meant': 5275, 'meany': 5276, 'measure': 5277, 'meat': 5278, 'mecha-totems': 5279, 'mechanic': 5280, 'meck': 5281, 'med': 5282, 'medication': 5283, 'medicine': 5284, 'meditation': 5285, 'medium': 5286, 'mee': 5287, 'meee': 5288, 'meet': 5289, 'meeting': 5290, 'meg': 5291, 'mega': 5292, 'megafauna': 5293, 'megamoh': 5294, 'megan': 5295, 'meh': 5296, 'mehendi': 5297, 'mehtab': 5298, 'mein': 5299, 'mel': 5300, 'melatonin': 5301, 'melbourne': 5302, 'melbournetrip': 5303, 'melody': 5304, \"melody's\": 5305, 'melon': 5306, 'melt': 5307, 'member': 5308, 'meme': 5309, 'mememe': 5310, 'memorization': 5311, 'memory': 5312, 'memotohaters': 5313, 'men': 5314, 'menace': 5315, 'mend': 5316, 'mene': 5317, 'meni': 5318, 'menille': 5319, 'mental': 5320, 'mentality': 5321, 'mentally': 5322, 'mention': 5323, 'menu': 5324, 'meooowww': 5325, 'mercedes': 5326, 'merch': 5327, 'merchs': 5328, 'merci': 5329, 'mercy': 5330, 'merdeka': 5331, 'mere': 5332, 'meri': 5333, 'merlin': 5334, 'merry': 5335, 'mesh': 5336, 'mess': 5337, 'message': 5338, 'messenger': 5339, 'messy': 5340, 'meter': 5341, 'meth': 5342, 'mexican': 5343, 'mexico': 5344, 'meydan': 5345, 'mfundo': 5346, 'mga': 5347, 'mhhh': 5348, 'mi': 5349, 'mia': 5350, 'miah': 5351, 'miami': 5352, 'mic': 5353, 'michael': 5354, \"michael's\": 5355, 'michelle': 5356, 'micro': 5357, \"microsoft's\": 5358, 'mid-end': 5359, 'middle': 5360, 'midnight': 5361, 'midori': 5362, 'might': 5363, 'mighty': 5364, 'migraine': 5365, 'migrant': 5366, 'mike': 5367, 'milano': 5368, 'mile': 5369, 'mileage': 5370, 'milf': 5371, 'milk': 5372, 'milkshake': 5373, 'miller': 5374, 'millie': 5375, \"millie's\": 5376, 'million': 5377, 'millz': 5378, 'milo': 5379, 'mimi': 5380, 'min': 5381, 'minal': 5382, 'mince': 5383, 'mind': 5384, 'mine': 5385, \"mine's\": 5386, 'minecon': 5387, 'minecraft': 5388, 'ming': 5389, 'mingming': 5390, 'minha': 5391, 'minhyuks': 5392, 'minister': 5393, 'minju': 5394, 'minkyuk': 5395, 'mino': 5396, 'mint': 5397, 'minute': 5398, 'minuter': 5399, 'miracle': 5400, 'mirror': 5401, 'mischievousness': 5402, 'miserable': 5403, 'misplace': 5404, 'miss': 5405, 'missin': 5406, 'misspell': 5407, 'missyou': 5408, 'mist': 5409, 'mistake': 5410, 'mister': 5411, 'mistress': 5412, 'misty': 5413, 'misundersranding': 5414, \"mit's\": 5415, 'mix': 5416, 'mixcloud': 5417, 'mixed': 5418, 'mixer': 5419, 'mixtape': 5420, 'mixture': 5421, 'mj': 5422, 'mjhe': 5423, 'mka': 5424, 'mm': 5425, 'mmm': 5426, 'mmmm': 5427, 'mmsmalubhangsakit': 5428, 'mne': 5429, 'mnwreeen': 5430, 'mo': 5431, 'moan': 5432, 'moar': 5433, 'mob': 5434, 'mobile': 5435, 'mobitel': 5436, 'mochamichelle': 5437, 'mockingbird': 5438, 'mockingjay': 5439, 'mode': 5440, 'model': 5441, 'modern': 5442, 'modi': 5443, 'modified': 5444, 'modimo': 5445, 'mohapatra': 5446, 'mohr': 5447, 'moisturize': 5448, 'mojo': 5449, 'mom': 5450, \"mom's\": 5451, 'mombasa': 5452, 'moment': 5453, 'momma': 5454, 'mommy': 5455, \"mommy's\": 5456, 'momo': 5457, 'mon': 5458, 'monash': 5459, 'monday': 5460, 'money': 5461, 'monfils': 5462, 'monica': 5463, 'monkey': 5464, 'mono': 5465, 'monsoon': 5466, 'monster': 5467, 'montana': 5468, 'monteith': 5469, 'month': 5470, 'monthly': 5471, 'montoya': 5472, \"monty's\": 5473, 'moo': 5474, 'mood': 5475, 'mood-dump': 5476, 'moodboster': 5477, 'moose': 5478, 'morality': 5479, \"morisette's\": 5480, 'mork': 5481, 'mornin': 5482, 'morning': 5483, 'morocco': 5484, 'morrrning': 5485, 'mosque': 5486, 'mosquito': 5487, 'mosquitoe': 5488, 'most': 5489, 'mostly': 5490, 'motavators': 5491, 'mother': 5492, 'motherfucking': 5493, 'motilium': 5494, 'motivate': 5495, 'motn': 5496, 'motor': 5497, 'motorsport': 5498, 'mount': 5499, 'mouse': 5500, 'mouth': 5501, 'move': 5502, 'moved': 5503, 'movement': 5504, 'movie': 5505, 'moviee': 5506, 'moviemarathon': 5507, 'movnat': 5508, 'mp3': 5509, 'mpoints': 5510, 'mr': 5511, 'mr2': 5512, 'msc': 5513, 'msg': 5514, 'msged': 5515, 'msnbc': 5516, 'mtaani': 5517, 'mtg': 5518, 'mtn': 5519, 'mtvhottest': 5520, 'muaahhh': 5521, 'muahah': 5522, 'muahhh': 5523, 'mubank': 5524, 'mubarak': 5525, 'mubarik': 5526, 'mubark': 5527, 'much': 5528, 'muchhh': 5529, 'muddle': 5530, 'muddy': 5531, 'muertosatfringe': 5532, 'mufc': 5533, 'mug': 5534, 'mugshot': 5535, 'mui': 5536, 'mujy': 5537, 'mull': 5538, 'muller': 5539, 'multiracial': 5540, 'mum': 5541, 'mumbai': 5542, 'mumma': 5543, 'muna': 5544, 'munchkin': 5545, 'munchkins': 5546, 'mune': 5547, 'muntu': 5548, 'murder': 5549, 'murielle': 5550, 'murugan': 5551, 'mush': 5552, 'mushroom': 5553, 'music': 5554, 'musicas': 5555, 'musicbiz': 5556, 'musicology': 5557, 'muslim': 5558, 'muslims': 5559, 'mussel': 5560, 'must': 5561, \"must've\": 5562, 'muster': 5563, 'mustread': 5564, 'mute': 5565, 'mutt': 5566, 'mutual': 5567, 'mutuals': 5568, 'muv': 5569, 'mvg': 5570, 'mwa': 5571, 'mwah': 5572, 'mwamwa': 5573, 'mwf': 5574, 'mybrainneedstoshutoff': 5575, 'mych': 5576, 'myhill': 5577, 'mymonsoonstory': 5578, 'mypapamypride': 5579, 'mypark': 5580, 'mysql': 5581, 'mystery': 5582, 'mysummer': 5583, 'mythic': 5584, 'myungsoo': 5585, 'mz': 5586, 'méxico': 5587, 'n': 5588, 'n04js': 5589, 'na': 5590, 'na-take': 5591, 'naa': 5592, 'naaahhh': 5593, 'naaan': 5594, 'nachos': 5595, 'nad': 5596, 'nadal': 5597, 'nae': 5598, 'naeun': 5599, 'nag': 5600, 'nag.greet': 5601, 'nagato': 5602, 'naggy': 5603, 'nagsend': 5604, 'nah': 5605, 'nahi': 5606, 'nai': 5607, 'nail': 5608, 'nailedit': 5609, 'nairobi': 5610, 'najam': 5611, 'nak': 5612, 'nakaka': 5613, 'nakamaforever': 5614, 'naked': 5615, 'nalamannn': 5616, 'naman': 5617, 'name': 5618, 'namechecking': 5619, 'nams': 5620, 'nancy': 5621, \"nando's\": 5622, 'naomi': 5623, 'nap': 5624, 'narcissist': 5625, 'narcos': 5626, 'narendra': 5627, 'narrow': 5628, 'narrow-minded': 5629, 'naruto': 5630, 'nash': 5631, 'nasty': 5632, 'nat': 5633, 'nate': 5634, 'natgeo': 5635, 'nathan': 5636, 'nathanielhinanakit': 5637, 'nathann': 5638, 'nation': 5639, 'national': 5640, 'native': 5641, 'natsuki': 5642, 'natural': 5643, 'navigate': 5644, 'naw': 5645, 'nawf': 5646, 'nawwwe': 5647, 'nawwwee': 5648, 'naya': 5649, 'nb': 5650, 'nba': 5651, 'nbheroes': 5652, 'nc': 5653, 'ncaaseason': 5654, 'ncc': 5655, 'nd': 5656, 'ndee': 5657, 'ndi': 5658, 'ne': 5659, 'neals': 5660, 'near': 5661, 'nearer': 5662, 'nearly': 5663, 'neat-o': 5664, 'necessary': 5665, 'necklace': 5666, 'need': 5667, 'needa': 5668, 'needicecreamnow': 5669, 'neeein': 5670, 'negate': 5671, 'neglected': 5672, 'negooo': 5673, 'negotiable': 5674, 'negotiate': 5675, 'neh': 5676, 'neighbour': 5677, 'neil': 5678, 'nein': 5679, 'neither': 5680, 'nelle': 5681, 'nelson': 5682, 'nemanja': 5683, 'nemesis': 5684, 'neng': 5685, 'neon': 5686, 'nerd': 5687, 'nerve': 5688, 'net': 5689, 'netball': 5690, 'netfilx': 5691, 'netflix': 5692, 'netherlands': 5693, 'netizen': 5694, 'netsec': 5695, 'network': 5696, 'never': 5697, 'new': 5698, 'newbethvideo': 5699, 'newbie': 5700, 'newblogpost': 5701, 'newly': 5702, 'newmusic': 5703, 'news': 5704, 'newsdistribution': 5705, 'newsletter': 5706, 'newsround': 5707, 'newwine': 5708, 'newyork': 5709, 'nex': 5710, 'next': 5711, 'nextweek': 5712, 'nez': 5713, 'nfinite': 5714, 'ng': 5715, 'nga': 5716, 'ngarepfollbackdarinabilahjkt': 5717, 'ngee': 5718, 'ngeze': 5719, 'ngga': 5720, 'ngi': 5721, 'ngucapinnya': 5722, 'nh': 5723, 'nhe': 5724, 'nhi': 5725, 'nhl': 5726, 'nhs': 5727, 'ni': 5728, 'nia': 5729, 'niaaa': 5730, 'niall': 5731, 'niam': 5732, 'niamh': 5733, 'nibble': 5734, 'nic': 5735, 'nice': 5736, 'nicely': 5737, 'nichola': 5738, 'nicholas': 5739, 'nick': 5740, 'nicki': 5741, 'nickname': 5742, 'nickyyy': 5743, 'nicola': 5744, 'nicoleapage': 5745, 'niece': 5746, 'niende': 5747, 'nigeria': 5748, 'nigga': 5749, 'niggs': 5750, 'night': 5751, \"night's\": 5752, 'nighter': 5753, 'nightmare': 5754, 'nighty': 5755, 'nike': 5756, 'nikeindonesia': 5757, 'nikeoriginal': 5758, 'nikkei': 5759, 'nikki': 5760, 'nil': 5761, 'nila': 5762, 'nim': 5763, 'ninasty': 5764, 'ninh': 5765, 'nintendo': 5766, 'niqqa': 5767, 'nirvana': 5768, 'nisrina': 5769, 'nite': 5770, 'niwll': 5771, 'nixus': 5772, 'nj': 5773, 'nje': 5774, 'njoy': 5775, 'nk': 5776, 'nknkkpagpapakumbaba': 5777, 'nls': 5778, 'nm': 5779, 'no-no': 5780, 'no1': 5781, 'nobody': 5782, 'nocturnal': 5783, 'node': 5784, 'noe': 5785, 'noesss': 5786, 'noggin': 5787, 'noise': 5788, 'nominate': 5789, 'nominiere': 5790, 'nomoney': 5791, 'noms': 5792, 'non': 5793, 'non-filipina': 5794, 'non-mapbox': 5795, 'non-trial': 5796, 'nonce': 5797, 'none': 5798, 'nonexistent': 5799, 'nonscripted': 5800, 'noo': 5801, 'noob': 5802, 'noodle': 5803, 'noon': 5804, 'noone': 5805, 'nooo': 5806, 'noooo': 5807, 'nooope': 5808, 'nooot': 5809, 'nooow': 5810, 'nope': 5811, 'norapowel': 5812, 'norhing': 5813, 'normal': 5814, 'normally': 5815, 'north': 5816, 'northern': 5817, 'norwegian': 5818, 'nose': 5819, 'nosebleed': 5820, 'nosmet': 5821, 'nostalgia': 5822, 'notanapology': 5823, 'notch': 5824, 'notcool': 5825, 'note': 5826, 'notgonnabeactivefor': 5827, 'nothaveld': 5828, 'nothing': 5829, 'notice': 5830, 'noticed': 5831, 'noticing': 5832, 'notification': 5833, 'notifs': 5834, 'notion': 5835, 'notr': 5836, 'nou': 5837, 'novel': 5838, 'november': 5839, 'nowadays': 5840, 'nowdays': 5841, 'nowhere': 5842, 'nowplaying': 5843, 'nowt': 5844, 'nowww': 5845, 'np': 5846, 'nrltigersroosters': 5847, 'nsbzhdnxndamal': 5848, 'nsfw': 5849, 'nsn_supplements': 5850, 'nstp': 5851, 'nt4': 5852, 'nth': 5853, 'nu-uh': 5854, 'nuclear': 5855, 'nude': 5856, 'nudes': 5857, 'nudge': 5858, 'nugget': 5859, 'nuka': 5860, 'numb': 5861, 'number': 5862, 'numbero': 5863, 'nun': 5864, 'nurse': 5865, 'nutella': 5866, 'nutshell': 5867, 'nux': 5868, 'nvm': 5869, 'nvr': 5870, 'nw': 5871, 'nwb': 5872, 'nxt': 5873, 'ny': 5874, 'nyc': 5875, 'nyquil': 5876, 'nys': 5877, 'nz': 5878, 'népal': 5879, \"o'clock\": 5880, \"o'neal\": 5881, 'o_o': 5882, 'ob': 5883, 'obakeng': 5884, 'obama': 5885, 'obamainkenya': 5886, 'obi': 5887, 'obituary': 5888, 'obsess': 5889, 'obsession': 5890, 'obstacle': 5891, 'obvious': 5892, 'obviously': 5893, 'obvs': 5894, 'obyun': 5895, 'occasion': 5896, 'occasionally': 5897, 'occur': 5898, 'ocean': 5899, 'oche': 5900, 'oct': 5901, 'october': 5902, 'odd': 5903, 'odds': 5904, 'ode': 5905, 'odoo': 5906, 'oe': 5907, 'ofc': 5908, 'offboarding': 5909, 'offend': 5910, 'offense': 5911, 'offensive': 5912, 'offer': 5913, 'office': 5914, 'official': 5915, 'officially': 5916, 'offline': 5917, 'offroading': 5918, 'offshoring': 5919, 'ofscreen': 5920, 'often': 5921, 'oh': 5922, 'ohaha': 5923, 'ohgod': 5924, 'ohh': 5925, 'ohhh': 5926, 'ohioan': 5927, 'ohmyg': 5928, 'ohmygod': 5929, 'oi': 5930, 'oil': 5931, 'oily': 5932, 'oitnb': 5933, 'ok': 5934, 'okay': 5935, 'okay-ish': 5936, 'okayy': 5937, 'okayyy': 5938, 'okie': 5939, 'okkay': 5940, 'okok': 5941, 'ol': 5942, 'old': 5943, \"old's\": 5944, 'old-porridge': 5945, 'older': 5946, 'oldie': 5947, 'oldschool': 5948, 'ole': 5949, 'oley': 5950, 'olive': 5951, 'olivia': 5952, 'oliviafowles': 5953, 'olly': 5954, 'olur': 5955, 'olympic': 5956, 'om': 5957, 'omar': 5958, 'omaygad': 5959, 'omegle': 5960, 'omfg': 5961, 'omg': 5962, 'omgg': 5963, 'omggg': 5964, 'on-board': 5965, 'on-pack': 5966, 'onair': 5967, 'one': 5968, 'onion': 5969, 'onkey': 5970, 'online': 5971, 'onscreen': 5972, 'ontheroadagain': 5973, 'onting': 5974, 'onto': 5975, 'onwards': 5976, 'onyu': 5977, 'oo': 5978, 'ooh': 5979, 'oomf': 5980, 'ooohh': 5981, 'ooooh': 5982, 'ooops': 5983, 'ooouch': 5984, 'oops': 5985, 'ooze': 5986, 'op': 5987, 'open': 5988, 'opener': 5989, 'openfollow': 5990, 'opening': 5991, 'operator': 5992, 'opi': 5993, 'opinion': 5994, 'opixer': 5995, 'opossum': 5996, 'oppa': 5997, 'oppayaa': 5998, 'opportune': 5999, 'opportunity': 6000, 'oppose': 6001, 'opposite': 6002, 'oppressed': 6003, 'opt': 6004, 'opt-outed': 6005, 'optimisation': 6006, 'optimize': 6007, 'option': 6008, 'oracle': 6009, 'oralsex': 6010, 'orang': 6011, 'orange': 6012, 'orayt': 6013, 'orcalove': 6014, 'orchard': 6015, 'orchestra': 6016, 'order': 6017, 'ordinary': 6018, 'ore': 6019, 'oreo': 6020, 'organic': 6021, 'organisation': 6022, 'organization': 6023, 'orgasm': 6024, 'orhan': 6025, 'orig': 6026, 'origin': 6027, 'original': 6028, 'originally': 6029, 'originate': 6030, 'orleans': 6031, 'orphan': 6032, 'orz': 6033, 'os': 6034, 'oscar': 6035, 'osea': 6036, 'oshieer': 6037, 'osteopath': 6038, 'otamendi': 6039, 'otani': 6040, 'oth': 6041, 'others': 6042, 'otherwise': 6043, 'otl': 6044, 'otp': 6045, \"otp's\": 6046, 'otter': 6047, 'otw': 6048, 'otwol': 6049, 'otwolgrandtrailer': 6050, 'ou': 6051, 'ouat': 6052, 'ouch': 6053, 'ought': 6054, 'ouh': 6055, 'ourdaughtersourpride': 6056, 'ourdisneyinfinity': 6057, 'outboarding': 6058, 'outdated': 6059, 'outdoor': 6060, 'outfit': 6061, 'outfwith': 6062, 'outie': 6063, 'outlive': 6064, 'outlying': 6065, 'outnumber': 6066, 'outraged': 6067, 'outside': 6068, 'outstanding': 6069, 'outta': 6070, 'outtake': 6071, 'ouucchhh': 6072, 'ov': 6073, 'oval': 6074, 'oven': 6075, 'overcast': 6076, 'overdraw': 6077, 'overdue': 6078, 'overgeneralization': 6079, 'overload': 6080, 'overly': 6081, 'overnight': 6082, 'overweight': 6083, 'overwhelming': 6084, 'overwhelmingly': 6085, 'ovh': 6086, 'owe': 6087, 'owl': 6088, 'owly': 6089, 'own': 6090, 'owner': 6091, 'owww': 6092, 'p': 6093, 'p2': 6094, 'p90': 6095, 'p90x': 6096, 'pa': 6097, 'pa-copy': 6098, 'paalam': 6099, 'pabebe': 6100, 'pabebegirls': 6101, 'pack': 6102, 'package': 6103, 'packing': 6104, 'pad': 6105, 'paddock': 6106, 'page': 6107, 'pain': 6108, 'paindo': 6109, 'painful': 6110, 'paint': 6111, 'painting': 6112, 'pair': 6113, 'pairing': 6114, 'pak': 6115, 'pake': 6116, 'pakighinabi': 6117, 'pakistan': 6118, 'pakistani': 6119, 'pal': 6120, 'pala': 6121, 'palace': 6122, 'pale': 6123, 'palembang': 6124, 'pallavi': 6125, 'pamer': 6126, 'pampanga': 6127, 'pamper': 6128, 'pamuk': 6129, 'panas': 6130, 'pancake': 6131, 'panda': 6132, 'pandimensional': 6133, 'pandora': 6134, 'panel': 6135, 'panem': 6136, 'panga': 6137, 'panic': 6138, 'pano': 6139, 'pant': 6140, 'panty': 6141, 'papa': 6142, 'paper': 6143, 'paperboy': 6144, 'papertown': 6145, \"paperwhite's\": 6146, 'para': 6147, 'parade': 6148, 'paradise': 6149, 'paralysis': 6150, 'paralyze': 6151, 'paramedic': 6152, 'parasyte': 6153, 'parcel': 6154, 'pardon': 6155, 'parent': 6156, 'parijat': 6157, 'paris': 6158, 'parisa': 6159, 'park': 6160, 'parkshare': 6161, 'parrot': 6162, 'part': 6163, 'participate': 6164, 'particular': 6165, 'particularly': 6166, 'parting': 6167, 'partly': 6168, 'partner': 6169, 'party': 6170, \"party's\": 6171, 'pas': 6172, 'pass': 6173, 'passing': 6174, 'passport': 6175, 'password': 6176, 'past': 6177, 'paste': 6178, 'patch': 6179, 'path': 6180, 'pathor': 6181, 'pathway': 6182, 'patience': 6183, 'patient': 6184, 'patiently': 6185, 'patml': 6186, 'patrice': 6187, 'patriotism': 6188, 'patron': 6189, 'pattern': 6190, 'patty': 6191, 'paul': 6192, 'pauline': 6193, 'pause': 6194, 'pausetime': 6195, 'paw': 6196, 'pay': 6197, 'payment': 6198, 'payne': 6199, 'paypal': 6200, 'pb.contestants': 6201, 'pbb': 6202, 'pbevent': 6203, 'pbr': 6204, 'pc': 6205, 'pcb': 6206, 'pchelok': 6207, 'pd': 6208, 'pdf': 6209, 'pe': 6210, 'pea': 6211, 'peace': 6212, 'peaceful': 6213, 'peacefully': 6214, 'peachyloans': 6215, 'peak': 6216, 'peanut': 6217, 'pearl': 6218, 'pearson': 6219, 'peasant': 6220, 'pebble': 6221, 'pech': 6222, 'pedal': 6223, 'pedant': 6224, 'pee': 6225, 'peek': 6226, 'peel': 6227, 'peep': 6228, 'pefumery': 6229, 'pegea': 6230, 'pegell': 6231, 'pehly': 6232, 'pen': 6233, 'penacova': 6234, 'penis': 6235, 'penny': 6236, 'penrith': 6237, 'pension': 6238, 'penthouse': 6239, 'penyfan': 6240, 'people': 6241, \"people's\": 6242, 'pepper': 6243, 'pepsi': 6244, 'per': 6245, 'percentage': 6246, 'peregrine': 6247, 'perf': 6248, 'perfect': 6249, 'perfection': 6250, 'perfectly': 6251, 'perform': 6252, 'performance': 6253, 'perfume': 6254, 'perhaps': 6255, 'period': 6256, 'periscope': 6257, 'permission': 6258, 'pero': 6259, 'person': 6260, 'persona': 6261, 'personal': 6262, 'personalise': 6263, 'personality': 6264, 'perspective': 6265, 'persuade': 6266, 'peru': 6267, 'pervert': 6268, 'pesaro': 6269, 'peso': 6270, 'pet': 6271, 'petaling': 6272, 'pete': 6273, 'peter': 6274, 'petite': 6275, 'petjam': 6276, 'petra': 6277, 'petrol': 6278, 'peyton': 6279, 'pfb': 6280, 'pfff': 6281, 'pfft': 6282, 'pglcsgo': 6283, 'pgs': 6284, 'ph': 6285, 'phandroid': 6286, 'phantasy': 6287, 'pharma': 6288, 'phase': 6289, 'phela': 6290, 'phenomenal': 6291, 'phil': 6292, 'phileas': 6293, 'philippa': 6294, 'philippine': 6295, 'philly': 6296, 'philosophical': 6297, 'phir': 6298, 'phl': 6299, \"phoebe's\": 6300, 'phone': 6301, 'phonegraphs': 6302, 'phonesex': 6303, 'photo': 6304, 'photocards': 6305, 'photograph': 6306, 'photographer': 6307, 'photooftheday': 6308, 'photoset': 6309, 'photoshooot': 6310, 'photoshoot': 6311, 'photoshop': 6312, 'php': 6313, \"php's\": 6314, 'phrase': 6315, 'phulani': 6316, 'physic': 6317, 'physical': 6318, 'physically': 6319, 'physiotherapy': 6320, 'physique': 6321, 'pi': 6322, 'piano': 6323, 'pic': 6324, 'pic.twitter.com/jxz2lbv6o': 6325, 'pick': 6326, 'picking': 6327, 'picky': 6328, 'picnic': 6329, 'picts': 6330, 'picture': 6331, 'pie': 6332, 'piece': 6333, 'pier': 6334, 'pierce': 6335, 'pierojogger': 6336, 'pig': 6337, 'pigeon': 6338, 'piggin': 6339, 'pijjabłka': 6340, 'pikami': 6341, 'pile': 6342, 'pill': 6343, 'pillar': 6344, 'pilllow': 6345, 'pin': 6346, 'pining': 6347, 'pink': 6348, 'pinkeu': 6349, 'pinkfinite': 6350, 'pinya': 6351, 'pip': 6352, 'pipe': 6353, 'pippa': 6354, 'pirouette': 6355, 'pish': 6356, 'piss': 6357, 'pistol': 6358, 'pit': 6359, 'pitbull': 6360, 'pitchwars': 6361, 'pitmantraining': 6362, 'pity': 6363, \"pixar's\": 6364, 'pixelated': 6365, 'pixels': 6366, 'pixgram': 6367, 'pizza': 6368, 'pjs': 6369, 'pkwalasawaal': 6370, 'place': 6371, 'plague': 6372, 'plain': 6373, 'plan': 6374, 'plane': 6375, 'planet': 6376, 'planner': 6377, 'planning': 6378, 'plant': 6379, 'plaster': 6380, 'platonic': 6381, 'play': 6382, 'playables': 6383, 'player': 6384, 'playin': 6385, 'playing': 6386, 'playlist': 6387, 'playstation': 6388, 'plea': 6389, 'pleaaase': 6390, 'pleasant': 6391, 'pleasanton': 6392, 'please': 6393, 'pleased': 6394, 'pleaseee': 6395, 'pleass': 6396, 'pleasse': 6397, 'pleasure': 6398, 'pledge': 6399, 'plezzz': 6400, 'pliss': 6401, 'plisss': 6402, 'pll': 6403, 'plot': 6404, 'pls': 6405, 'plss': 6406, 'plsss': 6407, 'pluckersss': 6408, 'plug': 6409, 'plug.dj': 6410, 'plugin': 6411, 'plus': 6412, 'plush': 6413, 'plusmiles': 6414, 'ply': 6415, 'plz': 6416, 'pm': 6417, 'po': 6418, 'poc': 6419, 'pocket': 6420, 'pod': 6421, 'poem': 6422, 'poetry': 6423, 'point': 6424, 'poison': 6425, 'poisoning': 6426, 'pokemon': 6427, 'polaroid': 6428, 'poldi': 6429, 'police': 6430, 'polish': 6431, 'polite': 6432, 'political': 6433, 'politician': 6434, 'politics': 6435, 'polka': 6436, 'pollution': 6437, 'pon': 6438, 'pong': 6439, 'pony': 6440, 'pool': 6441, 'pooo': 6442, 'poootek': 6443, 'poop': 6444, 'poopie': 6445, 'poor': 6446, 'poorly': 6447, 'pop': 6448, 'popcorn': 6449, 'popol': 6450, 'poppin': 6451, 'popsicle': 6452, 'popular': 6453, 'popularity': 6454, 'por': 6455, 'pora': 6456, 'porch': 6457, 'porn': 6458, 'porno': 6459, 'porosh': 6460, 'porsche': 6461, 'porschesupercup': 6462, 'portrait': 6463, 'portsmouth': 6464, 'portugal': 6465, 'pose': 6466, 'posey': 6467, 'positive': 6468, 'possible': 6469, 'possibly': 6470, 'possitve': 6471, 'post': 6472, 'postcode': 6473, 'postie': 6474, 'postive': 6475, 'postpone': 6476, 'pot': 6477, 'potager': 6478, 'potato': 6479, 'potentially': 6480, 'pothole': 6481, 'potter': 6482, 'pou': 6483, 'pounce': 6484, 'pour': 6485, 'pouring': 6486, 'pout': 6487, 'povertyyouareevil': 6488, 'powder': 6489, 'power': 6490, 'powerful': 6491, 'powerpoint': 6492, 'powys': 6493, 'ppl': 6494, 'pr': 6495, 'practice': 6496, 'practicing': 6497, 'prada': 6498, 'pramis': 6499, 'pray': 6500, 'prayer': 6501, 'pre': 6502, 'pre-holiday': 6503, 'pre-ordered': 6504, 'pre-season': 6505, 'precious': 6506, 'predict': 6507, 'prefer': 6508, 'preferred': 6509, 'preform': 6510, 'pregnancy': 6511, 'pregnant': 6512, 'prelim': 6513, 'premiere': 6514, 'premiostumundo': 6515, 'premiun': 6516, 'preorder': 6517, 'prepare': 6518, 'prepay': 6519, 'prescott': 6520, 'prescription': 6521, 'present': 6522, 'presentation': 6523, 'president': 6524, 'press': 6525, 'pressrelease': 6526, 'pressure': 6527, 'pret': 6528, 'pretend': 6529, 'pretoria': 6530, 'pretty': 6531, 'pretzel': 6532, 'prevalent': 6533, 'preview': 6534, 'previous': 6535, 'prexy': 6536, 'prey': 6537, 'pri': 6538, 'price': 6539, 'pricelessantique': 6540, 'pride': 6541, 'prima': 6542, 'prime': 6543, 'prince': 6544, 'princess': 6545, 'principal': 6546, 'prinsesa': 6547, 'print': 6548, 'printer': 6549, 'printing': 6550, 'prior': 6551, 'priority': 6552, 'pris': 6553, 'prisss': 6554, 'privacy': 6555, 'private': 6556, 'privilege': 6557, 'prize': 6558, 'pro': 6559, 'pro@illamasqua.com': 6560, 'proactive': 6561, 'prob': 6562, 'prob.nice': 6563, 'probably': 6564, 'problem': 6565, 'problematic': 6566, 'problemmm': 6567, 'probs': 6568, 'procedure': 6569, 'process': 6570, 'procrastinate': 6571, 'produce': 6572, 'producer': 6573, 'product': 6574, 'productive': 6575, 'profile': 6576, 'program': 6577, 'programme': 6578, 'progress': 6579, 'progrmr': 6580, 'project': 6581, 'prokabaddi': 6582, 'prolly': 6583, 'promethazine': 6584, 'promise': 6585, 'promo': 6586, 'promos': 6587, 'promote': 6588, 'promoted': 6589, 'promotion': 6590, 'promotional': 6591, 'prompt': 6592, 'pronounce': 6593, 'propa': 6594, 'proper': 6595, 'properly': 6596, 'property': 6597, 'prophet': 6598, 'proposal': 6599, 'propose': 6600, 'propriety': 6601, 'prosecco': 6602, 'protect': 6603, 'protection': 6604, 'protein': 6605, 'proud': 6606, 'proudtobeme': 6607, 'prove': 6608, 'proverb': 6609, 'provide': 6610, 'provoke': 6611, 'prrequest': 6612, 'prydz': 6613, 'ps3': 6614, 'ps4': 6615, 'psychopaths': 6616, 'psygustokita': 6617, 'pta': 6618, 'pti': 6619, 'ptsd': 6620, 'pub': 6621, 'pubcast': 6622, 'pubes': 6623, 'public': 6624, 'publication': 6625, 'publilius': 6626, 'pubs': 6627, 'pud': 6628, 'puddle': 6629, 'puffy': 6630, 'puhon': 6631, 'puke': 6632, 'pull': 6633, 'pump': 6634, 'pumpkin': 6635, 'pun': 6636, 'punt': 6637, 'pup': 6638, 'puppy': 6639, 'purchase': 6640, 'pure': 6641, 'purrthos': 6642, 'purty': 6643, 'push': 6644, 'pusher': 6645, 'pussy': 6646, 'pussycats': 6647, 'put': 6648, 'putovanja': 6649, 'pwrfl': 6650, 'pyaari': 6651, 'pyaaz': 6652, 'pyjama': 6653, 'pz': 6654, 'q': 6655, \"q'don\": 6656, 'qatarday': 6657, 'qih': 6658, 'qt': 6659, 'quacketyquack': 6660, 'quad': 6661, 'qualify': 6662, 'quality': 6663, 'quan': 6664, 'quantum': 6665, 'que': 6666, 'queen': 6667, 'queenesther': 6668, 'query': 6669, 'question': 6670, 'quetiapine': 6671, 'quezon': 6672, 'qui': 6673, 'quick': 6674, 'quicker': 6675, 'quickly': 6676, 'quiet': 6677, 'quietly': 6678, 'quit': 6679, 'quite': 6680, 'quiz': 6681, 'quote': 6682, 'quuuee': 6683, 'r': 6684, \"r'ships\": 6685, 'r2d2': 6686, 'rabbit': 6687, 'race': 6688, 'rachel': 6689, 'racial': 6690, 'racing': 6691, 'racist': 6692, 'racket': 6693, 'rad': 6694, 'radio': 6695, 'rage': 6696, 'raha': 6697, 'raheel': 6698, 'raid': 6699, 'railway': 6700, 'rain': 6701, 'raincoat': 6702, 'raining': 6703, 'rainy': 6704, 'raise': 6705, 'raiz': 6706, 'rajnigandha': 6707, 'rajud': 6708, 'rakhi': 6709, 'rakna': 6710, 'rakyat': 6711, 'rally': 6712, 'ram': 6713, 'ramadhan': 6714, 'ramd': 6715, 'ramos': 6716, 'ramzan': 6717, 'rancho': 6718, 'rand': 6719, 'random': 6720, 'randomly': 6721, 'randomreboot': 6722, 'randomrestart': 6723, 'randy': 6724, 'range': 6725, 'rank': 6726, 'ranking': 6727, 'rant': 6728, 'rape': 6729, 'rapist': 6730, 'rapper': 6731, 'rappings': 6732, 'rapunzel': 6733, 'rare': 6734, 'rarely': 6735, 'rash': 6736, 'rashmi': 6737, 'raspberry': 6738, 'rat': 6739, 'rata': 6740, 'ratbaglater': 6741, 'rate': 6742, 'rather': 6743, 'rattle': 6744, 'ravage': 6745, 'rave': 6746, 'raven': 6747, 'raw': 6748, 'ray': 6749, \"ray's\": 6750, 'razi': 6751, 'razzist': 6752, 'rbi': 6753, 'rdd': 6754, 're-cap': 6755, 're-watch': 6756, 'reaally': 6757, 'reaaly': 6758, 'reaapearing': 6759, 'reabsorbtion': 6760, 'reach': 6761, 'reachability': 6762, 'reaction': 6763, 'read': 6764, 'reader': 6765, 'reading': 6766, 'readingres': 6767, 'ready': 6768, 'readystock_hijabmart': 6769, 'real': 6770, 'real_liam_payne': 6771, 'realise': 6772, 'realistic': 6773, 'realisticly': 6774, 'realize': 6775, 'really': 6776, 'realoshi': 6777, 'realreviews': 6778, 'rear': 6779, 'rear-ended': 6780, 'reason': 6781, 'reassure': 6782, 'reboarding': 6783, 'recall': 6784, 'receive': 6785, 'recent': 6786, 'recently': 6787, 'receptionist': 6788, 'rechargeable': 6789, 'recieved': 6790, 'recipe': 6791, 'recite': 6792, 'reckon': 6793, 'recommend': 6794, 'recommendation': 6795, 'recommended': 6796, 'record': 6797, 'recover': 6798, 'recruit': 6799, 'recs': 6800, 'red': 6801, 'redecorate': 6802, 'redeem': 6803, 'redhead': 6804, 'redo': 6805, 'reference': 6806, 'refinement': 6807, 'refresh': 6808, 'refreshing': 6809, 'refuel': 6810, 'refurbish': 6811, 'regard': 6812, 'regens': 6813, 'region': 6814, 'regional': 6815, 'regret': 6816, 'regular': 6817, 'regularly': 6818, 'reh': 6819, 'rehash': 6820, 'rehearsal': 6821, 'rehearse': 6822, 'reign': 6823, 'reina': 6824, 'reject': 6825, 'rejection': 6826, 'rela': 6827, 'relate': 6828, 'relationship': 6829, 'relative': 6830, 'relax': 6831, 'relaxed': 6832, 'relaxes': 6833, 'relaxing': 6834, 'release': 6835, 'relentlessly': 6836, 'relevant': 6837, 'relief': 6838, 'reliever': 6839, 'religion': 6840, 'remain': 6841, 'remarriage': 6842, 'remastered': 6843, 'remedy': 6844, 'remember': 6845, 'remind': 6846, 'reminder': 6847, 'remix': 6848, 'remixes': 6849, 'remote': 6850, 'remove': 6851, 'rename': 6852, 'renew': 6853, 'rent': 6854, 'rep': 6855, 'repack': 6856, 'repackage': 6857, 'repacks': 6858, 'repair': 6859, 'repath': 6860, 'repay': 6861, 'repeat': 6862, 'repeatedly': 6863, 'replacement': 6864, 'replay': 6865, 'replenish': 6866, 'replied': 6867, 'reply': 6868, 'report': 6869, 'repost': 6870, 'represent': 6871, 'representative': 6872, 'reputation': 6873, 'reqd': 6874, 'request': 6875, 'required': 6876, 'requirement': 6877, 'rescoops': 6878, 'rescue': 6879, 'research': 6880, 'researcher': 6881, 'reservation': 6882, 'reservations@sandsbeach.eu': 6883, 'reserve': 6884, 'reset': 6885, 'resident': 6886, 'resort': 6887, 'resource': 6888, 'respect': 6889, 'respective': 6890, 'respectlost': 6891, 'respond': 6892, 'response': 6893, 'responsibility': 6894, 'rest': 6895, 'restart': 6896, 'resto': 6897, 'restore': 6898, 'restrict': 6899, 'result': 6900, 'resy': 6901, 'retail': 6902, 'retailer': 6903, 'retainer': 6904, 'retaliate': 6905, 'retard': 6906, 'rettweet': 6907, 'return': 6908, 'retweet': 6909, 'retweeted': 6910, 'retweeting': 6911, 'retweets': 6912, 'reunite': 6913, 'reusful': 6914, 'revamps': 6915, 'reveal': 6916, 'review': 6917, 'reward': 6918, 'rewatched': 6919, 'rewert': 6920, 'reynold': 6921, 'reynoldsgrl': 6922, 'rhd': 6923, 'rhisfor': 6924, 'rhys': 6925, 'rib': 6926, 'rice': 6927, 'rich': 6928, 'richard': 6929, 'rick': 6930, 'ricky_febs': 6931, 'rid': 6932, 'ridden': 6933, 'ride': 6934, 'rider': 6935, 'ridiculous': 6936, 'right': 6937, 'rightnow': 6938, 'rigid': 6939, 'rihanna': 6940, 'ring': 6941, 'rip': 6942, 'ripaaa': 6943, 'ripsandrabland': 6944, 'ripstegi': 6945, 'riptito': 6946, 'riri': 6947, 'rise': 6948, 'risk': 6949, 'risky': 6950, 'rita': 6951, 'rito': 6952, 'ritual': 6953, 'river': 6954, 'rizal': 6955, 'rize': 6956, 'rlly': 6957, 'rly': 6958, 'rlyhurts': 6959, 'rlyyy': 6960, 'rm35': 6961, 'rma': 6962, 'rmtour': 6963, 'rn': 6964, 'road': 6965, 'roadtrip': 6966, 'roar': 6967, 'roast': 6968, 'rob': 6969, 'robe': 6970, 'robert': 6971, \"robert's\": 6972, 'robin': 6973, 'robinhood': 6974, 'robinhoodies': 6975, 'robyn': 6976, 'rock': 6977, 'rocket': 6978, 'rockfishing': 6979, 'rocro': 6980, 'rod': 6981, 'rodders': 6982, 'rodfanta': 6983, 'rodwell': 6984, 'rofl': 6985, 'rogerwatch': 6986, 'rohingya': 6987, 'rohit': 6988, 'role': 6989, 'roll': 6990, 'roller': 6991, 'roma': 6992, 'romance': 6993, 'romantic': 6994, 'romantica': 6995, 'rome': 6996, 'roof': 6997, 'room': 6998, 'roomie': 6999, 'roommate': 7000, 'roommateexperience': 7001, 'root': 7002, 'rosebury': 7003, 'roses': 7004, 'rosh': 7005, 'rosidbinr': 7006, 'ross': 7007, 'rotate': 7008, 'rotation': 7009, 'rotorua': 7010, 'rough': 7011, 'round': 7012, 'route': 7013, 'routine': 7014, 'routte': 7015, 'roux': 7016, 'row': 7017, 'roy': 7018, 'royal': 7019, 'royally': 7020, 'rp': 7021, 'rply': 7022, 'rqst': 7023, 'rrp': 7024, 'rt': 7025, 'rtd': 7026, 'rted': 7027, 'rts': 7028, 'rtss': 7029, 'rub': 7030, 'rubber': 7031, 'rubbish': 7032, 'ruby': 7033, 'rude': 7034, 'rudramadevi': 7035, 'ruin': 7036, 'rule': 7037, 'rumbelle': 7038, 'rumble': 7039, 'rumor': 7040, 'rumpy': 7041, 'run': 7042, 'rundown': 7043, 'runescape': 7044, 'running': 7045, 'runny': 7046, 'rupert': 7047, 'rush': 7048, 'russian': 7049, 'ruth': 7050, 'rxthedailysurveyvotes': 7051, 'ry': 7052, 'ryan': 7053, 'ryu': 7054, \"s'okay\": 7055, 's02e04': 7056, 's2': 7057, 's2e12': 7058, 's4': 7059, 'sa': 7060, 'saaad': 7061, 'saam': 7062, 'saar': 7063, 'sabadodeganarseguidores': 7064, 'sabah': 7065, \"sacconejoly's\": 7066, 'sachin': 7067, 'sad': 7068, 'sadkaay': 7069, 'sadly': 7070, 'sadlyf': 7071, 'sadness': 7072, 'sadomasochist': 7073, 'sadomasochistsparadise': 7074, 'saera': 7075, 'safaa': 7076, 'safe': 7077, 'safer': 7078, 'saffron': 7079, 'sail': 7080, 'sake': 7081, 'sakho': 7082, 'sakin': 7083, 'sakit': 7084, 'saklap': 7085, 'sakura': 7086, 'salabraty': 7087, 'salam': 7088, 'salamat': 7089, 'sale': 7090, 'salmon': 7091, 'salsa': 7092, 'salut': 7093, 'salute': 7094, 'sam': 7095, 'samantha': 7096, 'sambal': 7097, 'sameee': 7098, 'samjha': 7099, 'samosa': 7100, 'sampath': 7101, 'sample': 7102, 'samsung': 7103, 'san': 7104, 'sandae': 7105, 'sandboarding': 7106, 'sandcastle': 7107, 'sandra': 7108, 'sandrabland': 7109, 'sandroforceo': 7110, 'sandwhich': 7111, 'sandwich': 7112, 'sane': 7113, 'santo': 7114, 'santorini': 7115, 'sanum': 7116, 'sanza': 7117, 'saphire': 7118, 'sapiosexual': 7119, 'sara': 7120, 'sarah': 7121, 'sarajevo': 7122, 'saran': 7123, 'sararocs': 7124, 'saras': 7125, 'sarcasm': 7126, 'sasin': 7127, 'sat': 7128, 'sath': 7129, 'satire': 7130, 'satisfied': 7131, 'saturday': 7132, 'satya': 7133, 'satyajit': 7134, 'sauce': 7135, 'sausage': 7136, 'savage': 7137, 'savanna': 7138, 'save': 7139, 'saw': 7140, 'say': 7141, 'sayhername': 7142, 'sazballs': 7143, 'sbali': 7144, 'sbenu': 7145, 'sc': 7146, 'scale': 7147, 'scam': 7148, 'scamper': 7149, 'scan': 7150, 'scar': 7151, 'scared': 7152, 'scarf': 7153, 'scary': 7154, 'scenario': 7155, 'scene': 7156, 'sch': 7157, 'schade': 7158, 'sched': 7159, 'schedule': 7160, \"schedule's\": 7161, 'scheme': 7162, \"scheuermann's\": 7163, 'school': 7164, \"school's\": 7165, 'schoolsoutforsummer': 7166, 'schoolwork': 7167, 'science': 7168, 'scientist': 7169, 'scissors': 7170, 'scold': 7171, 'scone': 7172, 'scope': 7173, 'scorch': 7174, 'score': 7175, 'scotland': 7176, 'scotlandismassive': 7177, 'scottish': 7178, 'scoups': 7179, 'scouser': 7180, 'scout': 7181, 'scream': 7182, 'screencaps': 7183, 'screenshot': 7184, 'screenshots': 7185, 'screenshotting': 7186, 'screw': 7187, 'scroll': 7188, 'scrub': 7189, 'scrummy': 7190, \"sculptor's\": 7191, 'scurri': 7192, 'sd': 7193, 'se': 7194, 'se100leaders': 7195, 'sea': 7196, 'seafood': 7197, 'search': 7198, 'season': 7199, 'seat': 7200, 'seatmates': 7201, 'sebastian': 7202, 'second': 7203, \"second's\": 7204, 'secondary': 7205, 'secret': 7206, 'sect': 7207, 'section': 7208, 'secure': 7209, 'security': 7210, 'sed': 7211, 'see': 7212, 'seed': 7213, 'seehiah': 7214, 'seeker': 7215, 'seekly': 7216, 'seem': 7217, 'segalakatakata': 7218, 'sehun': 7219, 'sel': 7220, 'selamat': 7221, 'selamathariraya': 7222, 'selangor': 7223, 'selection': 7224, 'selektion': 7225, 'selena': 7226, \"selena's\": 7227, 'selenators': 7228, 'self': 7229, 'self-xss': 7230, 'selfie': 7231, 'selfieee': 7232, 'selfies': 7233, 'selfish': 7234, 'selfshot': 7235, 'sell': 7236, 'sellyourcarin': 7237, 'selos': 7238, 'selway': 7239, 'sem': 7240, 'sembuh': 7241, 'semester': 7242, 'semi': 7243, 'semo': 7244, 'send': 7245, 'sending': 7246, 'sends': 7247, 'sengenza': 7248, 'senight': 7249, 'senior': 7250, 'senpai': 7251, 'sense': 7252, 'sensible': 7253, 'sensiesha': 7254, 'sensor': 7255, 'sent': 7256, 'sentir-se': 7257, 'seo': 7258, 'seouljins': 7259, 'separately': 7260, 'sept': 7261, 'september': 7262, 'septum': 7263, 'sequel': 7264, 'serbia': 7265, 'serbian': 7266, 'series': 7267, 'serious': 7268, 'seriously': 7269, 'seriousness': 7270, 'sers': 7271, 'serve': 7272, 'server': 7273, 'service': 7274, 'servicewithasmile': 7275, 'servus': 7276, 'session': 7277, 'set': 7278, 'sethi': 7279, 'setokido': 7280, 'setter': 7281, 'setting': 7282, 'settle': 7283, 'setup': 7284, 'seungchan': 7285, 'seungyeon': 7286, 'seven': 7287, 'several': 7288, 'severe': 7289, 'severely': 7290, 'sew': 7291, 'sex': 7292, 'sexcam': 7293, 'sexchat': 7294, 'sexdate': 7295, 'sexi': 7296, 'sexo': 7297, 'sexual': 7298, 'sexy': 7299, 'sexyamelie': 7300, 'sexygirlbypreciouslemmy': 7301, 'sexyjane': 7302, 'sexyjudy': 7303, 'sexysasunday': 7304, 'sf': 7305, 'sfs': 7306, 'sfvbeta': 7307, 'sg': 7308, 'sg1': 7309, 'shaa': 7310, 'shaaa': 7311, 'shade': 7312, 'shadow': 7313, 'shadowplaylouis': 7314, 'shady': 7315, \"shady's\": 7316, 'shahid': 7317, 'shake': 7318, 'shall': 7319, 'shalwarkameez': 7320, 'sham': 7321, 'shame': 7322, \"shamuon's\": 7323, 'shane': 7324, 'shannon': 7325, 'shanzay': 7326, 'shape': 7327, 'share': 7328, 'sharethelove': 7329, 'shark': 7330, 'sharm': 7331, 'sharp': 7332, 'sharyl': 7333, 'shatter': 7334, 'shaun': 7335, 'shauri': 7336, 'shave': 7337, 'shawn': 7338, 'shawty': 7339, 'shaylan': 7340, \"she'd\": 7341, \"she'll\": 7342, 'shed': 7343, 'shedding': 7344, 'sheen': 7345, 'sheep': 7346, 'sheeps': 7347, 'sheer': 7348, 'sheeran': 7349, 'sheffield': 7350, 'shek': 7351, 'shem': 7352, 'shems': 7353, 'shepherd': 7354, 'sheriff': 7355, 'shes': 7356, 'sheskindahot': 7357, 'shet': 7358, 'shiatsu': 7359, 'shift': 7360, 'shiiit': 7361, 'shiiitt': 7362, 'shin': 7363, 'shinsengumi': 7364, 'shiny': 7365, 'ship': 7366, 'shipper': 7367, 'shipping': 7368, 'shir': 7369, 'shirleycam': 7370, 'shirt': 7371, 'shit': 7372, 'shite': 7373, 'shitfaced': 7374, 'shithouse': 7375, 'shittier': 7376, 'shitty': 7377, 'shiva': 7378, 'shiver': 7379, 'sho': 7380, 'shobs': 7381, 'shock': 7382, 'shoe': 7383, 'shoeshi': 7384, 'shogi': 7385, 'sholong': 7386, 'shoot': 7387, 'shooting': 7388, 'shop': 7389, 'shopping': 7390, 'shor': 7391, 'short': 7392, 'shorter': 7393, 'shorthaired': 7394, 'shortlist': 7395, 'shortly': 7396, 'shoshannavassil': 7397, 'shot': 7398, 'shoulda': 7399, 'shouldeeerr': 7400, 'shoulder': 7401, 'shouldve': 7402, 'shoushitsu': 7403, 'shout': 7404, 'shoutout': 7405, 'shoutouts': 7406, 'show': 7407, 'showbox': 7408, 'shower': 7409, 'showpo': 7410, 'shravan': 7411, 'shropshire': 7412, 'shud': 7413, 'shuffle': 7414, 'shut': 7415, 'shweta': 7416, 'shxbs': 7417, 'shy': 7418, 'si': 7419, 'sia': 7420, 'sialan': 7421, 'sian': 7422, 'siannn': 7423, 'sibuk': 7424, 'sic': 7425, 'sick': 7426, 'siddi': 7427, 'side': 7428, 'sidni': 7429, 'sigeg': 7430, 'sigh': 7431, 'sighsss': 7432, 'sight': 7433, 'sign': 7434, 'signal': 7435, 'signature': 7436, 'signing': 7437, 'siguro': 7438, 'sikandar': 7439, 'silang': 7440, 'silently': 7441, 'silicon': 7442, 'silly': 7443, 'silverstone': 7444, 'similar': 7445, 'simon': 7446, 'simple': 7447, 'simply': 7448, 'simpson': 7449, 'sims': 7450, 'sin': 7451, 'sinaloa': 7452, 'since': 7453, 'sing': 7454, 'singapore': 7455, 'singer': 7456, 'single': 7457, 'sinhala': 7458, 'sini': 7459, 'sinister': 7460, 'sinse': 7461, 'sinuend': 7462, 'sir': 7463, 'siregar': 7464, 'sirf': 7465, 'sirius': 7466, 'sirkay': 7467, 'sissi': 7468, 'sister': 7469, \"sister's\": 7470, 'sister-in-law': 7471, 'sit': 7472, 'site': 7473, 'sits': 7474, 'situate': 7475, 'situation': 7476, 'six': 7477, 'sizams': 7478, 'size': 7479, 'sizwe': 7480, 'sj': 7481, 'sjkaos': 7482, 'sjw': 7483, 'skate': 7484, 'skeem': 7485, 'skill': 7486, 'skills': 7487, 'skin': 7488, 'skinny': 7489, 'skip': 7490, 'skirt': 7491, 'skoy': 7492, 'skrillah': 7493, 'skulker': 7494, 'sky': 7495, 'skyblock': 7496, 'skye': 7497, 'skyfall': 7498, 'skype': 7499, 'slacke': 7500, 'slacking': 7501, 'slam': 7502, 'slap': 7503, 'slay': 7504, 'sleeep': 7505, 'sleep': 7506, 'sleepdeprived': 7507, 'sleeping': 7508, 'sleepingwithsirens': 7509, 'sleepover': 7510, 'sleeptight': 7511, 'sleepy': 7512, 'slept': 7513, 'slice': 7514, 'slide': 7515, 'slideshow': 7516, 'slightly': 7517, 'slip': 7518, 'slipper': 7519, 'slogan': 7520, 'sloppy': 7521, 'slot': 7522, 'slovak': 7523, \"slovakia's\": 7524, 'slovenia': 7525, 'slow': 7526, 'slowly': 7527, 'slp': 7528, 'slr': 7529, 'sm': 7530, 'small': 7531, 'smart': 7532, 'smashingbook': 7533, 'sme': 7534, 'smell': 7535, 'smelly': 7536, 'smf': 7537, 'smh': 7538, 'smi': 7539, 'smile': 7540, 'smiling': 7541, 'smith': 7542, 'smoak': 7543, 'smoke': 7544, 'smoking': 7545, 'smooth': 7546, 'sms': 7547, 'smthng': 7548, 'smtm': 7549, 'smu': 7550, 'smug': 7551, 'sn16': 7552, 'snake': 7553, 'snap': 7554, 'snapchat': 7555, 'snapchatme': 7556, 'snapme': 7557, 'snark': 7558, 'sneak': 7559, 'sneaker': 7560, 'sneezy': 7561, 'sniff': 7562, 'snit': 7563, 'snob': 7564, 'snobby': 7565, 'snooker': 7566, 'snooze': 7567, 'snot': 7568, 'snow': 7569, 'snpcaht': 7570, 'snsd': 7571, 'snuggle': 7572, 'soak': 7573, 'soamazing': 7574, 'soap': 7575, 'sob': 7576, 'sobrang': 7577, 'sobtian': 7578, 'soccer': 7579, 'socent': 7580, 'social': 7581, 'socialise': 7582, 'socialmedia@dpdgroup.co.uk': 7583, 'socialrewards': 7584, 'sociamedia': 7585, 'society': 7586, 'sock': 7587, 'socket': 7588, \"sod's\": 7589, 'soda': 7590, 'sodders': 7591, 'sofa': 7592, 'soft': 7593, 'softball': 7594, 'software': 7595, 'soggy': 7596, 'sohappyrightnow': 7597, 'soho': 7598, 'solar': 7599, 'solid': 7600, 'soln': 7601, 'solo': 7602, \"soloist's\": 7603, 'solution': 7604, 'solve': 7605, 'solvo': 7606, 'som': 7607, 'somebody': 7608, 'someday': 7609, 'somehow': 7610, 'someone': 7611, \"someone's\": 7612, 'somerset': 7613, 'something': 7614, 'sometime': 7615, 'sometimes': 7616, 'somewhere': 7617, 'somi': 7618, 'son': 7619, \"son's\": 7620, 'sona': 7621, 'sonaaa': 7622, 'sonal': 7623, 'sone': 7624, 'song': 7625, 'sonic': 7626, 'soniii': 7627, 'soo': 7628, 'soobin': 7629, 'soon': 7630, 'soonest': 7631, 'sooo': 7632, 'soooner': 7633, 'soothe': 7634, 'soph': 7635, 'sophie': 7636, 'soprano': 7637, 'sore': 7638, 'sorka': 7639, 'sorna': 7640, 'sorrry': 7641, 'sorrryyy': 7642, 'sorry': 7643, 'sort': 7644, 'sorta': 7645, 'sorting': 7646, 'soshi': 7647, 'sosweet': 7648, 'sotired': 7649, 'sotw': 7650, 'soul': 7651, 'soulful': 7652, 'soulmate': 7653, 'soulsurvivor': 7654, 'sound': 7655, 'soundcheck': 7656, 'soundtrack': 7657, 'soup': 7658, 'sour': 7659, 'source': 7660, 'south': 7661, 'sowwy': 7662, 'sp': 7663, 'space': 7664, 'spacers': 7665, 'spade': 7666, 'spag': 7667, 'spain': 7668, 'spam': 7669, 'spamming': 7670, 'spanish': 7671, 'spanner': 7672, 'spar': 7673, 'spare': 7674, 'sparky': 7675, 'sparse': 7676, 'spazzing': 7677, 'speak': 7678, 'speaker': 7679, 'spec': 7680, 'speced': 7681, 'special': 7682, 'specialise': 7683, 'specialist': 7684, 'specially-marked': 7685, 'specie': 7686, 'specific': 7687, 'speck': 7688, 'speculation': 7689, 'speech': 7690, 'speed': 7691, 'spell': 7692, 'spelling': 7693, 'spend': 7694, 'spent': 7695, 'spiced': 7696, 'spick': 7697, 'spill': 7698, 'spin': 7699, 'spine': 7700, 'spinny': 7701, 'spirit': 7702, 'spiritual': 7703, 'splendid': 7704, 'spm': 7705, 'spoile': 7706, 'sponsor': 7707, 'sponsorship': 7708, 'sport': 7709, 'spot': 7710, \"spot's\": 7711, 'spotify': 7712, 'spray': 7713, 'spread': 7714, 'spree': 7715, 'spring': 7716, 'sprit': 7717, 'sprite': 7718, 'squad': 7719, 'square': 7720, 'squat': 7721, 'squishy': 7722, 'sr': 7723, 'srbija': 7724, 'srijith': 7725, 'srry': 7726, 'srsky': 7727, 'srsly': 7728, 'sry': 7729, 'ss': 7730, 'st': 7731, 'stab': 7732, 'stable': 7733, 'stack': 7734, 'stackare': 7735, 'stadium': 7736, 'staff': 7737, 'stafford': 7738, 'stage': 7739, 'stair': 7740, 'stalk': 7741, 'stalker': 7742, 'stamen': 7743, 'stan': 7744, 'stand': 7745, 'standard': 7746, 'standby': 7747, \"standen's\": 7748, 'standing': 7749, 'standrews': 7750, 'standwdik': 7751, 'stans': 7752, 'star': 7753, 'starbucks': 7754, 'stargate': 7755, 'starholicxx': 7756, 'stark': 7757, 'starsquad': 7758, 'start': 7759, 'starter': 7760, 'startup': 7761, 'startupph': 7762, 'starve': 7763, 'starving': 7764, 'starwars': 7765, 'stash': 7766, 'state': 7767, 'statement': 7768, 'station': 7769, 'stationary': 7770, 'stationery': 7771, 'stats': 7772, 'stay': 7773, 'stay_blessed': 7774, 'stayfresh': 7775, 'steak': 7776, 'steal': 7777, 'stealth': 7778, 'steam': 7779, 'steel': 7780, 'steelbook': 7781, 'stefanie': 7782, 'stella': 7783, 'stem': 7784, 'step': 7785, 'steph': 7786, 'stephanie': 7787, 'stephen': 7788, 'stereo': 7789, \"sterling's\": 7790, 'steroid': 7791, 'stetson': 7792, 'steve': 7793, 'steven': 7794, 'stexpert': 7795, 'sth': 7796, 'stick': 7797, 'sticker': 7798, 'stiff': 7799, 'stiffening': 7800, 'still': 7801, 'sting': 7802, 'stock': 7803, 'stockholm': 7804, 'stocko': 7805, 'stoke': 7806, 'stole': 7807, 'stomach': 7808, \"stomach's\": 7809, 'stomachache': 7810, 'stomping': 7811, 'stone': 7812, 'stool': 7813, 'stooop': 7814, 'stop': 7815, 'store': 7816, 'storify': 7817, 'storm': 7818, 'story': 7819, 'story.miss': 7820, 'straight': 7821, 'strange': 7822, 'strangely': 7823, 'strap': 7824, 'strapline': 7825, 'straw': 7826, 'strawberry': 7827, 'streak': 7828, 'stream': 7829, 'streamer': 7830, 'streaming': 7831, 'street': 7832, 'strength': 7833, 'stress': 7834, 'stressful': 7835, 'stretch': 7836, 'strike': 7837, 'striker': 7838, 'striking': 7839, 'strip': 7840, 'stripe': 7841, 'stroke': 7842, 'strong': 7843, 'strucked': 7844, 'structure': 7845, 'structured': 7846, 'struggle': 7847, 'stu': 7848, 'stuart': 7849, 'stuck': 7850, 'stud': 7851, 'student': 7852, 'studio': 7853, 'study': 7854, 'stuff': 7855, 'stumble': 7856, 'stun': 7857, 'stunning': 7858, 'stupid': 7859, 'sturdy': 7860, 'style': 7861, 'stylish': 7862, 'suan': 7863, 'suave': 7864, 'suay': 7865, 'sub': 7866, 'subcontinent': 7867, 'subdivision': 7868, 'subgames': 7869, 'subj': 7870, 'subject': 7871, 'subjective': 7872, 'subliminal': 7873, 'submission': 7874, 'submit': 7875, 'subs': 7876, 'subscriber': 7877, 'subserver': 7878, 'subsidized': 7879, 'subsidy': 7880, 'subtitle': 7881, 'subway': 7882, 'succeed': 7883, 'success': 7884, 'successful': 7885, 'suck': 7886, 'suckmejimin': 7887, 'sucky': 7888, 'sudden': 7889, 'sue': 7890, 'suede': 7891, 'suffer': 7892, 'sufferer': 7893, 'suffering': 7894, 'sugar': 7895, 'sugarrush': 7896, 'suger': 7897, 'suggest': 7898, 'suggestion': 7899, 'suicide': 7900, 'suit': 7901, 'suitable': 7902, 'suitcase': 7903, 'suite': 7904, 'suk': 7905, 'suks': 7906, 'sulk': 7907, 'sulli': 7908, 'sum': 7909, 'suma': 7910, 'sumedh': 7911, 'sumer': 7912, 'summer': 7913, 'summerismissing': 7914, 'summertime': 7915, 'summoner': 7916, 'sun': 7917, 'sunburn': 7918, 'sunburnt': 7919, 'sunday': 7920, 'sunflower': 7921, 'sunggyu': 7922, 'sunglasses': 7923, 'sunjam': 7924, 'sunnah': 7925, 'sunnies': 7926, 'sunny': 7927, \"sunny's\": 7928, 'sunnyday': 7929, 'sunrise': 7930, 'sunshine': 7931, 'sunway': 7932, 'supa': 7933, 'super': 7934, 'super-blend': 7935, 'superb': 7936, 'supercars': 7937, 'superday': 7938, 'superdry': 7939, 'superjunior': 7940, 'supernatural': 7941, 'superpower': 7942, 'supersmash': 7943, 'supersport': 7944, 'superstar': 7945, 'support': 7946, 'supporting': 7947, 'supportive': 7948, 'suppose': 7949, 'supprt': 7950, 'supreme': 7951, 'suprised': 7952, 'surajettan': 7953, 'sure': 7954, 'surely': 7955, 'surf': 7956, 'surgery': 7957, 'suriya': 7958, 'surprise': 7959, 'surprised': 7960, 'surprising': 7961, 'surreal': 7962, 'surrender': 7963, 'surrey': 7964, 'surry': 7965, 'survey': 7966, 'survival': 7967, 'survive': 7968, 'sushi': 7969, 'suspect': 7970, 'suspemsion': 7971, 'suspend': 7972, 'suuuper': 7973, 'sux': 7974, 'suzy': 7975, 'swag': 7976, 'swallow': 7977, 'swan': 7978, 'swap': 7979, 'swasa': 7980, 'swear': 7981, 'swearword': 7982, 'sweat': 7983, 'sweater': 7984, 'sweating': 7985, 'sweatpants': 7986, 'sweden': 7987, 'sweedy': 7988, 'sweeety': 7989, 'sweet': 7990, 'sweetan': 7991, 'sweetbj': 7992, 'sweetheart': 7993, 'sweetie': 7994, 'sweety': 7995, 'swell': 7996, 'swerve': 7997, 'swift': 7998, 'swifties': 7999, 'swim': 8000, 'swimming': 8001, 'swipe': 8002, 'swishers': 8003, 'switch': 8004, 'switzerland': 8005, 'sws': 8006, 'swt': 8007, 'sxrew': 8008, 'syawal': 8009, 'sydney': 8010, 'sympathis': 8011, 'sympathy': 8012, 'symphony': 8013, 'sync': 8014, 'syndrome': 8015, 'syria': 8016, 'syrup': 8017, 'syrus': 8018, 'system': 8019, \"t'existes\": 8020, \"t'was\": 8021, 't-shirt': 8022, 't20': 8023, 't20blast': 8024, 't___t': 8025, 't_t': 8026, 'ta': 8027, 'taal': 8028, 'tab': 8029, 'table': 8030, 'tack': 8031, 'tacky': 8032, 'taco': 8033, 'tae': 8034, 'taems': 8035, \"taeyeon's\": 8036, 'taft': 8037, 'tag': 8038, 'tagal': 8039, 'tagsforlikes': 8040, 'tagsforlikesapp': 8041, 'tail': 8042, 'taissa': 8043, 'tak': 8044, 'take': 8045, 'takeaway': 8046, 'takeover': 8047, 'takesonetoknowone': 8048, 'takfaham': 8049, 'taknottem': 8050, 'takoyaki': 8051, 'takraw': 8052, 'talaga': 8053, 'talanted': 8054, 'talent': 8055, 'talented': 8056, 'talk': 8057, 'talk-kama': 8058, 'talkback': 8059, 'tall': 8060, 'tama': 8061, 'tamang': 8062, 'tame': 8063, 'tameside': 8064, 'tammirossm': 8065, 'tams': 8066, 'tan': 8067, 'tango': 8068, 'tanisha': 8069, 'tank': 8070, 'tanned': 8071, 'tara': 8072, 'taray': 8073, 'tard': 8074, 'target': 8075, 'tarryn': 8076, 'task': 8077, 'taste': 8078, 'tasteless': 8079, 'tasty': 8080, 'tat': 8081, 'tato': 8082, 'tattoo': 8083, 'tau': 8084, 'taunton': 8085, 'tax': 8086, 'taxi': 8087, 'taxikitchen': 8088, 'taxonomic': 8089, 'tay': 8090, 'taybigail': 8091, 'taylor': 8092, 'tayo': 8093, 'tb': 8094, 'tbc': 8095, 'tbf': 8096, 'tbh': 8097, 'tbt': 8098, 'tc': 8099, 'tdc': 8100, 'tdif': 8101, 'tdy': 8102, 'te': 8103, 'tea': 8104, 'teach': 8105, 'teacher': 8106, 'teal': 8107, 'team': 8108, \"team's\": 8109, 'teamadmicro': 8110, 'teamfollowback': 8111, 'teamjanuaryclaims': 8112, 'teamnatural': 8113, 'teampositive': 8114, 'teamred': 8115, 'teamzipal': 8116, 'tear': 8117, 'tearout': 8118, 'tease': 8119, 'teaser': 8120, 'tebrik': 8121, 'tech': 8122, 'technique': 8123, 'ted': 8124, \"ted's\": 8125, 'tee': 8126, 'teen': 8127, 'teenage': 8128, 'teenchoice': 8129, 'teenie': 8130, 'teens': 8131, 'teeth': 8132, 'teethe': 8133, 'teh': 8134, 'telat': 8135, 'telecom': 8136, 'teleportation': 8137, 'televoting': 8138, 'tell': 8139, 'tellanoldjokeday': 8140, 'temperature': 8141, 'temporal': 8142, 'tempt': 8143, 'ten': 8144, 'tend': 8145, 'tenerina': 8146, 'tengaman': 8147, 'tengkuaaronshah': 8148, 'tennunb': 8149, 'tension': 8150, 'tent': 8151, 'tentatively': 8152, 'tenyai': 8153, 'terible': 8154, 'term': 8155, 'terrible': 8156, 'terrific': 8157, 'tessnzach': 8158, 'test': 8159, 'testicle': 8160, 'testing': 8161, 'text': 8162, 'texted': 8163, 'texting': 8164, 'tf': 8165, 'tfw': 8166, 'tgif': 8167, 'tgk': 8168, 'tgp': 8169, 'tgv': 8170, 'th': 8171, 'thaaanks': 8172, 'thaaat': 8173, 'thaanks': 8174, 'thailand': 8175, 'thalaivar': 8176, 'thank': 8177, 'thankie': 8178, 'thankies': 8179, 'thanks': 8180, 'thanksss': 8181, 'thankyou': 8182, 'thankyouu': 8183, 'thankyouuu': 8184, 'thanq': 8185, 'thanx': 8186, 'thapelo': 8187, 'tharkness': 8188, \"that's\": 8189, 'thats': 8190, 'thatscold': 8191, 'thatselfiethough': 8192, 'the_madstork': 8193, 'theaccidentalcouple': 8194, 'theater': 8195, 'theatre': 8196, 'thebestangkapuso': 8197, 'thegrandad': 8198, 'thehungergames': 8199, 'thejuiceinthemix': 8200, 'thek': 8201, 'thelock': 8202, 'theme': 8203, 'thencerest': 8204, 'thenting': 8205, 'theo': 8206, 'theocratic': 8207, 'theoper': 8208, 'theory': 8209, 'therapy': 8210, 'there': 8211, \"there're\": 8212, \"there's\": 8213, 'therealgolden': 8214, 'therefore': 8215, 'theres': 8216, 'therese': 8217, 'thermal': 8218, 'thermos': 8219, 'therver': 8220, 'thesims': 8221, 'thesis': 8222, 'thessidew': 8223, \"they'd\": 8224, \"they'll\": 8225, \"they're\": 8226, \"they've\": 8227, 'theyre': 8228, 'thick': 8229, 'thin': 8230, 'thing': 8231, 'thingy': 8232, 'think': 8233, 'thinking': 8234, 'third': 8235, 'thirdwheeling': 8236, 'thirstyyy': 8237, 'thistle': 8238, 'thistlelove': 8239, 'thiz': 8240, 'thks': 8241, 'thnks': 8242, 'thnkyouuu': 8243, 'tho': 8244, 'thoo': 8245, 'thooo': 8246, 'thoracicbridge': 8247, 'thorin': 8248, 'thorpe': 8249, 'thou': 8250, 'though': 8251, 'thought': 8252, 'thoughtseized': 8253, 'thq': 8254, 'thr': 8255, 'thread': 8256, 'threat': 8257, 'threaten': 8258, 'threatens': 8259, 'three': 8260, 'thrice': 8261, 'thrill': 8262, 'thrive': 8263, 'throat': 8264, 'throw': 8265, 'throwback': 8266, 'throwbackfriday': 8267, 'thrown': 8268, 'thru': 8269, 'thtas': 8270, 'thts': 8271, 'thug': 8272, 'thumb': 8273, 'thunderstorm': 8274, 'thur': 8275, 'thurs': 8276, 'thursday': 8277, 'thurston': 8278, 'thusi': 8279, 'thw': 8280, 'thwarting': 8281, 'thx': 8282, \"thát's\": 8283, 'ti5': 8284, 'tick': 8285, 'ticket': 8286, 'tickle': 8287, 'tiddler': 8288, 'tidy': 8289, 'tierd': 8290, 'tight': 8291, 'tiis': 8292, 'til': 8293, 'tile': 8294, 'till': 8295, 'tim': 8296, 'time': 8297, 'timely': 8298, 'timetunnel': 8299, 'timezones': 8300, 'timing': 8301, 'timming': 8302, 'timog': 8303, 'timw': 8304, 'tinder': 8305, 'tine': 8306, 'tiny': 8307, 'tio': 8308, 'tip': 8309, 'tire': 8310, 'tired': 8311, 'tiredashell': 8312, 'tiring': 8313, 'tirth': 8314, 'tissue': 8315, 'titan': 8316, 'titanfall': 8317, 'titas': 8318, 'title': 8319, 'tito': 8320, 'tittheir': 8321, 'tix': 8322, 'tks': 8323, 'tkts': 8324, 'tl': 8325, 'tla': 8326, 'tline': 8327, 'tlists': 8328, 'tmr': 8329, 'tmrw': 8330, 'tmw': 8331, 'tnc': 8332, 'toast': 8333, 'tobi-bro': 8334, 'today': 8335, \"today's\": 8336, 'todayy': 8337, 'todayyy': 8338, 'todos': 8339, 'toe': 8340, 'toffee': 8341, 'together': 8342, 'togheter': 8343, 'tokyo': 8344, 'tolerant': 8345, 'toll': 8346, 'tologooo': 8347, 'tom': 8348, 'tomas': 8349, 'tomato': 8350, 'tombow': 8351, 'tombraider': 8352, 'tomcat': 8353, 'tomhiddleston': 8354, 'tomlinson': 8355, 'tommarow': 8356, 'tommorow': 8357, 'tommy': 8358, 'tomorrow': 8359, \"tomorrow's\": 8360, 'tomorrowland': 8361, 'tompolo': 8362, 'tone': 8363, 'tong': 8364, 'tongue': 8365, 'toni': 8366, 'tonight': 8367, \"tonight's\": 8368, 'tony': 8369, 'tool': 8370, 'tooo': 8371, 'tooth': 8372, 'toothsensitivity': 8373, 'top': 8374, 'topgear': 8375, 'topnewfollowers': 8376, 'topple': 8377, 'toptravelcentar': 8378, 'topwater': 8379, 'toronto': 8380, 'torrentialrain': 8381, 'torture': 8382, 'tory': 8383, 'tose': 8384, 'toss': 8385, 'total': 8386, 'totally': 8387, 'tote': 8388, 'totem': 8389, 'tou': 8390, 'touch': 8391, 'tough': 8392, 'tour': 8393, 'tournament': 8394, 'towards': 8395, 'tower': 8396, 'town': 8397, \"town's\": 8398, 'townsss': 8399, 'toxin': 8400, 'toy': 8401, 'tp': 8402, 'trace': 8403, 'tracerequest': 8404, 'track': 8405, 'trade': 8406, 'tradetalk': 8407, 'tradition': 8408, 'traffic': 8409, 'trafficker': 8410, 'trafficking': 8411, 'tragedy': 8412, 'tragic': 8413, 'trail': 8414, 'trailblazerhonors': 8415, 'train': 8416, 'trainer': 8417, 'training': 8418, 'tram': 8419, 'tramline': 8420, 'trance': 8421, 'transcript': 8422, 'transfer': 8423, 'translate': 8424, 'translation': 8425, 'transmission': 8426, 'transparency': 8427, 'trapmusic': 8428, 'trash': 8429, 'travel': 8430, 'traveler': 8431, 'treat': 8432, 'tree': 8433, 'trend': 8434, 'trendy': 8435, 'trespasser': 8436, 'treviso': 8437, 'trial': 8438, 'triangle': 8439, 'triathletes': 8440, 'trick': 8441, 'tricky': 8442, 'tridon': 8443, 'tried': 8444, 'trim': 8445, 'trip': 8446, 'tripathi': 8447, 'tripping': 8448, 'trish': 8449, 'trivia': 8450, 'trmdhesitant': 8451, 'troll': 8452, 'troop': 8453, 'trop': 8454, 'tropic': 8455, 'trouble': 8456, 'trouser': 8457, 'truck': 8458, 'true': 8459, 'truly': 8460, 'trust': 8461, 'truth': 8462, 'truthfulwordsof': 8463, 'try': 8464, 'tryna': 8465, 'tseba': 8466, 'tsktsk': 8467, 'tt.tt': 8468, 'ttctop': 8469, 'tthanks': 8470, 'tub': 8471, 'tube': 8472, 'tud': 8473, 'tuesday': 8474, 'tuitutil': 8475, 'tukutanemombasa': 8476, 'tulane': 8477, 'tum': 8478, 'tumblr': 8479, 'tummy': 8480, 'tumor': 8481, 'tumour': 8482, 'tuna': 8483, 'tunaita': 8484, 'tune': 8485, 'tuned': 8486, 'tunnel': 8487, 'turkey': 8488, 'turkish': 8489, 'turn': 8490, 'turtle': 8491, 'tut': 8492, 'tutorial': 8493, 'tv': 8494, 'tweak': 8495, 'tweenie_fox': 8496, 'tweeps': 8497, 'tweepsmatchout': 8498, 'tweet': 8499, 'tweeties': 8500, 'tweetin': 8501, 'tweeting': 8502, 'tweetland': 8503, 'tweetofthedecade': 8504, 'twelvyy': 8505, 'tweng': 8506, 'twice': 8507, 'twin': 8508, 'twine': 8509, 'twinx': 8510, 'twist': 8511, 'twitch': 8512, 'twitching': 8513, 'twitlonger': 8514, 'twitter': 8515, 'two': 8516, 'twoofs': 8517, 'twurkin': 8518, 'tx': 8519, 'txt': 8520, 'txt_shot': 8521, 'ty': 8522, 'tykkäsin': 8523, 'tyler': 8524, 'typa': 8525, 'type': 8526, 'typical': 8527, 'typically': 8528, 'typo': 8529, 'typos': 8530, 'tyre': 8531, 'u': 8532, \"u'll\": 8533, \"u're\": 8534, \"u've\": 8535, 'u21': 8536, 'uber': 8537, 'ubericecream': 8538, 'ubud': 8539, 'ubusy': 8540, 'ucan': 8541, 'ucas': 8542, 'ucl': 8543, 'ucount': 8544, 'uff': 8545, 'ufff': 8546, 'ug': 8547, 'uggghhh': 8548, 'ugh': 8549, 'ughh': 8550, 'ugly': 8551, 'uh': 8552, 'uhuh': 8553, 'uk': 8554, 'ukiss': 8555, 'ukraine': 8556, 'ulit': 8557, 'ulti': 8558, 'ultimate': 8559, 'ultor': 8560, 'um': 8561, 'umaga': 8562, 'umair': 8563, 'umaru': 8564, 'umboh': 8565, 'umma': 8566, 'ummm': 8567, 'un': 8568, 'unable': 8569, 'unagi': 8570, 'uname': 8571, 'unanswered': 8572, 'unappreciated': 8573, 'unavailable': 8574, 'unblock': 8575, 'uncle': 8576, 'uncountable': 8577, 'uncut': 8578, 'und': 8579, 'undead': 8580, 'undercoverboss': 8581, 'underrated': 8582, 'understand': 8583, 'understandable': 8584, 'understanding': 8585, 'uneventful': 8586, 'unexpect': 8587, 'unexpected': 8588, 'unfair': 8589, 'unfamiliar': 8590, 'unfaved': 8591, 'unfollow': 8592, 'unfollowed': 8593, 'unfollower': 8594, 'unfollowers': 8595, 'unfollowing': 8596, 'unfortunate': 8597, 'unfortunately': 8598, 'unfriend': 8599, 'unhappy': 8600, 'unhealthy': 8601, 'uni': 8602, \"unicef's\": 8603, 'uniform': 8604, 'unimportant': 8605, 'unique': 8606, 'unit': 8607, 'unite': 8608, 'united': 8609, 'university': 8610, 'univesity': 8611, 'unknown': 8612, 'unless': 8613, 'unlike': 8614, 'unlimited': 8615, 'unlisted': 8616, 'unlock': 8617, 'unloved': 8618, 'unluckiest': 8619, 'unlucky': 8620, 'unmarried': 8621, 'unneeded': 8622, 'unnie': 8623, 'unnieee': 8624, 'unparents': 8625, 'unprepared': 8626, 'unreal': 8627, 'unsettled': 8628, 'unstan': 8629, 'unsuccessful': 8630, 'untapped': 8631, 'untouched': 8632, 'untruth': 8633, 'unvarnished': 8634, 'unwind': 8635, 'up.come': 8636, 'up.wt': 8637, 'upcoming': 8638, 'update': 8639, 'updated': 8640, 'upgrade': 8641, 'upload': 8642, 'uploaded': 8643, 'upon': 8644, 'upp': 8645, 'uppe': 8646, 'upper': 8647, 'ups': 8648, 'upset': 8649, 'upsetting': 8650, 'upside': 8651, 'upvotes': 8652, 'ur': 8653, 'ure': 8654, 'urgently': 8655, 'urgh': 8656, 'urghhh': 8657, \"urie's\": 8658, 'url': 8659, 'urquhart': 8660, 'urself': 8661, 'urwelc': 8662, 'us': 8663, 'us-iran': 8664, 'usa': 8665, 'usage': 8666, 'usagi': 8667, 'usah': 8668, 'use': 8669, 'useful': 8670, 'useless': 8671, 'user': 8672, 'username': 8673, 'usual': 8674, 'usually': 8675, 'utc': 8676, 'utd': 8677, 'uts': 8678, 'uu': 8679, 'uuu': 8680, 'uuughhh': 8681, 'uwesiti': 8682, 'uwu': 8683, 'ux': 8684, 'uy': 8685, 'v': 8686, 'v.ball': 8687, 'va': 8688, 'vacant': 8689, 'vacation': 8690, 'vaccine': 8691, 'vagina': 8692, 'vaing': 8693, 'vainglory': 8694, 'vale': 8695, 'valencia': 8696, 'valentine': 8697, 'valls': 8698, 'valuable': 8699, 'value': 8700, 'vam': 8701, 'vampire': 8702, 'van': 8703, 'vandag': 8704, 'vandr': 8705, 'vanilla': 8706, 'vantastic': 8707, 'variety': 8708, 'varsity': 8709, 'vault': 8710, 'vava': 8711, 'vc': 8712, 'veeerry': 8713, 'vega': 8714, 'vegas': 8715, 'vegetable': 8716, 'vegetarian': 8717, 'veggie': 8718, 'vehicle': 8719, 'vein': 8720, 'velvet': 8721, 'venice': 8722, 'venomous': 8723, 'venture': 8724, 'venue': 8725, \"venus's\": 8726, 'ver': 8727, 'verfied': 8728, 'verge': 8729, 'verify': 8730, 'veritably': 8731, 'verity': 8732, \"verity's\": 8733, 'verse': 8734, 'version': 8735, 'vertigo': 8736, 'vet': 8737, 'vex': 8738, 'via': 8739, 'viable': 8740, 'vianey': 8741, 'viathe': 8742, 'viazi': 8743, 'viber': 8744, 'vibrant': 8745, 'vibrate': 8746, 'vic': 8747, 'vicious': 8748, 'vicky': 8749, 'victim': 8750, 'victoria': 8751, 'victoriasecret': 8752, 'victory': 8753, 'vid': 8754, 'vidcon': 8755, 'video': 8756, 'videogames': 8757, 'videographer': 8758, 'videosta': 8759, 'vidic': 8760, 'vids': 8761, 'vietnam': 8762, 'view': 8763, 'viewer': 8764, 'vii': 8765, 'viking': 8766, 'vikk': 8767, 'village': 8768, 'vin': 8769, 'vincent': 8770, 'vine': 8771, 'vinegar': 8772, 'viners': 8773, 'vinny': 8774, 'vinylbear': 8775, 'violence': 8776, 'vip': 8777, 'viparita': 8778, 'virgin': 8779, 'virginity': 8780, 'virtual': 8781, 'visa': 8782, 'vishaya': 8783, 'vishwas': 8784, 'visit': 8785, 'vist': 8786, 'visual': 8787, 'vitamin': 8788, 'viva': 8789, 'vivian': 8790, 'vlog': 8791, 'vocal': 8792, 'vodka': 8793, 'voice': 8794, 'void': 8795, 'volta': 8796, 'volume': 8797, 'volunteer': 8798, 'vomit': 8799, 'vote': 8800, 'votejkt': 8801, 'voting': 8802, 'voucher': 8803, 'vr': 8804, 'vsco': 8805, 'vscocam': 8806, 'vscocousins': 8807, 'vscogood': 8808, 'vscoph': 8809, 'vscophil': 8810, 'vuly': 8811, 'vv': 8812, 'vyapam': 8813, 'w': 8814, 'wa': 8815, 'waa': 8816, 'waaa': 8817, 'waah': 8818, 'wacha': 8819, 'wacky': 8820, 'waduh': 8821, 'wae': 8822, 'waffle': 8823, 'wag': 8824, 'wagga': 8825, 'wah': 8826, 'wahahaah': 8827, 'waifu': 8828, 'wail': 8829, 'wailay': 8830, 'waisted': 8831, 'wait': 8832, 'waiter': 8833, 'waiting': 8834, 'waitting': 8835, 'wake': 8836, 'wakeup': 8837, 'waking': 8838, 'wala': 8839, 'walang': 8840, 'walangmakakapigilsakin': 8841, 'walao': 8842, 'walay': 8843, 'wale': 8844, 'wales': 8845, 'wali': 8846, 'walk': 8847, 'walkersmithway': 8848, 'walkin': 8849, 'wall': 8850, 'wallet': 8851, 'walmart': 8852, 'walnut': 8853, 'wan': 8854, 'wana': 8855, 'wanna': 8856, 'want': 8857, 'wanted': 8858, 'war': 8859, 'wardrobe': 8860, 'warehouse': 8861, 'warfare': 8862, 'warlock': 8863, 'warm': 8864, 'warm-up': 8865, 'warmup': 8866, 'warnaaa': 8867, 'warning': 8868, 'warranty': 8869, 'warrior': 8870, 'warsaw': 8871, 'waseem': 8872, 'wash': 8873, 'washed': 8874, 'wasnt': 8875, 'wasp': 8876, 'waste': 8877, 'wat': 8878, 'watch': 8879, 'watchdog': 8880, 'watched': 8881, 'watching': 8882, 'water': 8883, 'wave': 8884, 'wavy': 8885, 'way': 8886, 'wayanad': 8887, 'wayanadan': 8888, 'wayhh': 8889, 'wayne': 8890, 'waytoliveahappylife': 8891, 'wba': 8892, 'wbu': 8893, 'wd': 8894, \"we'd\": 8895, \"we'll\": 8896, \"we're\": 8897, \"we've\": 8898, 'weak': 8899, 'wealth': 8900, 'weapon': 8901, 'wear': 8902, 'wearig': 8903, 'wearing': 8904, 'weather': 8905, 'weave': 8906, 'web': 8907, 'webcam': 8908, 'webcamsex': 8909, 'website': 8910, 'webtogsawards': 8911, 'webz': 8912, 'wed': 8913, 'wedding': 8914, 'weddingflowers': 8915, 'wednesday': 8916, 'weebly': 8917, 'weed': 8918, 'weeding': 8919, 'week': 8920, 'weekend': 8921, \"weekend's\": 8922, 'weekendofmadness': 8923, 'weekly': 8924, 'weenie': 8925, 'weh': 8926, 'weight': 8927, 'weird': 8928, 'weirddd': 8929, 'welcoma.have': 8930, 'welcome': 8931, 'welcomed': 8932, 'welcometweet': 8933, 'welder': 8934, 'well': 8935, 'wellington': 8936, 'weloveyounamjoon': 8937, 'welsh': 8938, 'weltum': 8939, 'wena': 8940, 'wendy': 8941, 'wentz': 8942, 'werk': 8943, 'wese': 8944, 'wesen': 8945, 'west': 8946, 'westandwithik': 8947, 'wet': 8948, 'wetherspoons': 8949, 'wew': 8950, 'wewanticecream': 8951, 'wft': 8952, 'wgm': 8953, 'wh': 8954, 'whaaat': 8955, 'whack': 8956, 'whahahaha': 8957, 'whammy': 8958, 'whangarei': 8959, \"what's\": 8960, 'what-is-your-fashionality': 8961, 'whatchya': 8962, 'whatever': 8963, 'whatevs': 8964, 'whats': 8965, 'whatsapp': 8966, 'whatsoever': 8967, 'whatthefuck': 8968, 'whattsap': 8969, 'whay': 8970, 'wheeen': 8971, 'wheel': 8972, 'wheelchair': 8973, \"when's\": 8974, 'whenever': 8975, 'whens': 8976, \"where's\": 8977, 'where.do.i.start': 8978, 'whereisthesun': 8979, 'wheres': 8980, 'wherever': 8981, 'whet': 8982, 'whhr': 8983, 'whilst': 8984, 'whimper': 8985, 'whip': 8986, 'whisper': 8987, 'whistle': 8988, 'whit': 8989, 'white': 8990, 'whitey': 8991, 'whn': 8992, 'who': 8993, \"who's\": 8994, 'whole': 8995, 'whomosexual': 8996, 'whoooah': 8997, 'whoop': 8998, 'whose': 8999, 'whsmith': 9000, 'wht': 9001, \"why'd\": 9002, 'whyyy': 9003, 'wi': 9004, 'wicked': 9005, 'wide': 9006, 'widely': 9007, 'wider': 9008, 'wiellys': 9009, 'wife': 9010, 'wiff': 9011, 'wifi': 9012, 'wii': 9013, 'wil': 9014, 'wild': 9015, 'william': 9016, 'willing': 9017, 'willlow': 9018, 'willmissyouparijat': 9019, 'willy': 9020, 'wimbledon': 9021, 'win': 9022, 'winchester': 9023, 'wind': 9024, 'window': 9025, 'windowsphone': 9026, 'wine': 9027, 'winehouse': 9028, 'wing': 9029, 'wingstop': 9030, 'winner': 9031, 'winter': 9032, 'wip': 9033, 'wirh': 9034, 'wisdom': 9035, 'wise': 9036, 'wish': 9037, 'witcher': 9038, 'within': 9039, 'without': 9040, 'witness': 9041, 'wiv': 9042, 'wiw': 9043, 'wi̇ll': 9044, 'wkend': 9045, 'wknd': 9046, 'wkwkw': 9047, 'wlan': 9048, 'wna': 9049, 'wnt': 9050, 'wo': 9051, 'woaah': 9052, 'woah': 9053, 'wobble': 9054, 'wobbly': 9055, 'woe': 9056, 'wohoo': 9057, 'woke': 9058, 'wolf': 9059, 'wolrd': 9060, 'wolverine': 9061, 'womad': 9062, 'woman': 9063, \"women's\": 9064, 'wonder': 9065, 'wonderful': 9066, 'wonderful.great': 9067, 'wonderfuls': 9068, 'wong': 9069, 'wont': 9070, 'wooden': 9071, 'woodford': 9072, 'wooftastic': 9073, 'woohoo': 9074, 'woohyun': 9075, 'wooohooo': 9076, 'woot': 9077, 'word': 9078, 'wordoftheweek': 9079, 'wore': 9080, 'work': 9081, 'worker': 9082, 'workhard': 9083, 'workin': 9084, 'working': 9085, 'working-on-a-tight-schedule': 9086, 'workinprogress': 9087, 'workout': 9088, 'workshop': 9089, 'world': 9090, 'worldwide': 9091, 'worried': 9092, 'worry': 9093, 'worst': 9094, 'worth': 9095, 'worthwhile': 9096, 'worthy': 9097, 'wot': 9098, 'wotw': 9099, 'would': 9100, \"would've\": 9101, 'wouldve': 9102, 'wound': 9103, 'wow': 9104, 'wowww': 9105, 'wowza': 9106, 'woza': 9107, 'wrack': 9108, 'wrap': 9109, 'wreck': 9110, 'wripped': 9111, 'wrist': 9112, 'write': 9113, 'writing': 9114, 'wrocilam': 9115, 'wrong': 9116, 'wru': 9117, 'wsalelove': 9118, 'wsj': 9119, 'wt': 9120, 'wtf': 9121, 'wtfff': 9122, 'wth': 9123, 'wua': 9124, 'wub': 9125, 'wut': 9126, 'wwat': 9127, 'wwe': 9128, 'wwooo': 9129, 'wynter': 9130, 'wz': 9131, 'x': 9132, 'x-ray': 9133, 'x10': 9134, 'x11': 9135, 'x12': 9136, 'x13': 9137, 'x14': 9138, 'x15': 9139, 'x16': 9140, 'x17': 9141, 'x18': 9142, 'x19': 9143, 'x2': 9144, 'x20': 9145, 'x21': 9146, 'x22': 9147, 'x23': 9148, 'x24': 9149, 'x25': 9150, 'x26': 9151, 'x27': 9152, 'x28': 9153, 'x29': 9154, 'x3': 9155, 'x30': 9156, 'x31': 9157, 'x32': 9158, 'x33': 9159, 'x34': 9160, 'x36': 9161, 'x37': 9162, 'x38': 9163, 'x39': 9164, 'x4': 9165, 'x40': 9166, 'x41': 9167, 'x42': 9168, 'x43': 9169, 'x45': 9170, 'x46': 9171, 'x5': 9172, 'x6': 9173, 'x7': 9174, 'x8': 9175, 'x9': 9176, 'xavier': 9177, 'xbox': 9178, 'xboxone': 9179, 'xcylin': 9180, 'xd': 9181, 'xenophobes': 9182, 'xfiles': 9183, 'xi': 9184, 'xiu': 9185, 'xmas': 9186, 'xo': 9187, 'xoxo': 9188, 'xoxoxo': 9189, 'xpax': 9190, 'xpress': 9191, 'xst': 9192, 'xue': 9193, 'xur': 9194, 'xx': 9195, 'xxx': 9196, 'xxxibmchll': 9197, \"y'all\": 9198, \"y'day\": 9199, 'ya': 9200, 'yaa': 9201, 'yaaah': 9202, 'yaaay': 9203, 'yaad': 9204, 'yaadein': 9205, 'yaap': 9206, 'yach': 9207, 'yael': 9208, 'yah': 9209, 'yahoo': 9210, 'yahuda': 9211, 'yako': 9212, 'yall': 9213, 'yan': 9214, 'yang': 9215, 'yapsters': 9216, 'yar': 9217, 'yard': 9218, 'yass': 9219, 'yasss': 9220, 'yasu': 9221, 'yay': 9222, 'yaya': 9223, 'yayayayay': 9224, 'yaytheylookgreat': 9225, 'yayy': 9226, 'yayyy': 9227, 'ye': 9228, 'yea': 9229, 'yeaaah': 9230, 'yeah': 9231, 'yeahh': 9232, 'yeahhh': 9233, 'yeap': 9234, 'year': 9235, \"year's\": 9236, 'yeeaayy': 9237, 'yeeeah': 9238, 'yeeew': 9239, 'yeeeyyy': 9240, 'yeey': 9241, 'yeh': 9242, 'yeheyy': 9243, 'yein': 9244, 'yelaaa': 9245, 'yell': 9246, 'yelling': 9247, 'yello': 9248, 'yellow': 9249, 'yeol': 9250, 'yeols': 9251, 'yep': 9252, 'yepp': 9253, 'yer': 9254, 'yes': 9255, 'yesha': 9256, 'yesss': 9257, 'yester': 9258, 'yesterday': 9259, \"yesterday's\": 9260, 'yet': 9261, 'yey': 9262, 'yeyy': 9263, 'yg': 9264, 'yhm': 9265, 'yhooo': 9266, 'yield': 9267, 'yippee': 9268, 'yippeee': 9269, 'yipppy': 9270, 'yisss': 9271, 'yk': 9272, 'ykr': 9273, 'ylona': 9274, 'yna': 9275, 'yo': 9276, 'yodel': 9277, 'yoga': 9278, 'yoghurt': 9279, 'yogurt': 9280, 'yogyakarta': 9281, 'yok': 9282, 'yongbe': 9283, 'yoona': 9284, 'yoot': 9285, 'york': 9286, 'yorkshire': 9287, 'yosh': 9288, 'yots': 9289, \"you's\": 9290, 'you-and': 9291, 'youll': 9292, 'young': 9293, 'youngjae': 9294, 'youngnaturalleaders': 9295, 'youre': 9296, 'yournaturalleaders': 9297, 'yous': 9298, 'youth': 9299, 'youth@bipolaruk.org.uk': 9300, 'youthcelebrate': 9301, 'youtu.be/2_gpctsojkw': 9302, 'youtube': 9303, 'youtuber': 9304, 'youu': 9305, 'youuu': 9306, 'youve': 9307, 'yr': 9308, 'yrs': 9309, 'yt': 9310, 'yu': 9311, 'yujin': 9312, 'yuki': 9313, 'yuki-chan': 9314, 'yulin': 9315, 'yum': 9316, 'yummm': 9317, 'yummmyyy': 9318, 'yummy': 9319, 'yumu-youtuber': 9320, 'yumyum': 9321, 'yun': 9322, 'yuna': 9323, 'yung': 9324, 'yup': 9325, 'yuppiieee': 9326, 'yvette': 9327, 'yūjō-cosplay': 9328, 'z': 9329, 'zac': 9330, 'zach': 9331, \"zach's\": 9332, 'zack': 9333, 'zaine': 9334, 'zamn': 9335, 'zante': 9336, 'zap': 9337, 'zara': 9338, 'zareen': 9339, 'zayn': 9340, 'zayncomebackto': 9341, 'zayniscomingback': 9342, 'zayniscomingbackonjuly': 9343, 'zayns': 9344, 'zayyyn': 9345, 'zaz': 9346, 'zdps': 9347, 'zealand': 9348, 'zehr': 9349, 'zenmate': 9350, 'zephbot': 9351, 'zero': 9352, 'zikra': 9353, 'zipper': 9354, 'zodiac': 9355, 'zoe': 9356, 'zokay': 9357, 'zone': 9358, 'zonzofox': 9359, 'zoo': 9360, 'zoom': 9361, 'zopiclone': 9362, 'zumba': 9363, 'zy': 9364, 'zz': 9365, 'zzz': 9366, 'zzzz': 9367, '{:': 9368, '£': 9369, '¦': 9370, '«': 9371, '°': 9372, '´': 9373, '¿': 9374, 'über': 9375, 'ω': 9376, 'фотосет': 9377, 'العنزي': 9378, 'بندر': 9379, 'تكفى': 9380, 'جمعة_مباركة': 9381, 'دعمم': 9382, 'عن': 9383, 'غردلي': 9384, 'للحياة': 9385, 'للعودة': 9386, 'مطعم_هاشم': 9387, 'एक': 9388, 'धोखा': 9389, 'फिर': 9390, 'ब': 9391, 'बार': 9392, 'सेँ': 9393, 'ཀ': 9394, '–': 9395, '—': 9396, '’': 9397, '“': 9398, '”': 9399, '•': 9400, '…': 9401, '⅛': 9402, '⅞': 9403, '→': 9404, '∗': 9405, '∞': 9406, '∠': 9407, '─': 9408, '┓': 9409, '┗': 9410, '┣': 9411, '┳': 9412, '┻': 9413, '╭': 9414, '╮': 9415, '╯': 9416, '╰': 9417, '╱': 9418, '╲': 9419, '▪': 9420, '★': 9421, '☆': 9422, '☔': 9423, '☕': 9424, '☺': 9425, '♛': 9426, '♡': 9427, '♥': 9428, '♫': 9429, '♬': 9430, '⚡': 9431, '✈': 9432, '✌': 9433, '✔': 9434, '✧': 9435, '✨': 9436, '❤': 9437, '⭐': 9438, '。': 9439, '》': 9440, '」': 9441, '더쇼': 9442, '에이핑크': 9443, '인피니트': 9444, '️': 9445, '️2': 9446, '️bea': 9447, '＠': 9448, 'ｍｅ': 9449, 'ｓｅｅ': 9450, '｡': 9451, '�': 9452, '🇫🇷': 9453, '🌃': 9454, '🌎': 9455, '🌞': 9456, '🌷': 9457, '🌸': 9458, '🍅': 9459, '🍜': 9460, '🍤': 9461, '🍭': 9462, '🍰': 9463, '🍵': 9464, '🍸': 9465, '🍹': 9466, '🎀': 9467, '🎂': 9468, '🎈': 9469, '🎉': 9470, '🎵': 9471, '🐑': 9472, '🐒': 9473, '🐢': 9474, '👆🏻': 9475, '👉': 9476, '👊': 9477, '👊🏻': 9478, '👌': 9479, '👍': 9480, '👑': 9481, '👓': 9482, '👯': 9483, '💃': 9484, '💃🏽': 9485, '💅🏽': 9486, '💋': 9487, '💓': 9488, '💔': 9489, '💕': 9490, '💖': 9491, '💗': 9492, '💘': 9493, '💙': 9494, '💚': 9495, '💛': 9496, '💜': 9497, '💞': 9498, '💟': 9499, '💥': 9500, '💦': 9501, '💪': 9502, '💪🏻': 9503, '💫': 9504, '🔥': 9505, '🗽': 9506, '😀': 9507, '😁': 9508, '😂': 9509, '😃': 9510, '😄': 9511, '😅': 9512, '😆': 9513, '😉': 9514, '😊': 9515, '😌': 9516, '😍': 9517, '😒': 9518, '😓': 9519, '😔': 9520, '😕': 9521, '😘': 9522, '😚': 9523, '😜': 9524, '😞': 9525, '😟': 9526, '😢': 9527, '😤': 9528, '😧': 9529, '😩': 9530, '😪': 9531, '😬': 9532, '😭': 9533, '😴': 9534, '😵': 9535, '🙅': 9536, '🙈': 9537, '🙏🏻': 9538, '🚂': 9539, '🚖': 9540, '🚙': 9541, '\\U000fe196': 9542, '\\U000fe334': 9543}\n"
     ]
    }
   ],
   "source": [
    "# GRADED FUNCTION: build_vocabulary\n",
    "def build_vocabulary(corpus):\n",
    "    '''Function that builds a vocabulary from the given corpus\n",
    "    Input: \n",
    "        - corpus (list): the corpus\n",
    "    Output:\n",
    "        - vocab (dict): Dictionary of all the words in the corpus.\n",
    "                The keys are the words and the values are integers.\n",
    "    '''\n",
    "\n",
    "    # The vocabulary includes special tokens like padding token and token for unknown words\n",
    "    # Keys are words and values are distinct integers (increasing by one from 0)\n",
    "    vocab = {'': 0, '[UNK]': 1} \n",
    "\n",
    "    ### START CODE HERE ###\n",
    "    \n",
    "    unique_word_list = sorted(list(set(word for tweet in corpus for word in tweet)))\n",
    "    \n",
    "    for index, unique_word in enumerate(unique_word_list, start = 2):\n",
    "        vocab[unique_word] = index\n",
    "    \n",
    "#     index_counter = 2\n",
    "#     # For each tweet in the training set\n",
    "#     for tweet in corpus:\n",
    "#         # For each word in the tweet\n",
    "#         for word in tweet:\n",
    "#             # If the word is not in vocabulary yet, add it to vocabulary\n",
    "#             if word not in vocab:\n",
    "#                 vocab[word] = index_counter\n",
    "#                 index_counter += 1\n",
    "    \n",
    "    ### END CODE HERE ###\n",
    "    \n",
    "    return vocab\n",
    "\n",
    "\n",
    "vocab = build_vocabulary(train_x)\n",
    "num_words = len(vocab)\n",
    "\n",
    "print(f\"Vocabulary contains {num_words} words\\n\")\n",
    "print(vocab)"
   ]
  },
  {
   "cell_type": "markdown",
   "id": "2e748f56",
   "metadata": {},
   "source": [
    "The dictionary `Vocab` will look like this:\n",
    "```CPP\n",
    "{'': 0,\n",
    " '[UNK]': 1,\n",
    " 'followfriday': 2,\n",
    " 'top': 3,\n",
    " 'engage': 4,\n",
    " ...\n",
    "```\n",
    "\n",
    "- Each unique word has a unique integer associated with it.\n",
    "- The total number of words in Vocab: 9535"
   ]
  },
  {
   "cell_type": "code",
   "execution_count": 68,
   "id": "afba257d",
   "metadata": {
    "deletable": false,
    "editable": false,
    "tags": []
   },
   "outputs": [
    {
     "name": "stdout",
     "output_type": "stream",
     "text": [
      "\u001b[92m All tests passed\n"
     ]
    }
   ],
   "source": [
    "# Test the build_vocabulary function\n",
    "w1_unittest.test_build_vocabulary(build_vocabulary)"
   ]
  },
  {
   "cell_type": "markdown",
   "id": "7bfa1614",
   "metadata": {},
   "source": [
    "<a name=\"2-3\"></a>\n",
    "### 2.3 - Convert a Tweet to a Tensor\n",
    "\n",
    "Next, you will write a function that will convert each tweet to a tensor (a list of integer IDs representing the processed tweet).\n",
    "- You already transformed each tweet to a list of tokens with the `process_tweet` function in order to make a vocabulary.\n",
    "- Now you will transform the tokens to integers and pad the tensors so they all have equal length.\n",
    "- Note, the returned data type will be a **regular Python `list()`**\n",
    "    - You won't use TensorFlow in this function\n",
    "    - You also won't use a numpy array\n",
    "- For words in the tweet that are not in the vocabulary, set them to the unique ID for the token `[UNK]`.\n",
    "\n",
    "##### Example\n",
    "You had the original tweet:\n",
    "```CPP\n",
    "'@happypuppy, is Maria happy?'\n",
    "```\n",
    "\n",
    "The tweet is already converted into a list of tokens (including only relevant words).\n",
    "```CPP\n",
    "['maria', 'happy']\n",
    "```\n",
    "\n",
    "Now you will convert each word into its unique integer.\n",
    "\n",
    "```CPP\n",
    "[1, 55]\n",
    "```\n",
    "- Notice that the word \"maria\" is not in the vocabulary, so it is assigned the unique integer associated with the `[UNK]` token, because it is considered \"unknown.\"\n",
    "\n",
    "After that, you will pad the tweet with zeros so that all the tweets have the same length.\n",
    "\n",
    "```CPP\n",
    "[1, 56, 0, 0, ... , 0]\n",
    "```"
   ]
  },
  {
   "cell_type": "markdown",
   "id": "ae577b59",
   "metadata": {},
   "source": [
    "First, let's have a look at the length of the processed tweets. You have to look at all tweets in the training and validation set and find the longest one to pad all of them to the maximum length."
   ]
  },
  {
   "cell_type": "code",
   "execution_count": 69,
   "id": "a9cc2e70",
   "metadata": {
    "deletable": false,
    "editable": false,
    "tags": [
     "graded"
    ]
   },
   "outputs": [
    {
     "data": {
      "image/png": "[encoded data removed]",
      "text/plain": [
       "<Figure size 640x480 with 1 Axes>"
      ]
     },
     "metadata": {},
     "output_type": "display_data"
    }
   ],
   "source": [
    "# Tweet lengths\n",
    "plt.hist([len(t) for t in train_x + val_x]);"
   ]
  },
  {
   "cell_type": "markdown",
   "id": "5e1b006c",
   "metadata": {},
   "source": [
    "Now find the length of the longest tweet. Remember to look at the training and the validation set."
   ]
  },
  {
   "cell_type": "markdown",
   "id": "e7bbe5df",
   "metadata": {},
   "source": [
    "<a name=\"ex-2\"></a>\n",
    "### Exercise 2 - max_len\n",
    "Calculate the length of the longest tweet."
   ]
  },
  {
   "cell_type": "code",
   "execution_count": 70,
   "id": "f7078bca",
   "metadata": {
    "deletable": false,
    "tags": [
     "graded"
    ]
   },
   "outputs": [
    {
     "name": "stdout",
     "output_type": "stream",
     "text": [
      "The length of the longest tweet is 51 tokens.\n"
     ]
    }
   ],
   "source": [
    "# GRADED FUNCTION: max_length\n",
    "def max_length(training_x, validation_x):\n",
    "    \"\"\"Computes the length of the longest tweet in the training and validation sets.\n",
    "\n",
    "    Args:\n",
    "        training_x (list): The tweets in the training set.\n",
    "        validation_x (list): The tweets in the validation set.\n",
    "\n",
    "    Returns:\n",
    "        int: Length of the longest tweet.\n",
    "    \"\"\"\n",
    "    ### START CODE HERE ###\n",
    "\n",
    "    max_len = max(len(word) for word in training_x + validation_x)\n",
    "    \n",
    "    ### END CODE HERE ###\n",
    "    return max_len\n",
    "\n",
    "max_len = max_length(train_x, val_x)\n",
    "print(f'The length of the longest tweet is {max_len} tokens.')"
   ]
  },
  {
   "cell_type": "markdown",
   "id": "6cfbce29",
   "metadata": {},
   "source": [
    "Expected output:\n",
    "\n",
    "The length of the longest tweet is 51 tokens."
   ]
  },
  {
   "cell_type": "code",
   "execution_count": 71,
   "id": "a20bd3ee",
   "metadata": {
    "deletable": false,
    "editable": false,
    "tags": []
   },
   "outputs": [
    {
     "name": "stdout",
     "output_type": "stream",
     "text": [
      "\u001b[92m All tests passed\n"
     ]
    }
   ],
   "source": [
    "# Test your max_len function\n",
    "w1_unittest.test_max_length(max_length)"
   ]
  },
  {
   "cell_type": "markdown",
   "id": "34e550c2",
   "metadata": {},
   "source": [
    "<a name=\"ex-3\"></a>\n",
    "### Exercise 3 - padded_sequence\n",
    "Implement `padded_sequence` function to transform sequences of words into padded sequences of numbers. A couple of things to notice:\n",
    "\n",
    "- The term `tensor` is used to refer to the encoded tweet but the function should return a regular python list, not a `tf.tensor`\n",
    "- There is no need to truncate the tweet if it exceeds `max_len` as you already know the maximum length of the tweets beforehand"
   ]
  },
  {
   "cell_type": "code",
   "execution_count": 72,
   "id": "fe6597fa",
   "metadata": {
    "deletable": false,
    "tags": [
     "graded"
    ]
   },
   "outputs": [],
   "source": [
    "# GRADED FUNCTION: padded_sequence\n",
    "def padded_sequence(tweet, vocab_dict, max_len, unk_token='[UNK]'):\n",
    "    \"\"\"transform sequences of words into padded sequences of numbers\n",
    "\n",
    "    Args:\n",
    "        tweet (list): A single tweet encoded as a list of strings.\n",
    "        vocab_dict (dict): Vocabulary.\n",
    "        max_len (int): Length of the longest tweet.\n",
    "        unk_token (str, optional): Unknown token. Defaults to '[UNK]'.\n",
    "\n",
    "    Returns:\n",
    "        list: Padded tweet encoded as a list of int.\n",
    "    \"\"\"\n",
    "    ### START CODE HERE ###\n",
    "    \n",
    "    # Find the ID of the UNK token, to use it when you encounter a new word\n",
    "    unk_ID = vocab_dict[unk_token] \n",
    "    \n",
    "    # First convert the words to integers by looking up the vocab_dict\n",
    "    tokens = [vocab_dict[word] if word in vocab_dict else unk_ID for word in tweet ]\n",
    "\n",
    "    # Then pad the tensor with zeroes up to the length max_len\n",
    "    padded_tensor = tokens + [0] * (max_len - len(tokens))\n",
    "\n",
    "    ### END CODE HERE ###\n",
    "\n",
    "    return padded_tensor"
   ]
  },
  {
   "cell_type": "markdown",
   "id": "3752b8dc",
   "metadata": {},
   "source": [
    "Test the function"
   ]
  },
  {
   "cell_type": "code",
   "execution_count": 73,
   "id": "f8766862",
   "metadata": {
    "deletable": false,
    "editable": false,
    "tags": []
   },
   "outputs": [
    {
     "name": "stdout",
     "output_type": "stream",
     "text": [
      "\u001b[92m All tests passed\n"
     ]
    }
   ],
   "source": [
    "# Test your padded_sequence function\n",
    "w1_unittest.test_padded_sequence(padded_sequence)"
   ]
  },
  {
   "cell_type": "markdown",
   "id": "a4dfd15c",
   "metadata": {},
   "source": [
    "Pad the train and validation dataset"
   ]
  },
  {
   "cell_type": "code",
   "execution_count": 74,
   "id": "38f7fcbd",
   "metadata": {
    "deletable": false,
    "editable": false,
    "tags": [
     "graded"
    ]
   },
   "outputs": [],
   "source": [
    "train_x_padded = [padded_sequence(x, vocab, max_len) for x in train_x]\n",
    "val_x_padded = [padded_sequence(x, vocab, max_len) for x in val_x]"
   ]
  },
  {
   "cell_type": "markdown",
   "id": "6fde3269",
   "metadata": {},
   "source": [
    "<a name=\"3\"></a>\n",
    "## 3 - Define the structure of the neural network layers\n",
    "\n",
    "In this part, you will write your own functions and layers for the neural network to test your understanding of the implementation. It will be similar to the one used in Keras and PyTorch. Writing your own small framework will help you understand how they all work and use them effectively in the future.\n",
    "\n",
    "You will implement the ReLU and sigmoid functions, which you will use as activation functions for the neural network, as well as a fully connected (dense) layer."
   ]
  },
  {
   "cell_type": "markdown",
   "id": "a4809299",
   "metadata": {},
   "source": [
    "<a name=\"3-1\"></a>\n",
    "### 3.1 - ReLU\n",
    "You will now implement the ReLU activation in a function below. The ReLU function looks as follows: \n",
    "<img src = \"images/relu.jpg\" style=\"width:300px;height:150px;\"/>\n",
    "\n",
    "$$ \\mathrm{ReLU}(x) = \\mathrm{max}(0,x) $$\n"
   ]
  },
  {
   "cell_type": "markdown",
   "id": "ca253367",
   "metadata": {},
   "source": [
    "<a name=\"ex-4\"></a>\n",
    "### Exercise 4 - relu\n",
    "**Instructions:** Implement the ReLU activation function below. Your function should take in a matrix or vector and it should transform all the negative numbers into 0 while keeping all the positive numbers intact. \n",
    "\n",
    "Notice you can get the maximum of two numbers by using [np.maximum](https://numpy.org/doc/stable/reference/generated/numpy.maximum.html)."
   ]
  },
  {
   "cell_type": "code",
   "execution_count": 75,
   "id": "f1c365d1",
   "metadata": {
    "deletable": false,
    "tags": [
     "graded"
    ]
   },
   "outputs": [],
   "source": [
    "# GRADED FUNCTION: relu\n",
    "def relu(x):\n",
    "    '''Relu activation function implementation\n",
    "    Input: \n",
    "        - x (numpy array)\n",
    "    Output:\n",
    "        - activation (numpy array): input with negative values set to zero\n",
    "    '''\n",
    "    ### START CODE HERE ###\n",
    "\n",
    "    activation = np.maximum(0, x)\n",
    "\n",
    "    ### END CODE HERE ###\n",
    "\n",
    "    return activation"
   ]
  },
  {
   "cell_type": "code",
   "execution_count": 76,
   "id": "6027ee6e",
   "metadata": {
    "deletable": false,
    "editable": false,
    "tags": [
     "graded"
    ]
   },
   "outputs": [
    {
     "name": "stdout",
     "output_type": "stream",
     "text": [
      "Test data is:\n",
      "[[-2. -1.  0.]\n",
      " [ 0.  1.  2.]]\n",
      "\n",
      "Output of relu is:\n",
      "[[0. 0. 0.]\n",
      " [0. 1. 2.]]\n"
     ]
    }
   ],
   "source": [
    "# Check the output of your function\n",
    "x = np.array([[-2.0, -1.0, 0.0], [0.0, 1.0, 2.0]], dtype=float)\n",
    "print(\"Test data is:\")\n",
    "print(x)\n",
    "print(\"\\nOutput of relu is:\")\n",
    "print(relu(x))"
   ]
  },
  {
   "cell_type": "markdown",
   "id": "f6cb21e3",
   "metadata": {},
   "source": [
    "**Expected Output:**\n",
    "```\n",
    "Test data is:\n",
    "[[-2. -1.  0.]\n",
    " [ 0.  1.  2.]]\n",
    " \n",
    "Output of relu is:\n",
    "[[0. 0. 0.]\n",
    " [0. 1. 2.]]\n",
    "```"
   ]
  },
  {
   "cell_type": "code",
   "execution_count": 77,
   "id": "09460d00",
   "metadata": {
    "deletable": false,
    "editable": false,
    "tags": []
   },
   "outputs": [
    {
     "name": "stdout",
     "output_type": "stream",
     "text": [
      "\u001b[92m All tests passed\n"
     ]
    }
   ],
   "source": [
    "# Test your relu function\n",
    "w1_unittest.test_relu(relu)"
   ]
  },
  {
   "cell_type": "markdown",
   "id": "2bad16e4",
   "metadata": {},
   "source": [
    "<a name=\"3-2\"></a>\n",
    "### 3.2 - Sigmoid\n",
    "You will now implement the sigmoid activation in a function below. The sigmoid function looks as follows: \n",
    "<img src = \"images/sigmoid.jpg\" style=\"width:300px;height:150px;\"/>\n",
    "\n",
    "$$ \\mathrm{sigmoid}(x) = \\frac{1}{1 + e^{-x}} $$\n"
   ]
  },
  {
   "cell_type": "markdown",
   "id": "fa5bbd47",
   "metadata": {},
   "source": [
    "<a name=\"ex-5\"></a>\n",
    "### Exercise 5 - sigmoid\n",
    "**Instructions:** Implement the sigmoid activation function below. Your function should take in a matrix or vector and it should transform all the numbers according to the formula above."
   ]
  },
  {
   "cell_type": "code",
   "execution_count": 78,
   "id": "1d5d3268",
   "metadata": {
    "deletable": false,
    "tags": [
     "graded"
    ]
   },
   "outputs": [],
   "source": [
    "# GRADED FUNCTION: sigmoid\n",
    "def sigmoid(x):\n",
    "    '''Sigmoid activation function implementation\n",
    "    Input: \n",
    "        - x (numpy array)\n",
    "    Output:\n",
    "        - activation (numpy array)\n",
    "    '''\n",
    "    ### START CODE HERE ###\n",
    "\n",
    "    activation = 1 / (1 + np.exp(-x))\n",
    "\n",
    "    ### END CODE HERE ###\n",
    "\n",
    "    return activation    "
   ]
  },
  {
   "cell_type": "code",
   "execution_count": 79,
   "id": "31275d11",
   "metadata": {
    "deletable": false,
    "editable": false,
    "tags": [
     "graded"
    ]
   },
   "outputs": [
    {
     "name": "stdout",
     "output_type": "stream",
     "text": [
      "Test data is:\n",
      "[[-1000.    -1.     0.]\n",
      " [    0.     1.  1000.]]\n",
      "\n",
      "Output of sigmoid is:\n",
      "[[0.         0.26894142 0.5       ]\n",
      " [0.5        0.73105858 1.        ]]\n"
     ]
    },
    {
     "name": "stderr",
     "output_type": "stream",
     "text": [
      "C:\\Users\\omidt\\AppData\\Local\\Temp\\ipykernel_60948\\1592997170.py:11: RuntimeWarning: overflow encountered in exp\n",
      "  activation = 1 / (1 + np.exp(-x))\n"
     ]
    }
   ],
   "source": [
    "# Check the output of your function\n",
    "x = np.array([[-1000.0, -1.0, 0.0], [0.0, 1.0, 1000.0]], dtype=float)\n",
    "print(\"Test data is:\")\n",
    "print(x)\n",
    "print(\"\\nOutput of sigmoid is:\")\n",
    "print(sigmoid(x))"
   ]
  },
  {
   "cell_type": "markdown",
   "id": "3df79772",
   "metadata": {},
   "source": [
    "**Expected Output:**\n",
    "```\n",
    "Test data is:\n",
    "[[-1000.    -1.     0.]\n",
    " [    0.     1.  1000.]]\n",
    "\n",
    "Output of sigmoid is:\n",
    "[[0.         0.26894142 0.5       ]\n",
    " [0.5        0.73105858 1.        ]]\n",
    "```"
   ]
  },
  {
   "cell_type": "code",
   "execution_count": 80,
   "id": "87150bd2",
   "metadata": {
    "deletable": false,
    "editable": false,
    "tags": []
   },
   "outputs": [
    {
     "name": "stdout",
     "output_type": "stream",
     "text": [
      "\u001b[92m All tests passed\n"
     ]
    },
    {
     "name": "stderr",
     "output_type": "stream",
     "text": [
      "C:\\Users\\omidt\\AppData\\Local\\Temp\\ipykernel_60948\\1592997170.py:11: RuntimeWarning: overflow encountered in exp\n",
      "  activation = 1 / (1 + np.exp(-x))\n"
     ]
    }
   ],
   "source": [
    "# Test your sigmoid function\n",
    "w1_unittest.test_sigmoid(sigmoid)"
   ]
  },
  {
   "cell_type": "markdown",
   "id": "cfd2861b",
   "metadata": {},
   "source": [
    "<a name=\"3.3\"></a>\n",
    "### 3.3 - Dense Class \n",
    "\n",
    "Implement the weight initialization in the `__init__` method.\n",
    "- Weights are initialized with a random key.\n",
    "- The shape of the weights (num_rows, num_cols) should equal the number of columns in the input data (this is in the last column) and the number of units respectively.\n",
    "    - The number of rows in the weight matrix should equal the number of columns in the input data `x`.  Since `x` may have 2 dimensions if it represents a single training example (row, col), or three dimensions (batch_size, row, col), get the last dimension from the tuple that holds the dimensions of x.\n",
    "    - The number of columns in the weight matrix is the number of units chosen for that dense layer.\n",
    "- The values generated should have a mean of 0 and standard deviation of `stdev`.\n",
    "    - To initialize random weights, a random generator is created using `random_generator = np.random.default_rng(seed=random_seed)`. This part is implemented for you. You will use `random_generator.normal(...)` to create your random weights. Check [here](https://numpy.org/doc/stable/reference/random/generator.html) how the random generator works.\n",
    "    - Please don't change the `random_seed`, so that the results are reproducible for testing (and you can be fairly graded).\n",
    "\n",
    "Implement the `forward` function of the Dense class. \n",
    "- The forward function multiplies the input to the layer (`x`) by the weight matrix (`W`)\n",
    "\n",
    "$$\\mathrm{forward}(\\mathbf{x},\\mathbf{W}) = \\mathbf{xW} $$\n",
    "\n",
    "- You can use `numpy.dot` to perform the matrix multiplication."
   ]
  },
  {
   "cell_type": "markdown",
   "id": "2917e87b",
   "metadata": {},
   "source": [
    "<a name=\"ex-6\"></a>\n",
    "### Exercise 6 - Dense\n",
    "\n",
    "Implement the `Dense` class. You might want to check how normal random numbers can be generated with numpy by checking the [docs](https://numpy.org/doc/stable/reference/random/generated/numpy.random.Generator.normal.html#numpy.random.Generator.normal)."
   ]
  },
  {
   "cell_type": "code",
   "execution_count": 81,
   "id": "4ede0912",
   "metadata": {
    "deletable": false,
    "tags": [
     "graded"
    ]
   },
   "outputs": [],
   "source": [
    "# GRADED CLASS: Dense\n",
    "class Dense():\n",
    "    \"\"\"\n",
    "    A dense (fully-connected) layer.\n",
    "    \"\"\"\n",
    "\n",
    "    # Please implement '__init__'\n",
    "    def __init__(self, n_units, input_shape, activation, stdev=0.1, random_seed=42):\n",
    "        \n",
    "        # Set the number of units in this layer\n",
    "        self.n_units = n_units\n",
    "        # Set the random key for initializing weights\n",
    "        self.random_generator = np.random.default_rng(seed=random_seed)\n",
    "        self.activation = activation\n",
    "        \n",
    "        ### START CODE HERE ###\n",
    "\n",
    "        # Generate the weight matrix from a normal distribution and standard deviation of 'stdev'\n",
    "        # Set the size of the matrix w\n",
    "        w = self.random_generator.normal(scale = stdev, size = (input_shape[-1], n_units))\n",
    "        \n",
    "        ### END CODE HERE ##\n",
    "\n",
    "        self.weights = w\n",
    "        \n",
    "\n",
    "    def __call__(self, x):\n",
    "        return self.forward(x)\n",
    "    \n",
    "    \n",
    "    # Please implement 'forward()'\n",
    "    def forward(self, x):\n",
    "        \n",
    "        ### START CODE HERE ###\n",
    "\n",
    "        # Matrix multiply x and the weight matrix\n",
    "        dense = np.dot(x, self.weights)\n",
    "        # Apply the activation function\n",
    "        dense = self.activation(dense)\n",
    "        \n",
    "        ### END CODE HERE ###\n",
    "        return dense"
   ]
  },
  {
   "cell_type": "code",
   "execution_count": 82,
   "id": "5bc10c8b",
   "metadata": {
    "deletable": false,
    "editable": false,
    "tags": [
     "graded"
    ]
   },
   "outputs": [
    {
     "name": "stdout",
     "output_type": "stream",
     "text": [
      "Weights are:\n",
      " [[ 0.03047171 -0.10399841  0.07504512  0.09405647 -0.19510352 -0.13021795\n",
      "   0.01278404 -0.03162426 -0.00168012 -0.08530439]\n",
      " [ 0.0879398   0.07777919  0.00660307  0.11272412  0.04675093 -0.08592925\n",
      "   0.03687508 -0.09588826  0.08784503 -0.00499259]\n",
      " [-0.01848624 -0.06809295  0.12225413 -0.01545295 -0.04283278 -0.03521336\n",
      "   0.05323092  0.03654441  0.04127326  0.0430821 ]]\n",
      "Foward function output is: [[0.21436609 0.         3.25266507 0.59085808 0.         0.\n",
      "  1.61446659 0.17914382 1.64338651 0.87149558]]\n"
     ]
    }
   ],
   "source": [
    "# random_key = np.random.get_prng()  # sets random seed\n",
    "z = np.array([[2.0, 7.0, 25.0]]) # input array\n",
    "\n",
    "# Testing your Dense layer \n",
    "dense_layer = Dense(n_units=10, input_shape=z.shape, activation=relu)  #sets  number of units in dense layer\n",
    "\n",
    "print(\"Weights are:\\n\",dense_layer.weights) #Returns randomly generated weights\n",
    "print(\"Foward function output is:\", dense_layer(z)) # Returns multiplied values of units and weights"
   ]
  },
  {
   "cell_type": "markdown",
   "id": "56055e63",
   "metadata": {},
   "source": [
    "**Expected Output:**\n",
    "```\n",
    "Weights are:\n",
    " [[ 0.03047171 -0.10399841  0.07504512  0.09405647 -0.19510352 -0.13021795\n",
    "   0.01278404 -0.03162426 -0.00168012 -0.08530439]\n",
    " [ 0.0879398   0.07777919  0.00660307  0.11272412  0.04675093 -0.08592925\n",
    "   0.03687508 -0.09588826  0.08784503 -0.00499259]\n",
    " [-0.01848624 -0.06809295  0.12225413 -0.01545295 -0.04283278 -0.03521336\n",
    "   0.05323092  0.03654441  0.04127326  0.0430821 ]]\n",
    "\n",
    "Foward function output is: [[0.21436609 0.         3.25266507 0.59085808 0.         0.\n",
    "  1.61446659 0.17914382 1.64338651 0.87149558]]\n",
    "```"
   ]
  },
  {
   "cell_type": "markdown",
   "id": "88912018",
   "metadata": {},
   "source": [
    "Test the Dense class"
   ]
  },
  {
   "cell_type": "code",
   "execution_count": 83,
   "id": "da1120d5",
   "metadata": {
    "deletable": false,
    "editable": false,
    "tags": []
   },
   "outputs": [
    {
     "name": "stdout",
     "output_type": "stream",
     "text": [
      "\u001b[92m All tests passed\n"
     ]
    }
   ],
   "source": [
    "# Test your Dense class\n",
    "w1_unittest.test_Dense(Dense)"
   ]
  },
  {
   "cell_type": "markdown",
   "id": "0c2d927a",
   "metadata": {},
   "source": [
    "<a name=\"3-4\"></a>\n",
    "### 3.4 - Model\n",
    "\n",
    "Now you will implement a classifier using neural networks. Here is the model architecture you will be implementing. \n",
    "\n",
    "<img src = \"images/nn.jpg\"/>\n",
    "\n",
    "For the model implementation, you will use `TensorFlow` module, imported as `tf`. Your model will consist of layers and activation functions that you implemented above, but you will take them directly from the tensorflow library.\n",
    "\n",
    "You will use the [tf.keras.Sequential](https://www.tensorflow.org/api_docs/python/tf/keras/Sequential) module, which allows you to stack the layers in a sequence as you want them in the model. You will use the following layers:\n",
    "- [tf.keras.layers.Embedding](https://www.tensorflow.org/api_docs/python/tf/keras/layers/Embedding)\n",
    "    - Turns positive integers (word indices) into vectors of fixed size. You can imagine it as creating one-hot vectors out of indices and then running them through a fully-connected (dense) layer.\n",
    "- [tf.keras.layers.GlobalAveragePooling1D](https://www.tensorflow.org/api_docs/python/tf/keras/layers/GlobalAveragePooling1D)\n",
    "- [tf.keras.layers.Dense](https://www.tensorflow.org/api_docs/python/tf/keras/layers/Dense)\n",
    "    - Regular fully connected layer\n",
    "    \n",
    "Please use the `help` function to view documentation for each layer."
   ]
  },
  {
   "cell_type": "code",
   "execution_count": 88,
   "id": "8a5de20b",
   "metadata": {
    "deletable": false,
    "tags": [
     "graded"
    ]
   },
   "outputs": [
    {
     "name": "stdout",
     "output_type": "stream",
     "text": [
      "Help on class Embedding in module keras.src.layers.core.embedding:\n",
      "\n",
      "class Embedding(keras.src.layers.layer.Layer)\n",
      " |  Embedding(input_dim, output_dim, embeddings_initializer='uniform', embeddings_regularizer=None, embeddings_constraint=None, mask_zero=False, weights=None, lora_rank=None, **kwargs)\n",
      " |\n",
      " |  Turns positive integers (indexes) into dense vectors of fixed size.\n",
      " |\n",
      " |  e.g. `[[4], [20]] -> [[0.25, 0.1], [0.6, -0.2]]`\n",
      " |\n",
      " |  This layer can only be used on positive integer inputs of a fixed range.\n",
      " |\n",
      " |  Example:\n",
      " |\n",
      " |  >>> model = keras.Sequential()\n",
      " |  >>> model.add(keras.layers.Embedding(1000, 64))\n",
      " |  >>> # The model will take as input an integer matrix of size (batch,\n",
      " |  >>> # input_length), and the largest integer (i.e. word index) in the input\n",
      " |  >>> # should be no larger than 999 (vocabulary size).\n",
      " |  >>> # Now model.output_shape is (None, 10, 64), where `None` is the batch\n",
      " |  >>> # dimension.\n",
      " |  >>> input_array = np.random.randint(1000, size=(32, 10))\n",
      " |  >>> model.compile('rmsprop', 'mse')\n",
      " |  >>> output_array = model.predict(input_array)\n",
      " |  >>> print(output_array.shape)\n",
      " |  (32, 10, 64)\n",
      " |\n",
      " |  Args:\n",
      " |      input_dim: Integer. Size of the vocabulary,\n",
      " |          i.e. maximum integer index + 1.\n",
      " |      output_dim: Integer. Dimension of the dense embedding.\n",
      " |      embeddings_initializer: Initializer for the `embeddings`\n",
      " |          matrix (see `keras.initializers`).\n",
      " |      embeddings_regularizer: Regularizer function applied to\n",
      " |          the `embeddings` matrix (see `keras.regularizers`).\n",
      " |      embeddings_constraint: Constraint function applied to\n",
      " |          the `embeddings` matrix (see `keras.constraints`).\n",
      " |      mask_zero: Boolean, whether or not the input value 0 is a special\n",
      " |          \"padding\" value that should be masked out.\n",
      " |          This is useful when using recurrent layers which\n",
      " |          may take variable length input. If this is `True`,\n",
      " |          then all subsequent layers in the model need\n",
      " |          to support masking or an exception will be raised.\n",
      " |          If `mask_zero` is set to `True`, as a consequence,\n",
      " |          index 0 cannot be used in the vocabulary (`input_dim` should\n",
      " |          equal size of vocabulary + 1).\n",
      " |      weights: Optional floating-point matrix of size\n",
      " |          `(input_dim, output_dim)`. The initial embeddings values\n",
      " |          to use.\n",
      " |      lora_rank: Optional integer. If set, the layer's forward pass\n",
      " |          will implement LoRA (Low-Rank Adaptation)\n",
      " |          with the provided rank. LoRA sets the layer's embeddings\n",
      " |          matrix to non-trainable and replaces it with a delta over the\n",
      " |          original matrix, obtained via multiplying two lower-rank\n",
      " |          trainable matrices. This can be useful to reduce the\n",
      " |          computation cost of fine-tuning large embedding layers.\n",
      " |          You can also enable LoRA on an existing\n",
      " |          `Embedding` layer by calling `layer.enable_lora(rank)`.\n",
      " |\n",
      " |  Input shape:\n",
      " |      2D tensor with shape: `(batch_size, input_length)`.\n",
      " |\n",
      " |  Output shape:\n",
      " |      3D tensor with shape: `(batch_size, input_length, output_dim)`.\n",
      " |\n",
      " |  Method resolution order:\n",
      " |      Embedding\n",
      " |      keras.src.layers.layer.Layer\n",
      " |      keras.src.backend.tensorflow.layer.TFLayer\n",
      " |      keras.src.backend.tensorflow.trackable.KerasAutoTrackable\n",
      " |      tensorflow.python.trackable.autotrackable.AutoTrackable\n",
      " |      tensorflow.python.trackable.base.Trackable\n",
      " |      keras.src.ops.operation.Operation\n",
      " |      keras.src.saving.keras_saveable.KerasSaveable\n",
      " |      builtins.object\n",
      " |\n",
      " |  Methods defined here:\n",
      " |\n",
      " |  __init__(self, input_dim, output_dim, embeddings_initializer='uniform', embeddings_regularizer=None, embeddings_constraint=None, mask_zero=False, weights=None, lora_rank=None, **kwargs)\n",
      " |      Initialize self.  See help(type(self)) for accurate signature.\n",
      " |\n",
      " |  build(self, input_shape=None)\n",
      " |\n",
      " |  call(self, inputs)\n",
      " |\n",
      " |  compute_mask(self, inputs, mask=None)\n",
      " |\n",
      " |  compute_output_shape(self, input_shape)\n",
      " |\n",
      " |  enable_lora(self, rank, a_initializer='he_uniform', b_initializer='zeros')\n",
      " |\n",
      " |  get_config(self)\n",
      " |      Returns the config of the object.\n",
      " |\n",
      " |      An object config is a Python dictionary (serializable)\n",
      " |      containing the information needed to re-instantiate it.\n",
      " |\n",
      " |  load_own_variables(self, store)\n",
      " |      Loads the state of the layer.\n",
      " |\n",
      " |      You can override this method to take full control of how the state of\n",
      " |      the layer is loaded upon calling `keras.models.load_model()`.\n",
      " |\n",
      " |      Args:\n",
      " |          store: Dict from which the state of the model will be loaded.\n",
      " |\n",
      " |  quantize(self, mode)\n",
      " |\n",
      " |  quantized_build(self, input_shape, mode)\n",
      " |\n",
      " |  quantized_call(self, inputs)\n",
      " |\n",
      " |  save_own_variables(self, store)\n",
      " |      Saves the state of the layer.\n",
      " |\n",
      " |      You can override this method to take full control of how the state of\n",
      " |      the layer is saved upon calling `model.save()`.\n",
      " |\n",
      " |      Args:\n",
      " |          store: Dict where the state of the model will be saved.\n",
      " |\n",
      " |  ----------------------------------------------------------------------\n",
      " |  Readonly properties defined here:\n",
      " |\n",
      " |  embeddings\n",
      " |\n",
      " |  ----------------------------------------------------------------------\n",
      " |  Methods inherited from keras.src.layers.layer.Layer:\n",
      " |\n",
      " |  __call__(self, *args, **kwargs)\n",
      " |      Call self as a function.\n",
      " |\n",
      " |  __repr__(self)\n",
      " |      Return repr(self).\n",
      " |\n",
      " |  __setattr__(self, name, value)\n",
      " |      Support self.foo = trackable syntax.\n",
      " |\n",
      " |  __str__(self)\n",
      " |      Return str(self).\n",
      " |\n",
      " |  add_loss(self, loss)\n",
      " |      Can be called inside of the `call()` method to add a scalar loss.\n",
      " |\n",
      " |      Example:\n",
      " |\n",
      " |      ```python\n",
      " |      class MyLayer(Layer):\n",
      " |          ...\n",
      " |          def call(self, x):\n",
      " |              self.add_loss(ops.sum(x))\n",
      " |              return x\n",
      " |      ```\n",
      " |\n",
      " |  add_metric(self)\n",
      " |\n",
      " |  add_variable(self, shape, initializer, dtype=None, trainable=True, autocast=True, regularizer=None, constraint=None, name=None)\n",
      " |      Add a weight variable to the layer.\n",
      " |\n",
      " |      Alias of `add_weight()`.\n",
      " |\n",
      " |  add_weight(self, shape=None, initializer=None, dtype=None, trainable=True, autocast=True, regularizer=None, constraint=None, aggregation='mean', name=None)\n",
      " |      Add a weight variable to the layer.\n",
      " |\n",
      " |      Args:\n",
      " |          shape: Shape tuple for the variable. Must be fully-defined\n",
      " |              (no `None` entries). Defaults to `()` (scalar) if unspecified.\n",
      " |          initializer: Initializer object to use to populate the initial\n",
      " |              variable value, or string name of a built-in initializer\n",
      " |              (e.g. `\"random_normal\"`). If unspecified, defaults to\n",
      " |              `\"glorot_uniform\"` for floating-point variables and to `\"zeros\"`\n",
      " |              for all other types (e.g. int, bool).\n",
      " |          dtype: Dtype of the variable to create, e.g. `\"float32\"`. If\n",
      " |              unspecified, defaults to the layer's variable dtype\n",
      " |              (which itself defaults to `\"float32\"` if unspecified).\n",
      " |          trainable: Boolean, whether the variable should be trainable via\n",
      " |              backprop or whether its updates are managed manually. Defaults\n",
      " |              to `True`.\n",
      " |          autocast: Boolean, whether to autocast layers variables when\n",
      " |              accessing them. Defaults to `True`.\n",
      " |          regularizer: Regularizer object to call to apply penalty on the\n",
      " |              weight. These penalties are summed into the loss function\n",
      " |              during optimization. Defaults to `None`.\n",
      " |          constraint: Contrainst object to call on the variable after any\n",
      " |              optimizer update, or string name of a built-in constraint.\n",
      " |              Defaults to `None`.\n",
      " |          aggregation: String, one of `'mean'`, `'sum'`,\n",
      " |              `'only_first_replica'`. Annotates the variable with the type\n",
      " |              of multi-replica aggregation to be used for this variable\n",
      " |              when writing custom data parallel training loops.\n",
      " |          name: String name of the variable. Useful for debugging purposes.\n",
      " |\n",
      " |  build_from_config(self, config)\n",
      " |      Builds the layer's states with the supplied config dict.\n",
      " |\n",
      " |      By default, this method calls the `build(config[\"input_shape\"])` method,\n",
      " |      which creates weights based on the layer's input shape in the supplied\n",
      " |      config. If your config contains other information needed to load the\n",
      " |      layer's state, you should override this method.\n",
      " |\n",
      " |      Args:\n",
      " |          config: Dict containing the input shape associated with this layer.\n",
      " |\n",
      " |  compute_output_spec(self, *args, **kwargs)\n",
      " |\n",
      " |  count_params(self)\n",
      " |      Count the total number of scalars composing the weights.\n",
      " |\n",
      " |      Returns:\n",
      " |          An integer count.\n",
      " |\n",
      " |  get_build_config(self)\n",
      " |      Returns a dictionary with the layer's input shape.\n",
      " |\n",
      " |      This method returns a config dict that can be used by\n",
      " |      `build_from_config(config)` to create all states (e.g. Variables and\n",
      " |      Lookup tables) needed by the layer.\n",
      " |\n",
      " |      By default, the config only contains the input shape that the layer\n",
      " |      was built with. If you're writing a custom layer that creates state in\n",
      " |      an unusual way, you should override this method to make sure this state\n",
      " |      is already created when Keras attempts to load its value upon model\n",
      " |      loading.\n",
      " |\n",
      " |      Returns:\n",
      " |          A dict containing the input shape associated with the layer.\n",
      " |\n",
      " |  get_weights(self)\n",
      " |      Return the values of `layer.weights` as a list of NumPy arrays.\n",
      " |\n",
      " |  set_weights(self, weights)\n",
      " |      Sets the values of `layer.weights` from a list of NumPy arrays.\n",
      " |\n",
      " |  stateless_call(self, trainable_variables, non_trainable_variables, *args, return_losses=False, **kwargs)\n",
      " |      Call the layer without any side effects.\n",
      " |\n",
      " |      Args:\n",
      " |          trainable_variables: List of trainable variables of the model.\n",
      " |          non_trainable_variables: List of non-trainable variables of the\n",
      " |              model.\n",
      " |          *args: Positional arguments to be passed to `call()`.\n",
      " |          return_losses: If `True`, `stateless_call()` will return the list of\n",
      " |              losses created during `call()` as part of its return values.\n",
      " |          **kwargs: Keyword arguments to be passed to `call()`.\n",
      " |\n",
      " |      Returns:\n",
      " |          A tuple. By default, returns `(outputs, non_trainable_variables)`.\n",
      " |              If `return_losses = True`, then returns\n",
      " |              `(outputs, non_trainable_variables, losses)`.\n",
      " |\n",
      " |      Note: `non_trainable_variables` include not only non-trainable weights\n",
      " |      such as `BatchNormalization` statistics, but also RNG seed state\n",
      " |      (if there are any random operations part of the layer, such as dropout),\n",
      " |      and `Metric` state (if there are any metrics attached to the layer).\n",
      " |      These are all elements of state of the layer.\n",
      " |\n",
      " |      Example:\n",
      " |\n",
      " |      ```python\n",
      " |      model = ...\n",
      " |      data = ...\n",
      " |      trainable_variables = model.trainable_variables\n",
      " |      non_trainable_variables = model.non_trainable_variables\n",
      " |      # Call the model with zero side effects\n",
      " |      outputs, non_trainable_variables = model.stateless_call(\n",
      " |          trainable_variables,\n",
      " |          non_trainable_variables,\n",
      " |          data,\n",
      " |      )\n",
      " |      # Attach the updated state to the model\n",
      " |      # (until you do this, the model is still in its pre-call state).\n",
      " |      for ref_var, value in zip(\n",
      " |          model.non_trainable_variables, non_trainable_variables\n",
      " |      ):\n",
      " |          ref_var.assign(value)\n",
      " |      ```\n",
      " |\n",
      " |  ----------------------------------------------------------------------\n",
      " |  Static methods inherited from keras.src.layers.layer.Layer:\n",
      " |\n",
      " |  __new__(cls, *args, **kwargs)\n",
      " |      Create and return a new object.  See help(type) for accurate signature.\n",
      " |\n",
      " |  ----------------------------------------------------------------------\n",
      " |  Readonly properties inherited from keras.src.layers.layer.Layer:\n",
      " |\n",
      " |  compute_dtype\n",
      " |      The dtype of the computations performed by the layer.\n",
      " |\n",
      " |  dtype\n",
      " |      Alias of `layer.variable_dtype`.\n",
      " |\n",
      " |  input_dtype\n",
      " |      The dtype layer inputs should be converted to.\n",
      " |\n",
      " |  losses\n",
      " |      List of scalar losses from `add_loss`, regularizers and sublayers.\n",
      " |\n",
      " |  metrics\n",
      " |      List of all metrics.\n",
      " |\n",
      " |  metrics_variables\n",
      " |      List of all metric variables.\n",
      " |\n",
      " |  non_trainable_variables\n",
      " |      List of all non-trainable layer state.\n",
      " |\n",
      " |      This extends `layer.non_trainable_weights` to include all state used by\n",
      " |      the layer including state for metrics and `SeedGenerator`s.\n",
      " |\n",
      " |  non_trainable_weights\n",
      " |      List of all non-trainable weight variables of the layer.\n",
      " |\n",
      " |      These are the weights that should not be updated by the optimizer during\n",
      " |      training. Unlike, `layer.non_trainable_variables` this excludes metric\n",
      " |      state and random seeds.\n",
      " |\n",
      " |  path\n",
      " |      The path of the layer.\n",
      " |\n",
      " |      If the layer has not been built yet, it will be `None`.\n",
      " |\n",
      " |  quantization_mode\n",
      " |      The quantization mode of this layer, `None` if not quantized.\n",
      " |\n",
      " |  trainable_variables\n",
      " |      List of all trainable layer state.\n",
      " |\n",
      " |      This is equivalent to `layer.trainable_weights`.\n",
      " |\n",
      " |  trainable_weights\n",
      " |      List of all trainable weight variables of the layer.\n",
      " |\n",
      " |      These are the weights that get updated by the optimizer during training.\n",
      " |\n",
      " |  variable_dtype\n",
      " |      The dtype of the state (weights) of the layer.\n",
      " |\n",
      " |  variables\n",
      " |      List of all layer state, including random seeds.\n",
      " |\n",
      " |      This extends `layer.weights` to include all state used by the layer\n",
      " |      including `SeedGenerator`s.\n",
      " |\n",
      " |      Note that metrics variables are not included here, use\n",
      " |      `metrics_variables` to visit all the metric variables.\n",
      " |\n",
      " |  weights\n",
      " |      List of all weight variables of the layer.\n",
      " |\n",
      " |      Unlike, `layer.variables` this excludes metric state and random seeds.\n",
      " |\n",
      " |  ----------------------------------------------------------------------\n",
      " |  Data descriptors inherited from keras.src.layers.layer.Layer:\n",
      " |\n",
      " |  dtype_policy\n",
      " |\n",
      " |  input_spec\n",
      " |\n",
      " |  supports_masking\n",
      " |      Whether this layer supports computing a mask using `compute_mask`.\n",
      " |\n",
      " |  trainable\n",
      " |      Settable boolean, whether this layer should be trainable or not.\n",
      " |\n",
      " |  ----------------------------------------------------------------------\n",
      " |  Methods inherited from tensorflow.python.trackable.autotrackable.AutoTrackable:\n",
      " |\n",
      " |  __delattr__(self, name)\n",
      " |      Implement delattr(self, name).\n",
      " |\n",
      " |  ----------------------------------------------------------------------\n",
      " |  Data descriptors inherited from tensorflow.python.trackable.base.Trackable:\n",
      " |\n",
      " |  __dict__\n",
      " |      dictionary for instance variables\n",
      " |\n",
      " |  __weakref__\n",
      " |      list of weak references to the object\n",
      " |\n",
      " |  ----------------------------------------------------------------------\n",
      " |  Methods inherited from keras.src.ops.operation.Operation:\n",
      " |\n",
      " |  symbolic_call(self, *args, **kwargs)\n",
      " |\n",
      " |  ----------------------------------------------------------------------\n",
      " |  Class methods inherited from keras.src.ops.operation.Operation:\n",
      " |\n",
      " |  from_config(config) from builtins.type\n",
      " |      Creates an operation from its config.\n",
      " |\n",
      " |      This method is the reverse of `get_config`, capable of instantiating the\n",
      " |      same operation from the config dictionary.\n",
      " |\n",
      " |      Note: If you override this method, you might receive a serialized dtype\n",
      " |      config, which is a `dict`. You can deserialize it as follows:\n",
      " |\n",
      " |      ```python\n",
      " |      if \"dtype\" in config and isinstance(config[\"dtype\"], dict):\n",
      " |          policy = dtype_policies.deserialize(config[\"dtype\"])\n",
      " |      ```\n",
      " |\n",
      " |      Args:\n",
      " |          config: A Python dictionary, typically the output of `get_config`.\n",
      " |\n",
      " |      Returns:\n",
      " |          An operation instance.\n",
      " |\n",
      " |  ----------------------------------------------------------------------\n",
      " |  Readonly properties inherited from keras.src.ops.operation.Operation:\n",
      " |\n",
      " |  input\n",
      " |      Retrieves the input tensor(s) of a symbolic operation.\n",
      " |\n",
      " |      Only returns the tensor(s) corresponding to the *first time*\n",
      " |      the operation was called.\n",
      " |\n",
      " |      Returns:\n",
      " |          Input tensor or list of input tensors.\n",
      " |\n",
      " |  output\n",
      " |      Retrieves the output tensor(s) of a layer.\n",
      " |\n",
      " |      Only returns the tensor(s) corresponding to the *first time*\n",
      " |      the operation was called.\n",
      " |\n",
      " |      Returns:\n",
      " |          Output tensor or list of output tensors.\n",
      " |\n",
      " |  ----------------------------------------------------------------------\n",
      " |  Methods inherited from keras.src.saving.keras_saveable.KerasSaveable:\n",
      " |\n",
      " |  __reduce__(self)\n",
      " |      __reduce__ is used to customize the behavior of `pickle.pickle()`.\n",
      " |\n",
      " |      The method returns a tuple of two elements: a function, and a list of\n",
      " |      arguments to pass to that function.  In this case we just leverage the\n",
      " |      keras saving library.\n",
      "\n"
     ]
    }
   ],
   "source": [
    "# View documentation on how to implement the layers in tf.\n",
    "# help(tf.keras.Sequential)\n",
    "help(tf.keras.layers.Embedding)\n",
    "# help(tf.keras.layers.GlobalAveragePooling1D)\n",
    "# help(tf.keras.layers.Dense)"
   ]
  },
  {
   "cell_type": "markdown",
   "id": "1a184816",
   "metadata": {},
   "source": [
    "<a name=\"ex-7\"></a>\n",
    "### Exercise 7 - create_model\n",
    "Implement the create_model function. \n",
    "\n",
    "First you need to create the model. The `tf.keras.Sequential` has been implemented for you. Within it you should put the following layers:\n",
    "- `tf.keras.layers.Embedding` with the size `num_words` times `embeding_dim` and the `input_length` set to the length of the input sequences (which is the length of the longest tweet).\n",
    "- `tf.keras.layers.GlobalAveragePooling1D` with no extra parameters.\n",
    "- `tf.keras.layers.Dense` with the size of one (this is your classification output) and `'sigmoid'` activation passed to the  `activation` keyword parameter.\n",
    "Make sure to separate the layers with a comma.\n",
    "\n",
    "Then you need to compile the model. Here you can look at all the parameters you can set when compiling the model:  [tf.keras.Model](https://www.tensorflow.org/api_docs/python/tf/keras/Model). In this notebook, you just need to set the loss to `'binary_crossentropy'` (because you are doing binary classification with a sigmoid function at the output), the optimizer to `'adam'` and the metrics to `'accuracy'` (so that you can track the accuracy on the training and validation sets."
   ]
  },
  {
   "cell_type": "code",
   "execution_count": 85,
   "id": "1f8deb0d",
   "metadata": {
    "deletable": false,
    "tags": [
     "graded"
    ]
   },
   "outputs": [],
   "source": [
    "# GRADED FUNCTION: create_model\n",
    "def create_model(num_words, embedding_dim, max_len):\n",
    "    \"\"\"\n",
    "    Creates a text classifier model\n",
    "    \n",
    "    Args:\n",
    "        num_words (int): size of the vocabulary for the Embedding layer input\n",
    "        embedding_dim (int): dimensionality of the Embedding layer output\n",
    "        max_len (int): length of the input sequences\n",
    "    \n",
    "    Returns:\n",
    "        model (tf.keras Model): the text classifier model\n",
    "    \"\"\"\n",
    "    \n",
    "    tf.random.set_seed(123)\n",
    "    \n",
    "    ### START CODE HERE\n",
    "    \n",
    "    model = tf.keras.Sequential([ \n",
    "        tf.keras.layers.Embedding(num_words, embedding_dim, input_length = max_len),\n",
    "        tf.keras.layers.GlobalAveragePooling1D(),\n",
    "        tf.keras.layers.Dense(1, activation = 'sigmoid')\n",
    "    ]) \n",
    "    \n",
    "    model.compile(loss = 'binary_crossentropy',\n",
    "                  optimizer = 'adam',\n",
    "                  metrics=['accuracy'])\n",
    "\n",
    "    ### END CODE HERE\n",
    "\n",
    "    return model"
   ]
  },
  {
   "cell_type": "code",
   "execution_count": 86,
   "id": "9a88700c",
   "metadata": {
    "deletable": false,
    "editable": false,
    "tags": [
     "graded"
    ]
   },
   "outputs": [
    {
     "name": "stdout",
     "output_type": "stream",
     "text": [
      "The model is created!\n",
      "\n"
     ]
    }
   ],
   "source": [
    "# Create the model\n",
    "model = create_model(num_words=num_words, embedding_dim=16, max_len=max_len)\n",
    "\n",
    "print('The model is created!\\n')"
   ]
  },
  {
   "cell_type": "code",
   "execution_count": 87,
   "id": "1a0d3f48",
   "metadata": {
    "deletable": false,
    "editable": false,
    "tags": []
   },
   "outputs": [
    {
     "ename": "AttributeError",
     "evalue": "'Embedding' object has no attribute 'input_length'",
     "output_type": "error",
     "traceback": [
      "\u001b[1;31m---------------------------------------------------------------------------\u001b[0m",
      "\u001b[1;31mValueError\u001b[0m                                Traceback (most recent call last)",
      "File \u001b[1;32mf:\\Github\\NLP-Sequence-Models\\Programming Assignments\\Week 1\\Tweets Sentiment Analysis\\w1_unittest.py:614\u001b[0m, in \u001b[0;36mtest_model\u001b[1;34m(target)\u001b[0m\n\u001b[0;32m    613\u001b[0m \u001b[38;5;28;01mtry\u001b[39;00m:\n\u001b[1;32m--> 614\u001b[0m     \u001b[38;5;28;01massert\u001b[39;00m model\u001b[38;5;241m.\u001b[39mlayers[\u001b[38;5;241m0\u001b[39m]\u001b[38;5;241m.\u001b[39minput_shape[\u001b[38;5;241m1\u001b[39m] \u001b[38;5;241m==\u001b[39m test_case[\u001b[38;5;124m\"\u001b[39m\u001b[38;5;124mexpected\u001b[39m\u001b[38;5;124m\"\u001b[39m][\u001b[38;5;124m\"\u001b[39m\u001b[38;5;124mlayer_1_input_length\u001b[39m\u001b[38;5;124m\"\u001b[39m]\n\u001b[0;32m    615\u001b[0m     successful_cases \u001b[38;5;241m+\u001b[39m\u001b[38;5;241m=\u001b[39m \u001b[38;5;241m1\u001b[39m\n",
      "File \u001b[1;32mc:\\Users\\omidt\\AppData\\Local\\Programs\\Python\\Python312\\Lib\\site-packages\\keras\\src\\ops\\operation.py:254\u001b[0m, in \u001b[0;36mOperation.input\u001b[1;34m(self)\u001b[0m\n\u001b[0;32m    246\u001b[0m \u001b[38;5;250m\u001b[39m\u001b[38;5;124;03m\"\"\"Retrieves the input tensor(s) of a symbolic operation.\u001b[39;00m\n\u001b[0;32m    247\u001b[0m \n\u001b[0;32m    248\u001b[0m \u001b[38;5;124;03mOnly returns the tensor(s) corresponding to the *first time*\u001b[39;00m\n\u001b[1;32m   (...)\u001b[0m\n\u001b[0;32m    252\u001b[0m \u001b[38;5;124;03m    Input tensor or list of input tensors.\u001b[39;00m\n\u001b[0;32m    253\u001b[0m \u001b[38;5;124;03m\"\"\"\u001b[39;00m\n\u001b[1;32m--> 254\u001b[0m \u001b[38;5;28;01mreturn\u001b[39;00m \u001b[38;5;28;43mself\u001b[39;49m\u001b[38;5;241;43m.\u001b[39;49m\u001b[43m_get_node_attribute_at_index\u001b[49m\u001b[43m(\u001b[49m\u001b[38;5;241;43m0\u001b[39;49m\u001b[43m,\u001b[49m\u001b[43m \u001b[49m\u001b[38;5;124;43m\"\u001b[39;49m\u001b[38;5;124;43minput_tensors\u001b[39;49m\u001b[38;5;124;43m\"\u001b[39;49m\u001b[43m,\u001b[49m\u001b[43m \u001b[49m\u001b[38;5;124;43m\"\u001b[39;49m\u001b[38;5;124;43minput\u001b[39;49m\u001b[38;5;124;43m\"\u001b[39;49m\u001b[43m)\u001b[49m\n",
      "File \u001b[1;32mc:\\Users\\omidt\\AppData\\Local\\Programs\\Python\\Python312\\Lib\\site-packages\\keras\\src\\ops\\operation.py:285\u001b[0m, in \u001b[0;36mOperation._get_node_attribute_at_index\u001b[1;34m(self, node_index, attr, attr_name)\u001b[0m\n\u001b[0;32m    284\u001b[0m \u001b[38;5;28;01mif\u001b[39;00m \u001b[38;5;129;01mnot\u001b[39;00m \u001b[38;5;28mself\u001b[39m\u001b[38;5;241m.\u001b[39m_inbound_nodes:\n\u001b[1;32m--> 285\u001b[0m     \u001b[38;5;28;01mraise\u001b[39;00m \u001b[38;5;167;01mValueError\u001b[39;00m(\n\u001b[0;32m    286\u001b[0m         \u001b[38;5;124mf\u001b[39m\u001b[38;5;124m\"\u001b[39m\u001b[38;5;124mThe layer \u001b[39m\u001b[38;5;132;01m{\u001b[39;00m\u001b[38;5;28mself\u001b[39m\u001b[38;5;241m.\u001b[39mname\u001b[38;5;132;01m}\u001b[39;00m\u001b[38;5;124m has never been called \u001b[39m\u001b[38;5;124m\"\u001b[39m\n\u001b[0;32m    287\u001b[0m         \u001b[38;5;124mf\u001b[39m\u001b[38;5;124m\"\u001b[39m\u001b[38;5;124mand thus has no defined \u001b[39m\u001b[38;5;132;01m{\u001b[39;00mattr_name\u001b[38;5;132;01m}\u001b[39;00m\u001b[38;5;124m.\u001b[39m\u001b[38;5;124m\"\u001b[39m\n\u001b[0;32m    288\u001b[0m     )\n\u001b[0;32m    289\u001b[0m \u001b[38;5;28;01mif\u001b[39;00m \u001b[38;5;129;01mnot\u001b[39;00m \u001b[38;5;28mlen\u001b[39m(\u001b[38;5;28mself\u001b[39m\u001b[38;5;241m.\u001b[39m_inbound_nodes) \u001b[38;5;241m>\u001b[39m node_index:\n",
      "\u001b[1;31mValueError\u001b[0m: The layer embedding_8 has never been called and thus has no defined input.",
      "\nDuring handling of the above exception, another exception occurred:\n",
      "\u001b[1;31mAttributeError\u001b[0m                            Traceback (most recent call last)",
      "Cell \u001b[1;32mIn[87], line 2\u001b[0m\n\u001b[0;32m      1\u001b[0m \u001b[38;5;66;03m# Test your create_model function\u001b[39;00m\n\u001b[1;32m----> 2\u001b[0m \u001b[43mw1_unittest\u001b[49m\u001b[38;5;241;43m.\u001b[39;49m\u001b[43mtest_model\u001b[49m\u001b[43m(\u001b[49m\u001b[43mcreate_model\u001b[49m\u001b[43m)\u001b[49m\n",
      "File \u001b[1;32mf:\\Github\\NLP-Sequence-Models\\Programming Assignments\\Week 1\\Tweets Sentiment Analysis\\w1_unittest.py:621\u001b[0m, in \u001b[0;36mtest_model\u001b[1;34m(target)\u001b[0m\n\u001b[0;32m    615\u001b[0m     successful_cases \u001b[38;5;241m+\u001b[39m\u001b[38;5;241m=\u001b[39m \u001b[38;5;241m1\u001b[39m\n\u001b[0;32m    616\u001b[0m \u001b[38;5;28;01mexcept\u001b[39;00m:\n\u001b[0;32m    617\u001b[0m     failed_cases\u001b[38;5;241m.\u001b[39mappend(\n\u001b[0;32m    618\u001b[0m         {\n\u001b[0;32m    619\u001b[0m             \u001b[38;5;124m\"\u001b[39m\u001b[38;5;124mname\u001b[39m\u001b[38;5;124m\"\u001b[39m: test_case[\u001b[38;5;124m\"\u001b[39m\u001b[38;5;124mname\u001b[39m\u001b[38;5;124m\"\u001b[39m],\n\u001b[0;32m    620\u001b[0m             \u001b[38;5;124m\"\u001b[39m\u001b[38;5;124mexpected\u001b[39m\u001b[38;5;124m\"\u001b[39m: test_case[\u001b[38;5;124m\"\u001b[39m\u001b[38;5;124mexpected\u001b[39m\u001b[38;5;124m\"\u001b[39m][\u001b[38;5;124m\"\u001b[39m\u001b[38;5;124mlayer_1_input_length\u001b[39m\u001b[38;5;124m\"\u001b[39m],\n\u001b[1;32m--> 621\u001b[0m             \u001b[38;5;124m\"\u001b[39m\u001b[38;5;124mgot\u001b[39m\u001b[38;5;124m\"\u001b[39m: \u001b[43mmodel\u001b[49m\u001b[38;5;241;43m.\u001b[39;49m\u001b[43mlayers\u001b[49m\u001b[43m[\u001b[49m\u001b[38;5;241;43m0\u001b[39;49m\u001b[43m]\u001b[49m\u001b[38;5;241;43m.\u001b[39;49m\u001b[43minput_length\u001b[49m,\n\u001b[0;32m    622\u001b[0m         }\n\u001b[0;32m    623\u001b[0m     )\n\u001b[0;32m    624\u001b[0m     \u001b[38;5;28mprint\u001b[39m(\n\u001b[0;32m    625\u001b[0m         \u001b[38;5;124mf\u001b[39m\u001b[38;5;124m\"\u001b[39m\u001b[38;5;124mThe first layer has wrong input length.\u001b[39m\u001b[38;5;130;01m\\n\u001b[39;00m\u001b[38;5;130;01m\\t\u001b[39;00m\u001b[38;5;124mGot: \u001b[39m\u001b[38;5;132;01m{\u001b[39;00mfailed_cases[\u001b[38;5;241m-\u001b[39m\u001b[38;5;241m1\u001b[39m]\u001b[38;5;241m.\u001b[39mget(\u001b[38;5;124m'\u001b[39m\u001b[38;5;124mgot\u001b[39m\u001b[38;5;124m'\u001b[39m)\u001b[38;5;132;01m}\u001b[39;00m\u001b[38;5;124m,\u001b[39m\u001b[38;5;130;01m\\n\u001b[39;00m\u001b[38;5;130;01m\\t\u001b[39;00m\u001b[38;5;124mExpected: \u001b[39m\u001b[38;5;132;01m{\u001b[39;00mfailed_cases[\u001b[38;5;241m-\u001b[39m\u001b[38;5;241m1\u001b[39m]\u001b[38;5;241m.\u001b[39mget(\u001b[38;5;124m'\u001b[39m\u001b[38;5;124mexpected\u001b[39m\u001b[38;5;124m'\u001b[39m)\u001b[38;5;132;01m}\u001b[39;00m\u001b[38;5;124m\"\u001b[39m\n\u001b[0;32m    626\u001b[0m     )      \n\u001b[0;32m    628\u001b[0m \u001b[38;5;28;01mtry\u001b[39;00m:\n",
      "\u001b[1;31mAttributeError\u001b[0m: 'Embedding' object has no attribute 'input_length'"
     ]
    }
   ],
   "source": [
    "# Test your create_model function\n",
    "w1_unittest.test_model(create_model)"
   ]
  },
  {
   "cell_type": "markdown",
   "id": "aa3495bc",
   "metadata": {},
   "source": [
    "Now you need to prepare the data to put into the model. You already created lists of x and y values and all you need to do now is convert them to `NumPy` arrays, as this is the format that the model is expecting.\n",
    "\n",
    "Then you can create a model with the function you defined above and train it. The trained model should give you about 99.6 % accuracy on the validation set."
   ]
  },
  {
   "cell_type": "code",
   "execution_count": 65,
   "id": "5cc20ab8",
   "metadata": {
    "deletable": false,
    "editable": false,
    "tags": [
     "graded"
    ]
   },
   "outputs": [
    {
     "name": "stdout",
     "output_type": "stream",
     "text": [
      "The data is prepared for training!\n",
      "\n",
      "Training:\n",
      "Epoch 1/20\n",
      "250/250 [==============================] - 16s 52ms/step - loss: 0.6817 - accuracy: 0.6668 - val_loss: 0.6653 - val_accuracy: 0.9905\n",
      "Epoch 2/20\n",
      "250/250 [==============================] - 3s 13ms/step - loss: 0.6316 - accuracy: 0.9594 - val_loss: 0.5977 - val_accuracy: 0.9755\n",
      "Epoch 3/20\n",
      "250/250 [==============================] - 1s 4ms/step - loss: 0.5415 - accuracy: 0.9868 - val_loss: 0.5011 - val_accuracy: 0.9905\n",
      "Epoch 4/20\n",
      "250/250 [==============================] - 1s 3ms/step - loss: 0.4357 - accuracy: 0.9898 - val_loss: 0.4007 - val_accuracy: 0.9935\n",
      "Epoch 5/20\n",
      "250/250 [==============================] - 1s 4ms/step - loss: 0.3385 - accuracy: 0.9942 - val_loss: 0.3139 - val_accuracy: 0.9920\n",
      "Epoch 6/20\n",
      "250/250 [==============================] - 1s 3ms/step - loss: 0.2596 - accuracy: 0.9945 - val_loss: 0.2461 - val_accuracy: 0.9960\n",
      "Epoch 7/20\n",
      "250/250 [==============================] - 1s 4ms/step - loss: 0.1995 - accuracy: 0.9955 - val_loss: 0.1928 - val_accuracy: 0.9945\n",
      "Epoch 8/20\n",
      "250/250 [==============================] - 1s 3ms/step - loss: 0.1547 - accuracy: 0.9962 - val_loss: 0.1534 - val_accuracy: 0.9945\n",
      "Epoch 9/20\n",
      "250/250 [==============================] - 1s 3ms/step - loss: 0.1218 - accuracy: 0.9964 - val_loss: 0.1237 - val_accuracy: 0.9950\n",
      "Epoch 10/20\n",
      "250/250 [==============================] - 1s 4ms/step - loss: 0.0971 - accuracy: 0.9970 - val_loss: 0.1007 - val_accuracy: 0.9950\n",
      "Epoch 11/20\n",
      "250/250 [==============================] - 1s 4ms/step - loss: 0.0786 - accuracy: 0.9969 - val_loss: 0.0835 - val_accuracy: 0.9955\n",
      "Epoch 12/20\n",
      "250/250 [==============================] - 1s 2ms/step - loss: 0.0644 - accuracy: 0.9971 - val_loss: 0.0697 - val_accuracy: 0.9960\n",
      "Epoch 13/20\n",
      "250/250 [==============================] - 1s 2ms/step - loss: 0.0535 - accuracy: 0.9975 - val_loss: 0.0590 - val_accuracy: 0.9960\n",
      "Epoch 14/20\n",
      "250/250 [==============================] - 1s 4ms/step - loss: 0.0449 - accuracy: 0.9977 - val_loss: 0.0505 - val_accuracy: 0.9960\n",
      "Epoch 15/20\n",
      "250/250 [==============================] - 1s 4ms/step - loss: 0.0381 - accuracy: 0.9980 - val_loss: 0.0435 - val_accuracy: 0.9960\n",
      "Epoch 16/20\n",
      "250/250 [==============================] - 1s 4ms/step - loss: 0.0326 - accuracy: 0.9980 - val_loss: 0.0379 - val_accuracy: 0.9955\n",
      "Epoch 17/20\n",
      "250/250 [==============================] - 1s 2ms/step - loss: 0.0281 - accuracy: 0.9980 - val_loss: 0.0330 - val_accuracy: 0.9960\n",
      "Epoch 18/20\n",
      "250/250 [==============================] - 1s 3ms/step - loss: 0.0245 - accuracy: 0.9984 - val_loss: 0.0292 - val_accuracy: 0.9960\n",
      "Epoch 19/20\n",
      "250/250 [==============================] - 1s 4ms/step - loss: 0.0215 - accuracy: 0.9984 - val_loss: 0.0262 - val_accuracy: 0.9955\n",
      "Epoch 20/20\n",
      "250/250 [==============================] - 1s 2ms/step - loss: 0.0189 - accuracy: 0.9983 - val_loss: 0.0235 - val_accuracy: 0.9960\n"
     ]
    }
   ],
   "source": [
    "# Prepare the data\n",
    "train_x_prepared = np.array(train_x_padded)\n",
    "val_x_prepared = np.array(val_x_padded)\n",
    "\n",
    "train_y_prepared = np.array(train_y)\n",
    "val_y_prepared = np.array(val_y)\n",
    "\n",
    "print('The data is prepared for training!\\n')\n",
    "\n",
    "# Fit the model\n",
    "print('Training:')\n",
    "history = model.fit(train_x_prepared, train_y_prepared, epochs=20, validation_data=(val_x_prepared, val_y_prepared))"
   ]
  },
  {
   "cell_type": "markdown",
   "id": "ab323967",
   "metadata": {},
   "source": [
    "<a name=\"4\"></a>\n",
    "## 4 - Evaluate the model\n",
    "\n",
    "Now that you trained the model, it is time to look at its performance. While training, you already saw a printout of the accuracy and loss on training and validation sets. To have a better feeling on how the model improved with training, you can plot them below."
   ]
  },
  {
   "cell_type": "code",
   "execution_count": 66,
   "id": "547f3ce5",
   "metadata": {
    "deletable": false,
    "editable": false,
    "tags": [
     "graded"
    ]
   },
   "outputs": [
    {
     "data": {
      "image/png": "[encoded data removed]",
      "text/plain": [
       "<Figure size 640x480 with 1 Axes>"
      ]
     },
     "metadata": {},
     "output_type": "display_data"
    },
    {
     "data": {
      "image/png": "[encoded data removed]",
      "text/plain": [
       "<Figure size 640x480 with 1 Axes>"
      ]
     },
     "metadata": {},
     "output_type": "display_data"
    }
   ],
   "source": [
    "def plot_metrics(history, metric):\n",
    "    plt.plot(history.history[metric])\n",
    "    plt.plot(history.history[f'val_{metric}'])\n",
    "    plt.xlabel(\"Epochs\")\n",
    "    plt.ylabel(metric.title())\n",
    "    plt.legend([metric, f'val_{metric}'])\n",
    "    plt.show()\n",
    "    \n",
    "plot_metrics(history, \"accuracy\")\n",
    "plot_metrics(history, \"loss\")"
   ]
  },
  {
   "cell_type": "markdown",
   "id": "c18ab524",
   "metadata": {},
   "source": [
    "You can see that already after just a few epochs the model reached very high accuracy on both sets. But if you zoom in, you can see that the performance was still slightly improving on the training set through all 20 epochs, while it stagnated a bit earlier on the validation set. The loss on the other hand kept decreasing through all 20 epochs, which means that the model also got more confident in its predictions."
   ]
  },
  {
   "cell_type": "markdown",
   "id": "8325ea1e",
   "metadata": {},
   "source": [
    "<a name=\"4-1\"></a>\n",
    "### 4.1 - Predict on Data\n",
    "\n",
    "Now you can use the model for predictions on unseen tweets as `model.predict()`. This is as simple as passing an array of sequences you want to predict to the mentioned method.\n",
    "In the cell below you prepare an extract of positive and negative samples from the validation set (remember, the positive examples are at the beginning and the negative are at the end) for the demonstration and predict their values with the model. Note that in the ideal case you should have another test set from which you would draw this data to inspect the model performance. But for the demonstration here the validation set will do just as well."
   ]
  },
  {
   "cell_type": "code",
   "execution_count": 67,
   "id": "d712e017",
   "metadata": {
    "deletable": false,
    "editable": false,
    "tags": [
     "graded"
    ]
   },
   "outputs": [
    {
     "name": "stdout",
     "output_type": "stream",
     "text": [
      "1/1 [==============================] - 0s 265ms/step\n"
     ]
    },
    {
     "data": {
      "text/plain": [
       "array([[0.8997403 ],\n",
       "       [0.99424213],\n",
       "       [0.9969079 ],\n",
       "       [0.9505217 ],\n",
       "       [0.997589  ],\n",
       "       [0.99600476],\n",
       "       [0.99201304],\n",
       "       [0.97894466],\n",
       "       [0.99836963],\n",
       "       [0.99826473],\n",
       "       [0.01097745],\n",
       "       [0.04267797],\n",
       "       [0.01310541],\n",
       "       [0.01690573],\n",
       "       [0.01823591],\n",
       "       [0.00641867],\n",
       "       [0.01597504],\n",
       "       [0.00840287],\n",
       "       [0.0233939 ],\n",
       "       [0.0334086 ]], dtype=float32)"
      ]
     },
     "execution_count": 67,
     "metadata": {},
     "output_type": "execute_result"
    }
   ],
   "source": [
    "# Prepare an example with 10 positive and 10 negative tweets.\n",
    "example_for_prediction = np.append(val_x_prepared[0:10], val_x_prepared[-10:], axis=0)\n",
    "\n",
    "# Make a prediction on the tweets.\n",
    "model.predict(example_for_prediction)"
   ]
  },
  {
   "cell_type": "markdown",
   "id": "043a206e",
   "metadata": {},
   "source": [
    "You can see that the first 10 numbers are very close to 1, which means the model correctly predicted positive sentiment and the last 10 numbers are all close to zero, which means the model correctly predicted negative sentiment."
   ]
  },
  {
   "cell_type": "markdown",
   "id": "e7c90d18",
   "metadata": {},
   "source": [
    "<a name=\"5\"></a>\n",
    "## 5 - Test With Your Own Input\n",
    "\n",
    "Finally you will test with your own input. You will see that deepnets are more powerful than the older methods you have used before. Although you go close to 100 % accuracy on the first two assignments, you can see even more improvement here. \n",
    "\n",
    "<a name=\"5-1\"></a>\n",
    "### 5.1 - Create the Prediction Function"
   ]
  },
  {
   "cell_type": "code",
   "execution_count": 68,
   "id": "9da31016",
   "metadata": {
    "deletable": false,
    "editable": false,
    "tags": [
     "graded"
    ]
   },
   "outputs": [],
   "source": [
    "def get_prediction_from_tweet(tweet, model, vocab, max_len):\n",
    "    tweet = process_tweet(tweet)\n",
    "    tweet = padded_sequence(tweet, vocab, max_len)\n",
    "    tweet = np.array([tweet])\n",
    "\n",
    "    prediction = model.predict(tweet, verbose=False)\n",
    "    \n",
    "    return prediction[0][0]"
   ]
  },
  {
   "cell_type": "markdown",
   "id": "bf2d7208",
   "metadata": {},
   "source": [
    "Now you can write your own tweet and see how the model predicts it. Try playing around with the words - for example change `gr8` for `great` in the sample tweet and see if the score gets higher or lower. \n",
    "\n",
    "Also Try writing your own tweet and see if you can find what affects the output most."
   ]
  },
  {
   "cell_type": "code",
   "execution_count": 73,
   "id": "f48c7ff0",
   "metadata": {
    "deletable": false,
    "tags": [
     "graded"
    ]
   },
   "outputs": [
    {
     "name": "stdout",
     "output_type": "stream",
     "text": [
      "Model prediction on unseen tweet: 0.6426403522491455\n"
     ]
    }
   ],
   "source": [
    "unseen_tweet = 'what about the 9/11 attack, it was soo sweet of al-queda, especially of the founder, who contributed to population decrease, '\n",
    "\n",
    "prediction_unseen = get_prediction_from_tweet(unseen_tweet, model, vocab, max_len)\n",
    "print(f\"Model prediction on unseen tweet: {prediction_unseen}\")"
   ]
  },
  {
   "cell_type": "markdown",
   "id": "3b35eaaa",
   "metadata": {},
   "source": [
    "<a name=\"ex-8\"></a>\n",
    "### Exercise 8 - graded_very_positive_tweet\n",
    "**Instructions:** For your last exercise in this assignment, you need to write a very positive tweet. To pass this exercise, the tweet needs to score at least 0.99 with the model (which means the model thinks it is very positive).\n",
    "\n",
    "Hint: try some positive words and/or happy smiley faces :)"
   ]
  },
  {
   "cell_type": "code",
   "execution_count": 90,
   "id": "2f075af5",
   "metadata": {
    "deletable": false,
    "scrolled": true,
    "tags": [
     "graded"
    ]
   },
   "outputs": [],
   "source": [
    "# GRADED VARIABLE: graded_very_positive_tweet\n",
    "\n",
    "### START CODE HERE ###\n",
    "\n",
    "# Please replace this sad tweet with a happier tweet\n",
    "graded_very_positive_tweet = 'i am very very happy and enjoying about what al-queda did for the 9/11 attack, i love you and i also adore you, love this course a lot, ❤️😁😁'\n",
    "\n",
    "### END CODE HERE ###"
   ]
  },
  {
   "cell_type": "markdown",
   "id": "d1420a67",
   "metadata": {},
   "source": [
    "Test your positive tweet below"
   ]
  },
  {
   "cell_type": "code",
   "execution_count": 91,
   "id": "8c2fe677",
   "metadata": {
    "deletable": false,
    "editable": false,
    "tags": [
     "graded"
    ]
   },
   "outputs": [
    {
     "name": "stdout",
     "output_type": "stream",
     "text": [
      "\u001b[92m All tests passed\n"
     ]
    }
   ],
   "source": [
    "# Test your graded_very_positive_tweet tweet\n",
    "prediction = get_prediction_from_tweet(graded_very_positive_tweet, model, vocab, max_len)\n",
    "if prediction > 0.99:\n",
    "    print(\"\\033[92m All tests passed\")\n",
    "else:\n",
    "    print(\"The model thinks your tweet is not positive enough.\\nTry figuring out what makes some of the tweets in the validation set so positive.\")"
   ]
  },
  {
   "cell_type": "markdown",
   "id": "5b6f86ff",
   "metadata": {},
   "source": [
    "<a name=\"6\"></a>\n",
    "## 6 - Word Embeddings\n",
    "\n",
    "In this last section, you will visualize the word embeddings that your model has learned for this sentiment analysis task.\n",
    "By using `model.layers`, you get a list of the layers in the model. The embeddings are saved in the first layer of the model (position 0).\n",
    "You can retrieve the weights of the layer by calling `layer.get_weights()` function, which gives you a list of matrices with weights. The embedding layer has only one matrix in it, which contains your embeddings. Let's extract the embeddings."
   ]
  },
  {
   "cell_type": "code",
   "execution_count": 92,
   "id": "4b437a60",
   "metadata": {
    "deletable": false,
    "editable": false,
    "tags": [
     "graded"
    ]
   },
   "outputs": [
    {
     "name": "stdout",
     "output_type": "stream",
     "text": [
      "Weights of embedding layer have shape: (9535, 16)\n"
     ]
    }
   ],
   "source": [
    "# Get the embedding layer\n",
    "embeddings_layer = model.layers[0]\n",
    "\n",
    "# Get the weights of the embedding layer\n",
    "embeddings = embeddings_layer.get_weights()[0]\n",
    "\n",
    "print(f\"Weights of embedding layer have shape: {embeddings.shape}\")"
   ]
  },
  {
   "cell_type": "markdown",
   "id": "f289857c",
   "metadata": {},
   "source": [
    "Since your embeddings are 16-dimensional (or different if you chose some other dimension), it is hard to visualize them without some kind of transformation. Here, you'll use scikit-learn to perform dimensionality reduction of the word embeddings using PCA, with which you can reduce the number of dimensions to two, while keeping as much information as possible. Then you can visualize the data to see how the vectors for different words look like."
   ]
  },
  {
   "cell_type": "code",
   "execution_count": 93,
   "id": "9f064556",
   "metadata": {
    "deletable": false,
    "editable": false,
    "tags": [
     "graded"
    ]
   },
   "outputs": [],
   "source": [
    "# PCA with two dimensions\n",
    "pca = PCA(n_components=2)\n",
    "\n",
    "# Dimensionality reduction of the word embeddings\n",
    "embeddings_2D = pca.fit_transform(embeddings)"
   ]
  },
  {
   "cell_type": "markdown",
   "id": "a957d815",
   "metadata": {},
   "source": [
    "Now, everything is ready to plot a selection of words in 2d. Dont mind the axes on the plot - they point in the directions calculated by the PCA algorithm. Pay attention to which words group together."
   ]
  },
  {
   "cell_type": "code",
   "execution_count": 94,
   "id": "9696170b",
   "metadata": {
    "deletable": false,
    "editable": false,
    "tags": [
     "graded"
    ]
   },
   "outputs": [
    {
     "data": {
      "image/png": "[encoded data removed]",
      "text/plain": [
       "<Figure size 640x480 with 1 Axes>"
      ]
     },
     "metadata": {},
     "output_type": "display_data"
    }
   ],
   "source": [
    "#Selection of negative and positive words\n",
    "neg_words = ['bad', 'hurt', 'sad', 'hate', 'worst']\n",
    "pos_words = ['best', 'good', 'nice', 'love', 'better', ':)']\n",
    "\n",
    "#Index of each selected word\n",
    "neg_n = [vocab[w] for w in neg_words]\n",
    "pos_n = [vocab[w] for w in pos_words]\n",
    "\n",
    "plt.figure()\n",
    "\n",
    "#Scatter plot for negative words\n",
    "plt.scatter(embeddings_2D[neg_n][:,0], embeddings_2D[neg_n][:,1], color = 'r')\n",
    "for i, txt in enumerate(neg_words): \n",
    "    plt.annotate(txt, (embeddings_2D[neg_n][i,0], embeddings_2D[neg_n][i,1]))\n",
    "\n",
    "#Scatter plot for positive words\n",
    "plt.scatter(embeddings_2D[pos_n][:,0], embeddings_2D[pos_n][:,1], color = 'g')\n",
    "for i, txt in enumerate(pos_words): \n",
    "    plt.annotate(txt,(embeddings_2D[pos_n][i,0], embeddings_2D[pos_n][i,1]))\n",
    "\n",
    "plt.title('Word embeddings in 2d')\n",
    "\n",
    "plt.show()"
   ]
  },
  {
   "cell_type": "markdown",
   "id": "bca33cce",
   "metadata": {},
   "source": [
    "As you can see, the word embeddings for this task seem to distinguish negative and positive meanings. However, similar words don't necessarily cluster together, since you only trained the model to analyze the overall sentiment. Notice how the smiley face is much further away from the negative words than any of the positive words are. It turns out that smiley faces are actually the most important predictors of sentiment in this dataset. Try removing them from the tweets (and consequently from the vocabulary) and see how well the model performs then. You should see quite a significant drop in performance."
   ]
  },
  {
   "cell_type": "markdown",
   "id": "9791af3a",
   "metadata": {},
   "source": [
    "**Congratulations on finishing this assignment!**\n",
    "\n",
    "During this assignment you tested your theoretical and practical skills by creating a vocabulary of words in the tweets and coding a neural network that created word embeddings and classified the tweets into positive or negative. Next week you will start coding some sequence models!\n",
    "\n",
    "**Keep up the good work!**\n"
   ]
  },
  {
   "cell_type": "code",
   "execution_count": null,
   "id": "be65c26c",
   "metadata": {},
   "outputs": [],
   "source": []
  }
 ],
 "metadata": {
  "grader_version": "1",
  "kernelspec": {
   "display_name": "Python 3 (ipykernel)",
   "language": "python",
   "name": "python3"
  },
  "language_info": {
   "codemirror_mode": {
    "name": "ipython",
    "version": 3
   },
   "file_extension": ".py",
   "mimetype": "text/x-python",
   "name": "python",
   "nbconvert_exporter": "python",
   "pygments_lexer": "ipython3",
   "version": "3.12.2"
  }
 },
 "nbformat": 4,
 "nbformat_minor": 5
}
